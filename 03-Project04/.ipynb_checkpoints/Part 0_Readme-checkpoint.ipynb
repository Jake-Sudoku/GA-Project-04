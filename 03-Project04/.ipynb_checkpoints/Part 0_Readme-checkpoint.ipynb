{
 "cells": [
  {
   "cell_type": "code",
   "execution_count": 6,
   "id": "58a9b0fc",
   "metadata": {},
   "outputs": [],
   "source": [
    "# Introduction \n",
    "  ## Background\n",
    "  ## Problem Statement  "
   ]
  },
  {
   "cell_type": "markdown",
   "id": "52d1fafc",
   "metadata": {},
   "source": [
    "Disease And Treatment Agency, division of Societal Cures In Epidemiology and New Creative Engineering (DATA-SCIENCE). Time to get to work!\n",
    "\n",
    "Due to the recent epidemic of West Nile Virus in the Windy City, we've had the Department of Public Health set up a surveillance and control system. We're hoping it will let us learn something from the mosquito population as we collect data over time. Pesticides are a necessary evil in the fight for public health and safety, not to mention expensive! We need to derive an effective plan to deploy pesticides throughout the city, and that is exactly where you come in!\n",
    "\n",
    "\n",
    "The West Nile virus is most commonly spread to humans through infected mosquitos. Around 20% of people who become infected with the virus develop symptoms ranging from a persistent fever, to serious neurological illnesses that can result in death.\n",
    "\n",
    "In 2002, the first human cases of West Nile virus were reported in Chicago. No vaccine or specific medicines are available for the West Nile virus infection. Due to the serious health implications and cost of seeking treatment,it became a pressing concern that required intervention by the state. By 2004 the City of Chicago and the Chicago Department of Public Health (CDPH) had established a comprehensive surveillance and control program that is still in effect today.\n",
    "\n",
    "Every week from late spring through the fall, mosquitos in traps across the city are tested for the virus. The results of these tests influence when and where the city will spray airborne pesticides to control adult mosquito populations.\n",
    "\n",
    "However, it is a huge cost to the state to carry out the planned sprays so as a result, spraying where it has the highest impact and spread is of utmost importance. The Centre of Disease Control and Prevention (CDC) hired our team of data scientists to better understand and evaluate where and when the pesticide should be sprayed given a number of variables.\n",
    "\n",
    "Given weather, trap locations and spray data, we were tasked to predict when and where different species of mosquitos will test positive for West Nile virus. We aimed to develop a model that could accurately predict outbreaks of West Nile virus in mosquitos such that it would help the City of Chicago and CPHD more efficiently and effectively in allocating resources towards preventing transmission of this potentially deadly virus."
   ]
  },
  {
   "cell_type": "code",
   "execution_count": null,
   "id": "9a836abe",
   "metadata": {},
   "outputs": [],
   "source": [
    "# External Research\n",
    "  ## Literature Review"
   ]
  },
  {
   "cell_type": "code",
   "execution_count": null,
   "id": "cd95a1bc",
   "metadata": {},
   "outputs": [],
   "source": []
  },
  {
   "cell_type": "code",
   "execution_count": null,
   "id": "1218b64c",
   "metadata": {},
   "outputs": [],
   "source": [
    "# Conclusion\n",
    "  ## Summary of Findings\n",
    "  ## Limitations\n",
    "  ## Recommendations"
   ]
  },
  {
   "cell_type": "code",
   "execution_count": null,
   "id": "6046403f",
   "metadata": {},
   "outputs": [],
   "source": []
  },
  {
   "cell_type": "code",
   "execution_count": null,
   "id": "48a9c247",
   "metadata": {},
   "outputs": [],
   "source": [
    "# Data Dictionary"
   ]
  },
  {
   "cell_type": "code",
   "execution_count": null,
   "id": "b3f93c8c",
   "metadata": {},
   "outputs": [],
   "source": []
  }
 ],
 "metadata": {
  "kernelspec": {
   "display_name": "Python 3 (ipykernel)",
   "language": "python",
   "name": "python3"
  },
  "language_info": {
   "codemirror_mode": {
    "name": "ipython",
    "version": 3
   },
   "file_extension": ".py",
   "mimetype": "text/x-python",
   "name": "python",
   "nbconvert_exporter": "python",
   "pygments_lexer": "ipython3",
   "version": "3.9.12"
  }
 },
 "nbformat": 4,
 "nbformat_minor": 5
}
