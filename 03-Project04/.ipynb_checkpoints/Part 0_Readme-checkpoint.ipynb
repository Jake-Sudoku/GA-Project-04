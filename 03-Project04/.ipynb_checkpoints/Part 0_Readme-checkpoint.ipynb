{
 "cells": [
  {
   "cell_type": "markdown",
   "id": "1b6c6f49",
   "metadata": {},
   "source": [
    "# Introduction"
   ]
  },
  {
   "cell_type": "markdown",
   "id": "52d1fafc",
   "metadata": {},
   "source": [
    "The year is 2013. There has been a recent epidemic of West Nile Virus (WNV) in Chicago. The Chicago Department of Public Health (CDPH) had set up a surveillance and mosquito control system to manage the outbreak since the mosquito-borne virus was first detected among avian carcasses in the Windy City in 2001. To achieve their goals of anticipating future WNV outbreaks and bringing the WNV case numbers down further, our team has been engaged to study the data collected over the years, build a model to predict future WNV cases in the city and prepare a cost-benefit analysis of the current WNV management system.\n",
    "\n",
    "West Nile Virus is commonly transmitted to humans via the bite of an infected Culex mosquito. While most infected human cases report no symptoms, 1 in 5 patients develop symptoms ranging from a persistent fever, to inflammation of the brain or the spinal cord that can lead to paralysis and even, death. Those at highest risk of severe disease are older persons and those who are immunocompromised e.g going through chemotherapy. What exacerbates the situation are the lack of vaccine and specific therapy to treat West Nile disease. The serious health implications and cost of seeking treatment presented a critical need for state intervention. \n",
    "\n",
    "As part of the state's efforts to manage WNV, the state Department of Public Health has a two-prong approach namely trap and spray. Mosquito traps are set up around the city, and mosquitoes captured in these traps are then tested for the virus on a weekly basis from late spring through fall. Test results then inform the state of the next step of its control system; which is to emit airborne pesticides to control adult mosquito populations. However, conducting these planned sprays imposes a large cost on the state. Hence, optimising the spray schedule to focus on those with highest impact and spread will help to alleviate the financial costs. \n",
    "\n",
    "Our job at DATA-SCIENCE would be interpret the historical data and based on a set of variables, evaluate the best way to optimise the current procedure. Our workflow is as follows: given weather and spray data as well as trap locations, we will develop a model that could accurately predict when and where WNV-infected mosquitos appear, thus assisting Chicago and the CDPH to allocate resources more efficiently and prevent transmission of this potentially deadly virus."
   ]
  },
  {
   "cell_type": "markdown",
   "id": "ddfde4af",
   "metadata": {},
   "source": [
    "# External Research"
   ]
  },
  {
   "cell_type": "code",
   "execution_count": null,
   "id": "cd95a1bc",
   "metadata": {},
   "outputs": [],
   "source": []
  },
  {
   "cell_type": "markdown",
   "id": "bc3ca32f",
   "metadata": {},
   "source": [
    "# Summary of Findings"
   ]
  },
  {
   "cell_type": "code",
   "execution_count": null,
   "id": "d65b31c7",
   "metadata": {},
   "outputs": [],
   "source": []
  },
  {
   "cell_type": "markdown",
   "id": "15d73a2e",
   "metadata": {},
   "source": [
    "# Cost Benefit Analysis"
   ]
  },
  {
   "cell_type": "code",
   "execution_count": null,
   "id": "6046403f",
   "metadata": {},
   "outputs": [],
   "source": []
  },
  {
   "cell_type": "markdown",
   "id": "02e53043",
   "metadata": {},
   "source": [
    "# Recommendations"
   ]
  },
  {
   "cell_type": "code",
   "execution_count": null,
   "id": "9e55390e",
   "metadata": {},
   "outputs": [],
   "source": []
  },
  {
   "cell_type": "markdown",
   "id": "f9739546",
   "metadata": {},
   "source": [
    "# Data Dictionary"
   ]
  },
  {
   "cell_type": "code",
   "execution_count": null,
   "id": "b3f93c8c",
   "metadata": {},
   "outputs": [],
   "source": []
  }
 ],
 "metadata": {
  "kernelspec": {
   "display_name": "Python 3 (ipykernel)",
   "language": "python",
   "name": "python3"
  },
  "language_info": {
   "codemirror_mode": {
    "name": "ipython",
    "version": 3
   },
   "file_extension": ".py",
   "mimetype": "text/x-python",
   "name": "python",
   "nbconvert_exporter": "python",
   "pygments_lexer": "ipython3",
   "version": "3.9.12"
  }
 },
 "nbformat": 4,
 "nbformat_minor": 5
}
