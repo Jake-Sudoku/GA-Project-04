{
 "cells": [
  {
   "cell_type": "markdown",
   "metadata": {
    "cell_id": "0592114a66c34120a69b3f853a308a07",
    "deepnote_cell_type": "text-cell-p",
    "formattedRanges": [
     {
      "fromCodePoint": 0,
      "marks": {
       "bold": true
      },
      "toCodePoint": 16,
      "type": "marks"
     }
    ],
    "is_collapsed": false,
    "tags": []
   },
   "source": [
    "### Import Libraries"
   ]
  },
  {
   "cell_type": "code",
   "execution_count": 1,
   "metadata": {
    "cell_id": "b12f6e647a254da8b1541b14af155d3a",
    "deepnote_cell_type": "code",
    "deepnote_to_be_reexecuted": false,
    "execution_millis": 1167,
    "execution_start": 1670652598939,
    "source_hash": "4ffb6b97",
    "tags": []
   },
   "outputs": [],
   "source": [
    "import os\n",
    "import plotly.express as px\n",
    "import pandas as pd\n",
    "import numpy as np\n",
    "import matplotlib.pyplot as plt\n",
    "import plotly.graph_objects as go\n",
    "import datetime as dt\n",
    "\n",
    "#pd.set_option('display.max_rows', 500)\n",
    "\n",
    "MAPBOX_TOKEN = 'pk.eyJ1IjoibWFyaWVkcmV6IiwiYSI6ImNsOXl5dTFtZjAyYm4zd28zN3Y1ZzYycm0ifQ.W1Toe6X5S9AELY56h0OQDw'"
   ]
  },
  {
   "cell_type": "markdown",
   "metadata": {
    "cell_id": "4d859dfe906a4cd6b62cecf4df6f4ea4",
    "deepnote_cell_type": "text-cell-p",
    "formattedRanges": [
     {
      "fromCodePoint": 0,
      "marks": {
       "bold": true
      },
      "toCodePoint": 11,
      "type": "marks"
     }
    ],
    "is_collapsed": false,
    "tags": []
   },
   "source": [
    "### Import Data"
   ]
  },
  {
   "cell_type": "code",
   "execution_count": 2,
   "metadata": {
    "cell_id": "879ea67763ec41d29aeb15db907e425e",
    "deepnote_cell_type": "code",
    "deepnote_to_be_reexecuted": false,
    "execution_millis": 7,
    "execution_start": 1670652600106,
    "source_hash": "503da673",
    "tags": []
   },
   "outputs": [],
   "source": [
    "for files in os.listdir():\n",
    "    print(files) if files.endswith('csv') else None"
   ]
  },
  {
   "cell_type": "code",
   "execution_count": 3,
   "metadata": {
    "cell_id": "f75ae06b575c4edd925ff24d773cad3d",
    "deepnote_cell_type": "code",
    "deepnote_table_loading": false,
    "deepnote_table_state": {
     "filters": [],
     "pageIndex": 1,
     "pageSize": 10,
     "sortBy": []
    },
    "deepnote_to_be_reexecuted": false,
    "execution_millis": 229,
    "execution_start": 1670652600109,
    "source_hash": "4b207e7",
    "tags": []
   },
   "outputs": [
    {
     "ename": "FileNotFoundError",
     "evalue": "[Errno 2] No such file or directory: 'train.csv'",
     "output_type": "error",
     "traceback": [
      "\u001b[0;31m---------------------------------------------------------------------------\u001b[0m",
      "\u001b[0;31mFileNotFoundError\u001b[0m                         Traceback (most recent call last)",
      "Input \u001b[0;32mIn [3]\u001b[0m, in \u001b[0;36m<cell line: 2>\u001b[0;34m()\u001b[0m\n\u001b[1;32m      1\u001b[0m \u001b[38;5;66;03m# Read in .csv files as pandas dataframe\u001b[39;00m\n\u001b[0;32m----> 2\u001b[0m train_df \u001b[38;5;241m=\u001b[39m \u001b[43mpd\u001b[49m\u001b[38;5;241;43m.\u001b[39;49m\u001b[43mread_csv\u001b[49m\u001b[43m(\u001b[49m\u001b[38;5;124;43m'\u001b[39;49m\u001b[38;5;124;43mtrain.csv\u001b[39;49m\u001b[38;5;124;43m'\u001b[39;49m\u001b[43m)\u001b[49m\n\u001b[1;32m      3\u001b[0m test_df \u001b[38;5;241m=\u001b[39m pd\u001b[38;5;241m.\u001b[39mread_csv(\u001b[38;5;124m'\u001b[39m\u001b[38;5;124mtest.csv\u001b[39m\u001b[38;5;124m'\u001b[39m)\n\u001b[1;32m      4\u001b[0m spray_df \u001b[38;5;241m=\u001b[39m pd\u001b[38;5;241m.\u001b[39mread_csv(\u001b[38;5;124m'\u001b[39m\u001b[38;5;124mspray.csv\u001b[39m\u001b[38;5;124m'\u001b[39m)\n",
      "File \u001b[0;32m~/opt/anaconda3/lib/python3.9/site-packages/pandas/util/_decorators.py:311\u001b[0m, in \u001b[0;36mdeprecate_nonkeyword_arguments.<locals>.decorate.<locals>.wrapper\u001b[0;34m(*args, **kwargs)\u001b[0m\n\u001b[1;32m    305\u001b[0m \u001b[38;5;28;01mif\u001b[39;00m \u001b[38;5;28mlen\u001b[39m(args) \u001b[38;5;241m>\u001b[39m num_allow_args:\n\u001b[1;32m    306\u001b[0m     warnings\u001b[38;5;241m.\u001b[39mwarn(\n\u001b[1;32m    307\u001b[0m         msg\u001b[38;5;241m.\u001b[39mformat(arguments\u001b[38;5;241m=\u001b[39marguments),\n\u001b[1;32m    308\u001b[0m         \u001b[38;5;167;01mFutureWarning\u001b[39;00m,\n\u001b[1;32m    309\u001b[0m         stacklevel\u001b[38;5;241m=\u001b[39mstacklevel,\n\u001b[1;32m    310\u001b[0m     )\n\u001b[0;32m--> 311\u001b[0m \u001b[38;5;28;01mreturn\u001b[39;00m \u001b[43mfunc\u001b[49m\u001b[43m(\u001b[49m\u001b[38;5;241;43m*\u001b[39;49m\u001b[43margs\u001b[49m\u001b[43m,\u001b[49m\u001b[43m \u001b[49m\u001b[38;5;241;43m*\u001b[39;49m\u001b[38;5;241;43m*\u001b[39;49m\u001b[43mkwargs\u001b[49m\u001b[43m)\u001b[49m\n",
      "File \u001b[0;32m~/opt/anaconda3/lib/python3.9/site-packages/pandas/io/parsers/readers.py:680\u001b[0m, in \u001b[0;36mread_csv\u001b[0;34m(filepath_or_buffer, sep, delimiter, header, names, index_col, usecols, squeeze, prefix, mangle_dupe_cols, dtype, engine, converters, true_values, false_values, skipinitialspace, skiprows, skipfooter, nrows, na_values, keep_default_na, na_filter, verbose, skip_blank_lines, parse_dates, infer_datetime_format, keep_date_col, date_parser, dayfirst, cache_dates, iterator, chunksize, compression, thousands, decimal, lineterminator, quotechar, quoting, doublequote, escapechar, comment, encoding, encoding_errors, dialect, error_bad_lines, warn_bad_lines, on_bad_lines, delim_whitespace, low_memory, memory_map, float_precision, storage_options)\u001b[0m\n\u001b[1;32m    665\u001b[0m kwds_defaults \u001b[38;5;241m=\u001b[39m _refine_defaults_read(\n\u001b[1;32m    666\u001b[0m     dialect,\n\u001b[1;32m    667\u001b[0m     delimiter,\n\u001b[0;32m   (...)\u001b[0m\n\u001b[1;32m    676\u001b[0m     defaults\u001b[38;5;241m=\u001b[39m{\u001b[38;5;124m\"\u001b[39m\u001b[38;5;124mdelimiter\u001b[39m\u001b[38;5;124m\"\u001b[39m: \u001b[38;5;124m\"\u001b[39m\u001b[38;5;124m,\u001b[39m\u001b[38;5;124m\"\u001b[39m},\n\u001b[1;32m    677\u001b[0m )\n\u001b[1;32m    678\u001b[0m kwds\u001b[38;5;241m.\u001b[39mupdate(kwds_defaults)\n\u001b[0;32m--> 680\u001b[0m \u001b[38;5;28;01mreturn\u001b[39;00m \u001b[43m_read\u001b[49m\u001b[43m(\u001b[49m\u001b[43mfilepath_or_buffer\u001b[49m\u001b[43m,\u001b[49m\u001b[43m \u001b[49m\u001b[43mkwds\u001b[49m\u001b[43m)\u001b[49m\n",
      "File \u001b[0;32m~/opt/anaconda3/lib/python3.9/site-packages/pandas/io/parsers/readers.py:575\u001b[0m, in \u001b[0;36m_read\u001b[0;34m(filepath_or_buffer, kwds)\u001b[0m\n\u001b[1;32m    572\u001b[0m _validate_names(kwds\u001b[38;5;241m.\u001b[39mget(\u001b[38;5;124m\"\u001b[39m\u001b[38;5;124mnames\u001b[39m\u001b[38;5;124m\"\u001b[39m, \u001b[38;5;28;01mNone\u001b[39;00m))\n\u001b[1;32m    574\u001b[0m \u001b[38;5;66;03m# Create the parser.\u001b[39;00m\n\u001b[0;32m--> 575\u001b[0m parser \u001b[38;5;241m=\u001b[39m \u001b[43mTextFileReader\u001b[49m\u001b[43m(\u001b[49m\u001b[43mfilepath_or_buffer\u001b[49m\u001b[43m,\u001b[49m\u001b[43m \u001b[49m\u001b[38;5;241;43m*\u001b[39;49m\u001b[38;5;241;43m*\u001b[39;49m\u001b[43mkwds\u001b[49m\u001b[43m)\u001b[49m\n\u001b[1;32m    577\u001b[0m \u001b[38;5;28;01mif\u001b[39;00m chunksize \u001b[38;5;129;01mor\u001b[39;00m iterator:\n\u001b[1;32m    578\u001b[0m     \u001b[38;5;28;01mreturn\u001b[39;00m parser\n",
      "File \u001b[0;32m~/opt/anaconda3/lib/python3.9/site-packages/pandas/io/parsers/readers.py:933\u001b[0m, in \u001b[0;36mTextFileReader.__init__\u001b[0;34m(self, f, engine, **kwds)\u001b[0m\n\u001b[1;32m    930\u001b[0m     \u001b[38;5;28mself\u001b[39m\u001b[38;5;241m.\u001b[39moptions[\u001b[38;5;124m\"\u001b[39m\u001b[38;5;124mhas_index_names\u001b[39m\u001b[38;5;124m\"\u001b[39m] \u001b[38;5;241m=\u001b[39m kwds[\u001b[38;5;124m\"\u001b[39m\u001b[38;5;124mhas_index_names\u001b[39m\u001b[38;5;124m\"\u001b[39m]\n\u001b[1;32m    932\u001b[0m \u001b[38;5;28mself\u001b[39m\u001b[38;5;241m.\u001b[39mhandles: IOHandles \u001b[38;5;241m|\u001b[39m \u001b[38;5;28;01mNone\u001b[39;00m \u001b[38;5;241m=\u001b[39m \u001b[38;5;28;01mNone\u001b[39;00m\n\u001b[0;32m--> 933\u001b[0m \u001b[38;5;28mself\u001b[39m\u001b[38;5;241m.\u001b[39m_engine \u001b[38;5;241m=\u001b[39m \u001b[38;5;28;43mself\u001b[39;49m\u001b[38;5;241;43m.\u001b[39;49m\u001b[43m_make_engine\u001b[49m\u001b[43m(\u001b[49m\u001b[43mf\u001b[49m\u001b[43m,\u001b[49m\u001b[43m \u001b[49m\u001b[38;5;28;43mself\u001b[39;49m\u001b[38;5;241;43m.\u001b[39;49m\u001b[43mengine\u001b[49m\u001b[43m)\u001b[49m\n",
      "File \u001b[0;32m~/opt/anaconda3/lib/python3.9/site-packages/pandas/io/parsers/readers.py:1217\u001b[0m, in \u001b[0;36mTextFileReader._make_engine\u001b[0;34m(self, f, engine)\u001b[0m\n\u001b[1;32m   1213\u001b[0m     mode \u001b[38;5;241m=\u001b[39m \u001b[38;5;124m\"\u001b[39m\u001b[38;5;124mrb\u001b[39m\u001b[38;5;124m\"\u001b[39m\n\u001b[1;32m   1214\u001b[0m \u001b[38;5;66;03m# error: No overload variant of \"get_handle\" matches argument types\u001b[39;00m\n\u001b[1;32m   1215\u001b[0m \u001b[38;5;66;03m# \"Union[str, PathLike[str], ReadCsvBuffer[bytes], ReadCsvBuffer[str]]\"\u001b[39;00m\n\u001b[1;32m   1216\u001b[0m \u001b[38;5;66;03m# , \"str\", \"bool\", \"Any\", \"Any\", \"Any\", \"Any\", \"Any\"\u001b[39;00m\n\u001b[0;32m-> 1217\u001b[0m \u001b[38;5;28mself\u001b[39m\u001b[38;5;241m.\u001b[39mhandles \u001b[38;5;241m=\u001b[39m \u001b[43mget_handle\u001b[49m\u001b[43m(\u001b[49m\u001b[43m  \u001b[49m\u001b[38;5;66;43;03m# type: ignore[call-overload]\u001b[39;49;00m\n\u001b[1;32m   1218\u001b[0m \u001b[43m    \u001b[49m\u001b[43mf\u001b[49m\u001b[43m,\u001b[49m\n\u001b[1;32m   1219\u001b[0m \u001b[43m    \u001b[49m\u001b[43mmode\u001b[49m\u001b[43m,\u001b[49m\n\u001b[1;32m   1220\u001b[0m \u001b[43m    \u001b[49m\u001b[43mencoding\u001b[49m\u001b[38;5;241;43m=\u001b[39;49m\u001b[38;5;28;43mself\u001b[39;49m\u001b[38;5;241;43m.\u001b[39;49m\u001b[43moptions\u001b[49m\u001b[38;5;241;43m.\u001b[39;49m\u001b[43mget\u001b[49m\u001b[43m(\u001b[49m\u001b[38;5;124;43m\"\u001b[39;49m\u001b[38;5;124;43mencoding\u001b[39;49m\u001b[38;5;124;43m\"\u001b[39;49m\u001b[43m,\u001b[49m\u001b[43m \u001b[49m\u001b[38;5;28;43;01mNone\u001b[39;49;00m\u001b[43m)\u001b[49m\u001b[43m,\u001b[49m\n\u001b[1;32m   1221\u001b[0m \u001b[43m    \u001b[49m\u001b[43mcompression\u001b[49m\u001b[38;5;241;43m=\u001b[39;49m\u001b[38;5;28;43mself\u001b[39;49m\u001b[38;5;241;43m.\u001b[39;49m\u001b[43moptions\u001b[49m\u001b[38;5;241;43m.\u001b[39;49m\u001b[43mget\u001b[49m\u001b[43m(\u001b[49m\u001b[38;5;124;43m\"\u001b[39;49m\u001b[38;5;124;43mcompression\u001b[39;49m\u001b[38;5;124;43m\"\u001b[39;49m\u001b[43m,\u001b[49m\u001b[43m \u001b[49m\u001b[38;5;28;43;01mNone\u001b[39;49;00m\u001b[43m)\u001b[49m\u001b[43m,\u001b[49m\n\u001b[1;32m   1222\u001b[0m \u001b[43m    \u001b[49m\u001b[43mmemory_map\u001b[49m\u001b[38;5;241;43m=\u001b[39;49m\u001b[38;5;28;43mself\u001b[39;49m\u001b[38;5;241;43m.\u001b[39;49m\u001b[43moptions\u001b[49m\u001b[38;5;241;43m.\u001b[39;49m\u001b[43mget\u001b[49m\u001b[43m(\u001b[49m\u001b[38;5;124;43m\"\u001b[39;49m\u001b[38;5;124;43mmemory_map\u001b[39;49m\u001b[38;5;124;43m\"\u001b[39;49m\u001b[43m,\u001b[49m\u001b[43m \u001b[49m\u001b[38;5;28;43;01mFalse\u001b[39;49;00m\u001b[43m)\u001b[49m\u001b[43m,\u001b[49m\n\u001b[1;32m   1223\u001b[0m \u001b[43m    \u001b[49m\u001b[43mis_text\u001b[49m\u001b[38;5;241;43m=\u001b[39;49m\u001b[43mis_text\u001b[49m\u001b[43m,\u001b[49m\n\u001b[1;32m   1224\u001b[0m \u001b[43m    \u001b[49m\u001b[43merrors\u001b[49m\u001b[38;5;241;43m=\u001b[39;49m\u001b[38;5;28;43mself\u001b[39;49m\u001b[38;5;241;43m.\u001b[39;49m\u001b[43moptions\u001b[49m\u001b[38;5;241;43m.\u001b[39;49m\u001b[43mget\u001b[49m\u001b[43m(\u001b[49m\u001b[38;5;124;43m\"\u001b[39;49m\u001b[38;5;124;43mencoding_errors\u001b[39;49m\u001b[38;5;124;43m\"\u001b[39;49m\u001b[43m,\u001b[49m\u001b[43m \u001b[49m\u001b[38;5;124;43m\"\u001b[39;49m\u001b[38;5;124;43mstrict\u001b[39;49m\u001b[38;5;124;43m\"\u001b[39;49m\u001b[43m)\u001b[49m\u001b[43m,\u001b[49m\n\u001b[1;32m   1225\u001b[0m \u001b[43m    \u001b[49m\u001b[43mstorage_options\u001b[49m\u001b[38;5;241;43m=\u001b[39;49m\u001b[38;5;28;43mself\u001b[39;49m\u001b[38;5;241;43m.\u001b[39;49m\u001b[43moptions\u001b[49m\u001b[38;5;241;43m.\u001b[39;49m\u001b[43mget\u001b[49m\u001b[43m(\u001b[49m\u001b[38;5;124;43m\"\u001b[39;49m\u001b[38;5;124;43mstorage_options\u001b[39;49m\u001b[38;5;124;43m\"\u001b[39;49m\u001b[43m,\u001b[49m\u001b[43m \u001b[49m\u001b[38;5;28;43;01mNone\u001b[39;49;00m\u001b[43m)\u001b[49m\u001b[43m,\u001b[49m\n\u001b[1;32m   1226\u001b[0m \u001b[43m\u001b[49m\u001b[43m)\u001b[49m\n\u001b[1;32m   1227\u001b[0m \u001b[38;5;28;01massert\u001b[39;00m \u001b[38;5;28mself\u001b[39m\u001b[38;5;241m.\u001b[39mhandles \u001b[38;5;129;01mis\u001b[39;00m \u001b[38;5;129;01mnot\u001b[39;00m \u001b[38;5;28;01mNone\u001b[39;00m\n\u001b[1;32m   1228\u001b[0m f \u001b[38;5;241m=\u001b[39m \u001b[38;5;28mself\u001b[39m\u001b[38;5;241m.\u001b[39mhandles\u001b[38;5;241m.\u001b[39mhandle\n",
      "File \u001b[0;32m~/opt/anaconda3/lib/python3.9/site-packages/pandas/io/common.py:789\u001b[0m, in \u001b[0;36mget_handle\u001b[0;34m(path_or_buf, mode, encoding, compression, memory_map, is_text, errors, storage_options)\u001b[0m\n\u001b[1;32m    784\u001b[0m \u001b[38;5;28;01melif\u001b[39;00m \u001b[38;5;28misinstance\u001b[39m(handle, \u001b[38;5;28mstr\u001b[39m):\n\u001b[1;32m    785\u001b[0m     \u001b[38;5;66;03m# Check whether the filename is to be opened in binary mode.\u001b[39;00m\n\u001b[1;32m    786\u001b[0m     \u001b[38;5;66;03m# Binary mode does not support 'encoding' and 'newline'.\u001b[39;00m\n\u001b[1;32m    787\u001b[0m     \u001b[38;5;28;01mif\u001b[39;00m ioargs\u001b[38;5;241m.\u001b[39mencoding \u001b[38;5;129;01mand\u001b[39;00m \u001b[38;5;124m\"\u001b[39m\u001b[38;5;124mb\u001b[39m\u001b[38;5;124m\"\u001b[39m \u001b[38;5;129;01mnot\u001b[39;00m \u001b[38;5;129;01min\u001b[39;00m ioargs\u001b[38;5;241m.\u001b[39mmode:\n\u001b[1;32m    788\u001b[0m         \u001b[38;5;66;03m# Encoding\u001b[39;00m\n\u001b[0;32m--> 789\u001b[0m         handle \u001b[38;5;241m=\u001b[39m \u001b[38;5;28;43mopen\u001b[39;49m\u001b[43m(\u001b[49m\n\u001b[1;32m    790\u001b[0m \u001b[43m            \u001b[49m\u001b[43mhandle\u001b[49m\u001b[43m,\u001b[49m\n\u001b[1;32m    791\u001b[0m \u001b[43m            \u001b[49m\u001b[43mioargs\u001b[49m\u001b[38;5;241;43m.\u001b[39;49m\u001b[43mmode\u001b[49m\u001b[43m,\u001b[49m\n\u001b[1;32m    792\u001b[0m \u001b[43m            \u001b[49m\u001b[43mencoding\u001b[49m\u001b[38;5;241;43m=\u001b[39;49m\u001b[43mioargs\u001b[49m\u001b[38;5;241;43m.\u001b[39;49m\u001b[43mencoding\u001b[49m\u001b[43m,\u001b[49m\n\u001b[1;32m    793\u001b[0m \u001b[43m            \u001b[49m\u001b[43merrors\u001b[49m\u001b[38;5;241;43m=\u001b[39;49m\u001b[43merrors\u001b[49m\u001b[43m,\u001b[49m\n\u001b[1;32m    794\u001b[0m \u001b[43m            \u001b[49m\u001b[43mnewline\u001b[49m\u001b[38;5;241;43m=\u001b[39;49m\u001b[38;5;124;43m\"\u001b[39;49m\u001b[38;5;124;43m\"\u001b[39;49m\u001b[43m,\u001b[49m\n\u001b[1;32m    795\u001b[0m \u001b[43m        \u001b[49m\u001b[43m)\u001b[49m\n\u001b[1;32m    796\u001b[0m     \u001b[38;5;28;01melse\u001b[39;00m:\n\u001b[1;32m    797\u001b[0m         \u001b[38;5;66;03m# Binary mode\u001b[39;00m\n\u001b[1;32m    798\u001b[0m         handle \u001b[38;5;241m=\u001b[39m \u001b[38;5;28mopen\u001b[39m(handle, ioargs\u001b[38;5;241m.\u001b[39mmode)\n",
      "\u001b[0;31mFileNotFoundError\u001b[0m: [Errno 2] No such file or directory: 'train.csv'"
     ]
    }
   ],
   "source": [
    "# Read in .csv files as pandas dataframe\n",
    "train_df = pd.read_csv('train.csv')\n",
    "test_df = pd.read_csv('test.csv')\n",
    "spray_df = pd.read_csv('spray.csv')\n",
    "weather_df = pd.read_csv('weather.csv')"
   ]
  },
  {
   "cell_type": "code",
   "execution_count": null,
   "metadata": {
    "cell_id": "d6f056e7fb8746e6a9cfcf2211b2de29",
    "deepnote_cell_type": "code",
    "deepnote_to_be_reexecuted": false,
    "execution_millis": 9,
    "execution_start": 1670652600342,
    "source_hash": "65ceea1b",
    "tags": []
   },
   "outputs": [],
   "source": [
    "# lowercasing column names\n",
    "train_df = train_df.rename(columns=str.lower)\n",
    "test_df = test_df.rename(columns=str.lower)\n",
    "spray_df = spray_df.rename(columns=str.lower)\n",
    "weather_df = weather_df.rename(columns=str.lower)"
   ]
  },
  {
   "cell_type": "code",
   "execution_count": null,
   "metadata": {
    "cell_id": "ed66982f34414a038c80081413afde77",
    "deepnote_cell_type": "code",
    "deepnote_table_loading": false,
    "deepnote_table_state": {
     "filters": [],
     "pageIndex": 0,
     "pageSize": 10,
     "sortBy": []
    },
    "deepnote_to_be_reexecuted": false,
    "execution_millis": 144,
    "execution_start": 1670652600359,
    "source_hash": "de8fabe8",
    "tags": []
   },
   "outputs": [],
   "source": [
    "# View top few rows of all datasets\n",
    "print(\"Top few rows of train_df\")\n",
    "display(train_df.head())\n",
    "print(\"\\n\")\n",
    "print(\"Top few rows of test_df\")\n",
    "display(test_df.head())\n",
    "print(\"\\n\")\n",
    "print(\"Top few rows of spray_df\")\n",
    "display(spray_df.head())\n",
    "print(\"\\n\")\n",
    "print(\"Top few rows of weather_df\")\n",
    "display(weather_df.head())"
   ]
  },
  {
   "cell_type": "code",
   "execution_count": null,
   "metadata": {
    "cell_id": "1a89b7eabb9d437286ad12773054e3ff",
    "deepnote_cell_type": "code",
    "deepnote_to_be_reexecuted": false,
    "execution_millis": 147,
    "execution_start": 1670652600493,
    "source_hash": "736ad162",
    "tags": []
   },
   "outputs": [],
   "source": [
    "# Summarise all datasets\n",
    "print(\"train_df summary\")\n",
    "display(train_df.describe())\n",
    "print(\" \")\n",
    "print(\"test_df summary\")\n",
    "display(test_df.describe())\n",
    "print(\" \")\n",
    "print(\"spray_df summary\")\n",
    "display(spray_df.describe())\n",
    "print(\" \")\n",
    "print(\"weather_df summary\")\n",
    "display(weather_df.describe())"
   ]
  },
  {
   "cell_type": "markdown",
   "metadata": {
    "cell_id": "55795e81050444d4af33ea5640197824",
    "deepnote_cell_type": "text-cell-p",
    "formattedRanges": [
     {
      "fromCodePoint": 0,
      "marks": {
       "bold": true
      },
      "toCodePoint": 26,
      "type": "marks"
     }
    ],
    "is_collapsed": false,
    "tags": []
   },
   "source": [
    "Imbalanced classes in data"
   ]
  },
  {
   "cell_type": "code",
   "execution_count": null,
   "metadata": {
    "cell_id": "dac1da4415854eb99603879b5ed7fbee",
    "deepnote_cell_type": "code",
    "deepnote_to_be_reexecuted": false,
    "execution_millis": 3,
    "execution_start": 1670652600654,
    "source_hash": "df3754c3",
    "tags": []
   },
   "outputs": [],
   "source": [
    "train_df.wnvpresent.value_counts()"
   ]
  },
  {
   "cell_type": "markdown",
   "metadata": {
    "cell_id": "3a7371c191e24c6ba0d51b584c3316e8",
    "deepnote_cell_type": "text-cell-p",
    "formattedRanges": [
     {
      "fromCodePoint": 0,
      "marks": {
       "bold": true
      },
      "toCodePoint": 13,
      "type": "marks"
     }
    ],
    "is_collapsed": false,
    "tags": []
   },
   "source": [
    "Unique Values"
   ]
  },
  {
   "cell_type": "code",
   "execution_count": null,
   "metadata": {
    "cell_id": "43bac775111047f4aaa41a6a7a834dba",
    "deepnote_cell_type": "code",
    "deepnote_to_be_reexecuted": false,
    "execution_millis": 5,
    "execution_start": 1670652600655,
    "source_hash": "9ee8fd4b",
    "tags": []
   },
   "outputs": [],
   "source": [
    "# View unique values for each column in train_df\n",
    "for col in train_df:\n",
    "    print(train_df[col].unique())"
   ]
  },
  {
   "cell_type": "code",
   "execution_count": null,
   "metadata": {
    "cell_id": "72dfd41d901a4cf4818976834a12f403",
    "deepnote_cell_type": "code",
    "deepnote_to_be_reexecuted": false,
    "execution_millis": 78,
    "execution_start": 1670652600659,
    "source_hash": "d9bc05a",
    "tags": []
   },
   "outputs": [],
   "source": [
    "# View unique values for each column in test_df\n",
    "for col in test_df:\n",
    "    print(test_df[col].unique())"
   ]
  },
  {
   "cell_type": "code",
   "execution_count": null,
   "metadata": {
    "cell_id": "0b7c58cb2e9243cfbd6fdf260c32eb19",
    "deepnote_cell_type": "code",
    "deepnote_to_be_reexecuted": false,
    "execution_millis": 2,
    "execution_start": 1670652600781,
    "source_hash": "cc468180",
    "tags": []
   },
   "outputs": [],
   "source": [
    "# View unique values for each column in spray_df\n",
    "for col in spray_df:\n",
    "    print(spray_df[col].unique())"
   ]
  },
  {
   "cell_type": "markdown",
   "metadata": {
    "cell_id": "8dd249b520d54c5da26fbdcdb91f79f7",
    "deepnote_cell_type": "text-cell-p",
    "formattedRanges": [
     {
      "fromCodePoint": 0,
      "marks": {
       "bold": true
      },
      "toCodePoint": 16,
      "type": "marks"
     }
    ],
    "is_collapsed": false,
    "tags": []
   },
   "source": [
    "### Duplicate values"
   ]
  },
  {
   "cell_type": "markdown",
   "metadata": {
    "cell_id": "c2f8a2641246482b82dbc013a402c8cb",
    "deepnote_cell_type": "text-cell-p",
    "formattedRanges": [],
    "is_collapsed": false,
    "tags": []
   },
   "source": [
    "The train_df has 813 rows with duplicate values, while the test_df has 0 rows with duplicate values in test_df, the spray_df has 541 rows with duplicate values. "
   ]
  },
  {
   "cell_type": "code",
   "execution_count": null,
   "metadata": {
    "cell_id": "311c510606f94d52acf6e8a20d62ea17",
    "deepnote_cell_type": "code",
    "deepnote_table_invalid": false,
    "deepnote_table_loading": false,
    "deepnote_table_state": {
     "filters": [],
     "pageIndex": 0,
     "pageSize": 10,
     "sortBy": []
    },
    "deepnote_to_be_reexecuted": false,
    "execution_millis": 48,
    "execution_start": 1670652600782,
    "source_hash": "a849ba6",
    "tags": []
   },
   "outputs": [],
   "source": [
    "# Count the number of duplicates in the dataset\n",
    "print(f'There are {train_df.duplicated().sum()} duplicate rows in the train_df dataset.')\n",
    "\n",
    "# Show the duplicates in the dataset\n",
    "print('Duplicate rows in the dataset:')\n",
    "train_df['dupe'] = train_df.duplicated()\n",
    "display(train_df[train_df['dupe'] == True])"
   ]
  },
  {
   "cell_type": "code",
   "execution_count": null,
   "metadata": {
    "cell_id": "d3ed3431a8d248819813ce652bd7c5fd",
    "deepnote_cell_type": "code",
    "deepnote_to_be_reexecuted": false,
    "execution_millis": 150,
    "execution_start": 1670652600832,
    "source_hash": "31c517ec",
    "tags": []
   },
   "outputs": [],
   "source": [
    "# Count the number of duplicates in the dataset\n",
    "print(f'There are {test_df.duplicated().sum()} duplicate rows in the test_df dataset.')\n",
    "\n",
    "# Show the duplicates in the dataset\n",
    "print('Duplicate rows in the dataset:')\n",
    "test_df['dupe'] = test_df.duplicated()\n",
    "display(test_df[test_df['dupe'] == True])"
   ]
  },
  {
   "cell_type": "code",
   "execution_count": null,
   "metadata": {
    "cell_id": "3e4a7af4916943a6a61eb537fc7b70cb",
    "deepnote_cell_type": "code",
    "deepnote_table_invalid": false,
    "deepnote_table_loading": false,
    "deepnote_table_state": {
     "filters": [],
     "pageIndex": 1,
     "pageSize": 10,
     "sortBy": []
    },
    "deepnote_to_be_reexecuted": false,
    "execution_millis": 179,
    "execution_start": 1670652600984,
    "source_hash": "303d0c89",
    "tags": []
   },
   "outputs": [],
   "source": [
    "# Count the number of duplicates in the dataset\n",
    "print(f'There are {spray_df.duplicated().sum()} duplicate rows in the spray_df dataset.')\n",
    "\n",
    "# Show the duplicates in the dataset\n",
    "print('Duplicate rows in the dataset:')\n",
    "spray_df['dupe'] = spray_df.duplicated()\n",
    "display(spray_df[spray_df['dupe'] == True])"
   ]
  },
  {
   "cell_type": "code",
   "execution_count": null,
   "metadata": {
    "cell_id": "2206884b2b124a5aa14c9e9c91a66a90",
    "deepnote_cell_type": "code",
    "deepnote_to_be_reexecuted": false,
    "execution_millis": 110,
    "execution_start": 1670652601053,
    "source_hash": "975a676d",
    "tags": []
   },
   "outputs": [],
   "source": [
    "# Count the number of duplicates in the dataset\n",
    "print(f'There are {weather_df.duplicated().sum()} duplicate rows in the weather_df dataset.')\n",
    "\n",
    "# Show the duplicates in the dataset\n",
    "print('Duplicate rows in the dataset:')\n",
    "weather_df['dupe'] = weather_df.duplicated()\n",
    "display(weather_df[weather_df['dupe'] == True])"
   ]
  },
  {
   "cell_type": "markdown",
   "metadata": {
    "cell_id": "f417c6851ec34f6c94244d464c244203",
    "deepnote_cell_type": "text-cell-p",
    "formattedRanges": [
     {
      "fromCodePoint": 0,
      "marks": {
       "bold": true
      },
      "toCodePoint": 23,
      "type": "marks"
     }
    ],
    "is_collapsed": false,
    "tags": []
   },
   "source": [
    "### Dealing with duplicates"
   ]
  },
  {
   "cell_type": "code",
   "execution_count": null,
   "metadata": {
    "cell_id": "6b93528ba167467d9bc0d2cb93546a48",
    "deepnote_cell_type": "code",
    "deepnote_to_be_reexecuted": false,
    "execution_millis": 7,
    "execution_start": 1670652601075,
    "source_hash": "1975e304",
    "tags": []
   },
   "outputs": [],
   "source": [
    "# Drop duplicate rows in spray_df dataset\n",
    "spray_df.drop('dupe', axis = 1, inplace = True)\n",
    "\n",
    "# Remove duplicates\n",
    "spray_df.drop_duplicates(keep = 'first', inplace = True)"
   ]
  },
  {
   "cell_type": "code",
   "execution_count": null,
   "metadata": {
    "cell_id": "c6bfecd3275847c3a3153b4d0e41d176",
    "deepnote_cell_type": "code",
    "deepnote_to_be_reexecuted": false,
    "execution_millis": 33,
    "execution_start": 1670652601131,
    "source_hash": "2894e9b1",
    "tags": []
   },
   "outputs": [],
   "source": [
    "spray_df.head()"
   ]
  },
  {
   "cell_type": "markdown",
   "metadata": {
    "cell_id": "cd2eaba4674846e5a57964f45700384e",
    "deepnote_cell_type": "text-cell-p",
    "formattedRanges": [
     {
      "fromCodePoint": 0,
      "marks": {
       "bold": true
      },
      "toCodePoint": 14,
      "type": "marks"
     }
    ],
    "is_collapsed": false,
    "tags": []
   },
   "source": [
    "### Missing Values"
   ]
  },
  {
   "cell_type": "code",
   "execution_count": null,
   "metadata": {
    "cell_id": "b2a5efdce3e445c4995f7cec7307af8d",
    "deepnote_cell_type": "code",
    "deepnote_to_be_reexecuted": false,
    "execution_millis": 32,
    "execution_start": 1670652601132,
    "source_hash": "8f6ba0fa",
    "tags": []
   },
   "outputs": [],
   "source": [
    "train_df.isnull().values.any()"
   ]
  },
  {
   "cell_type": "code",
   "execution_count": null,
   "metadata": {
    "cell_id": "f9ec676e56af47f6a7a3e006eba70419",
    "deepnote_cell_type": "code",
    "deepnote_to_be_reexecuted": false,
    "execution_millis": 6,
    "execution_start": 1670652601165,
    "source_hash": "7357ed99",
    "tags": []
   },
   "outputs": [],
   "source": [
    "test_df.isnull().values.any()"
   ]
  },
  {
   "cell_type": "code",
   "execution_count": null,
   "metadata": {
    "cell_id": "de647fe876ef4f249c22db1636020f96",
    "deepnote_cell_type": "code",
    "deepnote_to_be_reexecuted": false,
    "execution_millis": 4,
    "execution_start": 1670652601167,
    "source_hash": "b4e8c581",
    "tags": []
   },
   "outputs": [],
   "source": [
    "spray_df.isnull().values.any()"
   ]
  },
  {
   "cell_type": "code",
   "execution_count": null,
   "metadata": {
    "cell_id": "4172ed147b0447b89ac39868acb10b56",
    "deepnote_cell_type": "code",
    "deepnote_to_be_reexecuted": false,
    "execution_millis": 4,
    "execution_start": 1670652601168,
    "source_hash": "d9b657ac",
    "tags": []
   },
   "outputs": [],
   "source": [
    "spray_df.info()"
   ]
  },
  {
   "cell_type": "code",
   "execution_count": null,
   "metadata": {
    "cell_id": "33b3785f03584e06a984b1fbc6d89cc8",
    "deepnote_cell_type": "code",
    "deepnote_to_be_reexecuted": false,
    "execution_millis": 5,
    "execution_start": 1670652601170,
    "source_hash": "9143b3cc",
    "tags": []
   },
   "outputs": [],
   "source": [
    "spray_df.isnull().sum()"
   ]
  },
  {
   "cell_type": "code",
   "execution_count": null,
   "metadata": {
    "cell_id": "aa8feb098dfb482caa3860bc8d4e04f9",
    "deepnote_cell_type": "code",
    "deepnote_to_be_reexecuted": false,
    "execution_millis": 7,
    "execution_start": 1670652601175,
    "source_hash": "69bb2ed1",
    "tags": []
   },
   "outputs": [],
   "source": [
    "weather_df.isnull().values.any()"
   ]
  },
  {
   "cell_type": "code",
   "execution_count": null,
   "metadata": {
    "cell_id": "c37e6bd39e324e1497397035c0f41554",
    "deepnote_cell_type": "code",
    "deepnote_to_be_reexecuted": false,
    "execution_millis": 46,
    "execution_start": 1670652601182,
    "source_hash": "78424637",
    "tags": []
   },
   "outputs": [],
   "source": [
    "#For weather_df, missing values were imputed with 'M',unavailable values imputed with '-' or ' ' and trace precipitate imputed with 'T'\n",
    "\n",
    "# Replace 'M' with null values\n",
    "weather_df.replace(to_replace = \"M\", value = np.NaN, regex = False, inplace = True)\n",
    "\n",
    "# Replace '-' with null values\n",
    "weather_df.replace(to_replace = \"-\", value = np.NaN, regex = False, inplace = True)\n",
    "\n",
    "# Replace ' ' with null values\n",
    "weather_df.replace(to_replace = \" \", value = np.NaN, regex = False, inplace = True)\n",
    "\n",
    "# Replace '  T' with null values\n",
    "weather_df.replace(to_replace = \"  T\", value = np.NaN, regex = False, inplace = True)\n"
   ]
  },
  {
   "cell_type": "code",
   "execution_count": null,
   "metadata": {
    "cell_id": "f38e21338a474811aa6d910b246d9e64",
    "deepnote_cell_type": "code",
    "deepnote_to_be_reexecuted": false,
    "execution_millis": 9,
    "execution_start": 1670652601233,
    "source_hash": "da213964",
    "tags": []
   },
   "outputs": [],
   "source": [
    "# Check columns with null values in weather_df\n",
    "print('Number of null values in \\'weather\\' dataset:')\n",
    "print(weather_df.isnull().sum().sort_values(ascending=False).to_string())"
   ]
  },
  {
   "cell_type": "markdown",
   "metadata": {
    "cell_id": "9ac8e9ad490945fa874f32f9b0d4940d",
    "deepnote_cell_type": "text-cell-p",
    "formattedRanges": [
     {
      "fromCodePoint": 0,
      "marks": {
       "bold": true
      },
      "toCodePoint": 27,
      "type": "marks"
     }
    ],
    "is_collapsed": false,
    "tags": []
   },
   "source": [
    "### Dealing with missing values"
   ]
  },
  {
   "cell_type": "code",
   "execution_count": null,
   "metadata": {
    "cell_id": "16ae5f411e8b48a5bd131698baff8ccc",
    "deepnote_cell_type": "code",
    "deepnote_to_be_reexecuted": false,
    "execution_millis": 6,
    "execution_start": 1670652601241,
    "source_hash": "8a8ed53d",
    "tags": []
   },
   "outputs": [],
   "source": [
    "# Impute values for rows with missing values in spray_df\n",
    "\n",
    "# Define the start time and end time\n",
    "start_time = '19:44:32'\n",
    "end_time = '19:46:30'\n",
    "time_format = '%H:%M:%S'\n",
    "\n",
    "# Convert to the datetime object\n",
    "start = dt.datetime.strptime(start_time, time_format)\n",
    "end = dt.datetime.strptime(end_time, time_format)\n",
    "\n",
    "# Find midpoint between start-time and end-time\n",
    "half_seconds = (end - start).total_seconds() / 2\n",
    "half = start + dt.timedelta(seconds=half_seconds)\n",
    "print('The middle point between the start and end-time is:')\n",
    "print(half.time())\n",
    "\n",
    "# Converting null values in the 'time' column to '07:45:31 PM'\n",
    "spray_df['time'] = spray_df['time'].fillna(\"07:45:31 PM\")\n",
    "\n",
    "# Check again for nulls in spray_df\n",
    "spray_df.isnull().sum()"
   ]
  },
  {
   "cell_type": "code",
   "execution_count": null,
   "metadata": {
    "cell_id": "5c9f20c2fa1c416c94a6b205957d844a",
    "deepnote_cell_type": "code",
    "deepnote_to_be_reexecuted": false,
    "execution_millis": 4,
    "execution_start": 1670652601288,
    "source_hash": "c97c500b",
    "tags": []
   },
   "outputs": [],
   "source": [
    "weather_df.head()"
   ]
  },
  {
   "cell_type": "code",
   "execution_count": null,
   "metadata": {
    "cell_id": "268707b7ee174dd8affb3016cd82ba27",
    "deepnote_cell_type": "code",
    "deepnote_to_be_reexecuted": false,
    "execution_millis": 1,
    "execution_start": 1670652601369,
    "source_hash": "d71dd25d",
    "tags": []
   },
   "outputs": [],
   "source": [
    "# Dealing with columns with high missing value counts in weather_df\n",
    "\n",
    "## Drop the 'water1' column as it is all null values\n",
    "weather_df.drop('water1', axis =1, inplace = True)\n",
    "\n",
    "## Drop the 'depart' column as over half of its values are null\n",
    "weather_df.drop('depart', axis =1, inplace = True)\n",
    "\n",
    "## Drop the 'depth' column as over half of its values are null\n",
    "weather_df.drop('depth', axis =1, inplace = True)\n",
    "\n",
    "## Drop the 'snowfall' column as over half of its values are null\n",
    "weather_df.drop('snowfall', axis =1, inplace = True)\n",
    "\n",
    "## Drop the 'codesum' column as over half of its values are null\n",
    "weather_df.drop('codesum', axis =1, inplace = True)"
   ]
  },
  {
   "cell_type": "code",
   "execution_count": null,
   "metadata": {
    "cell_id": "1b24502ad5534f85b40cfc792fd33f06",
    "deepnote_cell_type": "code",
    "deepnote_to_be_reexecuted": false,
    "execution_millis": 599,
    "execution_start": 1670652601370,
    "source_hash": "34cb1778",
    "tags": []
   },
   "outputs": [],
   "source": [
    "# Dealing with 'sunset' col with high missing value counts in weather_df \n",
    "\n",
    "# For rows with missing values in 'sunset' column\n",
    "sunset_null_idx = weather_df.loc[weather_df['sunset'].isnull()].index\n",
    "\n",
    "# Impute missing values with the corresponding values from the other station\n",
    "for index in sunset_null_idx:\n",
    "    if index % 2 == 0:\n",
    "        weather_df['sunset'].loc[index] = weather_df['sunset'].loc[index+1]\n",
    "    else:\n",
    "        weather_df['sunset'].loc[index] = weather_df['sunset'].loc[index-1]"
   ]
  },
  {
   "cell_type": "code",
   "execution_count": null,
   "metadata": {
    "cell_id": "94a8bbffb65a4b6caa237a2ddb8e30f5",
    "deepnote_cell_type": "code",
    "deepnote_to_be_reexecuted": false,
    "execution_millis": 606,
    "execution_start": 1670652601971,
    "source_hash": "3719d3b",
    "tags": []
   },
   "outputs": [],
   "source": [
    "# Dealing with 'sunrise' col with high missing value counts in weather_df \n",
    "\n",
    "# For rows with missing values in 'sunset' column\n",
    "sunrise_null_idx = weather_df.loc[weather_df['sunrise'].isnull()].index\n",
    "\n",
    "# Impute missing values with the corresponding values from the other station\n",
    "for index in sunrise_null_idx:\n",
    "    if index % 2 == 0:\n",
    "        weather_df['sunrise'].loc[index] = weather_df['sunrise'].loc[index+1]\n",
    "    else:\n",
    "        weather_df['sunrise'].loc[index] = weather_df['sunrise'].loc[index-1]"
   ]
  },
  {
   "cell_type": "code",
   "execution_count": null,
   "metadata": {
    "cell_id": "0cc55f1c576a48b7a68fcf9654bd2dae",
    "deepnote_cell_type": "code",
    "deepnote_to_be_reexecuted": false,
    "execution_millis": 2,
    "execution_start": 1670652602581,
    "source_hash": "cbbfffec",
    "tags": []
   },
   "outputs": [],
   "source": [
    "# Dealing with columns with low missing value counts in weather_df\n",
    "\n",
    "## For rows with missing values in the 'tavg' column\n",
    "## Impute average of tmin and tmax values in same row\n",
    "weather_df['tavg'] = weather_df['tavg'].fillna((weather_df['tmin'] + weather_df['tmax'])/2)\n",
    "\n",
    "## Convert 'tavg' column into integer type\n",
    "weather_df['tavg'] = weather_df['tavg'].astype(int)\n"
   ]
  },
  {
   "cell_type": "code",
   "execution_count": null,
   "metadata": {
    "cell_id": "7d6e2b6e71e94462a597bbdec4e83c1e",
    "deepnote_cell_type": "code",
    "deepnote_to_be_reexecuted": false,
    "execution_millis": 3,
    "execution_start": 1670652602633,
    "source_hash": "840ab8a3",
    "tags": []
   },
   "outputs": [],
   "source": [
    "## For rows with missing values in the 'heat' and 'cool' columns\n",
    "weather_df['heat'] = weather_df['heat'].fillna(weather_df['tavg'] - 65)\n",
    "weather_df['cool'] = weather_df['cool'].fillna(65 - weather_df['tavg'])\n",
    "\n",
    "## Convert the 'heat' and 'cool' column to integer type\n",
    "weather_df['heat'] = weather_df['heat'].astype(int)\n",
    "weather_df['cool'] = weather_df['cool'].astype(int)\n",
    "\n",
    "## Remove those values where 'heat' is negative\n",
    "weather_df.loc[weather_df['heat'] < 0, 'heat'] = 0\n",
    "\n",
    "# Remove those values where 'cool' is negative\n",
    "weather_df.loc[weather_df['cool'] < 0, 'cool'] = 0"
   ]
  },
  {
   "cell_type": "code",
   "execution_count": null,
   "metadata": {
    "cell_id": "b5a69b46e91045bd87553df0420a5287",
    "deepnote_cell_type": "code",
    "deepnote_to_be_reexecuted": false,
    "execution_millis": 4,
    "execution_start": 1670652602642,
    "source_hash": "62de2305",
    "tags": []
   },
   "outputs": [],
   "source": [
    "# Find out the index of the rows with missing values.\n",
    "sealevel_null_idx = weather_df.loc[weather_df['sealevel'].isnull()].index\n",
    "\n",
    "# Impute the missing values with corresponding values from the other station\n",
    "for index in sealevel_null_idx:\n",
    "    if index % 2 == 0:\n",
    "        weather_df['sealevel'].loc[index] = weather_df['sealevel'].loc[index+1]\n",
    "    else:\n",
    "        weather_df['sealevel'].loc[index] = weather_df['sealevel'].loc[index-1]\n",
    "        \n",
    "# Convert column data type to float \n",
    "weather_df['sealevel'] = weather_df['sealevel'].astype(float)"
   ]
  },
  {
   "cell_type": "code",
   "execution_count": null,
   "metadata": {
    "cell_id": "c93b7852a35045929a57dad13ed7205e",
    "deepnote_cell_type": "code",
    "deepnote_to_be_reexecuted": false,
    "execution_millis": 17,
    "execution_start": 1670652602648,
    "source_hash": "9181a2f5",
    "tags": []
   },
   "outputs": [],
   "source": [
    "# For rows with missing values in 'wetbulb' column\n",
    "wetbulb_null_idx = weather_df.loc[weather_df['wetbulb'].isnull()].index\n",
    "\n",
    "# Impute the missing values with the corresponding values from the other station\n",
    "for index in wetbulb_null_idx :\n",
    "    if index % 2 == 0:\n",
    "        weather_df['wetbulb'].loc[index] = weather_df['wetbulb'].loc[index+1]\n",
    "    else:\n",
    "        weather_df['wetbulb'].loc[index] = weather_df['wetbulb'].loc[index-1]\n",
    "\n",
    "# Convert column to int and float data type\n",
    "weather_df['wetbulb'] = weather_df['wetbulb'].astype(int)"
   ]
  },
  {
   "cell_type": "code",
   "execution_count": null,
   "metadata": {
    "cell_id": "5da3e81e70354ffd878fa66fc8cffa33",
    "deepnote_cell_type": "code",
    "deepnote_to_be_reexecuted": false,
    "execution_millis": 0,
    "execution_start": 1670652602665,
    "source_hash": "e90784ea",
    "tags": []
   },
   "outputs": [],
   "source": [
    "# Find out the index of the rows with missing values in 'avgspeed'\n",
    "avgspeed_null_idx = weather_df.loc[weather_df['avgspeed'].isnull()].index\n",
    "\n",
    "# Impute the missing values with corresponding values from the other station\n",
    "for index in avgspeed_null_idx:\n",
    "    if index % 2 == 0:\n",
    "        weather_df['avgspeed'].loc[index] = weather_df['avgspeed'].loc[index+1]\n",
    "    else:\n",
    "        weather_df['avgspeed'].loc[index] = weather_df['avgspeed'].loc[index-1]\n",
    "    \n",
    "# Convert column to int and float data type\n",
    "weather_df['avgspeed'] = weather_df['avgspeed'].astype(float)"
   ]
  },
  {
   "cell_type": "code",
   "execution_count": null,
   "metadata": {
    "cell_id": "3f8cabbe6b794695a0cb7726c1565169",
    "deepnote_cell_type": "code",
    "deepnote_to_be_reexecuted": false,
    "execution_millis": 15,
    "execution_start": 1670652602666,
    "source_hash": "ed78188",
    "tags": []
   },
   "outputs": [],
   "source": [
    "## For rows with missing values in the 'stnpressure' column\n",
    "weather_df_nonull = weather_df[weather_df['stnpressure'].notnull()]\n",
    "\n",
    "# Convert the column datatype to float\n",
    "weather_df_nonull['stnpressure'] = weather_df_nonull['stnpressure'].astype(float)\n",
    "\n",
    "# Compute the mean for the 'stnpressure' column\n",
    "print('Mean value:')\n",
    "print(weather_df_nonull['stnpressure'].mean())"
   ]
  },
  {
   "cell_type": "code",
   "execution_count": null,
   "metadata": {
    "cell_id": "a77af699290b454b91086cccad9f82aa",
    "deepnote_cell_type": "code",
    "deepnote_to_be_reexecuted": false,
    "execution_millis": 2,
    "execution_start": 1670652602724,
    "source_hash": "91ad24a",
    "tags": []
   },
   "outputs": [],
   "source": [
    "# Fill the null values with the mean stnpressure value\n",
    "weather_df['stnpressure'] = weather_df['stnpressure'].fillna(29.28)\n",
    "\n",
    "# Convert the column to float data type\n",
    "weather_df['stnpressure'] = weather_df['stnpressure'].astype(float)"
   ]
  },
  {
   "cell_type": "code",
   "execution_count": null,
   "metadata": {
    "cell_id": "76cdb768c4204ee58876dde9bd26fb03",
    "deepnote_cell_type": "code",
    "deepnote_to_be_reexecuted": false,
    "execution_millis": 4,
    "execution_start": 1670652602727,
    "source_hash": "eee359b5",
    "tags": []
   },
   "outputs": [],
   "source": [
    "## For rows with missing values in the 'preciptotal' column\n",
    "weather_df_nonull = weather_df[weather_df['preciptotal'].notnull()]\n",
    "\n",
    "## Convert the datatype in 'preciptotal' column to float\n",
    "weather_df_nonull['preciptotal'] = weather_df_nonull['preciptotal'].astype(float)\n",
    "\n",
    "## Compute the mean preciptotal value for the column\n",
    "weather_df_nonull['preciptotal'].mean()"
   ]
  },
  {
   "cell_type": "code",
   "execution_count": null,
   "metadata": {
    "cell_id": "ac744e6e438345fe88c865f9d39b0276",
    "deepnote_cell_type": "code",
    "deepnote_to_be_reexecuted": false,
    "execution_millis": 3,
    "execution_start": 1670652602773,
    "source_hash": "78045c1e",
    "tags": []
   },
   "outputs": [],
   "source": [
    "weather_df['preciptotal']"
   ]
  },
  {
   "cell_type": "code",
   "execution_count": null,
   "metadata": {
    "cell_id": "e479519c90a04a48ab873fbe11832fa4",
    "deepnote_cell_type": "code",
    "deepnote_to_be_reexecuted": false,
    "execution_millis": 0,
    "execution_start": 1670652602774,
    "source_hash": "20c25b6b",
    "tags": []
   },
   "outputs": [],
   "source": [
    "# Fill the null values with the mean preciptotal value\n",
    "weather_df['preciptotal'] = weather_df['preciptotal'].fillna(0.1472)\n",
    "\n",
    "# Convert the column to float data type\n",
    "weather_df['preciptotal'] = weather_df['preciptotal'].astype(float)"
   ]
  },
  {
   "cell_type": "markdown",
   "metadata": {
    "cell_id": "f95f698578d64eb49ad817d809bd1782",
    "deepnote_cell_type": "text-cell-p",
    "formattedRanges": [
     {
      "fromCodePoint": 0,
      "marks": {
       "bold": true
      },
      "toCodePoint": 26,
      "type": "marks"
     }
    ],
    "is_collapsed": false,
    "tags": []
   },
   "source": [
    "### Convert to datetime format"
   ]
  },
  {
   "cell_type": "code",
   "execution_count": null,
   "metadata": {
    "cell_id": "a0df176741cd40be98d8d462a431d502",
    "deepnote_cell_type": "code",
    "deepnote_to_be_reexecuted": false,
    "execution_millis": 58,
    "execution_start": 1670652602775,
    "source_hash": "66c23078",
    "tags": []
   },
   "outputs": [],
   "source": [
    "# change date to datetime format\n",
    "# df['date'] = pd.to_datetime(df['date'])\n",
    "\n",
    "train_df['date'] = pd.to_datetime(train_df['date'])\n",
    "test_df['date'] = pd.to_datetime(test_df['date'])\n",
    "spray_df['date'] = pd.to_datetime(spray_df['date'])\n",
    "weather_df['date'] = pd.to_datetime(weather_df['date'])"
   ]
  },
  {
   "cell_type": "code",
   "execution_count": null,
   "metadata": {
    "cell_id": "5d6d3d00f7074887b861c6efce71b29f",
    "deepnote_cell_type": "code",
    "deepnote_to_be_reexecuted": false,
    "execution_millis": 2,
    "execution_start": 1670652602835,
    "source_hash": "5c070f54",
    "tags": []
   },
   "outputs": [],
   "source": [
    "# Check datetime column datatype after change\n",
    "spray_df['date'].dtypes"
   ]
  },
  {
   "cell_type": "markdown",
   "metadata": {
    "cell_id": "c382cf92be85496995363cba766acad9",
    "deepnote_cell_type": "text-cell-p",
    "formattedRanges": [
     {
      "fromCodePoint": 0,
      "marks": {
       "bold": true
      },
      "toCodePoint": 21,
      "type": "marks"
     }
    ],
    "is_collapsed": false,
    "tags": []
   },
   "source": [
    "### Drop unwanted columns"
   ]
  },
  {
   "cell_type": "code",
   "execution_count": null,
   "metadata": {
    "cell_id": "5b486986b66f4335bcc64f5f45dec8ff",
    "deepnote_cell_type": "code",
    "deepnote_to_be_reexecuted": false,
    "execution_millis": 5,
    "execution_start": 1670652602837,
    "source_hash": "aa620045",
    "tags": []
   },
   "outputs": [],
   "source": [
    "train_df.columns"
   ]
  },
  {
   "cell_type": "code",
   "execution_count": null,
   "metadata": {
    "cell_id": "ddad0f7c71ec4a199e4d2c9a5214ae17",
    "deepnote_cell_type": "code",
    "deepnote_table_loading": false,
    "deepnote_table_state": {
     "filters": [],
     "pageIndex": 0,
     "pageSize": 100,
     "sortBy": []
    },
    "deepnote_to_be_reexecuted": false,
    "execution_millis": 0,
    "execution_start": 1670652602864,
    "source_hash": "d86a66b",
    "tags": []
   },
   "outputs": [],
   "source": [
    "# Drop unnecessary columns in train_df\n",
    "train_df.drop(['addressnumberandstreet', 'addressaccuracy', 'dupe'], axis=1, inplace=True)"
   ]
  },
  {
   "cell_type": "code",
   "execution_count": null,
   "metadata": {
    "cell_id": "f96eec2893cc4d4d8032b64177b17310",
    "deepnote_cell_type": "code",
    "deepnote_to_be_reexecuted": false,
    "execution_millis": 3,
    "execution_start": 1670652602865,
    "source_hash": "2161aa25",
    "tags": []
   },
   "outputs": [],
   "source": [
    "test_df.columns"
   ]
  },
  {
   "cell_type": "code",
   "execution_count": null,
   "metadata": {
    "cell_id": "57785be71cc241618b5724c15b000011",
    "deepnote_cell_type": "code",
    "deepnote_table_loading": false,
    "deepnote_table_state": {
     "filters": [],
     "pageIndex": 7,
     "pageSize": 100,
     "sortBy": []
    },
    "deepnote_to_be_reexecuted": false,
    "execution_millis": 1,
    "execution_start": 1670652602865,
    "source_hash": "5ab95c84",
    "tags": []
   },
   "outputs": [],
   "source": [
    "# Drop unnecessary columns in test_df\n",
    "test_df.drop(['addressnumberandstreet', 'addressaccuracy', 'dupe'], axis=1, inplace=True)"
   ]
  },
  {
   "cell_type": "code",
   "execution_count": null,
   "metadata": {
    "cell_id": "37fc0710b74146418389fc06e3a716f4",
    "deepnote_cell_type": "code",
    "deepnote_to_be_reexecuted": false,
    "execution_millis": 59,
    "execution_start": 1670652602867,
    "source_hash": "a022e609",
    "tags": []
   },
   "outputs": [],
   "source": [
    "# Drop unnecessary columns in weather_df\n",
    "weather_df.drop (['dupe'], axis=1, inplace=True)"
   ]
  },
  {
   "cell_type": "markdown",
   "metadata": {
    "cell_id": "ac6b46ba888042c7b7ac3cc0915986a2",
    "deepnote_cell_type": "text-cell-p",
    "formattedRanges": [
     {
      "fromCodePoint": 0,
      "marks": {
       "bold": true
      },
      "toCodePoint": 33,
      "type": "marks"
     }
    ],
    "is_collapsed": false,
    "tags": []
   },
   "source": [
    "### View entries in species column"
   ]
  },
  {
   "cell_type": "code",
   "execution_count": null,
   "metadata": {
    "cell_id": "5a652591947544608d4b493b582eeb10",
    "deepnote_cell_type": "code",
    "deepnote_to_be_reexecuted": false,
    "execution_millis": 7,
    "execution_start": 1670652602952,
    "source_hash": "bbc73d8b",
    "tags": []
   },
   "outputs": [],
   "source": [
    "print(\"These are the species detected in the train dataset\")\n",
    "display(train_df['species'].value_counts())\n",
    "print(\"\\n\")\n",
    "print(\"These are the species detected in the test dataset\")\n",
    "display(test_df['species'].value_counts())\n"
   ]
  },
  {
   "cell_type": "markdown",
   "metadata": {
    "cell_id": "4ca103b6f2d24ce6b70d7db4ff065b2f",
    "deepnote_cell_type": "text-cell-p",
    "formattedRanges": [
     {
      "fromCodePoint": 0,
      "marks": {
       "bold": true
      },
      "toCodePoint": 35,
      "type": "marks"
     }
    ],
    "is_collapsed": false,
    "tags": []
   },
   "source": [
    "### Create new columns for year & month"
   ]
  },
  {
   "cell_type": "code",
   "execution_count": null,
   "metadata": {
    "cell_id": "d5e09e0d59d54012bf2d3192234663d7",
    "deepnote_cell_type": "code",
    "deepnote_to_be_reexecuted": false,
    "execution_millis": 79,
    "execution_start": 1670652602954,
    "source_hash": "3f57a2ae",
    "tags": []
   },
   "outputs": [],
   "source": [
    "# Create new column for year and month\n",
    "# df['year'] = df['date'].dt.year\n",
    "# df['month'] = df['date'].dt.month\n",
    "# df['day'] = df['date'].dt.day\n",
    "\n",
    "train_df['year'] = train_df['date'].dt.year\n",
    "train_df['month'] = train_df['date'].dt.month\n",
    "train_df['week'] = train_df['date'].dt.week\n",
    "train_df['day'] = train_df['date'].dt.day\n",
    "train_df['day_of_week'] = train_df['date'].dt.weekday\n",
    "\n",
    "test_df['year'] = test_df['date'].dt.year\n",
    "test_df['month'] = test_df['date'].dt.month\n",
    "test_df['week'] = test_df['date'].dt.week\n",
    "test_df['day'] = test_df['date'].dt.day\n",
    "test_df['day_of_week'] = test_df['date'].dt.weekday\n",
    "\n",
    "spray_df['year'] = spray_df['date'].dt.year\n",
    "spray_df['month'] = spray_df['date'].dt.month\n",
    "spray_df['week'] = spray_df['date'].dt.week\n",
    "spray_df['day'] = spray_df['date'].dt.day\n",
    "spray_df['day_of_week'] = spray_df['date'].dt.weekday\n",
    "\n",
    "weather_df['year'] = weather_df['date'].dt.year\n",
    "weather_df['month'] = weather_df['date'].dt.month\n",
    "weather_df['week'] = weather_df['date'].dt.week\n",
    "weather_df['day'] = weather_df['date'].dt.day\n",
    "weather_df['day_of_week'] = weather_df['date'].dt.weekday"
   ]
  },
  {
   "cell_type": "markdown",
   "metadata": {
    "cell_id": "ca574d8460e2449ea39dedf59af5661d",
    "deepnote_cell_type": "text-cell-p",
    "formattedRanges": [
     {
      "fromCodePoint": 0,
      "marks": {
       "bold": true
      },
      "toCodePoint": 30,
      "type": "marks"
     }
    ],
    "is_collapsed": false,
    "tags": []
   },
   "source": [
    "### Final view of cleaned datasets"
   ]
  },
  {
   "cell_type": "code",
   "execution_count": null,
   "metadata": {
    "cell_id": "ca14c18a3d61496c97820bd4c77973c6",
    "deepnote_cell_type": "code",
    "deepnote_to_be_reexecuted": false,
    "execution_millis": 54,
    "execution_start": 1670652603030,
    "source_hash": "d4caa2bb",
    "tags": []
   },
   "outputs": [],
   "source": [
    "display(train_df.head())\n",
    "display(test_df.head())\n",
    "display(spray_df.head())\n",
    "display(weather_df.head())"
   ]
  },
  {
   "cell_type": "code",
   "execution_count": null,
   "metadata": {
    "cell_id": "1c196f44bcb7443ca9d5cbc0dee60691",
    "deepnote_cell_type": "code",
    "deepnote_to_be_reexecuted": false,
    "execution_millis": 2,
    "execution_start": 1670652603125,
    "source_hash": "c343f44",
    "tags": []
   },
   "outputs": [],
   "source": [
    "display(train_df.shape)\n",
    "display(test_df.shape)"
   ]
  },
  {
   "cell_type": "markdown",
   "metadata": {
    "cell_id": "b9f088825bbf4081bbe75134dc1a3230",
    "deepnote_cell_type": "text-cell-p",
    "formattedRanges": [
     {
      "fromCodePoint": 0,
      "marks": {
       "bold": true
      },
      "toCodePoint": 36,
      "type": "marks"
     }
    ],
    "is_collapsed": false,
    "tags": []
   },
   "source": [
    "### Export cleaned datasets as csv files"
   ]
  },
  {
   "cell_type": "code",
   "execution_count": null,
   "metadata": {
    "cell_id": "9b9ac806b53d4f46a193985784b54d38",
    "deepnote_cell_type": "code",
    "deepnote_to_be_reexecuted": false,
    "execution_millis": 1602,
    "execution_start": 1670652603169,
    "source_hash": "323ed02e",
    "tags": []
   },
   "outputs": [],
   "source": [
    "train_df.to_csv('train_cleaned.csv', index=False)\n",
    "test_df.to_csv('test_cleaned.csv', index=False)\n",
    "weather_df.to_csv('weather_cleaned.csv', index=False)\n",
    "spray_df.to_csv('spray_cleaned.csv', index=False)"
   ]
  },
  {
   "cell_type": "markdown",
   "metadata": {
    "created_in_deepnote_cell": true,
    "deepnote_cell_type": "markdown",
    "tags": []
   },
   "source": [
    "<a style='text-decoration:none;line-height:16px;display:flex;color:#5B5B62;padding:10px;justify-content:end;' href='https://deepnote.com?utm_source=created-in-deepnote-cell&projectId=8e68f114-0b87-4716-bcc4-14459d10165c' target=\"_blank\">\n",
    "<img alt='Created in deepnote.com' style='display:inline;max-height:16px;margin:0px;margin-right:7.5px;' src='data:image/svg+xml;base64,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' > </img>\n",
    "Created in <span style='font-weight:600;margin-left:4px;'>Deepnote</span></a>"
   ]
  }
 ],
 "metadata": {
  "deepnote": {},
  "deepnote_execution_queue": [],
  "deepnote_notebook_id": "109c38c21bb4490c98faff32628d28c1",
  "deepnote_persisted_session": {
   "createdAt": "2022-12-10T06:42:30.933Z"
  },
  "kernelspec": {
   "display_name": "Python 3 (ipykernel)",
   "language": "python",
   "name": "python3"
  },
  "language_info": {
   "codemirror_mode": {
    "name": "ipython",
    "version": 3
   },
   "file_extension": ".py",
   "mimetype": "text/x-python",
   "name": "python",
   "nbconvert_exporter": "python",
   "pygments_lexer": "ipython3",
   "version": "3.9.12"
  }
 },
 "nbformat": 4,
 "nbformat_minor": 1
}
