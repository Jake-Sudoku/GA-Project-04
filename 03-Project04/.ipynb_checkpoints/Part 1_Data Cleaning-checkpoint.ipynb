{
 "cells": [
  {
   "cell_type": "markdown",
   "metadata": {
    "cell_id": "0592114a66c34120a69b3f853a308a07",
    "deepnote_cell_type": "text-cell-p",
    "formattedRanges": [
     {
      "fromCodePoint": 0,
      "marks": {
       "bold": true
      },
      "toCodePoint": 16,
      "type": "marks"
     }
    ],
    "is_collapsed": false,
    "tags": []
   },
   "source": [
    "Import Libraries"
   ]
  },
  {
   "cell_type": "code",
   "execution_count": 1,
   "metadata": {
    "cell_id": "b12f6e647a254da8b1541b14af155d3a",
    "deepnote_cell_type": "code",
    "deepnote_to_be_reexecuted": false,
    "execution_millis": 1167,
    "execution_start": 1670652598939,
    "source_hash": "4ffb6b97",
    "tags": []
   },
   "outputs": [],
   "source": [
    "import os\n",
    "import plotly.express as px\n",
    "import pandas as pd\n",
    "import numpy as np\n",
    "import matplotlib.pyplot as plt\n",
    "import plotly.graph_objects as go\n",
    "import datetime as dt\n",
    "\n",
    "#pd.set_option('display.max_rows', 500)\n",
    "\n",
    "MAPBOX_TOKEN = 'pk.eyJ1IjoibWFyaWVkcmV6IiwiYSI6ImNsOXl5dTFtZjAyYm4zd28zN3Y1ZzYycm0ifQ.W1Toe6X5S9AELY56h0OQDw'"
   ]
  },
  {
   "cell_type": "markdown",
   "metadata": {
    "cell_id": "4d859dfe906a4cd6b62cecf4df6f4ea4",
    "deepnote_cell_type": "text-cell-p",
    "formattedRanges": [
     {
      "fromCodePoint": 0,
      "marks": {
       "bold": true
      },
      "toCodePoint": 11,
      "type": "marks"
     }
    ],
    "is_collapsed": false,
    "tags": []
   },
   "source": [
    "Import Data"
   ]
  },
  {
   "cell_type": "code",
   "execution_count": 2,
   "metadata": {
    "cell_id": "879ea67763ec41d29aeb15db907e425e",
    "deepnote_cell_type": "code",
    "deepnote_to_be_reexecuted": false,
    "execution_millis": 7,
    "execution_start": 1670652600106,
    "source_hash": "503da673",
    "tags": []
   },
   "outputs": [
    {
     "name": "stdout",
     "output_type": "stream",
     "text": [
      "train_cleaned.csv\n",
      "weather_cleaned.csv\n",
      "train.csv\n",
      "weather.csv\n",
      "spray.csv\n",
      "test_cleaned.csv\n",
      "test.csv\n",
      "spray_cleaned.csv\n"
     ]
    }
   ],
   "source": [
    "for files in os.listdir():\n",
    "    print(files) if files.endswith('csv') else None"
   ]
  },
  {
   "cell_type": "code",
   "execution_count": 3,
   "metadata": {
    "cell_id": "f75ae06b575c4edd925ff24d773cad3d",
    "deepnote_cell_type": "code",
    "deepnote_table_loading": false,
    "deepnote_table_state": {
     "filters": [],
     "pageIndex": 1,
     "pageSize": 10,
     "sortBy": []
    },
    "deepnote_to_be_reexecuted": false,
    "execution_millis": 229,
    "execution_start": 1670652600109,
    "source_hash": "4b207e7",
    "tags": []
   },
   "outputs": [],
   "source": [
    "# Read in .csv files as pandas dataframe\n",
    "train_df = pd.read_csv('train.csv')\n",
    "test_df = pd.read_csv('test.csv')\n",
    "spray_df = pd.read_csv('spray.csv')\n",
    "weather_df = pd.read_csv('weather.csv')"
   ]
  },
  {
   "cell_type": "code",
   "execution_count": 4,
   "metadata": {
    "cell_id": "d6f056e7fb8746e6a9cfcf2211b2de29",
    "deepnote_cell_type": "code",
    "deepnote_to_be_reexecuted": false,
    "execution_millis": 9,
    "execution_start": 1670652600342,
    "source_hash": "65ceea1b",
    "tags": []
   },
   "outputs": [],
   "source": [
    "# lowercasing column names\n",
    "train_df = train_df.rename(columns=str.lower)\n",
    "test_df = test_df.rename(columns=str.lower)\n",
    "spray_df = spray_df.rename(columns=str.lower)\n",
    "weather_df = weather_df.rename(columns=str.lower)"
   ]
  },
  {
   "cell_type": "code",
   "execution_count": 5,
   "metadata": {
    "cell_id": "ed66982f34414a038c80081413afde77",
    "deepnote_cell_type": "code",
    "deepnote_table_loading": false,
    "deepnote_table_state": {
     "filters": [],
     "pageIndex": 0,
     "pageSize": 10,
     "sortBy": []
    },
    "deepnote_to_be_reexecuted": false,
    "execution_millis": 144,
    "execution_start": 1670652600359,
    "source_hash": "de8fabe8",
    "tags": []
   },
   "outputs": [
    {
     "name": "stdout",
     "output_type": "stream",
     "text": [
      "Top few rows of train_df\n"
     ]
    },
    {
     "data": {
      "text/html": [
       "<div>\n",
       "<style scoped>\n",
       "    .dataframe tbody tr th:only-of-type {\n",
       "        vertical-align: middle;\n",
       "    }\n",
       "\n",
       "    .dataframe tbody tr th {\n",
       "        vertical-align: top;\n",
       "    }\n",
       "\n",
       "    .dataframe thead th {\n",
       "        text-align: right;\n",
       "    }\n",
       "</style>\n",
       "<table border=\"1\" class=\"dataframe\">\n",
       "  <thead>\n",
       "    <tr style=\"text-align: right;\">\n",
       "      <th></th>\n",
       "      <th>date</th>\n",
       "      <th>address</th>\n",
       "      <th>species</th>\n",
       "      <th>block</th>\n",
       "      <th>street</th>\n",
       "      <th>trap</th>\n",
       "      <th>addressnumberandstreet</th>\n",
       "      <th>latitude</th>\n",
       "      <th>longitude</th>\n",
       "      <th>addressaccuracy</th>\n",
       "      <th>nummosquitos</th>\n",
       "      <th>wnvpresent</th>\n",
       "    </tr>\n",
       "  </thead>\n",
       "  <tbody>\n",
       "    <tr>\n",
       "      <th>0</th>\n",
       "      <td>2007-05-29</td>\n",
       "      <td>4100 North Oak Park Avenue, Chicago, IL 60634,...</td>\n",
       "      <td>CULEX PIPIENS/RESTUANS</td>\n",
       "      <td>41</td>\n",
       "      <td>N OAK PARK AVE</td>\n",
       "      <td>T002</td>\n",
       "      <td>4100  N OAK PARK AVE, Chicago, IL</td>\n",
       "      <td>41.954690</td>\n",
       "      <td>-87.800991</td>\n",
       "      <td>9</td>\n",
       "      <td>1</td>\n",
       "      <td>0</td>\n",
       "    </tr>\n",
       "    <tr>\n",
       "      <th>1</th>\n",
       "      <td>2007-05-29</td>\n",
       "      <td>4100 North Oak Park Avenue, Chicago, IL 60634,...</td>\n",
       "      <td>CULEX RESTUANS</td>\n",
       "      <td>41</td>\n",
       "      <td>N OAK PARK AVE</td>\n",
       "      <td>T002</td>\n",
       "      <td>4100  N OAK PARK AVE, Chicago, IL</td>\n",
       "      <td>41.954690</td>\n",
       "      <td>-87.800991</td>\n",
       "      <td>9</td>\n",
       "      <td>1</td>\n",
       "      <td>0</td>\n",
       "    </tr>\n",
       "    <tr>\n",
       "      <th>2</th>\n",
       "      <td>2007-05-29</td>\n",
       "      <td>6200 North Mandell Avenue, Chicago, IL 60646, USA</td>\n",
       "      <td>CULEX RESTUANS</td>\n",
       "      <td>62</td>\n",
       "      <td>N MANDELL AVE</td>\n",
       "      <td>T007</td>\n",
       "      <td>6200  N MANDELL AVE, Chicago, IL</td>\n",
       "      <td>41.994991</td>\n",
       "      <td>-87.769279</td>\n",
       "      <td>9</td>\n",
       "      <td>1</td>\n",
       "      <td>0</td>\n",
       "    </tr>\n",
       "    <tr>\n",
       "      <th>3</th>\n",
       "      <td>2007-05-29</td>\n",
       "      <td>7900 West Foster Avenue, Chicago, IL 60656, USA</td>\n",
       "      <td>CULEX PIPIENS/RESTUANS</td>\n",
       "      <td>79</td>\n",
       "      <td>W FOSTER AVE</td>\n",
       "      <td>T015</td>\n",
       "      <td>7900  W FOSTER AVE, Chicago, IL</td>\n",
       "      <td>41.974089</td>\n",
       "      <td>-87.824812</td>\n",
       "      <td>8</td>\n",
       "      <td>1</td>\n",
       "      <td>0</td>\n",
       "    </tr>\n",
       "    <tr>\n",
       "      <th>4</th>\n",
       "      <td>2007-05-29</td>\n",
       "      <td>7900 West Foster Avenue, Chicago, IL 60656, USA</td>\n",
       "      <td>CULEX RESTUANS</td>\n",
       "      <td>79</td>\n",
       "      <td>W FOSTER AVE</td>\n",
       "      <td>T015</td>\n",
       "      <td>7900  W FOSTER AVE, Chicago, IL</td>\n",
       "      <td>41.974089</td>\n",
       "      <td>-87.824812</td>\n",
       "      <td>8</td>\n",
       "      <td>4</td>\n",
       "      <td>0</td>\n",
       "    </tr>\n",
       "  </tbody>\n",
       "</table>\n",
       "</div>"
      ],
      "text/plain": [
       "         date                                            address  \\\n",
       "0  2007-05-29  4100 North Oak Park Avenue, Chicago, IL 60634,...   \n",
       "1  2007-05-29  4100 North Oak Park Avenue, Chicago, IL 60634,...   \n",
       "2  2007-05-29  6200 North Mandell Avenue, Chicago, IL 60646, USA   \n",
       "3  2007-05-29    7900 West Foster Avenue, Chicago, IL 60656, USA   \n",
       "4  2007-05-29    7900 West Foster Avenue, Chicago, IL 60656, USA   \n",
       "\n",
       "                  species  block           street  trap  \\\n",
       "0  CULEX PIPIENS/RESTUANS     41   N OAK PARK AVE  T002   \n",
       "1          CULEX RESTUANS     41   N OAK PARK AVE  T002   \n",
       "2          CULEX RESTUANS     62    N MANDELL AVE  T007   \n",
       "3  CULEX PIPIENS/RESTUANS     79     W FOSTER AVE  T015   \n",
       "4          CULEX RESTUANS     79     W FOSTER AVE  T015   \n",
       "\n",
       "              addressnumberandstreet   latitude  longitude  addressaccuracy  \\\n",
       "0  4100  N OAK PARK AVE, Chicago, IL  41.954690 -87.800991                9   \n",
       "1  4100  N OAK PARK AVE, Chicago, IL  41.954690 -87.800991                9   \n",
       "2   6200  N MANDELL AVE, Chicago, IL  41.994991 -87.769279                9   \n",
       "3    7900  W FOSTER AVE, Chicago, IL  41.974089 -87.824812                8   \n",
       "4    7900  W FOSTER AVE, Chicago, IL  41.974089 -87.824812                8   \n",
       "\n",
       "   nummosquitos  wnvpresent  \n",
       "0             1           0  \n",
       "1             1           0  \n",
       "2             1           0  \n",
       "3             1           0  \n",
       "4             4           0  "
      ]
     },
     "metadata": {},
     "output_type": "display_data"
    },
    {
     "name": "stdout",
     "output_type": "stream",
     "text": [
      "\n",
      "\n",
      "Top few rows of test_df\n"
     ]
    },
    {
     "data": {
      "text/html": [
       "<div>\n",
       "<style scoped>\n",
       "    .dataframe tbody tr th:only-of-type {\n",
       "        vertical-align: middle;\n",
       "    }\n",
       "\n",
       "    .dataframe tbody tr th {\n",
       "        vertical-align: top;\n",
       "    }\n",
       "\n",
       "    .dataframe thead th {\n",
       "        text-align: right;\n",
       "    }\n",
       "</style>\n",
       "<table border=\"1\" class=\"dataframe\">\n",
       "  <thead>\n",
       "    <tr style=\"text-align: right;\">\n",
       "      <th></th>\n",
       "      <th>id</th>\n",
       "      <th>date</th>\n",
       "      <th>address</th>\n",
       "      <th>species</th>\n",
       "      <th>block</th>\n",
       "      <th>street</th>\n",
       "      <th>trap</th>\n",
       "      <th>addressnumberandstreet</th>\n",
       "      <th>latitude</th>\n",
       "      <th>longitude</th>\n",
       "      <th>addressaccuracy</th>\n",
       "    </tr>\n",
       "  </thead>\n",
       "  <tbody>\n",
       "    <tr>\n",
       "      <th>0</th>\n",
       "      <td>1</td>\n",
       "      <td>2008-06-11</td>\n",
       "      <td>4100 North Oak Park Avenue, Chicago, IL 60634,...</td>\n",
       "      <td>CULEX PIPIENS/RESTUANS</td>\n",
       "      <td>41</td>\n",
       "      <td>N OAK PARK AVE</td>\n",
       "      <td>T002</td>\n",
       "      <td>4100  N OAK PARK AVE, Chicago, IL</td>\n",
       "      <td>41.95469</td>\n",
       "      <td>-87.800991</td>\n",
       "      <td>9</td>\n",
       "    </tr>\n",
       "    <tr>\n",
       "      <th>1</th>\n",
       "      <td>2</td>\n",
       "      <td>2008-06-11</td>\n",
       "      <td>4100 North Oak Park Avenue, Chicago, IL 60634,...</td>\n",
       "      <td>CULEX RESTUANS</td>\n",
       "      <td>41</td>\n",
       "      <td>N OAK PARK AVE</td>\n",
       "      <td>T002</td>\n",
       "      <td>4100  N OAK PARK AVE, Chicago, IL</td>\n",
       "      <td>41.95469</td>\n",
       "      <td>-87.800991</td>\n",
       "      <td>9</td>\n",
       "    </tr>\n",
       "    <tr>\n",
       "      <th>2</th>\n",
       "      <td>3</td>\n",
       "      <td>2008-06-11</td>\n",
       "      <td>4100 North Oak Park Avenue, Chicago, IL 60634,...</td>\n",
       "      <td>CULEX PIPIENS</td>\n",
       "      <td>41</td>\n",
       "      <td>N OAK PARK AVE</td>\n",
       "      <td>T002</td>\n",
       "      <td>4100  N OAK PARK AVE, Chicago, IL</td>\n",
       "      <td>41.95469</td>\n",
       "      <td>-87.800991</td>\n",
       "      <td>9</td>\n",
       "    </tr>\n",
       "    <tr>\n",
       "      <th>3</th>\n",
       "      <td>4</td>\n",
       "      <td>2008-06-11</td>\n",
       "      <td>4100 North Oak Park Avenue, Chicago, IL 60634,...</td>\n",
       "      <td>CULEX SALINARIUS</td>\n",
       "      <td>41</td>\n",
       "      <td>N OAK PARK AVE</td>\n",
       "      <td>T002</td>\n",
       "      <td>4100  N OAK PARK AVE, Chicago, IL</td>\n",
       "      <td>41.95469</td>\n",
       "      <td>-87.800991</td>\n",
       "      <td>9</td>\n",
       "    </tr>\n",
       "    <tr>\n",
       "      <th>4</th>\n",
       "      <td>5</td>\n",
       "      <td>2008-06-11</td>\n",
       "      <td>4100 North Oak Park Avenue, Chicago, IL 60634,...</td>\n",
       "      <td>CULEX TERRITANS</td>\n",
       "      <td>41</td>\n",
       "      <td>N OAK PARK AVE</td>\n",
       "      <td>T002</td>\n",
       "      <td>4100  N OAK PARK AVE, Chicago, IL</td>\n",
       "      <td>41.95469</td>\n",
       "      <td>-87.800991</td>\n",
       "      <td>9</td>\n",
       "    </tr>\n",
       "  </tbody>\n",
       "</table>\n",
       "</div>"
      ],
      "text/plain": [
       "   id        date                                            address  \\\n",
       "0   1  2008-06-11  4100 North Oak Park Avenue, Chicago, IL 60634,...   \n",
       "1   2  2008-06-11  4100 North Oak Park Avenue, Chicago, IL 60634,...   \n",
       "2   3  2008-06-11  4100 North Oak Park Avenue, Chicago, IL 60634,...   \n",
       "3   4  2008-06-11  4100 North Oak Park Avenue, Chicago, IL 60634,...   \n",
       "4   5  2008-06-11  4100 North Oak Park Avenue, Chicago, IL 60634,...   \n",
       "\n",
       "                  species  block           street  trap  \\\n",
       "0  CULEX PIPIENS/RESTUANS     41   N OAK PARK AVE  T002   \n",
       "1          CULEX RESTUANS     41   N OAK PARK AVE  T002   \n",
       "2           CULEX PIPIENS     41   N OAK PARK AVE  T002   \n",
       "3        CULEX SALINARIUS     41   N OAK PARK AVE  T002   \n",
       "4         CULEX TERRITANS     41   N OAK PARK AVE  T002   \n",
       "\n",
       "              addressnumberandstreet  latitude  longitude  addressaccuracy  \n",
       "0  4100  N OAK PARK AVE, Chicago, IL  41.95469 -87.800991                9  \n",
       "1  4100  N OAK PARK AVE, Chicago, IL  41.95469 -87.800991                9  \n",
       "2  4100  N OAK PARK AVE, Chicago, IL  41.95469 -87.800991                9  \n",
       "3  4100  N OAK PARK AVE, Chicago, IL  41.95469 -87.800991                9  \n",
       "4  4100  N OAK PARK AVE, Chicago, IL  41.95469 -87.800991                9  "
      ]
     },
     "metadata": {},
     "output_type": "display_data"
    },
    {
     "name": "stdout",
     "output_type": "stream",
     "text": [
      "\n",
      "\n",
      "Top few rows of spray_df\n"
     ]
    },
    {
     "data": {
      "text/html": [
       "<div>\n",
       "<style scoped>\n",
       "    .dataframe tbody tr th:only-of-type {\n",
       "        vertical-align: middle;\n",
       "    }\n",
       "\n",
       "    .dataframe tbody tr th {\n",
       "        vertical-align: top;\n",
       "    }\n",
       "\n",
       "    .dataframe thead th {\n",
       "        text-align: right;\n",
       "    }\n",
       "</style>\n",
       "<table border=\"1\" class=\"dataframe\">\n",
       "  <thead>\n",
       "    <tr style=\"text-align: right;\">\n",
       "      <th></th>\n",
       "      <th>date</th>\n",
       "      <th>time</th>\n",
       "      <th>latitude</th>\n",
       "      <th>longitude</th>\n",
       "    </tr>\n",
       "  </thead>\n",
       "  <tbody>\n",
       "    <tr>\n",
       "      <th>0</th>\n",
       "      <td>2011-08-29</td>\n",
       "      <td>6:56:58 PM</td>\n",
       "      <td>42.391623</td>\n",
       "      <td>-88.089163</td>\n",
       "    </tr>\n",
       "    <tr>\n",
       "      <th>1</th>\n",
       "      <td>2011-08-29</td>\n",
       "      <td>6:57:08 PM</td>\n",
       "      <td>42.391348</td>\n",
       "      <td>-88.089163</td>\n",
       "    </tr>\n",
       "    <tr>\n",
       "      <th>2</th>\n",
       "      <td>2011-08-29</td>\n",
       "      <td>6:57:18 PM</td>\n",
       "      <td>42.391022</td>\n",
       "      <td>-88.089157</td>\n",
       "    </tr>\n",
       "    <tr>\n",
       "      <th>3</th>\n",
       "      <td>2011-08-29</td>\n",
       "      <td>6:57:28 PM</td>\n",
       "      <td>42.390637</td>\n",
       "      <td>-88.089158</td>\n",
       "    </tr>\n",
       "    <tr>\n",
       "      <th>4</th>\n",
       "      <td>2011-08-29</td>\n",
       "      <td>6:57:38 PM</td>\n",
       "      <td>42.390410</td>\n",
       "      <td>-88.088858</td>\n",
       "    </tr>\n",
       "  </tbody>\n",
       "</table>\n",
       "</div>"
      ],
      "text/plain": [
       "         date        time   latitude  longitude\n",
       "0  2011-08-29  6:56:58 PM  42.391623 -88.089163\n",
       "1  2011-08-29  6:57:08 PM  42.391348 -88.089163\n",
       "2  2011-08-29  6:57:18 PM  42.391022 -88.089157\n",
       "3  2011-08-29  6:57:28 PM  42.390637 -88.089158\n",
       "4  2011-08-29  6:57:38 PM  42.390410 -88.088858"
      ]
     },
     "metadata": {},
     "output_type": "display_data"
    },
    {
     "name": "stdout",
     "output_type": "stream",
     "text": [
      "\n",
      "\n",
      "Top few rows of weather_df\n"
     ]
    },
    {
     "data": {
      "application/vnd.deepnote.dataframe.v3+json": {
       "column_count": 22,
       "columns": [
        {
         "dtype": "int64",
         "name": "station",
         "stats": {
          "histogram": [
           {
            "bin_end": 1.1,
            "bin_start": 1,
            "count": 3
           },
           {
            "bin_end": 1.2,
            "bin_start": 1.1,
            "count": 0
           },
           {
            "bin_end": 1.3,
            "bin_start": 1.2,
            "count": 0
           },
           {
            "bin_end": 1.4,
            "bin_start": 1.3,
            "count": 0
           },
           {
            "bin_end": 1.5,
            "bin_start": 1.4,
            "count": 0
           },
           {
            "bin_end": 1.6,
            "bin_start": 1.5,
            "count": 0
           },
           {
            "bin_end": 1.7000000000000002,
            "bin_start": 1.6,
            "count": 0
           },
           {
            "bin_end": 1.8,
            "bin_start": 1.7000000000000002,
            "count": 0
           },
           {
            "bin_end": 1.9,
            "bin_start": 1.8,
            "count": 0
           },
           {
            "bin_end": 2,
            "bin_start": 1.9,
            "count": 2
           }
          ],
          "max": "2",
          "min": "1",
          "nan_count": 0,
          "unique_count": 2
         }
        },
        {
         "dtype": "object",
         "name": "date",
         "stats": {
          "categories": [
           {
            "count": 2,
            "name": "2007-05-01"
           },
           {
            "count": 2,
            "name": "2007-05-02"
           },
           {
            "count": 1,
            "name": "2007-05-03"
           }
          ],
          "nan_count": 0,
          "unique_count": 3
         }
        },
        {
         "dtype": "int64",
         "name": "tmax",
         "stats": {
          "histogram": [
           {
            "bin_end": 61.5,
            "bin_start": 59,
            "count": 2
           },
           {
            "bin_end": 64,
            "bin_start": 61.5,
            "count": 0
           },
           {
            "bin_end": 66.5,
            "bin_start": 64,
            "count": 1
           },
           {
            "bin_end": 69,
            "bin_start": 66.5,
            "count": 0
           },
           {
            "bin_end": 71.5,
            "bin_start": 69,
            "count": 0
           },
           {
            "bin_end": 74,
            "bin_start": 71.5,
            "count": 0
           },
           {
            "bin_end": 76.5,
            "bin_start": 74,
            "count": 0
           },
           {
            "bin_end": 79,
            "bin_start": 76.5,
            "count": 0
           },
           {
            "bin_end": 81.5,
            "bin_start": 79,
            "count": 0
           },
           {
            "bin_end": 84,
            "bin_start": 81.5,
            "count": 2
           }
          ],
          "max": "84",
          "min": "59",
          "nan_count": 0,
          "unique_count": 5
         }
        },
        {
         "dtype": "int64",
         "name": "tmin",
         "stats": {
          "histogram": [
           {
            "bin_end": 43,
            "bin_start": 42,
            "count": 1
           },
           {
            "bin_end": 44,
            "bin_start": 43,
            "count": 1
           },
           {
            "bin_end": 45,
            "bin_start": 44,
            "count": 0
           },
           {
            "bin_end": 46,
            "bin_start": 45,
            "count": 0
           },
           {
            "bin_end": 47,
            "bin_start": 46,
            "count": 1
           },
           {
            "bin_end": 48,
            "bin_start": 47,
            "count": 0
           },
           {
            "bin_end": 49,
            "bin_start": 48,
            "count": 0
           },
           {
            "bin_end": 50,
            "bin_start": 49,
            "count": 0
           },
           {
            "bin_end": 51,
            "bin_start": 50,
            "count": 1
           },
           {
            "bin_end": 52,
            "bin_start": 51,
            "count": 1
           }
          ],
          "max": "52",
          "min": "42",
          "nan_count": 0,
          "unique_count": 5
         }
        },
        {
         "dtype": "object",
         "name": "tavg",
         "stats": {
          "categories": [
           {
            "count": 1,
            "name": "67"
           },
           {
            "count": 1,
            "name": "68"
           },
           {
            "count": 3,
            "name": "3 others"
           }
          ],
          "nan_count": 0,
          "unique_count": 5
         }
        },
        {
         "dtype": "object",
         "name": "depart",
         "stats": {
          "categories": [
           {
            "count": 2,
            "name": "M"
           },
           {
            "count": 1,
            "name": "14"
           },
           {
            "count": 2,
            "name": "2 others"
           }
          ],
          "nan_count": 0,
          "unique_count": 4
         }
        },
        {
         "dtype": "int64",
         "name": "dewpoint",
         "stats": {
          "histogram": [
           {
            "bin_end": 41.1,
            "bin_start": 40,
            "count": 1
           },
           {
            "bin_end": 42.2,
            "bin_start": 41.1,
            "count": 2
           },
           {
            "bin_end": 43.3,
            "bin_start": 42.2,
            "count": 0
           },
           {
            "bin_end": 44.4,
            "bin_start": 43.3,
            "count": 0
           },
           {
            "bin_end": 45.5,
            "bin_start": 44.4,
            "count": 0
           },
           {
            "bin_end": 46.6,
            "bin_start": 45.5,
            "count": 0
           },
           {
            "bin_end": 47.7,
            "bin_start": 46.6,
            "count": 0
           },
           {
            "bin_end": 48.8,
            "bin_start": 47.7,
            "count": 0
           },
           {
            "bin_end": 49.9,
            "bin_start": 48.8,
            "count": 0
           },
           {
            "bin_end": 51,
            "bin_start": 49.9,
            "count": 2
           }
          ],
          "max": "51",
          "min": "40",
          "nan_count": 0,
          "unique_count": 3
         }
        },
        {
         "dtype": "object",
         "name": "wetbulb",
         "stats": {
          "categories": [
           {
            "count": 2,
            "name": "47"
           },
           {
            "count": 1,
            "name": "56"
           },
           {
            "count": 2,
            "name": "2 others"
           }
          ],
          "nan_count": 0,
          "unique_count": 4
         }
        },
        {
         "dtype": "object",
         "name": "heat",
         "stats": {
          "categories": [
           {
            "count": 2,
            "name": "0"
           },
           {
            "count": 1,
            "name": "14"
           },
           {
            "count": 2,
            "name": "2 others"
           }
          ],
          "nan_count": 0,
          "unique_count": 4
         }
        },
        {
         "dtype": "object",
         "name": "cool",
         "stats": {
          "categories": [
           {
            "count": 3,
            "name": " 0"
           },
           {
            "count": 1,
            "name": " 2"
           },
           {
            "count": 1,
            "name": " 3"
           }
          ],
          "nan_count": 0,
          "unique_count": 3
         }
        },
        {
         "dtype": "object",
         "name": "sunrise",
         "stats": {
          "categories": [
           {
            "count": 2,
            "name": "-"
           },
           {
            "count": 1,
            "name": "0448"
           },
           {
            "count": 2,
            "name": "2 others"
           }
          ],
          "nan_count": 0,
          "unique_count": 4
         }
        },
        {
         "dtype": "object",
         "name": "sunset",
         "stats": {
          "categories": [
           {
            "count": 2,
            "name": "-"
           },
           {
            "count": 1,
            "name": "1849"
           },
           {
            "count": 2,
            "name": "2 others"
           }
          ],
          "nan_count": 0,
          "unique_count": 4
         }
        },
        {
         "dtype": "object",
         "name": "codesum",
         "stats": {
          "categories": [
           {
            "count": 3,
            "name": " "
           },
           {
            "count": 1,
            "name": "BR"
           },
           {
            "count": 1,
            "name": "BR HZ"
           }
          ],
          "nan_count": 0,
          "unique_count": 3
         }
        },
        {
         "dtype": "object",
         "name": "depth",
         "stats": {
          "categories": [
           {
            "count": 3,
            "name": "0"
           },
           {
            "count": 2,
            "name": "M"
           }
          ],
          "nan_count": 0,
          "unique_count": 2
         }
        },
        {
         "dtype": "object",
         "name": "water1",
         "stats": {
          "categories": [
           {
            "count": 5,
            "name": "M"
           }
          ],
          "nan_count": 0,
          "unique_count": 1
         }
        },
        {
         "dtype": "object",
         "name": "snowfall",
         "stats": {
          "categories": [
           {
            "count": 3,
            "name": "0.0"
           },
           {
            "count": 2,
            "name": "M"
           }
          ],
          "nan_count": 0,
          "unique_count": 2
         }
        },
        {
         "dtype": "object",
         "name": "preciptotal",
         "stats": {
          "categories": [
           {
            "count": 5,
            "name": "0.00"
           }
          ],
          "nan_count": 0,
          "unique_count": 1
         }
        },
        {
         "dtype": "object",
         "name": "stnpressure",
         "stats": {
          "categories": [
           {
            "count": 1,
            "name": "29.10"
           },
           {
            "count": 1,
            "name": "29.18"
           },
           {
            "count": 3,
            "name": "3 others"
           }
          ],
          "nan_count": 0,
          "unique_count": 5
         }
        },
        {
         "dtype": "object",
         "name": "sealevel",
         "stats": {
          "categories": [
           {
            "count": 2,
            "name": "29.82"
           },
           {
            "count": 1,
            "name": "30.09"
           },
           {
            "count": 2,
            "name": "2 others"
           }
          ],
          "nan_count": 0,
          "unique_count": 4
         }
        },
        {
         "dtype": "float64",
         "name": "resultspeed",
         "stats": {
          "histogram": [
           {
            "bin_end": 2.8600000000000003,
            "bin_start": 1.7,
            "count": 2
           },
           {
            "bin_end": 4.0200000000000005,
            "bin_start": 2.8600000000000003,
            "count": 0
           },
           {
            "bin_end": 5.180000000000001,
            "bin_start": 4.0200000000000005,
            "count": 0
           },
           {
            "bin_end": 6.340000000000001,
            "bin_start": 5.180000000000001,
            "count": 0
           },
           {
            "bin_end": 7.500000000000001,
            "bin_start": 6.340000000000001,
            "count": 0
           },
           {
            "bin_end": 8.66,
            "bin_start": 7.500000000000001,
            "count": 0
           },
           {
            "bin_end": 9.82,
            "bin_start": 8.66,
            "count": 0
           },
           {
            "bin_end": 10.98,
            "bin_start": 9.82,
            "count": 0
           },
           {
            "bin_end": 12.14,
            "bin_start": 10.98,
            "count": 1
           },
           {
            "bin_end": 13.3,
            "bin_start": 12.14,
            "count": 2
           }
          ],
          "max": "13.3",
          "min": "1.7",
          "nan_count": 0,
          "unique_count": 5
         }
        },
        {
         "dtype": "int64",
         "name": "resultdir",
         "stats": {
          "histogram": [
           {
            "bin_end": 4.5,
            "bin_start": 2,
            "count": 2
           },
           {
            "bin_end": 7,
            "bin_start": 4.5,
            "count": 0
           },
           {
            "bin_end": 9.5,
            "bin_start": 7,
            "count": 1
           },
           {
            "bin_end": 12,
            "bin_start": 9.5,
            "count": 0
           },
           {
            "bin_end": 14.5,
            "bin_start": 12,
            "count": 0
           },
           {
            "bin_end": 17,
            "bin_start": 14.5,
            "count": 0
           },
           {
            "bin_end": 19.5,
            "bin_start": 17,
            "count": 0
           },
           {
            "bin_end": 22,
            "bin_start": 19.5,
            "count": 0
           },
           {
            "bin_end": 24.5,
            "bin_start": 22,
            "count": 0
           },
           {
            "bin_end": 27,
            "bin_start": 24.5,
            "count": 2
           }
          ],
          "max": "27",
          "min": "2",
          "nan_count": 0,
          "unique_count": 5
         }
        },
        {
         "dtype": "object",
         "name": "avgspeed",
         "stats": {
          "categories": [
           {
            "count": 2,
            "name": "13.4"
           },
           {
            "count": 1,
            "name": "9.2"
           },
           {
            "count": 2,
            "name": "2 others"
           }
          ],
          "nan_count": 0,
          "unique_count": 4
         }
        },
        {
         "dtype": "int64",
         "name": "_deepnote_index_column"
        }
       ],
       "row_count": 5,
       "rows": [
        {
         "_deepnote_index_column": "0",
         "avgspeed": "9.2",
         "codesum": " ",
         "cool": " 2",
         "date": "2007-05-01",
         "depart": "14",
         "depth": "0",
         "dewpoint": "51",
         "heat": "0",
         "preciptotal": "0.00",
         "resultdir": "27",
         "resultspeed": "1.7",
         "sealevel": "29.82",
         "snowfall": "0.0",
         "station": "1",
         "stnpressure": "29.10",
         "sunrise": "0448",
         "sunset": "1849",
         "tavg": "67",
         "tmax": "83",
         "tmin": "50",
         "water1": "M",
         "wetbulb": "56"
        },
        {
         "_deepnote_index_column": "1",
         "avgspeed": "9.6",
         "codesum": " ",
         "cool": " 3",
         "date": "2007-05-01",
         "depart": "M",
         "depth": "M",
         "dewpoint": "51",
         "heat": "0",
         "preciptotal": "0.00",
         "resultdir": "25",
         "resultspeed": "2.7",
         "sealevel": "29.82",
         "snowfall": "M",
         "station": "2",
         "stnpressure": "29.18",
         "sunrise": "-",
         "sunset": "-",
         "tavg": "68",
         "tmax": "84",
         "tmin": "52",
         "water1": "M",
         "wetbulb": "57"
        },
        {
         "_deepnote_index_column": "2",
         "avgspeed": "13.4",
         "codesum": "BR",
         "cool": " 0",
         "date": "2007-05-02",
         "depart": "-3",
         "depth": "0",
         "dewpoint": "42",
         "heat": "14",
         "preciptotal": "0.00",
         "resultdir": "4",
         "resultspeed": "13.0",
         "sealevel": "30.09",
         "snowfall": "0.0",
         "station": "1",
         "stnpressure": "29.38",
         "sunrise": "0447",
         "sunset": "1850",
         "tavg": "51",
         "tmax": "59",
         "tmin": "42",
         "water1": "M",
         "wetbulb": "47"
        },
        {
         "_deepnote_index_column": "3",
         "avgspeed": "13.4",
         "codesum": "BR HZ",
         "cool": " 0",
         "date": "2007-05-02",
         "depart": "M",
         "depth": "M",
         "dewpoint": "42",
         "heat": "13",
         "preciptotal": "0.00",
         "resultdir": "2",
         "resultspeed": "13.3",
         "sealevel": "30.08",
         "snowfall": "M",
         "station": "2",
         "stnpressure": "29.44",
         "sunrise": "-",
         "sunset": "-",
         "tavg": "52",
         "tmax": "60",
         "tmin": "43",
         "water1": "M",
         "wetbulb": "47"
        },
        {
         "_deepnote_index_column": "4",
         "avgspeed": "11.9",
         "codesum": " ",
         "cool": " 0",
         "date": "2007-05-03",
         "depart": " 2",
         "depth": "0",
         "dewpoint": "40",
         "heat": "9",
         "preciptotal": "0.00",
         "resultdir": "7",
         "resultspeed": "11.7",
         "sealevel": "30.12",
         "snowfall": "0.0",
         "station": "1",
         "stnpressure": "29.39",
         "sunrise": "0446",
         "sunset": "1851",
         "tavg": "56",
         "tmax": "66",
         "tmin": "46",
         "water1": "M",
         "wetbulb": "48"
        }
       ]
      },
      "text/html": [
       "<div>\n",
       "<style scoped>\n",
       "    .dataframe tbody tr th:only-of-type {\n",
       "        vertical-align: middle;\n",
       "    }\n",
       "\n",
       "    .dataframe tbody tr th {\n",
       "        vertical-align: top;\n",
       "    }\n",
       "\n",
       "    .dataframe thead th {\n",
       "        text-align: right;\n",
       "    }\n",
       "</style>\n",
       "<table border=\"1\" class=\"dataframe\">\n",
       "  <thead>\n",
       "    <tr style=\"text-align: right;\">\n",
       "      <th></th>\n",
       "      <th>station</th>\n",
       "      <th>date</th>\n",
       "      <th>tmax</th>\n",
       "      <th>tmin</th>\n",
       "      <th>tavg</th>\n",
       "      <th>depart</th>\n",
       "      <th>dewpoint</th>\n",
       "      <th>wetbulb</th>\n",
       "      <th>heat</th>\n",
       "      <th>cool</th>\n",
       "      <th>...</th>\n",
       "      <th>codesum</th>\n",
       "      <th>depth</th>\n",
       "      <th>water1</th>\n",
       "      <th>snowfall</th>\n",
       "      <th>preciptotal</th>\n",
       "      <th>stnpressure</th>\n",
       "      <th>sealevel</th>\n",
       "      <th>resultspeed</th>\n",
       "      <th>resultdir</th>\n",
       "      <th>avgspeed</th>\n",
       "    </tr>\n",
       "  </thead>\n",
       "  <tbody>\n",
       "    <tr>\n",
       "      <th>0</th>\n",
       "      <td>1</td>\n",
       "      <td>2007-05-01</td>\n",
       "      <td>83</td>\n",
       "      <td>50</td>\n",
       "      <td>67</td>\n",
       "      <td>14</td>\n",
       "      <td>51</td>\n",
       "      <td>56</td>\n",
       "      <td>0</td>\n",
       "      <td>2</td>\n",
       "      <td>...</td>\n",
       "      <td></td>\n",
       "      <td>0</td>\n",
       "      <td>M</td>\n",
       "      <td>0.0</td>\n",
       "      <td>0.00</td>\n",
       "      <td>29.10</td>\n",
       "      <td>29.82</td>\n",
       "      <td>1.7</td>\n",
       "      <td>27</td>\n",
       "      <td>9.2</td>\n",
       "    </tr>\n",
       "    <tr>\n",
       "      <th>1</th>\n",
       "      <td>2</td>\n",
       "      <td>2007-05-01</td>\n",
       "      <td>84</td>\n",
       "      <td>52</td>\n",
       "      <td>68</td>\n",
       "      <td>M</td>\n",
       "      <td>51</td>\n",
       "      <td>57</td>\n",
       "      <td>0</td>\n",
       "      <td>3</td>\n",
       "      <td>...</td>\n",
       "      <td></td>\n",
       "      <td>M</td>\n",
       "      <td>M</td>\n",
       "      <td>M</td>\n",
       "      <td>0.00</td>\n",
       "      <td>29.18</td>\n",
       "      <td>29.82</td>\n",
       "      <td>2.7</td>\n",
       "      <td>25</td>\n",
       "      <td>9.6</td>\n",
       "    </tr>\n",
       "    <tr>\n",
       "      <th>2</th>\n",
       "      <td>1</td>\n",
       "      <td>2007-05-02</td>\n",
       "      <td>59</td>\n",
       "      <td>42</td>\n",
       "      <td>51</td>\n",
       "      <td>-3</td>\n",
       "      <td>42</td>\n",
       "      <td>47</td>\n",
       "      <td>14</td>\n",
       "      <td>0</td>\n",
       "      <td>...</td>\n",
       "      <td>BR</td>\n",
       "      <td>0</td>\n",
       "      <td>M</td>\n",
       "      <td>0.0</td>\n",
       "      <td>0.00</td>\n",
       "      <td>29.38</td>\n",
       "      <td>30.09</td>\n",
       "      <td>13.0</td>\n",
       "      <td>4</td>\n",
       "      <td>13.4</td>\n",
       "    </tr>\n",
       "    <tr>\n",
       "      <th>3</th>\n",
       "      <td>2</td>\n",
       "      <td>2007-05-02</td>\n",
       "      <td>60</td>\n",
       "      <td>43</td>\n",
       "      <td>52</td>\n",
       "      <td>M</td>\n",
       "      <td>42</td>\n",
       "      <td>47</td>\n",
       "      <td>13</td>\n",
       "      <td>0</td>\n",
       "      <td>...</td>\n",
       "      <td>BR HZ</td>\n",
       "      <td>M</td>\n",
       "      <td>M</td>\n",
       "      <td>M</td>\n",
       "      <td>0.00</td>\n",
       "      <td>29.44</td>\n",
       "      <td>30.08</td>\n",
       "      <td>13.3</td>\n",
       "      <td>2</td>\n",
       "      <td>13.4</td>\n",
       "    </tr>\n",
       "    <tr>\n",
       "      <th>4</th>\n",
       "      <td>1</td>\n",
       "      <td>2007-05-03</td>\n",
       "      <td>66</td>\n",
       "      <td>46</td>\n",
       "      <td>56</td>\n",
       "      <td>2</td>\n",
       "      <td>40</td>\n",
       "      <td>48</td>\n",
       "      <td>9</td>\n",
       "      <td>0</td>\n",
       "      <td>...</td>\n",
       "      <td></td>\n",
       "      <td>0</td>\n",
       "      <td>M</td>\n",
       "      <td>0.0</td>\n",
       "      <td>0.00</td>\n",
       "      <td>29.39</td>\n",
       "      <td>30.12</td>\n",
       "      <td>11.7</td>\n",
       "      <td>7</td>\n",
       "      <td>11.9</td>\n",
       "    </tr>\n",
       "  </tbody>\n",
       "</table>\n",
       "<p>5 rows × 22 columns</p>\n",
       "</div>"
      ],
      "text/plain": [
       "   station        date  tmax  tmin tavg depart  dewpoint wetbulb heat cool  \\\n",
       "0        1  2007-05-01    83    50   67     14        51      56    0    2   \n",
       "1        2  2007-05-01    84    52   68      M        51      57    0    3   \n",
       "2        1  2007-05-02    59    42   51     -3        42      47   14    0   \n",
       "3        2  2007-05-02    60    43   52      M        42      47   13    0   \n",
       "4        1  2007-05-03    66    46   56      2        40      48    9    0   \n",
       "\n",
       "   ... codesum depth water1 snowfall preciptotal stnpressure sealevel  \\\n",
       "0  ...             0      M      0.0        0.00       29.10    29.82   \n",
       "1  ...             M      M        M        0.00       29.18    29.82   \n",
       "2  ...      BR     0      M      0.0        0.00       29.38    30.09   \n",
       "3  ...   BR HZ     M      M        M        0.00       29.44    30.08   \n",
       "4  ...             0      M      0.0        0.00       29.39    30.12   \n",
       "\n",
       "  resultspeed resultdir  avgspeed  \n",
       "0         1.7        27       9.2  \n",
       "1         2.7        25       9.6  \n",
       "2        13.0         4      13.4  \n",
       "3        13.3         2      13.4  \n",
       "4        11.7         7      11.9  \n",
       "\n",
       "[5 rows x 22 columns]"
      ]
     },
     "metadata": {},
     "output_type": "display_data"
    }
   ],
   "source": [
    "# View top few rows of all datasets\n",
    "print(\"Top few rows of train_df\")\n",
    "display(train_df.head())\n",
    "print(\"\\n\")\n",
    "print(\"Top few rows of test_df\")\n",
    "display(test_df.head())\n",
    "print(\"\\n\")\n",
    "print(\"Top few rows of spray_df\")\n",
    "display(spray_df.head())\n",
    "print(\"\\n\")\n",
    "print(\"Top few rows of weather_df\")\n",
    "display(weather_df.head())"
   ]
  },
  {
   "cell_type": "code",
   "execution_count": 6,
   "metadata": {
    "cell_id": "1a89b7eabb9d437286ad12773054e3ff",
    "deepnote_cell_type": "code",
    "deepnote_to_be_reexecuted": false,
    "execution_millis": 147,
    "execution_start": 1670652600493,
    "source_hash": "736ad162",
    "tags": []
   },
   "outputs": [
    {
     "name": "stdout",
     "output_type": "stream",
     "text": [
      "train_df summary\n"
     ]
    },
    {
     "data": {
      "text/html": [
       "<div>\n",
       "<style scoped>\n",
       "    .dataframe tbody tr th:only-of-type {\n",
       "        vertical-align: middle;\n",
       "    }\n",
       "\n",
       "    .dataframe tbody tr th {\n",
       "        vertical-align: top;\n",
       "    }\n",
       "\n",
       "    .dataframe thead th {\n",
       "        text-align: right;\n",
       "    }\n",
       "</style>\n",
       "<table border=\"1\" class=\"dataframe\">\n",
       "  <thead>\n",
       "    <tr style=\"text-align: right;\">\n",
       "      <th></th>\n",
       "      <th>block</th>\n",
       "      <th>latitude</th>\n",
       "      <th>longitude</th>\n",
       "      <th>addressaccuracy</th>\n",
       "      <th>nummosquitos</th>\n",
       "      <th>wnvpresent</th>\n",
       "    </tr>\n",
       "  </thead>\n",
       "  <tbody>\n",
       "    <tr>\n",
       "      <th>count</th>\n",
       "      <td>10506.000000</td>\n",
       "      <td>10506.000000</td>\n",
       "      <td>10506.000000</td>\n",
       "      <td>10506.000000</td>\n",
       "      <td>10506.000000</td>\n",
       "      <td>10506.000000</td>\n",
       "    </tr>\n",
       "    <tr>\n",
       "      <th>mean</th>\n",
       "      <td>35.687797</td>\n",
       "      <td>41.841139</td>\n",
       "      <td>-87.699908</td>\n",
       "      <td>7.819532</td>\n",
       "      <td>12.853512</td>\n",
       "      <td>0.052446</td>\n",
       "    </tr>\n",
       "    <tr>\n",
       "      <th>std</th>\n",
       "      <td>24.339468</td>\n",
       "      <td>0.112742</td>\n",
       "      <td>0.096514</td>\n",
       "      <td>1.452921</td>\n",
       "      <td>16.133816</td>\n",
       "      <td>0.222936</td>\n",
       "    </tr>\n",
       "    <tr>\n",
       "      <th>min</th>\n",
       "      <td>10.000000</td>\n",
       "      <td>41.644612</td>\n",
       "      <td>-87.930995</td>\n",
       "      <td>3.000000</td>\n",
       "      <td>1.000000</td>\n",
       "      <td>0.000000</td>\n",
       "    </tr>\n",
       "    <tr>\n",
       "      <th>25%</th>\n",
       "      <td>12.000000</td>\n",
       "      <td>41.732984</td>\n",
       "      <td>-87.760070</td>\n",
       "      <td>8.000000</td>\n",
       "      <td>2.000000</td>\n",
       "      <td>0.000000</td>\n",
       "    </tr>\n",
       "    <tr>\n",
       "      <th>50%</th>\n",
       "      <td>33.000000</td>\n",
       "      <td>41.846283</td>\n",
       "      <td>-87.694991</td>\n",
       "      <td>8.000000</td>\n",
       "      <td>5.000000</td>\n",
       "      <td>0.000000</td>\n",
       "    </tr>\n",
       "    <tr>\n",
       "      <th>75%</th>\n",
       "      <td>52.000000</td>\n",
       "      <td>41.954690</td>\n",
       "      <td>-87.627796</td>\n",
       "      <td>9.000000</td>\n",
       "      <td>17.000000</td>\n",
       "      <td>0.000000</td>\n",
       "    </tr>\n",
       "    <tr>\n",
       "      <th>max</th>\n",
       "      <td>98.000000</td>\n",
       "      <td>42.017430</td>\n",
       "      <td>-87.531635</td>\n",
       "      <td>9.000000</td>\n",
       "      <td>50.000000</td>\n",
       "      <td>1.000000</td>\n",
       "    </tr>\n",
       "  </tbody>\n",
       "</table>\n",
       "</div>"
      ],
      "text/plain": [
       "              block      latitude     longitude  addressaccuracy  \\\n",
       "count  10506.000000  10506.000000  10506.000000     10506.000000   \n",
       "mean      35.687797     41.841139    -87.699908         7.819532   \n",
       "std       24.339468      0.112742      0.096514         1.452921   \n",
       "min       10.000000     41.644612    -87.930995         3.000000   \n",
       "25%       12.000000     41.732984    -87.760070         8.000000   \n",
       "50%       33.000000     41.846283    -87.694991         8.000000   \n",
       "75%       52.000000     41.954690    -87.627796         9.000000   \n",
       "max       98.000000     42.017430    -87.531635         9.000000   \n",
       "\n",
       "       nummosquitos    wnvpresent  \n",
       "count  10506.000000  10506.000000  \n",
       "mean      12.853512      0.052446  \n",
       "std       16.133816      0.222936  \n",
       "min        1.000000      0.000000  \n",
       "25%        2.000000      0.000000  \n",
       "50%        5.000000      0.000000  \n",
       "75%       17.000000      0.000000  \n",
       "max       50.000000      1.000000  "
      ]
     },
     "metadata": {},
     "output_type": "display_data"
    },
    {
     "name": "stdout",
     "output_type": "stream",
     "text": [
      " \n",
      "test_df summary\n"
     ]
    },
    {
     "data": {
      "text/html": [
       "<div>\n",
       "<style scoped>\n",
       "    .dataframe tbody tr th:only-of-type {\n",
       "        vertical-align: middle;\n",
       "    }\n",
       "\n",
       "    .dataframe tbody tr th {\n",
       "        vertical-align: top;\n",
       "    }\n",
       "\n",
       "    .dataframe thead th {\n",
       "        text-align: right;\n",
       "    }\n",
       "</style>\n",
       "<table border=\"1\" class=\"dataframe\">\n",
       "  <thead>\n",
       "    <tr style=\"text-align: right;\">\n",
       "      <th></th>\n",
       "      <th>id</th>\n",
       "      <th>block</th>\n",
       "      <th>latitude</th>\n",
       "      <th>longitude</th>\n",
       "      <th>addressaccuracy</th>\n",
       "    </tr>\n",
       "  </thead>\n",
       "  <tbody>\n",
       "    <tr>\n",
       "      <th>count</th>\n",
       "      <td>116293.000000</td>\n",
       "      <td>116293.000000</td>\n",
       "      <td>116293.000000</td>\n",
       "      <td>116293.000000</td>\n",
       "      <td>116293.000000</td>\n",
       "    </tr>\n",
       "    <tr>\n",
       "      <th>mean</th>\n",
       "      <td>58147.000000</td>\n",
       "      <td>41.131100</td>\n",
       "      <td>41.849389</td>\n",
       "      <td>-87.693658</td>\n",
       "      <td>7.954357</td>\n",
       "    </tr>\n",
       "    <tr>\n",
       "      <th>std</th>\n",
       "      <td>33571.041765</td>\n",
       "      <td>24.864726</td>\n",
       "      <td>0.106593</td>\n",
       "      <td>0.080699</td>\n",
       "      <td>1.252733</td>\n",
       "    </tr>\n",
       "    <tr>\n",
       "      <th>min</th>\n",
       "      <td>1.000000</td>\n",
       "      <td>10.000000</td>\n",
       "      <td>41.644612</td>\n",
       "      <td>-87.930995</td>\n",
       "      <td>3.000000</td>\n",
       "    </tr>\n",
       "    <tr>\n",
       "      <th>25%</th>\n",
       "      <td>29074.000000</td>\n",
       "      <td>18.000000</td>\n",
       "      <td>41.753411</td>\n",
       "      <td>-87.750938</td>\n",
       "      <td>8.000000</td>\n",
       "    </tr>\n",
       "    <tr>\n",
       "      <th>50%</th>\n",
       "      <td>58147.000000</td>\n",
       "      <td>39.000000</td>\n",
       "      <td>41.862292</td>\n",
       "      <td>-87.694991</td>\n",
       "      <td>8.000000</td>\n",
       "    </tr>\n",
       "    <tr>\n",
       "      <th>75%</th>\n",
       "      <td>87220.000000</td>\n",
       "      <td>61.000000</td>\n",
       "      <td>41.951866</td>\n",
       "      <td>-87.648860</td>\n",
       "      <td>9.000000</td>\n",
       "    </tr>\n",
       "    <tr>\n",
       "      <th>max</th>\n",
       "      <td>116293.000000</td>\n",
       "      <td>98.000000</td>\n",
       "      <td>42.017430</td>\n",
       "      <td>-87.531635</td>\n",
       "      <td>9.000000</td>\n",
       "    </tr>\n",
       "  </tbody>\n",
       "</table>\n",
       "</div>"
      ],
      "text/plain": [
       "                  id          block       latitude      longitude  \\\n",
       "count  116293.000000  116293.000000  116293.000000  116293.000000   \n",
       "mean    58147.000000      41.131100      41.849389     -87.693658   \n",
       "std     33571.041765      24.864726       0.106593       0.080699   \n",
       "min         1.000000      10.000000      41.644612     -87.930995   \n",
       "25%     29074.000000      18.000000      41.753411     -87.750938   \n",
       "50%     58147.000000      39.000000      41.862292     -87.694991   \n",
       "75%     87220.000000      61.000000      41.951866     -87.648860   \n",
       "max    116293.000000      98.000000      42.017430     -87.531635   \n",
       "\n",
       "       addressaccuracy  \n",
       "count    116293.000000  \n",
       "mean          7.954357  \n",
       "std           1.252733  \n",
       "min           3.000000  \n",
       "25%           8.000000  \n",
       "50%           8.000000  \n",
       "75%           9.000000  \n",
       "max           9.000000  "
      ]
     },
     "metadata": {},
     "output_type": "display_data"
    },
    {
     "name": "stdout",
     "output_type": "stream",
     "text": [
      " \n",
      "spray_df summary\n"
     ]
    },
    {
     "data": {
      "text/html": [
       "<div>\n",
       "<style scoped>\n",
       "    .dataframe tbody tr th:only-of-type {\n",
       "        vertical-align: middle;\n",
       "    }\n",
       "\n",
       "    .dataframe tbody tr th {\n",
       "        vertical-align: top;\n",
       "    }\n",
       "\n",
       "    .dataframe thead th {\n",
       "        text-align: right;\n",
       "    }\n",
       "</style>\n",
       "<table border=\"1\" class=\"dataframe\">\n",
       "  <thead>\n",
       "    <tr style=\"text-align: right;\">\n",
       "      <th></th>\n",
       "      <th>latitude</th>\n",
       "      <th>longitude</th>\n",
       "    </tr>\n",
       "  </thead>\n",
       "  <tbody>\n",
       "    <tr>\n",
       "      <th>count</th>\n",
       "      <td>14835.000000</td>\n",
       "      <td>14835.000000</td>\n",
       "    </tr>\n",
       "    <tr>\n",
       "      <th>mean</th>\n",
       "      <td>41.904828</td>\n",
       "      <td>-87.736690</td>\n",
       "    </tr>\n",
       "    <tr>\n",
       "      <th>std</th>\n",
       "      <td>0.104381</td>\n",
       "      <td>0.067292</td>\n",
       "    </tr>\n",
       "    <tr>\n",
       "      <th>min</th>\n",
       "      <td>41.713925</td>\n",
       "      <td>-88.096468</td>\n",
       "    </tr>\n",
       "    <tr>\n",
       "      <th>25%</th>\n",
       "      <td>41.785001</td>\n",
       "      <td>-87.794225</td>\n",
       "    </tr>\n",
       "    <tr>\n",
       "      <th>50%</th>\n",
       "      <td>41.940075</td>\n",
       "      <td>-87.727853</td>\n",
       "    </tr>\n",
       "    <tr>\n",
       "      <th>75%</th>\n",
       "      <td>41.980978</td>\n",
       "      <td>-87.694108</td>\n",
       "    </tr>\n",
       "    <tr>\n",
       "      <th>max</th>\n",
       "      <td>42.395983</td>\n",
       "      <td>-87.586727</td>\n",
       "    </tr>\n",
       "  </tbody>\n",
       "</table>\n",
       "</div>"
      ],
      "text/plain": [
       "           latitude     longitude\n",
       "count  14835.000000  14835.000000\n",
       "mean      41.904828    -87.736690\n",
       "std        0.104381      0.067292\n",
       "min       41.713925    -88.096468\n",
       "25%       41.785001    -87.794225\n",
       "50%       41.940075    -87.727853\n",
       "75%       41.980978    -87.694108\n",
       "max       42.395983    -87.586727"
      ]
     },
     "metadata": {},
     "output_type": "display_data"
    },
    {
     "name": "stdout",
     "output_type": "stream",
     "text": [
      " \n",
      "weather_df summary\n"
     ]
    },
    {
     "data": {
      "application/vnd.deepnote.dataframe.v3+json": {
       "column_count": 6,
       "columns": [
        {
         "dtype": "float64",
         "name": "station",
         "stats": {
          "histogram": [
           {
            "bin_end": 294.8500764461061,
            "bin_start": 0.5000849401178301,
            "count": 7
           },
           {
            "bin_end": 589.2000679520943,
            "bin_start": 294.8500764461061,
            "count": 0
           },
           {
            "bin_end": 883.5500594580825,
            "bin_start": 589.2000679520943,
            "count": 0
           },
           {
            "bin_end": 1177.9000509640707,
            "bin_start": 883.5500594580825,
            "count": 0
           },
           {
            "bin_end": 1472.250042470059,
            "bin_start": 1177.9000509640707,
            "count": 0
           },
           {
            "bin_end": 1766.6000339760471,
            "bin_start": 1472.250042470059,
            "count": 0
           },
           {
            "bin_end": 2060.950025482035,
            "bin_start": 1766.6000339760471,
            "count": 0
           },
           {
            "bin_end": 2355.3000169880233,
            "bin_start": 2060.950025482035,
            "count": 0
           },
           {
            "bin_end": 2649.6500084940117,
            "bin_start": 2355.3000169880233,
            "count": 0
           },
           {
            "bin_end": 2944,
            "bin_start": 2649.6500084940117,
            "count": 1
           }
          ],
          "max": "2944.0",
          "min": "0.5000849401178301",
          "nan_count": 0,
          "unique_count": 5
         }
        },
        {
         "dtype": "float64",
         "name": "tmax",
         "stats": {
          "histogram": [
           {
            "bin_end": 304.7157727745443,
            "bin_start": 11.461969749493651,
            "count": 7
           },
           {
            "bin_end": 597.9695757995948,
            "bin_start": 304.7157727745443,
            "count": 0
           },
           {
            "bin_end": 891.2233788246455,
            "bin_start": 597.9695757995948,
            "count": 0
           },
           {
            "bin_end": 1184.477181849696,
            "bin_start": 891.2233788246455,
            "count": 0
           },
           {
            "bin_end": 1477.7309848747468,
            "bin_start": 1184.477181849696,
            "count": 0
           },
           {
            "bin_end": 1770.9847878997973,
            "bin_start": 1477.7309848747468,
            "count": 0
           },
           {
            "bin_end": 2064.238590924848,
            "bin_start": 1770.9847878997973,
            "count": 0
           },
           {
            "bin_end": 2357.4923939498985,
            "bin_start": 2064.238590924848,
            "count": 0
           },
           {
            "bin_end": 2650.7461969749493,
            "bin_start": 2357.4923939498985,
            "count": 0
           },
           {
            "bin_end": 2944,
            "bin_start": 2650.7461969749493,
            "count": 1
           }
          ],
          "max": "2944.0",
          "min": "11.461969749493651",
          "nan_count": 0,
          "unique_count": 8
         }
        },
        {
         "dtype": "float64",
         "name": "tmin",
         "stats": {
          "histogram": [
           {
            "bin_end": 303.7437449681014,
            "bin_start": 10.381938853445929,
            "count": 7
           },
           {
            "bin_end": 597.1055510827568,
            "bin_start": 303.7437449681014,
            "count": 0
           },
           {
            "bin_end": 890.4673571974123,
            "bin_start": 597.1055510827568,
            "count": 0
           },
           {
            "bin_end": 1183.8291633120677,
            "bin_start": 890.4673571974123,
            "count": 0
           },
           {
            "bin_end": 1477.190969426723,
            "bin_start": 1183.8291633120677,
            "count": 0
           },
           {
            "bin_end": 1770.5527755413787,
            "bin_start": 1477.190969426723,
            "count": 0
           },
           {
            "bin_end": 2063.914581656034,
            "bin_start": 1770.5527755413787,
            "count": 0
           },
           {
            "bin_end": 2357.2763877706893,
            "bin_start": 2063.914581656034,
            "count": 0
           },
           {
            "bin_end": 2650.6381938853447,
            "bin_start": 2357.2763877706893,
            "count": 0
           },
           {
            "bin_end": 2944,
            "bin_start": 2650.6381938853447,
            "count": 1
           }
          ],
          "max": "2944.0",
          "min": "10.381938853445929",
          "nan_count": 0,
          "unique_count": 8
         }
        },
        {
         "dtype": "float64",
         "name": "dewpoint",
         "stats": {
          "histogram": [
           {
            "bin_end": 304.00766289886053,
            "bin_start": 10.675180998733927,
            "count": 7
           },
           {
            "bin_end": 597.3401447989871,
            "bin_start": 304.00766289886053,
            "count": 0
           },
           {
            "bin_end": 890.6726266991137,
            "bin_start": 597.3401447989871,
            "count": 0
           },
           {
            "bin_end": 1184.0051085992402,
            "bin_start": 890.6726266991137,
            "count": 0
           },
           {
            "bin_end": 1477.3375904993668,
            "bin_start": 1184.0051085992402,
            "count": 0
           },
           {
            "bin_end": 1770.6700723994934,
            "bin_start": 1477.3375904993668,
            "count": 0
           },
           {
            "bin_end": 2064.0025542996204,
            "bin_start": 1770.6700723994934,
            "count": 0
           },
           {
            "bin_end": 2357.335036199747,
            "bin_start": 2064.0025542996204,
            "count": 0
           },
           {
            "bin_end": 2650.667518099873,
            "bin_start": 2357.335036199747,
            "count": 0
           },
           {
            "bin_end": 2944,
            "bin_start": 2650.667518099873,
            "count": 1
           }
          ],
          "max": "2944.0",
          "min": "10.675180998733927",
          "nan_count": 0,
          "unique_count": 8
         }
        },
        {
         "dtype": "float64",
         "name": "resultspeed",
         "stats": {
          "histogram": [
           {
            "bin_end": 294.49,
            "bin_start": 0.1,
            "count": 7
           },
           {
            "bin_end": 588.88,
            "bin_start": 294.49,
            "count": 0
           },
           {
            "bin_end": 883.27,
            "bin_start": 588.88,
            "count": 0
           },
           {
            "bin_end": 1177.6599999999999,
            "bin_start": 883.27,
            "count": 0
           },
           {
            "bin_end": 1472.0499999999997,
            "bin_start": 1177.6599999999999,
            "count": 0
           },
           {
            "bin_end": 1766.4399999999998,
            "bin_start": 1472.0499999999997,
            "count": 0
           },
           {
            "bin_end": 2060.83,
            "bin_start": 1766.4399999999998,
            "count": 0
           },
           {
            "bin_end": 2355.22,
            "bin_start": 2060.83,
            "count": 0
           },
           {
            "bin_end": 2649.6099999999997,
            "bin_start": 2355.22,
            "count": 0
           },
           {
            "bin_end": 2944,
            "bin_start": 2649.6099999999997,
            "count": 1
           }
          ],
          "max": "2944.0",
          "min": "0.1",
          "nan_count": 0,
          "unique_count": 8
         }
        },
        {
         "dtype": "float64",
         "name": "resultdir",
         "stats": {
          "histogram": [
           {
            "bin_end": 295.3,
            "bin_start": 1,
            "count": 7
           },
           {
            "bin_end": 589.6,
            "bin_start": 295.3,
            "count": 0
           },
           {
            "bin_end": 883.9000000000001,
            "bin_start": 589.6,
            "count": 0
           },
           {
            "bin_end": 1178.2,
            "bin_start": 883.9000000000001,
            "count": 0
           },
           {
            "bin_end": 1472.5,
            "bin_start": 1178.2,
            "count": 0
           },
           {
            "bin_end": 1766.8000000000002,
            "bin_start": 1472.5,
            "count": 0
           },
           {
            "bin_end": 2061.1,
            "bin_start": 1766.8000000000002,
            "count": 0
           },
           {
            "bin_end": 2355.4,
            "bin_start": 2061.1,
            "count": 0
           },
           {
            "bin_end": 2649.7000000000003,
            "bin_start": 2355.4,
            "count": 0
           },
           {
            "bin_end": 2944,
            "bin_start": 2649.7000000000003,
            "count": 1
           }
          ],
          "max": "2944.0",
          "min": "1.0",
          "nan_count": 0,
          "unique_count": 8
         }
        },
        {
         "dtype": "object",
         "name": "_deepnote_index_column"
        }
       ],
       "row_count": 8,
       "rows": [
        {
         "_deepnote_index_column": "count",
         "dewpoint": "2944.0",
         "resultdir": "2944.0",
         "resultspeed": "2944.0",
         "station": "2944.0",
         "tmax": "2944.0",
         "tmin": "2944.0"
        },
        {
         "_deepnote_index_column": "mean",
         "dewpoint": "53.45788043478261",
         "resultdir": "17.494904891304348",
         "resultspeed": "6.960665760869565",
         "station": "1.5",
         "tmax": "76.16610054347827",
         "tmin": "57.81046195652174"
        },
        {
         "_deepnote_index_column": "std",
         "dewpoint": "10.675180998733927",
         "resultdir": "10.063608833655866",
         "resultspeed": "3.5875272423041062",
         "station": "0.5000849401178301",
         "tmax": "11.461969749493651",
         "tmin": "10.381938853445929"
        },
        {
         "_deepnote_index_column": "min",
         "dewpoint": "22.0",
         "resultdir": "1.0",
         "resultspeed": "0.1",
         "station": "1.0",
         "tmax": "41.0",
         "tmin": "29.0"
        },
        {
         "_deepnote_index_column": "25%",
         "dewpoint": "46.0",
         "resultdir": "7.0",
         "resultspeed": "4.3",
         "station": "1.0",
         "tmax": "69.0",
         "tmin": "50.0"
        },
        {
         "_deepnote_index_column": "50%",
         "dewpoint": "54.0",
         "resultdir": "19.0",
         "resultspeed": "6.4",
         "station": "1.5",
         "tmax": "78.0",
         "tmin": "59.0"
        },
        {
         "_deepnote_index_column": "75%",
         "dewpoint": "62.0",
         "resultdir": "25.0",
         "resultspeed": "9.2",
         "station": "2.0",
         "tmax": "85.0",
         "tmin": "66.0"
        },
        {
         "_deepnote_index_column": "max",
         "dewpoint": "75.0",
         "resultdir": "36.0",
         "resultspeed": "24.1",
         "station": "2.0",
         "tmax": "104.0",
         "tmin": "83.0"
        }
       ]
      },
      "text/html": [
       "<div>\n",
       "<style scoped>\n",
       "    .dataframe tbody tr th:only-of-type {\n",
       "        vertical-align: middle;\n",
       "    }\n",
       "\n",
       "    .dataframe tbody tr th {\n",
       "        vertical-align: top;\n",
       "    }\n",
       "\n",
       "    .dataframe thead th {\n",
       "        text-align: right;\n",
       "    }\n",
       "</style>\n",
       "<table border=\"1\" class=\"dataframe\">\n",
       "  <thead>\n",
       "    <tr style=\"text-align: right;\">\n",
       "      <th></th>\n",
       "      <th>station</th>\n",
       "      <th>tmax</th>\n",
       "      <th>tmin</th>\n",
       "      <th>dewpoint</th>\n",
       "      <th>resultspeed</th>\n",
       "      <th>resultdir</th>\n",
       "    </tr>\n",
       "  </thead>\n",
       "  <tbody>\n",
       "    <tr>\n",
       "      <th>count</th>\n",
       "      <td>2944.000000</td>\n",
       "      <td>2944.000000</td>\n",
       "      <td>2944.000000</td>\n",
       "      <td>2944.000000</td>\n",
       "      <td>2944.000000</td>\n",
       "      <td>2944.000000</td>\n",
       "    </tr>\n",
       "    <tr>\n",
       "      <th>mean</th>\n",
       "      <td>1.500000</td>\n",
       "      <td>76.166101</td>\n",
       "      <td>57.810462</td>\n",
       "      <td>53.457880</td>\n",
       "      <td>6.960666</td>\n",
       "      <td>17.494905</td>\n",
       "    </tr>\n",
       "    <tr>\n",
       "      <th>std</th>\n",
       "      <td>0.500085</td>\n",
       "      <td>11.461970</td>\n",
       "      <td>10.381939</td>\n",
       "      <td>10.675181</td>\n",
       "      <td>3.587527</td>\n",
       "      <td>10.063609</td>\n",
       "    </tr>\n",
       "    <tr>\n",
       "      <th>min</th>\n",
       "      <td>1.000000</td>\n",
       "      <td>41.000000</td>\n",
       "      <td>29.000000</td>\n",
       "      <td>22.000000</td>\n",
       "      <td>0.100000</td>\n",
       "      <td>1.000000</td>\n",
       "    </tr>\n",
       "    <tr>\n",
       "      <th>25%</th>\n",
       "      <td>1.000000</td>\n",
       "      <td>69.000000</td>\n",
       "      <td>50.000000</td>\n",
       "      <td>46.000000</td>\n",
       "      <td>4.300000</td>\n",
       "      <td>7.000000</td>\n",
       "    </tr>\n",
       "    <tr>\n",
       "      <th>50%</th>\n",
       "      <td>1.500000</td>\n",
       "      <td>78.000000</td>\n",
       "      <td>59.000000</td>\n",
       "      <td>54.000000</td>\n",
       "      <td>6.400000</td>\n",
       "      <td>19.000000</td>\n",
       "    </tr>\n",
       "    <tr>\n",
       "      <th>75%</th>\n",
       "      <td>2.000000</td>\n",
       "      <td>85.000000</td>\n",
       "      <td>66.000000</td>\n",
       "      <td>62.000000</td>\n",
       "      <td>9.200000</td>\n",
       "      <td>25.000000</td>\n",
       "    </tr>\n",
       "    <tr>\n",
       "      <th>max</th>\n",
       "      <td>2.000000</td>\n",
       "      <td>104.000000</td>\n",
       "      <td>83.000000</td>\n",
       "      <td>75.000000</td>\n",
       "      <td>24.100000</td>\n",
       "      <td>36.000000</td>\n",
       "    </tr>\n",
       "  </tbody>\n",
       "</table>\n",
       "</div>"
      ],
      "text/plain": [
       "           station         tmax         tmin     dewpoint  resultspeed  \\\n",
       "count  2944.000000  2944.000000  2944.000000  2944.000000  2944.000000   \n",
       "mean      1.500000    76.166101    57.810462    53.457880     6.960666   \n",
       "std       0.500085    11.461970    10.381939    10.675181     3.587527   \n",
       "min       1.000000    41.000000    29.000000    22.000000     0.100000   \n",
       "25%       1.000000    69.000000    50.000000    46.000000     4.300000   \n",
       "50%       1.500000    78.000000    59.000000    54.000000     6.400000   \n",
       "75%       2.000000    85.000000    66.000000    62.000000     9.200000   \n",
       "max       2.000000   104.000000    83.000000    75.000000    24.100000   \n",
       "\n",
       "         resultdir  \n",
       "count  2944.000000  \n",
       "mean     17.494905  \n",
       "std      10.063609  \n",
       "min       1.000000  \n",
       "25%       7.000000  \n",
       "50%      19.000000  \n",
       "75%      25.000000  \n",
       "max      36.000000  "
      ]
     },
     "metadata": {},
     "output_type": "display_data"
    }
   ],
   "source": [
    "# Summarise all datasets\n",
    "print(\"train_df summary\")\n",
    "display(train_df.describe())\n",
    "print(\" \")\n",
    "print(\"test_df summary\")\n",
    "display(test_df.describe())\n",
    "print(\" \")\n",
    "print(\"spray_df summary\")\n",
    "display(spray_df.describe())\n",
    "print(\" \")\n",
    "print(\"weather_df summary\")\n",
    "display(weather_df.describe())"
   ]
  },
  {
   "cell_type": "markdown",
   "metadata": {
    "cell_id": "55795e81050444d4af33ea5640197824",
    "deepnote_cell_type": "text-cell-p",
    "formattedRanges": [
     {
      "fromCodePoint": 0,
      "marks": {
       "bold": true
      },
      "toCodePoint": 26,
      "type": "marks"
     }
    ],
    "is_collapsed": false,
    "tags": []
   },
   "source": [
    "Imbalanced classes in data"
   ]
  },
  {
   "cell_type": "code",
   "execution_count": 7,
   "metadata": {
    "cell_id": "dac1da4415854eb99603879b5ed7fbee",
    "deepnote_cell_type": "code",
    "deepnote_to_be_reexecuted": false,
    "execution_millis": 3,
    "execution_start": 1670652600654,
    "source_hash": "df3754c3",
    "tags": []
   },
   "outputs": [
    {
     "data": {
      "text/plain": [
       "0    9955\n",
       "1     551\n",
       "Name: wnvpresent, dtype: int64"
      ]
     },
     "execution_count": 7,
     "metadata": {},
     "output_type": "execute_result"
    }
   ],
   "source": [
    "train_df.wnvpresent.value_counts()"
   ]
  },
  {
   "cell_type": "markdown",
   "metadata": {
    "cell_id": "3a7371c191e24c6ba0d51b584c3316e8",
    "deepnote_cell_type": "text-cell-p",
    "formattedRanges": [
     {
      "fromCodePoint": 0,
      "marks": {
       "bold": true
      },
      "toCodePoint": 13,
      "type": "marks"
     }
    ],
    "is_collapsed": false,
    "tags": []
   },
   "source": [
    "Unique Values"
   ]
  },
  {
   "cell_type": "code",
   "execution_count": 8,
   "metadata": {
    "cell_id": "43bac775111047f4aaa41a6a7a834dba",
    "deepnote_cell_type": "code",
    "deepnote_to_be_reexecuted": false,
    "execution_millis": 5,
    "execution_start": 1670652600655,
    "source_hash": "9ee8fd4b",
    "tags": []
   },
   "outputs": [
    {
     "name": "stdout",
     "output_type": "stream",
     "text": [
      "['2007-05-29' '2007-06-05' '2007-06-26' '2007-06-29' '2007-07-02'\n",
      " '2007-07-11' '2007-07-18' '2007-07-19' '2007-07-25' '2007-07-27'\n",
      " '2007-08-01' '2007-08-02' '2007-08-03' '2007-08-07' '2007-08-08'\n",
      " '2007-08-09' '2007-08-15' '2007-08-16' '2007-08-17' '2007-08-21'\n",
      " '2007-08-22' '2007-08-24' '2007-08-28' '2007-09-04' '2007-09-05'\n",
      " '2007-09-06' '2007-09-12' '2007-09-18' '2007-09-19' '2007-09-24'\n",
      " '2007-09-25' '2007-10-04' '2007-10-09' '2009-05-28' '2009-06-02'\n",
      " '2009-06-03' '2009-06-05' '2009-06-12' '2009-06-15' '2009-06-19'\n",
      " '2009-06-22' '2009-06-26' '2009-06-29' '2009-07-06' '2009-07-10'\n",
      " '2009-07-13' '2009-07-17' '2009-07-24' '2009-07-27' '2009-07-31'\n",
      " '2009-08-07' '2009-08-13' '2009-08-25' '2009-08-27' '2009-09-03'\n",
      " '2009-09-14' '2009-09-17' '2009-09-25' '2009-10-01' '2011-06-10'\n",
      " '2011-06-17' '2011-06-24' '2011-06-30' '2011-07-11' '2011-07-15'\n",
      " '2011-07-25' '2011-07-29' '2011-08-05' '2011-08-12' '2011-08-19'\n",
      " '2011-08-26' '2011-09-01' '2011-09-02' '2011-09-12' '2011-09-16'\n",
      " '2011-09-23' '2011-09-30' '2013-06-07' '2013-06-14' '2013-06-21'\n",
      " '2013-06-27' '2013-06-28' '2013-07-08' '2013-07-12' '2013-07-19'\n",
      " '2013-07-25' '2013-08-01' '2013-08-08' '2013-08-15' '2013-08-22'\n",
      " '2013-08-29' '2013-09-06' '2013-09-12' '2013-09-19' '2013-09-26']\n",
      "['4100 North Oak Park Avenue, Chicago, IL 60634, USA'\n",
      " '6200 North Mandell Avenue, Chicago, IL 60646, USA'\n",
      " '7900 West Foster Avenue, Chicago, IL 60656, USA'\n",
      " '1500 West Webster Avenue, Chicago, IL 60614, USA'\n",
      " '2500 West Grand Avenue, Chicago, IL 60654, USA'\n",
      " '1100 Roosevelt Road, Chicago, IL 60608, USA'\n",
      " '1100 West Chicago Avenue, Chicago, IL 60642, USA'\n",
      " '2100 North Stave Street, Chicago, IL 60647, USA'\n",
      " '2200 North Cannon Drive, Chicago, IL 60614, USA'\n",
      " '2200 West 113th Street, Chicago, IL 60643, USA'\n",
      " '1100 South Peoria Street, Chicago, IL 60608, USA'\n",
      " '1700 West 95th Street, Chicago, IL 60643, USA'\n",
      " '2200 West 89th Street, Chicago, IL 60643, USA'\n",
      " 'North Streeter Drive, Chicago, IL 60611, USA'\n",
      " '6500 North Oak Park Avenue, Chicago, IL 60631, USA'\n",
      " '7500 North Oakley Avenue, Chicago, IL 60645, USA'\n",
      " '1500 North Long Avenue, Chicago, IL 60651, USA'\n",
      " '8900 South Carpenter Street, Chicago, IL 60620, USA'\n",
      " '9100 West Higgins Avenue, Chicago, IL 60656, USA'\n",
      " '3600 North Pittsburgh Avenue, Chicago, IL 60634, USA'\n",
      " '7200 North Oketo Avenue, Chicago, IL 60631, USA'\n",
      " '3800 North California Avenue, Chicago, IL 60618, USA'\n",
      " '4900 West Balmoral Avenue, Chicago, IL 60630, USA'\n",
      " '5800 North Western Avenue, Chicago, IL 60659, USA'\n",
      " '5000 South Central Avenue, Chicago, IL 60638, USA'\n",
      " '1400 North Sacramento Avenue, Chicago, IL 60622, USA'\n",
      " 'South Vincennes Avenue, Chicago, IL, USA'\n",
      " 'University of Illinois at Chicago, 1100 South Ashland Avenue, Chicago, IL 60607, USA'\n",
      " '1100 South State Street, Chicago, IL 60605, USA'\n",
      " '4200 West 127th Street, Alsip, IL 60803, USA'\n",
      " '5300 West Agatite Avenue, Chicago, IL 60630, USA'\n",
      " '4000 North Austin Avenue, Chicago, IL 60634, USA' 'Chicago, IL, USA'\n",
      " '4200 North Richmond Street, Chicago, IL 60618, USA'\n",
      " '2800 North Francisco Avenue, Chicago, IL 60618, USA'\n",
      " '1500 West Granville Avenue, Chicago, IL 60660, USA'\n",
      " '1800 West Farwell Avenue, Chicago, IL 60626, USA'\n",
      " '7000 West Armitage Avenue, Chicago, IL 60707, USA'\n",
      " '2500 South Millard Avenue, Chicago, IL 60623, USA'\n",
      " '2100 North Lawler Avenue, Chicago, IL 60639, USA'\n",
      " '3500 West 116th Street, Chicago, IL 60655, USA'\n",
      " '9300 South Doctor Martin Luther King Junior Drive, Chicago, IL 60619, USA'\n",
      " '3700 North Kedvale Avenue, Chicago, IL 60641, USA'\n",
      " '4500 North Campbell Avenue, Chicago, IL 60625, USA'\n",
      " '4000 North Tripp Avenue, Chicago, IL 60641, USA'\n",
      " '4600 Milwaukee Avenue, Chicago, IL 60630, USA'\n",
      " '6000 North Avondale Avenue, Chicago, IL 60631, USA'\n",
      " '7000 North Moselle Avenue, Chicago, IL 60646, USA'\n",
      " '6100 North Lemont Avenue, Chicago, IL 60646, USA'\n",
      " '2700 South Western Avenue, Chicago, IL 60608, USA'\n",
      " '6800 West Belden Avenue, Chicago, IL 60707, USA'\n",
      " '2100 South Hamlin Avenue, Chicago, IL 60623, USA'\n",
      " '3000 West 18th Street, Chicago, IL 60608, USA'\n",
      " '1100 South California Avenue, Chicago, IL 60612, USA'\n",
      " '2500 South Throop Street, Chicago, IL 60608, USA'\n",
      " '1000 West 95th Street, Chicago, IL 60643, USA'\n",
      " '1000 South California Avenue, Chicago, IL 60612, USA'\n",
      " '9600 South Hoyne Avenue, Chicago, IL 60643, USA'\n",
      " '1800 West Leland Avenue, Chicago, IL 60640, USA'\n",
      " '6100 West Fullerton Avenue, Chicago, IL 60639, USA'\n",
      " '6400 West Strong Street, Chicago, IL, USA'\n",
      " '1200 West Greenleaf Avenue, Chicago, IL 60626, USA'\n",
      " '1000 North Central Park Avenue, Chicago, IL 60651, USA'\n",
      " '2000 East 111th Street, Chicago, IL 60628, USA'\n",
      " '3300 North Rutherford Avenue, Chicago, IL 60634, USA'\n",
      " '1100 North Artesian Avenue, Chicago, IL 60622, USA'\n",
      " '6000 West Roscoe Street, Chicago, IL 60634, USA'\n",
      " '6000 West Montrose Avenue, Chicago, IL 60634, USA'\n",
      " '3300 West Randolph Street, Chicago, IL 60612, USA'\n",
      " '3300 West 104th Street, Chicago, IL 60655, USA'\n",
      " '4900 West Sunnyside Avenue, Chicago, IL 60630, USA'\n",
      " '3000 South Hoyne Avenue, Chicago, IL 60608, USA'\n",
      " '4200 West 31st Street, Chicago, IL 60623, USA'\n",
      " '1700 North Pulaski Road, Chicago, IL 60639, USA'\n",
      " '2200 West Pershing Road, Chicago, IL 60609, USA'\n",
      " '2200 West 51st Street, Chicago, IL 60609, USA'\n",
      " '3500 West 51st Street, Chicago, IL 60632, USA'\n",
      " 'Chicago Midway International Airport (MDW), 5200 West 63rd Street, Chicago, IL 60638, USA'\n",
      " '6700 South Kedzie Avenue, Chicago, IL 60629, USA'\n",
      " '7300 Cicero Avenue, Chicago, IL 60638, USA'\n",
      " '2200 West 69th Street, Chicago, IL 60636, USA'\n",
      " '5200 South Nordica Avenue, Chicago, IL 60638, USA'\n",
      " '6100 South Melvina Avenue, Chicago, IL 60638, USA'\n",
      " '1000 East 67th Street, Chicago, IL 60637, USA'\n",
      " '3900 South Ashland Avenue, Chicago, IL 60609, USA'\n",
      " '4700 South Cornell Avenue, Chicago, IL 60615, USA'\n",
      " '5500 South Doctor Martin Luther King Junior Drive, Chicago, IL 60637, USA'\n",
      " '6400 South Stony Island Avenue, Chicago, IL 60637, USA'\n",
      " '7100 South South Shore Drive, Chicago, IL 60649, USA'\n",
      " '7700 South Eberhart Avenue, Chicago, IL 60619, USA'\n",
      " '4000 South Dearborn Street, Chicago, IL 60609, USA'\n",
      " '5000 South Union Avenue, Chicago, IL 60609, USA'\n",
      " '7900 South South Chicago Avenue, Chicago, IL 60617, USA'\n",
      " '5200 South Kolmar Avenue, Chicago, IL 60632, USA'\n",
      " '6300 West 64th Street, Chicago, IL 60638, USA'\n",
      " '3700 South Pulaski Road, Chicago, IL 60623, USA'\n",
      " 'South Doty Avenue, Chicago, IL, USA'\n",
      " 'South Stony Island Avenue, Chicago, IL, USA'\n",
      " 'South Torrence Avenue, Chicago, IL, USA'\n",
      " 'South Mackinaw Avenue, Chicago, IL 60617, USA'\n",
      " 'South Brandon Avenue, Chicago, IL 60617, USA'\n",
      " '3700 118th Street, Chicago, IL 60617, USA'\n",
      " '3800 East 115th Street, Chicago, IL 60617, USA'\n",
      " 'East 91st Street, Chicago, IL, USA'\n",
      " '2400 East 105th Street, Chicago, IL 60617, USA'\n",
      " '8000 South Kedzie Avenue, Chicago, IL 60652, USA'\n",
      " '6500 South Racine Avenue, Chicago, IL 60636, USA'\n",
      " 'East 138th Street, Riverdale, IL 60827, USA'\n",
      " '8900 South Muskegon Avenue, Chicago, IL 60617, USA'\n",
      " '9800 South Avenue G, Chicago, IL 60617, USA'\n",
      " 'South Cottage Grove Avenue, Chicago, IL, USA'\n",
      " 'South Avenue L, Chicago, IL 60617, USA'\n",
      " '5800 North Pulaski Road, Chicago, IL 60646, USA'\n",
      " '6600 South Kilpatrick Avenue, Chicago, IL 60629, USA'\n",
      " 'West 37th Place, Chicago, IL, USA'\n",
      " '4000 East 130th Street, Chicago, IL 60633, USA'\n",
      " '9100 West Higgins Road, Rosemont, IL 60018, USA'\n",
      " \"ORD Terminal 5, O'Hare International Airport, Chicago, IL 60666, USA\"\n",
      " 'Ohare Court, Bensenville, IL 60106, USA'\n",
      " '4800 West Montana Street, Chicago, IL 60639, USA'\n",
      " '5100 North Mont Clare Avenue, Chicago, IL 60656, USA'\n",
      " '8200 South Kostner Avenue, Chicago, IL 60652, USA'\n",
      " 'East 91st Place, Chicago, IL, USA'\n",
      " '1700 West Addison Street, Chicago, IL 60613, USA'\n",
      " 'West Garfield Boulevard, Chicago, IL, USA'\n",
      " 'South Wallace Street, Chicago, IL, USA'\n",
      " '1300 North Laramie Avenue, Chicago, IL 60651, USA'\n",
      " '3900 North Springfield Avenue, Chicago, IL 60618, USA'\n",
      " '1700 North Ashland Avenue, Chicago, IL 60622, USA'\n",
      " '5100 West 72nd Street, Chicago, IL 60638, USA'\n",
      " '5800 North Ridge Avenue, Chicago, IL 60660, USA'\n",
      " '4200 West 65th Street, Chicago, IL 60621, USA'\n",
      " '7100 North Harlem Avenue, Chicago, IL 60631, USA'\n",
      " '6200 North Mcclellan Avenue, Chicago, IL 60646, USA'\n",
      " '2900 West 85th Street, Chicago, IL 60652, USA'\n",
      " '3400 West 77th Street, Chicago, IL 60652, USA'\n",
      " '9600 South Longwood Drive, Chicago, IL 60643, USA'\n",
      " '2100 North Cannon Drive, Chicago, IL 60614, USA']\n",
      "['CULEX PIPIENS/RESTUANS' 'CULEX RESTUANS' 'CULEX PIPIENS'\n",
      " 'CULEX SALINARIUS' 'CULEX TERRITANS' 'CULEX TARSALIS' 'CULEX ERRATICUS']\n",
      "[41 62 79 15 25 11 21 22 17 53 65 75 89 91 36 72 38 49 58 50 14 10 42 40\n",
      " 43 28 18 70 35 93 37 45 46 60 61 27 68 30 96 64 12 20 33 52 67 73 39 47\n",
      " 55 71 77 63 13 81 24 80 82 98 66 48 51 90 29 34]\n",
      "[' N OAK PARK AVE' ' N MANDELL AVE' ' W FOSTER AVE' ' W WEBSTER AVE'\n",
      " ' W GRAND AVE' ' W ROOSEVELT' ' W CHICAGO' ' N STAVE ST' ' N CANNON DR'\n",
      " ' W 113TH ST' ' S PEORIA ST' ' W 95TH ST' ' W 89TH ST' ' N STREETER DR'\n",
      " ' N OAKLEY AVE' ' N LONG AVE' ' S CARPENTER ST' ' W HIGGINS AVE'\n",
      " ' N PITTSBURGH AVE' ' N OKETO AVE' ' N CALIFORNIA AVE' ' W BALMORAL AVE'\n",
      " ' N WESTERN AVE' ' S CENTRAL AVE' ' N HUMBOLDT DR' ' S VINCENNES'\n",
      " ' S ASHLAND AVE' ' S STATE ST' ' W 127TH PL' ' W AGATITE AVE'\n",
      " ' N AUSTIN AVE' ' N ASHLAND AVE OVERPASS' ' N RICHMOND ST'\n",
      " ' N FRANCISCO AVE' ' W GRANVILLE AVE' ' W FARWELL AVE'\n",
      " '  W ARMITAGE AVENUE' ' S MILLARD AVE' ' N LAWLER AVE' ' W 116TH ST'\n",
      " ' S DR MARTIN LUTHER KING JR DR' ' N KEDVALE AVE' ' N CAMPBELL AVE'\n",
      " ' N TRIPP AVE' ' N MILWAUKEE AVE' ' N AVONDALE AVE' ' N MOSELL AVE'\n",
      " ' N LEMONT AVE' ' S WESTERN AVE' ' W BELDEN AVE' ' S HAMLIN AVE'\n",
      " ' W 18TH ST' ' S CALIFORNIA' ' S THROOP' ' S CALIFORNIA AVE'\n",
      " ' S HOYNE AVE' ' W LELAND AVE' ' W FULLERTON AVE' ' W STRONG ST'\n",
      " ' W GREENLEAF AVE' ' N CENTRAL PARK DR' ' E 111TH ST' ' N RUTHERFORD AVE'\n",
      " ' S ARTESIAN AVE' ' W ROSCOE ST' ' W MONTROSE DR' ' E RANDOLPH ST'\n",
      " ' W 104TH ST' ' W SUNNYSIDE AVE' ' W 31ST ST' ' N PULASKI RD'\n",
      " ' W PERSHING RD' ' W 51ST ST' ' W 63RD ST' ' S KEDZIE AVE'\n",
      " ' S CICERO AVE' ' W 69TH ST' ' S NORDICA' ' S MELVINA AVE' ' E 67TH ST'\n",
      " ' S CORNELL AVE' ' S STONY ISLAND AVE' ' S SOUTH SHORE DR'\n",
      " ' S EBERHART AVE' ' S DEARBORN ST' ' S UNION AVE' ' S CHICAGO AVE'\n",
      " ' S KOLMAR' ' W 64TH ST' ' S PULASKI RD' ' S DOTY AVE' ' S TORRENCE AVE'\n",
      " ' S MACKINAW' ' S BRANDON' ' E 118TH ST' ' E 115TH ST' ' E 91ST ST'\n",
      " ' E 105TH ST' ' S RACINE AVE' ' E 138TH ST' ' S MUSKEGON AVE'\n",
      " ' S AVENUE G' ' S COTTAGE GROVE' ' S AVENUE L' ' S KILPATRICK AVE'\n",
      " ' W 37TH PL.' ' E 130TH ST' ' W HIGGINS RD' ' W OHARE AIRPORT' ' W OHARE'\n",
      " ' W MONTANA ST' ' N MONT CLARE AVE' ' S KOSTNER AVE' ' E 91ST PL'\n",
      " ' W ADDISON ST' ' W GARFIELD BLVD' ' S WALLACE ST' ' N LARAMIE AVE'\n",
      " ' N SPRINGFIELD AVE' ' N ASHLAND AVE' ' W 72ND ST' ' N RIDGE AVE'\n",
      " ' W 65TH ST' ' N HARLEM AVE' ' N MCCLELLAN AVE' ' W 85TH ST' ' W 77TH ST'\n",
      " ' S LONGWOOD DR']\n",
      "['T002' 'T007' 'T015' 'T045' 'T046' 'T048' 'T049' 'T050' 'T054' 'T086'\n",
      " 'T091' 'T094' 'T096' 'T129' 'T143' 'T148' 'T153' 'T159' 'T009' 'T011'\n",
      " 'T016' 'T019' 'T025' 'T028' 'T031' 'T033' 'T089' 'T090' 'T092' 'T135'\n",
      " 'T141' 'T142' 'T145' 'T146' 'T147' 'T149' 'T150' 'T151' 'T152' 'T154'\n",
      " 'T158' 'T162' 'T218' 'T220' 'T001' 'T003' 'T006' 'T008' 'T012' 'T034'\n",
      " 'T037' 'T040' 'T043' 'T047' 'T051' 'T085' 'T088' 'T161' 'T219' 'T013'\n",
      " 'T014' 'T018' 'T030' 'T084' 'T144' 'T160' 'T005' 'T017' 'T044' 'T095'\n",
      " 'T004' 'T035' 'T036' 'T039' 'T060' 'T061' 'T062' 'T065' 'T066' 'T067'\n",
      " 'T069' 'T070' 'T071' 'T073' 'T074' 'T075' 'T076' 'T077' 'T079' 'T080'\n",
      " 'T081' 'T082' 'T083' 'T114' 'T155' 'T063' 'T115' 'T138' 'T200' 'T206'\n",
      " 'T209' 'T212' 'T215' 'T107' 'T128' 'T072' 'T078' 'T097' 'T099' 'T100'\n",
      " 'T102' 'T103' 'T027' 'T156' 'T157' 'T221' 'T900' 'T903' 'T222' 'T223'\n",
      " 'T225' 'T227' 'T224' 'T226' 'T229' 'T230' 'T228' 'T232' 'T231' 'T235'\n",
      " 'T233' 'T236' 'T237' 'T238' 'T094B' 'T054C']\n",
      "['4100  N OAK PARK AVE, Chicago, IL' '6200  N MANDELL AVE, Chicago, IL'\n",
      " '7900  W FOSTER AVE, Chicago, IL' '1500  W WEBSTER AVE, Chicago, IL'\n",
      " '2500  W GRAND AVE, Chicago, IL' '1100  W ROOSEVELT, Chicago, IL'\n",
      " '1100  W CHICAGO, Chicago, IL' '2100  N STAVE ST, Chicago, IL'\n",
      " '2200  N CANNON DR, Chicago, IL' '2200  W 113TH ST, Chicago, IL'\n",
      " '1100  S PEORIA ST, Chicago, IL' '1700  W 95TH ST, Chicago, IL'\n",
      " '2200  W 89TH ST, Chicago, IL' '5300  N STREETER DR, Chicago, IL'\n",
      " '6500  N OAK PARK AVE, Chicago, IL' '7500  N OAKLEY AVE, Chicago, IL'\n",
      " '1500  N LONG AVE, Chicago, IL' '8900  S CARPENTER ST, Chicago, IL'\n",
      " '9100  W HIGGINS AVE, Chicago, IL' '3600  N PITTSBURGH AVE, Chicago, IL'\n",
      " '7200  N OKETO AVE, Chicago, IL' '3800  N CALIFORNIA AVE, Chicago, IL'\n",
      " '4900  W BALMORAL AVE, Chicago, IL' '5800  N WESTERN AVE, Chicago, IL'\n",
      " '5000  S CENTRAL AVE, Chicago, IL' '1400  N HUMBOLDT DR, Chicago, IL'\n",
      " '1000  S VINCENNES, Chicago, IL' '1100  S ASHLAND AVE, Chicago, IL'\n",
      " '1100  S STATE ST, Chicago, IL' '4200  W 127TH PL, Chicago, IL'\n",
      " '5300  W AGATITE AVE, Chicago, IL' '4000  N AUSTIN AVE, Chicago, IL'\n",
      " '4300  N ASHLAND AVE OVERPASS, Chicago, IL'\n",
      " '4200  N RICHMOND ST, Chicago, IL' '2800  N FRANCISCO AVE, Chicago, IL'\n",
      " '1500  W GRANVILLE AVE, Chicago, IL' '1800  W FARWELL AVE, Chicago, IL'\n",
      " '7000   W ARMITAGE AVENUE, Chicago, IL'\n",
      " '2500  S MILLARD AVE, Chicago, IL' '2100  N LAWLER AVE, Chicago, IL'\n",
      " '3500  W 116TH ST, Chicago, IL'\n",
      " '9300  S DR MARTIN LUTHER KING JR DR, Chicago, IL'\n",
      " '3700  N KEDVALE AVE, Chicago, IL' '4500  N CAMPBELL AVE, Chicago, IL'\n",
      " '4000  N TRIPP AVE, Chicago, IL' '4600  N MILWAUKEE AVE, Chicago, IL'\n",
      " '6000  N AVONDALE AVE, Chicago, IL' '7000  N MOSELL AVE, Chicago, IL'\n",
      " '6100  N LEMONT AVE, Chicago, IL' '2700  S WESTERN AVE, Chicago, IL'\n",
      " '6800  W BELDEN AVE, Chicago, IL' '2100  S HAMLIN AVE, Chicago, IL'\n",
      " '3000  W 18TH ST, Chicago, IL' '1100  S CALIFORNIA, Chicago, IL'\n",
      " '2500  S THROOP, Chicago, IL' '1000  W 95TH ST, Chicago, IL'\n",
      " '1000  S CALIFORNIA AVE, Chicago, IL' '9600  S HOYNE AVE, Chicago, IL'\n",
      " '1800  W LELAND AVE, Chicago, IL' '6100  W FULLERTON AVE, Chicago, IL'\n",
      " '6400  W STRONG ST, Chicago, IL' '1200  W GREENLEAF AVE, Chicago, IL'\n",
      " '1000  N CENTRAL PARK DR, Chicago, IL' '2000  E 111TH ST, Chicago, IL'\n",
      " '3300  N RUTHERFORD AVE, Chicago, IL' '1100  S ARTESIAN AVE, Chicago, IL'\n",
      " '6000  W ROSCOE ST, Chicago, IL' '6000  W MONTROSE DR, Chicago, IL'\n",
      " '3300  E RANDOLPH ST, Chicago, IL' '3300  W 104TH ST, Chicago, IL'\n",
      " '4900  W SUNNYSIDE AVE, Chicago, IL' '3000  S HOYNE AVE, Chicago, IL'\n",
      " '4200  W 31ST ST, Chicago, IL' '1700  N PULASKI RD, Chicago, IL'\n",
      " '2200  W PERSHING RD, Chicago, IL' '2200  W 51ST ST, Chicago, IL'\n",
      " '3500  W 51ST ST, Chicago, IL' '5200  W 63RD ST, Chicago, IL'\n",
      " '6700  S KEDZIE AVE, Chicago, IL' '7300  S CICERO AVE, Chicago, IL'\n",
      " '2200  W 69TH ST, Chicago, IL' '5200  S NORDICA, Chicago, IL'\n",
      " '6100  S MELVINA AVE, Chicago, IL' '1000  E 67TH ST, Chicago, IL'\n",
      " '3900  S ASHLAND AVE, Chicago, IL' '4700  S CORNELL AVE, Chicago, IL'\n",
      " '5500  S DR MARTIN LUTHER KING JR DR, Chicago, IL'\n",
      " '6400  S STONY ISLAND AVE, Chicago, IL'\n",
      " '7100  S SOUTH SHORE DR, Chicago, IL' '7700  S EBERHART AVE, Chicago, IL'\n",
      " '4000  S DEARBORN ST, Chicago, IL' '5000  S UNION AVE, Chicago, IL'\n",
      " '7900  S CHICAGO AVE, Chicago, IL' '5200  S KOLMAR, Chicago, IL'\n",
      " '6300  W 64TH ST, Chicago, IL' '3700  S PULASKI RD, Chicago, IL'\n",
      " '1200  S DOTY AVE, Chicago, IL' '1000  S STONY ISLAND AVE, Chicago, IL'\n",
      " '1300  S TORRENCE AVE, Chicago, IL' '1300  S MACKINAW, Chicago, IL'\n",
      " '1300  S BRANDON, Chicago, IL' '3700  E 118TH ST, Chicago, IL'\n",
      " '3800  E 115TH ST, Chicago, IL' '8100  E 91ST ST, Chicago, IL'\n",
      " '2400  E 105TH ST, Chicago, IL' '8000  S KEDZIE AVE, Chicago, IL'\n",
      " '6500  S RACINE AVE, Chicago, IL' '8200  E 138TH ST, Chicago, IL'\n",
      " '8900  S MUSKEGON AVE, Chicago, IL' '9800  S AVENUE G, Chicago, IL'\n",
      " '1000  S COTTAGE GROVE, Chicago, IL' '1100  S AVENUE L, Chicago, IL'\n",
      " '5800  N PULASKI RD, Chicago, IL' '6600  S KILPATRICK AVE, Chicago, IL'\n",
      " '8100  W 37TH PL., Chicago, IL' '4000  E 130TH ST, Chicago, IL'\n",
      " '9100  W HIGGINS RD, Chicago, IL' '1000  W OHARE AIRPORT, Chicago, IL'\n",
      " '1000  W OHARE, Chicago, IL' '4800  W MONTANA ST, Chicago, IL'\n",
      " '5100  N MONT CLARE AVE, Chicago, IL' '8200  S KOSTNER AVE, Chicago, IL'\n",
      " '6500  E 91ST PL, Chicago, IL' '1700  W ADDISON ST, Chicago, IL'\n",
      " '9000  W GARFIELD BLVD, Chicago, IL' '1100  S WALLACE ST, Chicago, IL'\n",
      " '1300  N LARAMIE AVE, Chicago, IL' '3900  N SPRINGFIELD AVE, Chicago, IL'\n",
      " '1700  N ASHLAND AVE, Chicago, IL' '5100  W 72ND ST, Chicago, IL'\n",
      " '5800  N RIDGE AVE, Chicago, IL' '4200  W 65TH ST, Chicago, IL'\n",
      " '7100  N HARLEM AVE, Chicago, IL' '6200  N MCCLELLAN AVE, Chicago, IL'\n",
      " '2900  W 85TH ST, Chicago, IL' '3400  W 77TH ST, Chicago, IL'\n",
      " '9600  S LONGWOOD DR, Chicago, IL' '2100  N CANNON DR, Chicago, IL']\n",
      "[41.95469  41.994991 41.974089 41.9216   41.891118 41.867108 41.896282\n",
      " 41.919343 41.921965 41.688324 41.862292 41.720848 41.731922 41.891126\n",
      " 41.999129 42.01743  41.907645 41.732984 41.981964 41.944869 42.011601\n",
      " 41.94983  41.979243 41.986921 41.801498 41.906638 41.723195 41.868077\n",
      " 41.869216 41.662014 41.961743 41.953067 41.878114 41.958271 41.932094\n",
      " 41.994469 42.006858 41.916265 41.846075 41.918705 41.682587 41.725517\n",
      " 41.948167 41.963976 41.953705 41.964242 41.990284 42.008314 41.991429\n",
      " 41.843811 41.921177 41.852652 41.857402 41.868142 41.846283 41.721474\n",
      " 41.869107 41.719059 41.966987 41.923738 41.970248 42.010412 41.89923\n",
      " 41.692555 41.94016  41.903002 41.942114 41.960616 41.883284 41.704336\n",
      " 41.962728 41.836644 41.837085 41.911824 41.823065 41.801179 41.800737\n",
      " 41.778297 41.77166  41.759346 41.768388 41.797616 41.781416 41.773215\n",
      " 41.822536 41.799282 41.794781 41.778748 41.766202 41.754676 41.821582\n",
      " 41.803423 41.754292 41.798697 41.776156 41.82561  41.673408 41.726465\n",
      " 41.678618 41.737052 41.740641 41.680946 41.686398 41.729669 41.704572\n",
      " 41.74785  41.775051 41.644612 41.733643 41.717753 41.750498 41.702724\n",
      " 41.984809 41.772846 41.825902 41.659112 41.992478 41.974689 41.957799\n",
      " 41.925198 41.973845 41.743402 41.728495 41.947227 41.793818 41.753411\n",
      " 41.904194 41.951866 41.912563 41.763733 41.98728  41.776428 42.009876\n",
      " 41.994679 41.738903 41.753391 41.71914  41.925652]\n",
      "[-87.800991 -87.769279 -87.824812 -87.666455 -87.654491 -87.654224\n",
      " -87.655232 -87.694259 -87.632085 -87.676709 -87.64886  -87.666014\n",
      " -87.677512 -87.61156  -87.795585 -87.687769 -87.760886 -87.649642\n",
      " -87.812827 -87.832763 -87.811506 -87.698457 -87.750938 -87.689778\n",
      " -87.763416 -87.701431 -87.64997  -87.666901 -87.627561 -87.724608\n",
      " -87.76007  -87.776792 -87.629798 -87.702575 -87.700117 -87.667736\n",
      " -87.675919 -87.800515 -87.716277 -87.752329 -87.707973 -87.614258\n",
      " -87.730698 -87.69181  -87.733974 -87.757639 -87.797127 -87.777921\n",
      " -87.747113 -87.686763 -87.79518  -87.719887 -87.694991 -87.696269\n",
      " -87.656913 -87.648064 -87.696293 -87.675088 -87.674677 -87.785288\n",
      " -87.787992 -87.66214  -87.716788 -87.598865 -87.794896 -87.688267\n",
      " -87.776385 -87.777189 -87.705085 -87.703736 -87.748367 -87.677737\n",
      " -87.729384 -87.726737 -87.678378 -87.679447 -87.71188  -87.752411\n",
      " -87.703047 -87.745602 -87.678649 -87.797894 -87.776532 -87.60088\n",
      " -87.666343 -87.585487 -87.615989 -87.586427 -87.562889 -87.612922\n",
      " -87.627796 -87.642984 -87.590773 -87.736812 -87.778927 -87.726549\n",
      " -87.599862 -87.585413 -87.559308 -87.543067 -87.546587 -87.535198\n",
      " -87.531635 -87.582699 -87.565666 -87.702716 -87.655356 -87.604498\n",
      " -87.55551  -87.531657 -87.605294 -87.536497 -87.728492 -87.740029\n",
      " -87.667827 -87.538693 -87.862995 -87.890615 -87.930995 -87.746381\n",
      " -87.805059 -87.731435 -87.600963 -87.671457 -87.654234 -87.639817\n",
      " -87.756155 -87.725057 -87.668055 -87.742302 -87.666066 -87.627096\n",
      " -87.807277 -87.770899 -87.695443 -87.707394 -87.669539 -87.63359 ]\n",
      "[9 8 5 3]\n",
      "[ 1  4  2  3  5  9  7 10  8  6 19 20 25 16 11 12 28 18 50 35 14 22 21 37\n",
      " 27 13 39 29 15 17 34 26 32 47 44 23 46 48 42 33 45 24 41 38 40 36 43 49\n",
      " 30 31]\n",
      "[0 1]\n"
     ]
    }
   ],
   "source": [
    "# View unique values for each column in train_df\n",
    "for col in train_df:\n",
    "    print(train_df[col].unique())"
   ]
  },
  {
   "cell_type": "code",
   "execution_count": 9,
   "metadata": {
    "cell_id": "72dfd41d901a4cf4818976834a12f403",
    "deepnote_cell_type": "code",
    "deepnote_to_be_reexecuted": false,
    "execution_millis": 78,
    "execution_start": 1670652600659,
    "source_hash": "d9bc05a",
    "tags": []
   },
   "outputs": [
    {
     "name": "stdout",
     "output_type": "stream",
     "text": [
      "[     1      2      3 ... 116291 116292 116293]\n",
      "['2008-06-11' '2008-06-17' '2008-06-24' '2008-07-01' '2008-07-04'\n",
      " '2008-07-11' '2008-07-14' '2008-07-21' '2008-07-23' '2008-07-24'\n",
      " '2008-07-28' '2008-07-29' '2008-08-04' '2008-08-05' '2008-08-12'\n",
      " '2008-08-13' '2008-08-19' '2008-08-25' '2008-08-26' '2008-09-02'\n",
      " '2008-09-03' '2008-09-09' '2008-09-15' '2008-09-19' '2008-09-29'\n",
      " '2010-06-02' '2010-06-11' '2010-06-18' '2010-06-25' '2010-06-28'\n",
      " '2010-07-01' '2010-07-02' '2010-07-12' '2010-07-13' '2010-07-16'\n",
      " '2010-07-19' '2010-07-23' '2010-07-26' '2010-07-29' '2010-07-30'\n",
      " '2010-08-05' '2010-08-06' '2010-08-13' '2010-08-19' '2010-08-20'\n",
      " '2010-08-26' '2010-08-27' '2010-09-02' '2010-09-10' '2010-09-13'\n",
      " '2010-09-16' '2010-09-17' '2010-09-23' '2010-09-24' '2010-10-01'\n",
      " '2012-06-08' '2012-06-15' '2012-06-21' '2012-06-29' '2012-07-09'\n",
      " '2012-07-13' '2012-07-19' '2012-07-20' '2012-07-27' '2012-08-03'\n",
      " '2012-08-09' '2012-08-10' '2012-08-16' '2012-08-17' '2012-08-23'\n",
      " '2012-08-24' '2012-08-30' '2012-08-31' '2012-09-10' '2012-09-13'\n",
      " '2012-09-20' '2012-09-28' '2014-06-05' '2014-06-12' '2014-06-19'\n",
      " '2014-06-26' '2014-07-03' '2014-07-10' '2014-07-17' '2014-07-24'\n",
      " '2014-07-31' '2014-08-07' '2014-08-14' '2014-08-21' '2014-08-28'\n",
      " '2014-09-05' '2014-09-11' '2014-09-18' '2014-09-25' '2014-10-02']\n",
      "['4100 North Oak Park Avenue, Chicago, IL 60634, USA'\n",
      " '6200 North Mandell Avenue, Chicago, IL 60646, USA'\n",
      " '7900 West Foster Avenue, Chicago, IL 60656, USA'\n",
      " '1500 West Webster Avenue, Chicago, IL 60614, USA'\n",
      " '2500 West Grand Avenue, Chicago, IL 60654, USA'\n",
      " '1100 Roosevelt Road, Chicago, IL 60608, USA'\n",
      " '1100 West Chicago Avenue, Chicago, IL 60642, USA'\n",
      " '2100 North Stave Street, Chicago, IL 60647, USA'\n",
      " '2200 North Cannon Drive, Chicago, IL 60614, USA'\n",
      " '2200 West 113th Street, Chicago, IL 60643, USA'\n",
      " '1100 South Peoria Street, Chicago, IL 60608, USA'\n",
      " '1700 West 95th Street, Chicago, IL 60643, USA'\n",
      " '2200 West 89th Street, Chicago, IL 60643, USA'\n",
      " 'North Streeter Drive, Chicago, IL 60611, USA'\n",
      " '6500 North Oak Park Avenue, Chicago, IL 60631, USA'\n",
      " '7500 North Oakley Avenue, Chicago, IL 60645, USA'\n",
      " '1500 North Long Avenue, Chicago, IL 60651, USA'\n",
      " '8900 South Carpenter Street, Chicago, IL 60620, USA'\n",
      " '9100 West Higgins Avenue, Chicago, IL 60656, USA'\n",
      " '3600 North Pittsburgh Avenue, Chicago, IL 60634, USA'\n",
      " '7200 North Oketo Avenue, Chicago, IL 60631, USA'\n",
      " '3800 North California Avenue, Chicago, IL 60618, USA'\n",
      " '4900 West Balmoral Avenue, Chicago, IL 60630, USA'\n",
      " '5800 North Western Avenue, Chicago, IL 60659, USA'\n",
      " '5000 South Central Avenue, Chicago, IL 60638, USA'\n",
      " '1400 North Sacramento Avenue, Chicago, IL 60622, USA'\n",
      " 'South Vincennes Avenue, Chicago, IL, USA'\n",
      " 'University of Illinois at Chicago, 1100 South Ashland Avenue, Chicago, IL 60607, USA'\n",
      " '1100 South State Street, Chicago, IL 60605, USA'\n",
      " '4200 West 127th Street, Alsip, IL 60803, USA'\n",
      " '5300 West Agatite Avenue, Chicago, IL 60630, USA'\n",
      " '4000 North Austin Avenue, Chicago, IL 60634, USA' 'Chicago, IL, USA'\n",
      " '4200 North Richmond Street, Chicago, IL 60618, USA'\n",
      " '2800 North Francisco Avenue, Chicago, IL 60618, USA'\n",
      " '1500 West Granville Avenue, Chicago, IL 60660, USA'\n",
      " '1800 West Farwell Avenue, Chicago, IL 60626, USA'\n",
      " '7000 West Armitage Avenue, Chicago, IL 60707, USA'\n",
      " '2500 South Millard Avenue, Chicago, IL 60623, USA'\n",
      " '2100 North Lawler Avenue, Chicago, IL 60639, USA'\n",
      " '3500 West 116th Street, Chicago, IL 60655, USA'\n",
      " '9300 South Doctor Martin Luther King Junior Drive, Chicago, IL 60619, USA'\n",
      " '3700 North Kedvale Avenue, Chicago, IL 60641, USA'\n",
      " '4500 North Campbell Avenue, Chicago, IL 60625, USA'\n",
      " '4000 North Tripp Avenue, Chicago, IL 60641, USA'\n",
      " '4600 Milwaukee Avenue, Chicago, IL 60630, USA'\n",
      " '6000 North Avondale Avenue, Chicago, IL 60631, USA'\n",
      " '7000 North Moselle Avenue, Chicago, IL 60646, USA'\n",
      " '6100 North Lemont Avenue, Chicago, IL 60646, USA'\n",
      " '2700 South Western Avenue, Chicago, IL 60608, USA'\n",
      " '6800 West Belden Avenue, Chicago, IL 60707, USA'\n",
      " '2100 South Hamlin Avenue, Chicago, IL 60623, USA'\n",
      " '3000 West 18th Street, Chicago, IL 60608, USA'\n",
      " '1100 South California Avenue, Chicago, IL 60612, USA'\n",
      " '2500 South Throop Street, Chicago, IL 60608, USA'\n",
      " '1000 West 95th Street, Chicago, IL 60643, USA'\n",
      " '1000 South California Avenue, Chicago, IL 60612, USA'\n",
      " '9600 South Hoyne Avenue, Chicago, IL 60643, USA'\n",
      " '1800 West Leland Avenue, Chicago, IL 60640, USA'\n",
      " '6100 West Fullerton Avenue, Chicago, IL 60639, USA'\n",
      " '6400 West Strong Street, Chicago, IL, USA'\n",
      " '1200 West Greenleaf Avenue, Chicago, IL 60626, USA'\n",
      " '1000 North Central Park Avenue, Chicago, IL 60651, USA'\n",
      " '2000 East 111th Street, Chicago, IL 60628, USA'\n",
      " '3300 North Rutherford Avenue, Chicago, IL 60634, USA'\n",
      " '1100 North Artesian Avenue, Chicago, IL 60622, USA'\n",
      " '6000 West Roscoe Street, Chicago, IL 60634, USA'\n",
      " '6000 West Montrose Avenue, Chicago, IL 60634, USA'\n",
      " '3300 West Randolph Street, Chicago, IL 60612, USA'\n",
      " '3300 West 104th Street, Chicago, IL 60655, USA'\n",
      " '4900 West Sunnyside Avenue, Chicago, IL 60630, USA'\n",
      " '3000 South Hoyne Avenue, Chicago, IL 60608, USA'\n",
      " '4200 West 31st Street, Chicago, IL 60623, USA'\n",
      " '1700 North Pulaski Road, Chicago, IL 60639, USA'\n",
      " '2200 West Pershing Road, Chicago, IL 60609, USA'\n",
      " '2200 West 51st Street, Chicago, IL 60609, USA'\n",
      " '3500 West 51st Street, Chicago, IL 60632, USA'\n",
      " 'Chicago Midway International Airport (MDW), 5200 West 63rd Street, Chicago, IL 60638, USA'\n",
      " '6700 South Kedzie Avenue, Chicago, IL 60629, USA'\n",
      " '7300 Cicero Avenue, Chicago, IL 60638, USA'\n",
      " '2200 West 69th Street, Chicago, IL 60636, USA'\n",
      " '5200 South Nordica Avenue, Chicago, IL 60638, USA'\n",
      " '6100 South Melvina Avenue, Chicago, IL 60638, USA'\n",
      " '1000 East 67th Street, Chicago, IL 60637, USA'\n",
      " '3900 South Ashland Avenue, Chicago, IL 60609, USA'\n",
      " '4700 South Cornell Avenue, Chicago, IL 60615, USA'\n",
      " '5500 South Doctor Martin Luther King Junior Drive, Chicago, IL 60637, USA'\n",
      " '6400 South Stony Island Avenue, Chicago, IL 60637, USA'\n",
      " '7100 South South Shore Drive, Chicago, IL 60649, USA'\n",
      " '7700 South Eberhart Avenue, Chicago, IL 60619, USA'\n",
      " '4000 South Dearborn Street, Chicago, IL 60609, USA'\n",
      " '5000 South Union Avenue, Chicago, IL 60609, USA'\n",
      " '7900 South South Chicago Avenue, Chicago, IL 60617, USA'\n",
      " '5200 South Kolmar Avenue, Chicago, IL 60632, USA'\n",
      " '6300 West 64th Street, Chicago, IL 60638, USA'\n",
      " '3700 South Pulaski Road, Chicago, IL 60623, USA'\n",
      " 'South Doty Avenue, Chicago, IL, USA'\n",
      " 'South Stony Island Avenue, Chicago, IL, USA'\n",
      " 'South Torrence Avenue, Chicago, IL, USA'\n",
      " 'South Mackinaw Avenue, Chicago, IL 60617, USA'\n",
      " 'South Brandon Avenue, Chicago, IL 60617, USA'\n",
      " '3700 118th Street, Chicago, IL 60617, USA'\n",
      " '3800 East 115th Street, Chicago, IL 60617, USA'\n",
      " 'East 91st Street, Chicago, IL, USA'\n",
      " '2400 East 105th Street, Chicago, IL 60617, USA'\n",
      " '8000 South Kedzie Avenue, Chicago, IL 60652, USA'\n",
      " '6500 South Racine Avenue, Chicago, IL 60636, USA'\n",
      " 'East 138th Street, Riverdale, IL 60827, USA'\n",
      " '8900 South Muskegon Avenue, Chicago, IL 60617, USA'\n",
      " '9800 South Avenue G, Chicago, IL 60617, USA'\n",
      " 'South Cottage Grove Avenue, Chicago, IL, USA'\n",
      " 'South Avenue L, Chicago, IL 60617, USA'\n",
      " '5800 North Pulaski Road, Chicago, IL 60646, USA'\n",
      " '6600 South Kilpatrick Avenue, Chicago, IL 60629, USA'\n",
      " 'West 37th Place, Chicago, IL, USA'\n",
      " '4000 East 130th Street, Chicago, IL 60633, USA'\n",
      " '9100 West Higgins Road, Rosemont, IL 60018, USA'\n",
      " \"ORD Terminal 5, O'Hare International Airport, Chicago, IL 60666, USA\"\n",
      " 'Ohare Court, Bensenville, IL 60106, USA'\n",
      " '1400 West 112th Street, Chicago, IL 60643, USA'\n",
      " '1100 South Loomis Street, Chicago, IL 60607, USA'\n",
      " '1200 West 120th Street, Chicago, IL 60643, USA'\n",
      " 'South Baltimore Avenue, Chicago, IL 60617, USA'\n",
      " 'South Oglesby Avenue, Chicago, IL, USA'\n",
      " '2600 East 136th Street, Chicago, IL 60633, USA'\n",
      " '4000 North Kedvale Avenue, Chicago, IL 60641, USA'\n",
      " '2900 North Kenneth Avenue, Chicago, IL 60641, USA'\n",
      " '3700 North Kilbourn Avenue, Chicago, IL 60641, USA'\n",
      " '4800 West Montana Street, Chicago, IL 60639, USA'\n",
      " '5100 North Mont Clare Avenue, Chicago, IL 60656, USA'\n",
      " '8200 South Kostner Avenue, Chicago, IL 60652, USA'\n",
      " 'East 91st Place, Chicago, IL, USA'\n",
      " '1700 West Addison Street, Chicago, IL 60613, USA'\n",
      " 'West Garfield Boulevard, Chicago, IL, USA'\n",
      " 'South Wallace Street, Chicago, IL, USA'\n",
      " '1300 North Laramie Avenue, Chicago, IL 60651, USA'\n",
      " '3900 North Springfield Avenue, Chicago, IL 60618, USA'\n",
      " '5100 West 72nd Street, Chicago, IL 60638, USA'\n",
      " '5800 North Ridge Avenue, Chicago, IL 60660, USA'\n",
      " '1700 North Ashland Avenue, Chicago, IL 60622, USA'\n",
      " '4600 North Melvina Avenue, Chicago, IL 60630, USA'\n",
      " '6500 West Dakin Street, Chicago, IL 60634, USA'\n",
      " '7100 North Harlem Avenue, Chicago, IL 60631, USA'\n",
      " '3400 North Long Avenue, Chicago, IL 60641, USA'\n",
      " '4200 West 65th Street, Chicago, IL 60621, USA'\n",
      " '6200 North Mcclellan Avenue, Chicago, IL 60646, USA'\n",
      " '2900 West 85th Street, Chicago, IL 60652, USA'\n",
      " '3400 West 77th Street, Chicago, IL 60652, USA'\n",
      " '5100 West 63rd Place, Chicago, IL 60638, USA'\n",
      " '9600 South Longwood Drive, Chicago, IL 60643, USA'\n",
      " '2100 North Cannon Drive, Chicago, IL 60614, USA']\n",
      "['CULEX PIPIENS/RESTUANS' 'CULEX RESTUANS' 'CULEX PIPIENS'\n",
      " 'CULEX SALINARIUS' 'CULEX TERRITANS' 'CULEX TARSALIS' 'UNSPECIFIED CULEX'\n",
      " 'CULEX ERRATICUS']\n",
      "[41 62 79 15 25 11 21 22 17 53 65 75 89 91 36 72 38 49 58 50 14 10 42 40\n",
      " 43 28 18 70 35 93 37 45 46 60 61 27 68 30 96 64 12 20 33 52 67 73 39 47\n",
      " 55 71 77 63 13 81 24 80 82 98 66 26 29 48 51 90 34]\n",
      "[' N OAK PARK AVE' ' N MANDELL AVE' ' W FOSTER AVE' ' W WEBSTER AVE'\n",
      " ' W GRAND AVE' ' W ROOSEVELT' ' W CHICAGO' ' N STAVE ST' ' N CANNON DR'\n",
      " ' W 113TH ST' ' S PEORIA ST' ' W 95TH ST' ' W 89TH ST' ' N STREETER DR'\n",
      " ' N OAKLEY AVE' ' N LONG AVE' ' S CARPENTER ST' ' W HIGGINS AVE'\n",
      " ' N PITTSBURGH AVE' ' N OKETO AVE' ' N CALIFORNIA AVE' ' W BALMORAL AVE'\n",
      " ' N WESTERN AVE' ' S CENTRAL AVE' ' N HUMBOLDT DR' ' S VINCENNES'\n",
      " ' S ASHLAND AVE' ' S STATE ST' ' W 127TH PL' ' W AGATITE AVE'\n",
      " ' N AUSTIN AVE' ' N ASHLAND AVE OVERPASS' ' N RICHMOND ST'\n",
      " ' N FRANCISCO AVE' ' W GRANVILLE AVE' ' W FARWELL AVE'\n",
      " '  W ARMITAGE AVENUE' ' S MILLARD AVE' ' N LAWLER AVE' ' W 116TH ST'\n",
      " ' S DR MARTIN LUTHER KING JR DR' ' N KEDVALE AVE' ' N CAMPBELL AVE'\n",
      " ' N TRIPP AVE' ' N MILWAUKEE AVE' ' N AVONDALE AVE' ' N MOSELL AVE'\n",
      " ' N LEMONT AVE' ' S WESTERN AVE' ' W BELDEN AVE' ' S HAMLIN AVE'\n",
      " ' W 18TH ST' ' S CALIFORNIA' ' S THROOP' ' S CALIFORNIA AVE'\n",
      " ' S HOYNE AVE' ' W LELAND AVE' ' W FULLERTON AVE' ' W STRONG ST'\n",
      " ' W GREENLEAF AVE' ' N CENTRAL PARK DR' ' E 111TH ST' ' N RUTHERFORD AVE'\n",
      " ' S ARTESIAN AVE' ' W ROSCOE ST' ' W MONTROSE DR' ' E RANDOLPH ST'\n",
      " ' W 104TH ST' ' W SUNNYSIDE AVE' ' W 31ST ST' ' N PULASKI RD'\n",
      " ' W PERSHING RD' ' W 51ST ST' ' W 63RD ST' ' S KEDZIE AVE'\n",
      " ' S CICERO AVE' ' W 69TH ST' ' S NORDICA' ' S MELVINA AVE' ' E 67TH ST'\n",
      " ' S CORNELL AVE' ' S STONY ISLAND AVE' ' S SOUTH SHORE DR'\n",
      " ' S EBERHART AVE' ' S DEARBORN ST' ' S UNION AVE' ' S CHICAGO AVE'\n",
      " ' S KOLMAR' ' W 64TH ST' ' S PULASKI RD' ' S DOTY AVE' ' S TORRENCE AVE'\n",
      " ' S MACKINAW' ' S BRANDON' ' E 118TH ST' ' E 115TH ST' ' E 91ST ST'\n",
      " ' E 105TH ST' ' S RACINE AVE' ' E 138TH ST' ' S MUSKEGON AVE'\n",
      " ' S AVENUE G' ' S COTTAGE GROVE' ' S AVENUE L' ' S KILPATRICK AVE'\n",
      " ' W 37TH PL.' ' E 130TH ST' ' W HIGGINS RD' ' W OHARE AIRPORT' ' W OHARE'\n",
      " ' W 112TH ST' ' S LOOMIS ST' ' W 120TH ST' ' S BALTIMORE AVE'\n",
      " ' S OGLESBY AVE' ' E 136TH ST' ' N KENNETH AVE' ' N KILBOURN AVE'\n",
      " ' W MONTANA ST' ' N MONT CLARE AVE' ' S KOSTNER AVE' ' E 91ST PL'\n",
      " ' W ADDISON ST' ' W GARFIELD BLVD' ' S WALLACE ST' ' N LARAMIE AVE'\n",
      " ' N SPRINGFIELD AVE' ' W 72ND ST' ' N RIDGE AVE' ' N ASHLAND AVE'\n",
      " ' N MELVINA AVE' ' W DAKIN ST' ' N HARLEM AVE' ' W 65TH ST'\n",
      " ' N MCCLELLAN AVE' ' W 85TH ST' ' W 77TH ST' ' W 63RD PL'\n",
      " ' S LONGWOOD DR']\n",
      "['T002' 'T007' 'T015' 'T045' 'T046' 'T048' 'T049' 'T050' 'T054' 'T086'\n",
      " 'T091' 'T094' 'T096' 'T129' 'T143' 'T148' 'T153' 'T159' 'T009' 'T011'\n",
      " 'T016' 'T019' 'T025' 'T028' 'T031' 'T033' 'T089' 'T090' 'T092' 'T135'\n",
      " 'T141' 'T142' 'T145' 'T146' 'T147' 'T149' 'T150' 'T151' 'T152' 'T154'\n",
      " 'T158' 'T162' 'T218' 'T220' 'T001' 'T003' 'T006' 'T008' 'T012' 'T034'\n",
      " 'T037' 'T040' 'T043' 'T047' 'T051' 'T085' 'T088' 'T161' 'T219' 'T013'\n",
      " 'T014' 'T018' 'T030' 'T084' 'T144' 'T160' 'T005' 'T017' 'T044' 'T095'\n",
      " 'T004' 'T035' 'T036' 'T039' 'T060' 'T061' 'T062' 'T065' 'T066' 'T067'\n",
      " 'T069' 'T070' 'T071' 'T073' 'T074' 'T075' 'T076' 'T077' 'T079' 'T080'\n",
      " 'T081' 'T082' 'T083' 'T114' 'T155' 'T063' 'T115' 'T138' 'T200' 'T206'\n",
      " 'T209' 'T212' 'T215' 'T107' 'T128' 'T072' 'T078' 'T097' 'T099' 'T100'\n",
      " 'T102' 'T103' 'T027' 'T156' 'T157' 'T221' 'T900' 'T903' 'T090A' 'T090B'\n",
      " 'T090C' 'T200A' 'T128A' 'T200B' 'T218A' 'T218C' 'T218B' 'T222' 'T223'\n",
      " 'T225' 'T227' 'T224' 'T226' 'T229' 'T230' 'T228' 'T231' 'T232' 'T002A'\n",
      " 'T002B' 'T233' 'T234' 'T235' 'T236' 'T237' 'T238' 'T065A' 'T094B' 'T054C']\n",
      "['4100  N OAK PARK AVE, Chicago, IL' '6200  N MANDELL AVE, Chicago, IL'\n",
      " '7900  W FOSTER AVE, Chicago, IL' '1500  W WEBSTER AVE, Chicago, IL'\n",
      " '2500  W GRAND AVE, Chicago, IL' '1100  W ROOSEVELT, Chicago, IL'\n",
      " '1100  W CHICAGO, Chicago, IL' '2100  N STAVE ST, Chicago, IL'\n",
      " '2200  N CANNON DR, Chicago, IL' '2200  W 113TH ST, Chicago, IL'\n",
      " '1100  S PEORIA ST, Chicago, IL' '1700  W 95TH ST, Chicago, IL'\n",
      " '2200  W 89TH ST, Chicago, IL' '5300  N STREETER DR, Chicago, IL'\n",
      " '6500  N OAK PARK AVE, Chicago, IL' '7500  N OAKLEY AVE, Chicago, IL'\n",
      " '1500  N LONG AVE, Chicago, IL' '8900  S CARPENTER ST, Chicago, IL'\n",
      " '9100  W HIGGINS AVE, Chicago, IL' '3600  N PITTSBURGH AVE, Chicago, IL'\n",
      " '7200  N OKETO AVE, Chicago, IL' '3800  N CALIFORNIA AVE, Chicago, IL'\n",
      " '4900  W BALMORAL AVE, Chicago, IL' '5800  N WESTERN AVE, Chicago, IL'\n",
      " '5000  S CENTRAL AVE, Chicago, IL' '1400  N HUMBOLDT DR, Chicago, IL'\n",
      " '1000  S VINCENNES, Chicago, IL' '1100  S ASHLAND AVE, Chicago, IL'\n",
      " '1100  S STATE ST, Chicago, IL' '4200  W 127TH PL, Chicago, IL'\n",
      " '5300  W AGATITE AVE, Chicago, IL' '4000  N AUSTIN AVE, Chicago, IL'\n",
      " '4300  N ASHLAND AVE OVERPASS, Chicago, IL'\n",
      " '4200  N RICHMOND ST, Chicago, IL' '2800  N FRANCISCO AVE, Chicago, IL'\n",
      " '1500  W GRANVILLE AVE, Chicago, IL' '1800  W FARWELL AVE, Chicago, IL'\n",
      " '7000   W ARMITAGE AVENUE, Chicago, IL'\n",
      " '2500  S MILLARD AVE, Chicago, IL' '2100  N LAWLER AVE, Chicago, IL'\n",
      " '3500  W 116TH ST, Chicago, IL'\n",
      " '9300  S DR MARTIN LUTHER KING JR DR, Chicago, IL'\n",
      " '3700  N KEDVALE AVE, Chicago, IL' '4500  N CAMPBELL AVE, Chicago, IL'\n",
      " '4000  N TRIPP AVE, Chicago, IL' '4600  N MILWAUKEE AVE, Chicago, IL'\n",
      " '6000  N AVONDALE AVE, Chicago, IL' '7000  N MOSELL AVE, Chicago, IL'\n",
      " '6100  N LEMONT AVE, Chicago, IL' '2700  S WESTERN AVE, Chicago, IL'\n",
      " '6800  W BELDEN AVE, Chicago, IL' '2100  S HAMLIN AVE, Chicago, IL'\n",
      " '3000  W 18TH ST, Chicago, IL' '1100  S CALIFORNIA, Chicago, IL'\n",
      " '2500  S THROOP, Chicago, IL' '1000  W 95TH ST, Chicago, IL'\n",
      " '1000  S CALIFORNIA AVE, Chicago, IL' '9600  S HOYNE AVE, Chicago, IL'\n",
      " '1800  W LELAND AVE, Chicago, IL' '6100  W FULLERTON AVE, Chicago, IL'\n",
      " '6400  W STRONG ST, Chicago, IL' '1200  W GREENLEAF AVE, Chicago, IL'\n",
      " '1000  N CENTRAL PARK DR, Chicago, IL' '2000  E 111TH ST, Chicago, IL'\n",
      " '3300  N RUTHERFORD AVE, Chicago, IL' '1100  S ARTESIAN AVE, Chicago, IL'\n",
      " '6000  W ROSCOE ST, Chicago, IL' '6000  W MONTROSE DR, Chicago, IL'\n",
      " '3300  E RANDOLPH ST, Chicago, IL' '3300  W 104TH ST, Chicago, IL'\n",
      " '4900  W SUNNYSIDE AVE, Chicago, IL' '3000  S HOYNE AVE, Chicago, IL'\n",
      " '4200  W 31ST ST, Chicago, IL' '1700  N PULASKI RD, Chicago, IL'\n",
      " '2200  W PERSHING RD, Chicago, IL' '2200  W 51ST ST, Chicago, IL'\n",
      " '3500  W 51ST ST, Chicago, IL' '5200  W 63RD ST, Chicago, IL'\n",
      " '6700  S KEDZIE AVE, Chicago, IL' '7300  S CICERO AVE, Chicago, IL'\n",
      " '2200  W 69TH ST, Chicago, IL' '5200  S NORDICA, Chicago, IL'\n",
      " '6100  S MELVINA AVE, Chicago, IL' '1000  E 67TH ST, Chicago, IL'\n",
      " '3900  S ASHLAND AVE, Chicago, IL' '4700  S CORNELL AVE, Chicago, IL'\n",
      " '5500  S DR MARTIN LUTHER KING JR DR, Chicago, IL'\n",
      " '6400  S STONY ISLAND AVE, Chicago, IL'\n",
      " '7100  S SOUTH SHORE DR, Chicago, IL' '7700  S EBERHART AVE, Chicago, IL'\n",
      " '4000  S DEARBORN ST, Chicago, IL' '5000  S UNION AVE, Chicago, IL'\n",
      " '7900  S CHICAGO AVE, Chicago, IL' '5200  S KOLMAR, Chicago, IL'\n",
      " '6300  W 64TH ST, Chicago, IL' '3700  S PULASKI RD, Chicago, IL'\n",
      " '1200  S DOTY AVE, Chicago, IL' '1000  S STONY ISLAND AVE, Chicago, IL'\n",
      " '1300  S TORRENCE AVE, Chicago, IL' '1300  S MACKINAW, Chicago, IL'\n",
      " '1300  S BRANDON, Chicago, IL' '3700  E 118TH ST, Chicago, IL'\n",
      " '3800  E 115TH ST, Chicago, IL' '8100  E 91ST ST, Chicago, IL'\n",
      " '2400  E 105TH ST, Chicago, IL' '8000  S KEDZIE AVE, Chicago, IL'\n",
      " '6500  S RACINE AVE, Chicago, IL' '8200  E 138TH ST, Chicago, IL'\n",
      " '8900  S MUSKEGON AVE, Chicago, IL' '9800  S AVENUE G, Chicago, IL'\n",
      " '1000  S COTTAGE GROVE, Chicago, IL' '1100  S AVENUE L, Chicago, IL'\n",
      " '5800  N PULASKI RD, Chicago, IL' '6600  S KILPATRICK AVE, Chicago, IL'\n",
      " '8100  W 37TH PL., Chicago, IL' '4000  E 130TH ST, Chicago, IL'\n",
      " '9100  W HIGGINS RD, Chicago, IL' '1000  W OHARE AIRPORT, Chicago, IL'\n",
      " '1000  W OHARE, Chicago, IL' '1400  W 112TH ST, Chicago, IL'\n",
      " '1100  S LOOMIS ST, Chicago, IL' '1200  W 120TH ST, Chicago, IL'\n",
      " '1200  S BALTIMORE AVE, Chicago, IL' '1000  S OGLESBY AVE, Chicago, IL'\n",
      " '2600  E 136TH ST, Chicago, IL' '4000  N KEDVALE AVE, Chicago, IL'\n",
      " '2900  N KENNETH AVE, Chicago, IL' '3700  N KILBOURN AVE, Chicago, IL'\n",
      " '4800  W MONTANA ST, Chicago, IL' '5100  N MONT CLARE AVE, Chicago, IL'\n",
      " '8200  S KOSTNER AVE, Chicago, IL' '6500  E 91ST PL, Chicago, IL'\n",
      " '1700  W ADDISON ST, Chicago, IL' '9000  W GARFIELD BLVD, Chicago, IL'\n",
      " '1100  S WALLACE ST, Chicago, IL' '1300  N LARAMIE AVE, Chicago, IL'\n",
      " '3900  N SPRINGFIELD AVE, Chicago, IL' '5100  W 72ND ST, Chicago, IL'\n",
      " '5800  N RIDGE AVE, Chicago, IL' '1700  N ASHLAND AVE, Chicago, IL'\n",
      " '4600  N MELVINA AVE, Chicago, IL' '6500  W DAKIN ST, Chicago, IL'\n",
      " '7100  N HARLEM AVE, Chicago, IL' '3400  N LONG AVE, Chicago, IL'\n",
      " '4200  W 65TH ST, Chicago, IL' '6200  N MCCLELLAN AVE, Chicago, IL'\n",
      " '2900  W 85TH ST, Chicago, IL' '3400  W 77TH ST, Chicago, IL'\n",
      " '5100  W 63RD PL, Chicago, IL' '9600  S LONGWOOD DR, Chicago, IL'\n",
      " '2100  N CANNON DR, Chicago, IL']\n",
      "[41.95469  41.994991 41.974089 41.9216   41.891118 41.867108 41.896282\n",
      " 41.919343 41.921965 41.688324 41.862292 41.720848 41.731922 41.891126\n",
      " 41.999129 42.01743  41.907645 41.732984 41.981964 41.944869 42.011601\n",
      " 41.94983  41.979243 41.986921 41.801498 41.906638 41.723195 41.868077\n",
      " 41.869216 41.662014 41.961743 41.953067 41.878114 41.958271 41.932094\n",
      " 41.994469 42.006858 41.916265 41.846075 41.918705 41.682587 41.725517\n",
      " 41.948167 41.963976 41.953705 41.964242 41.990284 42.008314 41.991429\n",
      " 41.843811 41.921177 41.852652 41.857402 41.868142 41.846283 41.721474\n",
      " 41.869107 41.719059 41.966987 41.923738 41.970248 42.010412 41.89923\n",
      " 41.692555 41.94016  41.903002 41.942114 41.960616 41.883284 41.704336\n",
      " 41.962728 41.836644 41.837085 41.911824 41.823065 41.801179 41.800737\n",
      " 41.778297 41.77166  41.759346 41.768388 41.797616 41.781416 41.773215\n",
      " 41.822536 41.799282 41.794781 41.778748 41.766202 41.754676 41.821582\n",
      " 41.803423 41.754292 41.798697 41.776156 41.82561  41.673408 41.726465\n",
      " 41.678618 41.737052 41.740641 41.680946 41.686398 41.729669 41.704572\n",
      " 41.74785  41.775051 41.644612 41.733643 41.717753 41.750498 41.702724\n",
      " 41.984809 41.772846 41.825902 41.659112 41.992478 41.974689 41.957799\n",
      " 41.690423 41.868533 41.675876 41.731929 41.738583 41.646541 41.95477\n",
      " 41.933652 41.94828  41.925198 41.973845 41.743402 41.728495 41.947227\n",
      " 41.793818 41.753411 41.904194 41.951866 41.763733 41.98728  41.912563\n",
      " 41.965571 41.951878 42.009876 41.942285 41.776428 41.994679 41.738903\n",
      " 41.753391 41.777689 41.71914  41.925652]\n",
      "[-87.800991 -87.769279 -87.824812 -87.666455 -87.654491 -87.654224\n",
      " -87.655232 -87.694259 -87.632085 -87.676709 -87.64886  -87.666014\n",
      " -87.677512 -87.61156  -87.795585 -87.687769 -87.760886 -87.649642\n",
      " -87.812827 -87.832763 -87.811506 -87.698457 -87.750938 -87.689778\n",
      " -87.763416 -87.701431 -87.64997  -87.666901 -87.627561 -87.724608\n",
      " -87.76007  -87.776792 -87.629798 -87.702575 -87.700117 -87.667736\n",
      " -87.675919 -87.800515 -87.716277 -87.752329 -87.707973 -87.614258\n",
      " -87.730698 -87.69181  -87.733974 -87.757639 -87.797127 -87.777921\n",
      " -87.747113 -87.686763 -87.79518  -87.719887 -87.694991 -87.696269\n",
      " -87.656913 -87.648064 -87.696293 -87.675088 -87.674677 -87.785288\n",
      " -87.787992 -87.66214  -87.716788 -87.598865 -87.794896 -87.688267\n",
      " -87.776385 -87.777189 -87.705085 -87.703736 -87.748367 -87.677737\n",
      " -87.729384 -87.726737 -87.678378 -87.679447 -87.71188  -87.752411\n",
      " -87.703047 -87.745602 -87.678649 -87.797894 -87.776532 -87.60088\n",
      " -87.666343 -87.585487 -87.615989 -87.586427 -87.562889 -87.612922\n",
      " -87.627796 -87.642984 -87.590773 -87.736812 -87.778927 -87.726549\n",
      " -87.599862 -87.585413 -87.559308 -87.543067 -87.546587 -87.535198\n",
      " -87.531635 -87.582699 -87.565666 -87.702716 -87.655356 -87.604498\n",
      " -87.55551  -87.531657 -87.605294 -87.536497 -87.728492 -87.740029\n",
      " -87.667827 -87.538693 -87.862995 -87.890615 -87.930995 -87.656929\n",
      " -87.661638 -87.651515 -87.54854  -87.567726 -87.543762 -87.73089\n",
      " -87.738416 -87.74134  -87.746381 -87.805059 -87.731435 -87.600963\n",
      " -87.671457 -87.654234 -87.639817 -87.756155 -87.725057 -87.742302\n",
      " -87.666066 -87.668055 -87.781978 -87.789234 -87.807277 -87.761726\n",
      " -87.627096 -87.770899 -87.695443 -87.707394 -87.749149 -87.669539\n",
      " -87.63359 ]\n",
      "[9 8 5 3]\n"
     ]
    }
   ],
   "source": [
    "# View unique values for each column in test_df\n",
    "for col in test_df:\n",
    "    print(test_df[col].unique())"
   ]
  },
  {
   "cell_type": "code",
   "execution_count": 10,
   "metadata": {
    "cell_id": "0b7c58cb2e9243cfbd6fdf260c32eb19",
    "deepnote_cell_type": "code",
    "deepnote_to_be_reexecuted": false,
    "execution_millis": 2,
    "execution_start": 1670652600781,
    "source_hash": "cc468180",
    "tags": []
   },
   "outputs": [
    {
     "name": "stdout",
     "output_type": "stream",
     "text": [
      "['2011-08-29' '2011-09-07' '2013-07-17' '2013-07-25' '2013-08-08'\n",
      " '2013-08-15' '2013-08-16' '2013-08-22' '2013-08-29' '2013-09-05']\n",
      "['6:56:58 PM' '6:57:08 PM' '6:57:18 PM' ... '8:04:01 PM' '8:04:11 PM'\n",
      " '8:04:21 PM']\n",
      "[42.39162333 42.39134833 42.39102167 ... 42.00602167 42.00545333\n",
      " 42.004805  ]\n",
      "[-88.08916333 -88.08915667 -88.08915833 ... -87.81739167 -87.81742333\n",
      " -87.81746   ]\n"
     ]
    }
   ],
   "source": [
    "# View unique values for each column in spray_df\n",
    "for col in spray_df:\n",
    "    print(spray_df[col].unique())"
   ]
  },
  {
   "cell_type": "markdown",
   "metadata": {
    "cell_id": "8dd249b520d54c5da26fbdcdb91f79f7",
    "deepnote_cell_type": "text-cell-p",
    "formattedRanges": [
     {
      "fromCodePoint": 0,
      "marks": {
       "bold": true
      },
      "toCodePoint": 16,
      "type": "marks"
     }
    ],
    "is_collapsed": false,
    "tags": []
   },
   "source": [
    "Duplicate values"
   ]
  },
  {
   "cell_type": "markdown",
   "metadata": {
    "cell_id": "c2f8a2641246482b82dbc013a402c8cb",
    "deepnote_cell_type": "text-cell-p",
    "formattedRanges": [],
    "is_collapsed": false,
    "tags": []
   },
   "source": [
    "The train_df has 813 rows with duplicate values, while the test_df has 0 rows with duplicate values in test_df, the spray_df has 541 rows with duplicate values. "
   ]
  },
  {
   "cell_type": "code",
   "execution_count": 11,
   "metadata": {
    "cell_id": "311c510606f94d52acf6e8a20d62ea17",
    "deepnote_cell_type": "code",
    "deepnote_table_invalid": false,
    "deepnote_table_loading": false,
    "deepnote_table_state": {
     "filters": [],
     "pageIndex": 0,
     "pageSize": 10,
     "sortBy": []
    },
    "deepnote_to_be_reexecuted": false,
    "execution_millis": 48,
    "execution_start": 1670652600782,
    "source_hash": "a849ba6",
    "tags": []
   },
   "outputs": [
    {
     "name": "stdout",
     "output_type": "stream",
     "text": [
      "There are 813 duplicate rows in the train_df dataset.\n",
      "Duplicate rows in the dataset:\n"
     ]
    },
    {
     "data": {
      "application/vnd.deepnote.dataframe.v3+json": {
       "column_count": 13,
       "columns": [
        {
         "dtype": "object",
         "name": "date",
         "stats": {
          "categories": [
           {
            "count": 95,
            "name": "2007-08-01"
           },
           {
            "count": 78,
            "name": "2007-08-16"
           },
           {
            "count": 640,
            "name": "64 others"
           }
          ],
          "nan_count": 0,
          "unique_count": 66
         }
        },
        {
         "dtype": "object",
         "name": "address",
         "stats": {
          "categories": [
           {
            "count": 330,
            "name": "South Doty Avenue, Chicago, IL, USA"
           },
           {
            "count": 138,
            "name": "ORD Terminal 5, O'Hare International Airport, Chicago, IL 60666, USA"
           },
           {
            "count": 345,
            "name": "56 others"
           }
          ],
          "nan_count": 0,
          "unique_count": 58
         }
        },
        {
         "dtype": "object",
         "name": "species",
         "stats": {
          "categories": [
           {
            "count": 460,
            "name": "CULEX PIPIENS"
           },
           {
            "count": 283,
            "name": "CULEX PIPIENS/RESTUANS"
           },
           {
            "count": 70,
            "name": "3 others"
           }
          ],
          "nan_count": 0,
          "unique_count": 5
         }
        },
        {
         "dtype": "int64",
         "name": "block",
         "stats": {
          "histogram": [
           {
            "bin_end": 18.6,
            "bin_start": 10,
            "count": 657
           },
           {
            "bin_end": 27.2,
            "bin_start": 18.6,
            "count": 40
           },
           {
            "bin_end": 35.8,
            "bin_start": 27.2,
            "count": 12
           },
           {
            "bin_end": 44.4,
            "bin_start": 35.8,
            "count": 57
           },
           {
            "bin_end": 53,
            "bin_start": 44.4,
            "count": 15
           },
           {
            "bin_end": 61.599999999999994,
            "bin_start": 53,
            "count": 3
           },
           {
            "bin_end": 70.19999999999999,
            "bin_start": 61.599999999999994,
            "count": 11
           },
           {
            "bin_end": 78.8,
            "bin_start": 70.19999999999999,
            "count": 6
           },
           {
            "bin_end": 87.39999999999999,
            "bin_start": 78.8,
            "count": 5
           },
           {
            "bin_end": 96,
            "bin_start": 87.39999999999999,
            "count": 7
           }
          ],
          "max": "96",
          "min": "10",
          "nan_count": 0,
          "unique_count": 43
         }
        },
        {
         "dtype": "object",
         "name": "street",
         "stats": {
          "categories": [
           {
            "count": 330,
            "name": " S DOTY AVE"
           },
           {
            "count": 138,
            "name": " W OHARE AIRPORT"
           },
           {
            "count": 345,
            "name": "54 others"
           }
          ],
          "nan_count": 0,
          "unique_count": 56
         }
        },
        {
         "dtype": "object",
         "name": "trap",
         "stats": {
          "categories": [
           {
            "count": 330,
            "name": "T115"
           },
           {
            "count": 138,
            "name": "T900"
           },
           {
            "count": 345,
            "name": "56 others"
           }
          ],
          "nan_count": 0,
          "unique_count": 58
         }
        },
        {
         "dtype": "object",
         "name": "addressnumberandstreet",
         "stats": {
          "categories": [
           {
            "count": 330,
            "name": "1200  S DOTY AVE, Chicago, IL"
           },
           {
            "count": 138,
            "name": "1000  W OHARE AIRPORT, Chicago, IL"
           },
           {
            "count": 345,
            "name": "56 others"
           }
          ],
          "nan_count": 0,
          "unique_count": 58
         }
        },
        {
         "dtype": "float64",
         "name": "latitude",
         "stats": {
          "histogram": [
           {
            "bin_end": 41.6949438,
            "bin_start": 41.659112,
            "count": 386
           },
           {
            "bin_end": 41.7307756,
            "bin_start": 41.6949438,
            "count": 187
           },
           {
            "bin_end": 41.7666074,
            "bin_start": 41.7307756,
            "count": 10
           },
           {
            "bin_end": 41.8024392,
            "bin_start": 41.7666074,
            "count": 14
           },
           {
            "bin_end": 41.838271,
            "bin_start": 41.8024392,
            "count": 4
           },
           {
            "bin_end": 41.874102799999996,
            "bin_start": 41.838271,
            "count": 5
           },
           {
            "bin_end": 41.9099346,
            "bin_start": 41.874102799999996,
            "count": 11
           },
           {
            "bin_end": 41.9457664,
            "bin_start": 41.9099346,
            "count": 9
           },
           {
            "bin_end": 41.9815982,
            "bin_start": 41.9457664,
            "count": 175
           },
           {
            "bin_end": 42.01743,
            "bin_start": 41.9815982,
            "count": 12
           }
          ],
          "max": "42.01743",
          "min": "41.659112",
          "nan_count": 0,
          "unique_count": 58
         }
        },
        {
         "dtype": "float64",
         "name": "longitude",
         "stats": {
          "histogram": [
           {
            "bin_end": -87.891059,
            "bin_start": -87.930995,
            "count": 12
           },
           {
            "bin_end": -87.851123,
            "bin_start": -87.891059,
            "count": 141
           },
           {
            "bin_end": -87.81118699999999,
            "bin_start": -87.851123,
            "count": 1
           },
           {
            "bin_end": -87.77125099999999,
            "bin_start": -87.81118699999999,
            "count": 33
           },
           {
            "bin_end": -87.731315,
            "bin_start": -87.77125099999999,
            "count": 12
           },
           {
            "bin_end": -87.691379,
            "bin_start": -87.731315,
            "count": 34
           },
           {
            "bin_end": -87.651443,
            "bin_start": -87.691379,
            "count": 20
           },
           {
            "bin_end": -87.61150699999999,
            "bin_start": -87.651443,
            "count": 13
           },
           {
            "bin_end": -87.57157099999999,
            "bin_start": -87.61150699999999,
            "count": 471
           },
           {
            "bin_end": -87.531635,
            "bin_start": -87.57157099999999,
            "count": 76
           }
          ],
          "max": "-87.531635",
          "min": "-87.930995",
          "nan_count": 0,
          "unique_count": 58
         }
        },
        {
         "dtype": "int64",
         "name": "addressaccuracy",
         "stats": {
          "histogram": [
           {
            "bin_end": 3.6,
            "bin_start": 3,
            "count": 2
           },
           {
            "bin_end": 4.2,
            "bin_start": 3.6,
            "count": 0
           },
           {
            "bin_end": 4.8,
            "bin_start": 4.2,
            "count": 0
           },
           {
            "bin_end": 5.4,
            "bin_start": 4.8,
            "count": 505
           },
           {
            "bin_end": 6,
            "bin_start": 5.4,
            "count": 0
           },
           {
            "bin_end": 6.6,
            "bin_start": 6,
            "count": 0
           },
           {
            "bin_end": 7.2,
            "bin_start": 6.6,
            "count": 0
           },
           {
            "bin_end": 7.8,
            "bin_start": 7.2,
            "count": 0
           },
           {
            "bin_end": 8.399999999999999,
            "bin_start": 7.8,
            "count": 106
           },
           {
            "bin_end": 9,
            "bin_start": 8.399999999999999,
            "count": 200
           }
          ],
          "max": "9",
          "min": "3",
          "nan_count": 0,
          "unique_count": 4
         }
        },
        {
         "dtype": "int64",
         "name": "nummosquitos",
         "stats": {
          "histogram": [
           {
            "bin_end": 5.9,
            "bin_start": 1,
            "count": 83
           },
           {
            "bin_end": 10.8,
            "bin_start": 5.9,
            "count": 6
           },
           {
            "bin_end": 15.700000000000001,
            "bin_start": 10.8,
            "count": 3
           },
           {
            "bin_end": 20.6,
            "bin_start": 15.700000000000001,
            "count": 2
           },
           {
            "bin_end": 25.5,
            "bin_start": 20.6,
            "count": 2
           },
           {
            "bin_end": 30.400000000000002,
            "bin_start": 25.5,
            "count": 2
           },
           {
            "bin_end": 35.300000000000004,
            "bin_start": 30.400000000000002,
            "count": 0
           },
           {
            "bin_end": 40.2,
            "bin_start": 35.300000000000004,
            "count": 3
           },
           {
            "bin_end": 45.1,
            "bin_start": 40.2,
            "count": 3
           },
           {
            "bin_end": 50,
            "bin_start": 45.1,
            "count": 709
           }
          ],
          "max": "50",
          "min": "1",
          "nan_count": 0,
          "unique_count": 25
         }
        },
        {
         "dtype": "int64",
         "name": "wnvpresent",
         "stats": {
          "histogram": [
           {
            "bin_end": 0.1,
            "bin_start": 0,
            "count": 765
           },
           {
            "bin_end": 0.2,
            "bin_start": 0.1,
            "count": 0
           },
           {
            "bin_end": 0.30000000000000004,
            "bin_start": 0.2,
            "count": 0
           },
           {
            "bin_end": 0.4,
            "bin_start": 0.30000000000000004,
            "count": 0
           },
           {
            "bin_end": 0.5,
            "bin_start": 0.4,
            "count": 0
           },
           {
            "bin_end": 0.6000000000000001,
            "bin_start": 0.5,
            "count": 0
           },
           {
            "bin_end": 0.7000000000000001,
            "bin_start": 0.6000000000000001,
            "count": 0
           },
           {
            "bin_end": 0.8,
            "bin_start": 0.7000000000000001,
            "count": 0
           },
           {
            "bin_end": 0.9,
            "bin_start": 0.8,
            "count": 0
           },
           {
            "bin_end": 1,
            "bin_start": 0.9,
            "count": 48
           }
          ],
          "max": "1",
          "min": "0",
          "nan_count": 0,
          "unique_count": 2
         }
        },
        {
         "dtype": "bool",
         "name": "dupe",
         "stats": {
          "categories": [
           {
            "count": 813,
            "name": "True"
           }
          ],
          "nan_count": 0,
          "unique_count": 1
         }
        },
        {
         "dtype": "int64",
         "name": "_deepnote_index_column"
        }
       ],
       "row_count": 813,
       "rows": [
        {
         "_deepnote_index_column": "99",
         "address": "2200 West 113th Street, Chicago, IL 60643, USA",
         "addressaccuracy": "8",
         "addressnumberandstreet": "2200  W 113TH ST, Chicago, IL",
         "block": "22",
         "date": "2007-06-26",
         "dupe": "True",
         "latitude": "41.688324",
         "longitude": "-87.676709",
         "nummosquitos": "1",
         "species": "CULEX PIPIENS/RESTUANS",
         "street": " W 113TH ST",
         "trap": "T086",
         "wnvpresent": "0"
        },
        {
         "_deepnote_index_column": "295",
         "address": "2200 West 113th Street, Chicago, IL 60643, USA",
         "addressaccuracy": "8",
         "addressnumberandstreet": "2200  W 113TH ST, Chicago, IL",
         "block": "22",
         "date": "2007-07-11",
         "dupe": "True",
         "latitude": "41.688324",
         "longitude": "-87.676709",
         "nummosquitos": "50",
         "species": "CULEX PIPIENS/RESTUANS",
         "street": " W 113TH ST",
         "trap": "T086",
         "wnvpresent": "0"
        },
        {
         "_deepnote_index_column": "351",
         "address": "3500 West 116th Street, Chicago, IL 60655, USA",
         "addressaccuracy": "9",
         "addressnumberandstreet": "3500  W 116TH ST, Chicago, IL",
         "block": "35",
         "date": "2007-07-11",
         "dupe": "True",
         "latitude": "41.682587",
         "longitude": "-87.707973",
         "nummosquitos": "50",
         "species": "CULEX PIPIENS/RESTUANS",
         "street": " W 116TH ST",
         "trap": "T158",
         "wnvpresent": "0"
        },
        {
         "_deepnote_index_column": "353",
         "address": "3500 West 116th Street, Chicago, IL 60655, USA",
         "addressaccuracy": "9",
         "addressnumberandstreet": "3500  W 116TH ST, Chicago, IL",
         "block": "35",
         "date": "2007-07-11",
         "dupe": "True",
         "latitude": "41.682587",
         "longitude": "-87.707973",
         "nummosquitos": "50",
         "species": "CULEX PIPIENS/RESTUANS",
         "street": " W 116TH ST",
         "trap": "T158",
         "wnvpresent": "0"
        },
        {
         "_deepnote_index_column": "512",
         "address": "3300 West Randolph Street, Chicago, IL 60612, USA",
         "addressaccuracy": "8",
         "addressnumberandstreet": "3300  E RANDOLPH ST, Chicago, IL",
         "block": "33",
         "date": "2007-07-18",
         "dupe": "True",
         "latitude": "41.883284",
         "longitude": "-87.705085",
         "nummosquitos": "1",
         "species": "CULEX RESTUANS",
         "street": " E RANDOLPH ST",
         "trap": "T044",
         "wnvpresent": "0"
        },
        {
         "_deepnote_index_column": "531",
         "address": "South Stony Island Avenue, Chicago, IL, USA",
         "addressaccuracy": "5",
         "addressnumberandstreet": "1000  S STONY ISLAND AVE, Chicago, IL",
         "block": "10",
         "date": "2007-07-18",
         "dupe": "True",
         "latitude": "41.726465",
         "longitude": "-87.585413",
         "nummosquitos": "50",
         "species": "CULEX PIPIENS/RESTUANS",
         "street": " S STONY ISLAND AVE",
         "trap": "T138",
         "wnvpresent": "0"
        },
        {
         "_deepnote_index_column": "548",
         "address": "3700 118th Street, Chicago, IL 60617, USA",
         "addressaccuracy": "8",
         "addressnumberandstreet": "3700  E 118TH ST, Chicago, IL",
         "block": "37",
         "date": "2007-07-18",
         "dupe": "True",
         "latitude": "41.680946",
         "longitude": "-87.535198",
         "nummosquitos": "50",
         "species": "CULEX PIPIENS/RESTUANS",
         "street": " E 118TH ST",
         "trap": "T212",
         "wnvpresent": "0"
        },
        {
         "_deepnote_index_column": "587",
         "address": "3700 118th Street, Chicago, IL 60617, USA",
         "addressaccuracy": "8",
         "addressnumberandstreet": "3700  E 118TH ST, Chicago, IL",
         "block": "37",
         "date": "2007-07-19",
         "dupe": "True",
         "latitude": "41.680946",
         "longitude": "-87.535198",
         "nummosquitos": "50",
         "species": "CULEX PIPIENS/RESTUANS",
         "street": " E 118TH ST",
         "trap": "T212",
         "wnvpresent": "0"
        },
        {
         "_deepnote_index_column": "588",
         "address": "3700 118th Street, Chicago, IL 60617, USA",
         "addressaccuracy": "8",
         "addressnumberandstreet": "3700  E 118TH ST, Chicago, IL",
         "block": "37",
         "date": "2007-07-19",
         "dupe": "True",
         "latitude": "41.680946",
         "longitude": "-87.535198",
         "nummosquitos": "50",
         "species": "CULEX PIPIENS/RESTUANS",
         "street": " E 118TH ST",
         "trap": "T212",
         "wnvpresent": "0"
        },
        {
         "_deepnote_index_column": "589",
         "address": "3700 118th Street, Chicago, IL 60617, USA",
         "addressaccuracy": "8",
         "addressnumberandstreet": "3700  E 118TH ST, Chicago, IL",
         "block": "37",
         "date": "2007-07-19",
         "dupe": "True",
         "latitude": "41.680946",
         "longitude": "-87.535198",
         "nummosquitos": "50",
         "species": "CULEX PIPIENS/RESTUANS",
         "street": " E 118TH ST",
         "trap": "T212",
         "wnvpresent": "0"
        }
       ]
      },
      "text/html": [
       "<div>\n",
       "<style scoped>\n",
       "    .dataframe tbody tr th:only-of-type {\n",
       "        vertical-align: middle;\n",
       "    }\n",
       "\n",
       "    .dataframe tbody tr th {\n",
       "        vertical-align: top;\n",
       "    }\n",
       "\n",
       "    .dataframe thead th {\n",
       "        text-align: right;\n",
       "    }\n",
       "</style>\n",
       "<table border=\"1\" class=\"dataframe\">\n",
       "  <thead>\n",
       "    <tr style=\"text-align: right;\">\n",
       "      <th></th>\n",
       "      <th>date</th>\n",
       "      <th>address</th>\n",
       "      <th>species</th>\n",
       "      <th>block</th>\n",
       "      <th>street</th>\n",
       "      <th>trap</th>\n",
       "      <th>addressnumberandstreet</th>\n",
       "      <th>latitude</th>\n",
       "      <th>longitude</th>\n",
       "      <th>addressaccuracy</th>\n",
       "      <th>nummosquitos</th>\n",
       "      <th>wnvpresent</th>\n",
       "      <th>dupe</th>\n",
       "    </tr>\n",
       "  </thead>\n",
       "  <tbody>\n",
       "    <tr>\n",
       "      <th>99</th>\n",
       "      <td>2007-06-26</td>\n",
       "      <td>2200 West 113th Street, Chicago, IL 60643, USA</td>\n",
       "      <td>CULEX PIPIENS/RESTUANS</td>\n",
       "      <td>22</td>\n",
       "      <td>W 113TH ST</td>\n",
       "      <td>T086</td>\n",
       "      <td>2200  W 113TH ST, Chicago, IL</td>\n",
       "      <td>41.688324</td>\n",
       "      <td>-87.676709</td>\n",
       "      <td>8</td>\n",
       "      <td>1</td>\n",
       "      <td>0</td>\n",
       "      <td>True</td>\n",
       "    </tr>\n",
       "    <tr>\n",
       "      <th>295</th>\n",
       "      <td>2007-07-11</td>\n",
       "      <td>2200 West 113th Street, Chicago, IL 60643, USA</td>\n",
       "      <td>CULEX PIPIENS/RESTUANS</td>\n",
       "      <td>22</td>\n",
       "      <td>W 113TH ST</td>\n",
       "      <td>T086</td>\n",
       "      <td>2200  W 113TH ST, Chicago, IL</td>\n",
       "      <td>41.688324</td>\n",
       "      <td>-87.676709</td>\n",
       "      <td>8</td>\n",
       "      <td>50</td>\n",
       "      <td>0</td>\n",
       "      <td>True</td>\n",
       "    </tr>\n",
       "    <tr>\n",
       "      <th>351</th>\n",
       "      <td>2007-07-11</td>\n",
       "      <td>3500 West 116th Street, Chicago, IL 60655, USA</td>\n",
       "      <td>CULEX PIPIENS/RESTUANS</td>\n",
       "      <td>35</td>\n",
       "      <td>W 116TH ST</td>\n",
       "      <td>T158</td>\n",
       "      <td>3500  W 116TH ST, Chicago, IL</td>\n",
       "      <td>41.682587</td>\n",
       "      <td>-87.707973</td>\n",
       "      <td>9</td>\n",
       "      <td>50</td>\n",
       "      <td>0</td>\n",
       "      <td>True</td>\n",
       "    </tr>\n",
       "    <tr>\n",
       "      <th>353</th>\n",
       "      <td>2007-07-11</td>\n",
       "      <td>3500 West 116th Street, Chicago, IL 60655, USA</td>\n",
       "      <td>CULEX PIPIENS/RESTUANS</td>\n",
       "      <td>35</td>\n",
       "      <td>W 116TH ST</td>\n",
       "      <td>T158</td>\n",
       "      <td>3500  W 116TH ST, Chicago, IL</td>\n",
       "      <td>41.682587</td>\n",
       "      <td>-87.707973</td>\n",
       "      <td>9</td>\n",
       "      <td>50</td>\n",
       "      <td>0</td>\n",
       "      <td>True</td>\n",
       "    </tr>\n",
       "    <tr>\n",
       "      <th>512</th>\n",
       "      <td>2007-07-18</td>\n",
       "      <td>3300 West Randolph Street, Chicago, IL 60612, USA</td>\n",
       "      <td>CULEX RESTUANS</td>\n",
       "      <td>33</td>\n",
       "      <td>E RANDOLPH ST</td>\n",
       "      <td>T044</td>\n",
       "      <td>3300  E RANDOLPH ST, Chicago, IL</td>\n",
       "      <td>41.883284</td>\n",
       "      <td>-87.705085</td>\n",
       "      <td>8</td>\n",
       "      <td>1</td>\n",
       "      <td>0</td>\n",
       "      <td>True</td>\n",
       "    </tr>\n",
       "    <tr>\n",
       "      <th>...</th>\n",
       "      <td>...</td>\n",
       "      <td>...</td>\n",
       "      <td>...</td>\n",
       "      <td>...</td>\n",
       "      <td>...</td>\n",
       "      <td>...</td>\n",
       "      <td>...</td>\n",
       "      <td>...</td>\n",
       "      <td>...</td>\n",
       "      <td>...</td>\n",
       "      <td>...</td>\n",
       "      <td>...</td>\n",
       "      <td>...</td>\n",
       "    </tr>\n",
       "    <tr>\n",
       "      <th>10013</th>\n",
       "      <td>2013-08-29</td>\n",
       "      <td>7100 North Harlem Avenue, Chicago, IL 60631, USA</td>\n",
       "      <td>CULEX PIPIENS/RESTUANS</td>\n",
       "      <td>71</td>\n",
       "      <td>N HARLEM AVE</td>\n",
       "      <td>T233</td>\n",
       "      <td>7100  N HARLEM AVE, Chicago, IL</td>\n",
       "      <td>42.009876</td>\n",
       "      <td>-87.807277</td>\n",
       "      <td>9</td>\n",
       "      <td>50</td>\n",
       "      <td>1</td>\n",
       "      <td>True</td>\n",
       "    </tr>\n",
       "    <tr>\n",
       "      <th>10102</th>\n",
       "      <td>2013-09-06</td>\n",
       "      <td>3700 South Pulaski Road, Chicago, IL 60623, USA</td>\n",
       "      <td>CULEX PIPIENS</td>\n",
       "      <td>37</td>\n",
       "      <td>S PULASKI RD</td>\n",
       "      <td>T063</td>\n",
       "      <td>3700  S PULASKI RD, Chicago, IL</td>\n",
       "      <td>41.825610</td>\n",
       "      <td>-87.726549</td>\n",
       "      <td>9</td>\n",
       "      <td>9</td>\n",
       "      <td>0</td>\n",
       "      <td>True</td>\n",
       "    </tr>\n",
       "    <tr>\n",
       "      <th>10124</th>\n",
       "      <td>2013-09-06</td>\n",
       "      <td>ORD Terminal 5, O'Hare International Airport, ...</td>\n",
       "      <td>CULEX PIPIENS/RESTUANS</td>\n",
       "      <td>10</td>\n",
       "      <td>W OHARE AIRPORT</td>\n",
       "      <td>T900</td>\n",
       "      <td>1000  W OHARE AIRPORT, Chicago, IL</td>\n",
       "      <td>41.974689</td>\n",
       "      <td>-87.890615</td>\n",
       "      <td>9</td>\n",
       "      <td>50</td>\n",
       "      <td>1</td>\n",
       "      <td>True</td>\n",
       "    </tr>\n",
       "    <tr>\n",
       "      <th>10262</th>\n",
       "      <td>2013-09-12</td>\n",
       "      <td>ORD Terminal 5, O'Hare International Airport, ...</td>\n",
       "      <td>CULEX PIPIENS/RESTUANS</td>\n",
       "      <td>10</td>\n",
       "      <td>W OHARE AIRPORT</td>\n",
       "      <td>T900</td>\n",
       "      <td>1000  W OHARE AIRPORT, Chicago, IL</td>\n",
       "      <td>41.974689</td>\n",
       "      <td>-87.890615</td>\n",
       "      <td>9</td>\n",
       "      <td>50</td>\n",
       "      <td>0</td>\n",
       "      <td>True</td>\n",
       "    </tr>\n",
       "    <tr>\n",
       "      <th>10392</th>\n",
       "      <td>2013-09-19</td>\n",
       "      <td>ORD Terminal 5, O'Hare International Airport, ...</td>\n",
       "      <td>CULEX PIPIENS</td>\n",
       "      <td>10</td>\n",
       "      <td>W OHARE AIRPORT</td>\n",
       "      <td>T900</td>\n",
       "      <td>1000  W OHARE AIRPORT, Chicago, IL</td>\n",
       "      <td>41.974689</td>\n",
       "      <td>-87.890615</td>\n",
       "      <td>9</td>\n",
       "      <td>13</td>\n",
       "      <td>0</td>\n",
       "      <td>True</td>\n",
       "    </tr>\n",
       "  </tbody>\n",
       "</table>\n",
       "<p>813 rows × 13 columns</p>\n",
       "</div>"
      ],
      "text/plain": [
       "             date                                            address  \\\n",
       "99     2007-06-26     2200 West 113th Street, Chicago, IL 60643, USA   \n",
       "295    2007-07-11     2200 West 113th Street, Chicago, IL 60643, USA   \n",
       "351    2007-07-11     3500 West 116th Street, Chicago, IL 60655, USA   \n",
       "353    2007-07-11     3500 West 116th Street, Chicago, IL 60655, USA   \n",
       "512    2007-07-18  3300 West Randolph Street, Chicago, IL 60612, USA   \n",
       "...           ...                                                ...   \n",
       "10013  2013-08-29   7100 North Harlem Avenue, Chicago, IL 60631, USA   \n",
       "10102  2013-09-06    3700 South Pulaski Road, Chicago, IL 60623, USA   \n",
       "10124  2013-09-06  ORD Terminal 5, O'Hare International Airport, ...   \n",
       "10262  2013-09-12  ORD Terminal 5, O'Hare International Airport, ...   \n",
       "10392  2013-09-19  ORD Terminal 5, O'Hare International Airport, ...   \n",
       "\n",
       "                      species  block            street  trap  \\\n",
       "99     CULEX PIPIENS/RESTUANS     22        W 113TH ST  T086   \n",
       "295    CULEX PIPIENS/RESTUANS     22        W 113TH ST  T086   \n",
       "351    CULEX PIPIENS/RESTUANS     35        W 116TH ST  T158   \n",
       "353    CULEX PIPIENS/RESTUANS     35        W 116TH ST  T158   \n",
       "512            CULEX RESTUANS     33     E RANDOLPH ST  T044   \n",
       "...                       ...    ...               ...   ...   \n",
       "10013  CULEX PIPIENS/RESTUANS     71      N HARLEM AVE  T233   \n",
       "10102           CULEX PIPIENS     37      S PULASKI RD  T063   \n",
       "10124  CULEX PIPIENS/RESTUANS     10   W OHARE AIRPORT  T900   \n",
       "10262  CULEX PIPIENS/RESTUANS     10   W OHARE AIRPORT  T900   \n",
       "10392           CULEX PIPIENS     10   W OHARE AIRPORT  T900   \n",
       "\n",
       "                   addressnumberandstreet   latitude  longitude  \\\n",
       "99          2200  W 113TH ST, Chicago, IL  41.688324 -87.676709   \n",
       "295         2200  W 113TH ST, Chicago, IL  41.688324 -87.676709   \n",
       "351         3500  W 116TH ST, Chicago, IL  41.682587 -87.707973   \n",
       "353         3500  W 116TH ST, Chicago, IL  41.682587 -87.707973   \n",
       "512      3300  E RANDOLPH ST, Chicago, IL  41.883284 -87.705085   \n",
       "...                                   ...        ...        ...   \n",
       "10013     7100  N HARLEM AVE, Chicago, IL  42.009876 -87.807277   \n",
       "10102     3700  S PULASKI RD, Chicago, IL  41.825610 -87.726549   \n",
       "10124  1000  W OHARE AIRPORT, Chicago, IL  41.974689 -87.890615   \n",
       "10262  1000  W OHARE AIRPORT, Chicago, IL  41.974689 -87.890615   \n",
       "10392  1000  W OHARE AIRPORT, Chicago, IL  41.974689 -87.890615   \n",
       "\n",
       "       addressaccuracy  nummosquitos  wnvpresent  dupe  \n",
       "99                   8             1           0  True  \n",
       "295                  8            50           0  True  \n",
       "351                  9            50           0  True  \n",
       "353                  9            50           0  True  \n",
       "512                  8             1           0  True  \n",
       "...                ...           ...         ...   ...  \n",
       "10013                9            50           1  True  \n",
       "10102                9             9           0  True  \n",
       "10124                9            50           1  True  \n",
       "10262                9            50           0  True  \n",
       "10392                9            13           0  True  \n",
       "\n",
       "[813 rows x 13 columns]"
      ]
     },
     "metadata": {},
     "output_type": "display_data"
    }
   ],
   "source": [
    "# Count the number of duplicates in the dataset\n",
    "print(f'There are {train_df.duplicated().sum()} duplicate rows in the train_df dataset.')\n",
    "\n",
    "# Show the duplicates in the dataset\n",
    "print('Duplicate rows in the dataset:')\n",
    "train_df['dupe'] = train_df.duplicated()\n",
    "display(train_df[train_df['dupe'] == True])"
   ]
  },
  {
   "cell_type": "code",
   "execution_count": 12,
   "metadata": {
    "cell_id": "d3ed3431a8d248819813ce652bd7c5fd",
    "deepnote_cell_type": "code",
    "deepnote_to_be_reexecuted": false,
    "execution_millis": 150,
    "execution_start": 1670652600832,
    "source_hash": "31c517ec",
    "tags": []
   },
   "outputs": [
    {
     "name": "stdout",
     "output_type": "stream",
     "text": [
      "There are 0 duplicate rows in the test_df dataset.\n",
      "Duplicate rows in the dataset:\n"
     ]
    },
    {
     "data": {
      "application/vnd.deepnote.dataframe.v3+json": {
       "column_count": 12,
       "columns": [
        {
         "dtype": "int64",
         "name": "id",
         "stats": {
          "histogram": [
           {
            "bin_end": 0.1,
            "bin_start": 0,
            "count": 0
           },
           {
            "bin_end": 0.2,
            "bin_start": 0.1,
            "count": 0
           },
           {
            "bin_end": 0.30000000000000004,
            "bin_start": 0.2,
            "count": 0
           },
           {
            "bin_end": 0.4,
            "bin_start": 0.30000000000000004,
            "count": 0
           },
           {
            "bin_end": 0.5,
            "bin_start": 0.4,
            "count": 0
           },
           {
            "bin_end": 0.6000000000000001,
            "bin_start": 0.5,
            "count": 0
           },
           {
            "bin_end": 0.7000000000000001,
            "bin_start": 0.6000000000000001,
            "count": 0
           },
           {
            "bin_end": 0.8,
            "bin_start": 0.7000000000000001,
            "count": 0
           },
           {
            "bin_end": 0.9,
            "bin_start": 0.8,
            "count": 0
           },
           {
            "bin_end": 1,
            "bin_start": 0.9,
            "count": 0
           }
          ],
          "max": null,
          "min": null,
          "nan_count": 0,
          "unique_count": 0
         }
        },
        {
         "dtype": "object",
         "name": "date",
         "stats": {
          "categories": [],
          "nan_count": 0,
          "unique_count": 0
         }
        },
        {
         "dtype": "object",
         "name": "address",
         "stats": {
          "categories": [],
          "nan_count": 0,
          "unique_count": 0
         }
        },
        {
         "dtype": "object",
         "name": "species",
         "stats": {
          "categories": [],
          "nan_count": 0,
          "unique_count": 0
         }
        },
        {
         "dtype": "int64",
         "name": "block",
         "stats": {
          "histogram": [
           {
            "bin_end": 0.1,
            "bin_start": 0,
            "count": 0
           },
           {
            "bin_end": 0.2,
            "bin_start": 0.1,
            "count": 0
           },
           {
            "bin_end": 0.30000000000000004,
            "bin_start": 0.2,
            "count": 0
           },
           {
            "bin_end": 0.4,
            "bin_start": 0.30000000000000004,
            "count": 0
           },
           {
            "bin_end": 0.5,
            "bin_start": 0.4,
            "count": 0
           },
           {
            "bin_end": 0.6000000000000001,
            "bin_start": 0.5,
            "count": 0
           },
           {
            "bin_end": 0.7000000000000001,
            "bin_start": 0.6000000000000001,
            "count": 0
           },
           {
            "bin_end": 0.8,
            "bin_start": 0.7000000000000001,
            "count": 0
           },
           {
            "bin_end": 0.9,
            "bin_start": 0.8,
            "count": 0
           },
           {
            "bin_end": 1,
            "bin_start": 0.9,
            "count": 0
           }
          ],
          "max": null,
          "min": null,
          "nan_count": 0,
          "unique_count": 0
         }
        },
        {
         "dtype": "object",
         "name": "street",
         "stats": {
          "categories": [],
          "nan_count": 0,
          "unique_count": 0
         }
        },
        {
         "dtype": "object",
         "name": "trap",
         "stats": {
          "categories": [],
          "nan_count": 0,
          "unique_count": 0
         }
        },
        {
         "dtype": "object",
         "name": "addressnumberandstreet",
         "stats": {
          "categories": [],
          "nan_count": 0,
          "unique_count": 0
         }
        },
        {
         "dtype": "float64",
         "name": "latitude",
         "stats": {
          "histogram": [
           {
            "bin_end": 0.1,
            "bin_start": 0,
            "count": 0
           },
           {
            "bin_end": 0.2,
            "bin_start": 0.1,
            "count": 0
           },
           {
            "bin_end": 0.30000000000000004,
            "bin_start": 0.2,
            "count": 0
           },
           {
            "bin_end": 0.4,
            "bin_start": 0.30000000000000004,
            "count": 0
           },
           {
            "bin_end": 0.5,
            "bin_start": 0.4,
            "count": 0
           },
           {
            "bin_end": 0.6000000000000001,
            "bin_start": 0.5,
            "count": 0
           },
           {
            "bin_end": 0.7000000000000001,
            "bin_start": 0.6000000000000001,
            "count": 0
           },
           {
            "bin_end": 0.8,
            "bin_start": 0.7000000000000001,
            "count": 0
           },
           {
            "bin_end": 0.9,
            "bin_start": 0.8,
            "count": 0
           },
           {
            "bin_end": 1,
            "bin_start": 0.9,
            "count": 0
           }
          ],
          "max": null,
          "min": null,
          "nan_count": 0,
          "unique_count": 0
         }
        },
        {
         "dtype": "float64",
         "name": "longitude",
         "stats": {
          "histogram": [
           {
            "bin_end": 0.1,
            "bin_start": 0,
            "count": 0
           },
           {
            "bin_end": 0.2,
            "bin_start": 0.1,
            "count": 0
           },
           {
            "bin_end": 0.30000000000000004,
            "bin_start": 0.2,
            "count": 0
           },
           {
            "bin_end": 0.4,
            "bin_start": 0.30000000000000004,
            "count": 0
           },
           {
            "bin_end": 0.5,
            "bin_start": 0.4,
            "count": 0
           },
           {
            "bin_end": 0.6000000000000001,
            "bin_start": 0.5,
            "count": 0
           },
           {
            "bin_end": 0.7000000000000001,
            "bin_start": 0.6000000000000001,
            "count": 0
           },
           {
            "bin_end": 0.8,
            "bin_start": 0.7000000000000001,
            "count": 0
           },
           {
            "bin_end": 0.9,
            "bin_start": 0.8,
            "count": 0
           },
           {
            "bin_end": 1,
            "bin_start": 0.9,
            "count": 0
           }
          ],
          "max": null,
          "min": null,
          "nan_count": 0,
          "unique_count": 0
         }
        },
        {
         "dtype": "int64",
         "name": "addressaccuracy",
         "stats": {
          "histogram": [
           {
            "bin_end": 0.1,
            "bin_start": 0,
            "count": 0
           },
           {
            "bin_end": 0.2,
            "bin_start": 0.1,
            "count": 0
           },
           {
            "bin_end": 0.30000000000000004,
            "bin_start": 0.2,
            "count": 0
           },
           {
            "bin_end": 0.4,
            "bin_start": 0.30000000000000004,
            "count": 0
           },
           {
            "bin_end": 0.5,
            "bin_start": 0.4,
            "count": 0
           },
           {
            "bin_end": 0.6000000000000001,
            "bin_start": 0.5,
            "count": 0
           },
           {
            "bin_end": 0.7000000000000001,
            "bin_start": 0.6000000000000001,
            "count": 0
           },
           {
            "bin_end": 0.8,
            "bin_start": 0.7000000000000001,
            "count": 0
           },
           {
            "bin_end": 0.9,
            "bin_start": 0.8,
            "count": 0
           },
           {
            "bin_end": 1,
            "bin_start": 0.9,
            "count": 0
           }
          ],
          "max": null,
          "min": null,
          "nan_count": 0,
          "unique_count": 0
         }
        },
        {
         "dtype": "bool",
         "name": "dupe",
         "stats": {
          "categories": [],
          "nan_count": 0,
          "unique_count": 0
         }
        },
        {
         "dtype": "int64",
         "name": "_deepnote_index_column"
        }
       ],
       "row_count": 0,
       "rows": []
      },
      "text/html": [
       "<div>\n",
       "<style scoped>\n",
       "    .dataframe tbody tr th:only-of-type {\n",
       "        vertical-align: middle;\n",
       "    }\n",
       "\n",
       "    .dataframe tbody tr th {\n",
       "        vertical-align: top;\n",
       "    }\n",
       "\n",
       "    .dataframe thead th {\n",
       "        text-align: right;\n",
       "    }\n",
       "</style>\n",
       "<table border=\"1\" class=\"dataframe\">\n",
       "  <thead>\n",
       "    <tr style=\"text-align: right;\">\n",
       "      <th></th>\n",
       "      <th>id</th>\n",
       "      <th>date</th>\n",
       "      <th>address</th>\n",
       "      <th>species</th>\n",
       "      <th>block</th>\n",
       "      <th>street</th>\n",
       "      <th>trap</th>\n",
       "      <th>addressnumberandstreet</th>\n",
       "      <th>latitude</th>\n",
       "      <th>longitude</th>\n",
       "      <th>addressaccuracy</th>\n",
       "      <th>dupe</th>\n",
       "    </tr>\n",
       "  </thead>\n",
       "  <tbody>\n",
       "  </tbody>\n",
       "</table>\n",
       "</div>"
      ],
      "text/plain": [
       "Empty DataFrame\n",
       "Columns: [id, date, address, species, block, street, trap, addressnumberandstreet, latitude, longitude, addressaccuracy, dupe]\n",
       "Index: []"
      ]
     },
     "metadata": {},
     "output_type": "display_data"
    }
   ],
   "source": [
    "# Count the number of duplicates in the dataset\n",
    "print(f'There are {test_df.duplicated().sum()} duplicate rows in the test_df dataset.')\n",
    "\n",
    "# Show the duplicates in the dataset\n",
    "print('Duplicate rows in the dataset:')\n",
    "test_df['dupe'] = test_df.duplicated()\n",
    "display(test_df[test_df['dupe'] == True])"
   ]
  },
  {
   "cell_type": "code",
   "execution_count": 13,
   "metadata": {
    "cell_id": "3e4a7af4916943a6a61eb537fc7b70cb",
    "deepnote_cell_type": "code",
    "deepnote_table_invalid": false,
    "deepnote_table_loading": false,
    "deepnote_table_state": {
     "filters": [],
     "pageIndex": 1,
     "pageSize": 10,
     "sortBy": []
    },
    "deepnote_to_be_reexecuted": false,
    "execution_millis": 179,
    "execution_start": 1670652600984,
    "source_hash": "303d0c89",
    "tags": []
   },
   "outputs": [
    {
     "name": "stdout",
     "output_type": "stream",
     "text": [
      "There are 541 duplicate rows in the spray_df dataset.\n",
      "Duplicate rows in the dataset:\n"
     ]
    },
    {
     "data": {
      "application/vnd.deepnote.dataframe.v3+json": {
       "column_count": 5,
       "columns": [
        {
         "dtype": "object",
         "name": "date",
         "stats": {
          "categories": [
           {
            "count": 541,
            "name": "2011-09-07"
           }
          ],
          "nan_count": 0,
          "unique_count": 1
         }
        },
        {
         "dtype": "object",
         "name": "time",
         "stats": {
          "categories": [
           {
            "count": 540,
            "name": "7:44:32 PM"
           },
           {
            "count": 1,
            "name": "7:43:40 PM"
           }
          ],
          "nan_count": 0,
          "unique_count": 2
         }
        },
        {
         "dtype": "float64",
         "name": "latitude",
         "stats": {
          "histogram": [
           {
            "bin_end": 41.98417100000003,
            "bin_start": 41.9839166666667,
            "count": 1
           },
           {
            "bin_end": 41.98442533333336,
            "bin_start": 41.98417100000003,
            "count": 0
           },
           {
            "bin_end": 41.98467966666669,
            "bin_start": 41.98442533333336,
            "count": 0
           },
           {
            "bin_end": 41.984934000000024,
            "bin_start": 41.98467966666669,
            "count": 0
           },
           {
            "bin_end": 41.985188333333355,
            "bin_start": 41.984934000000024,
            "count": 0
           },
           {
            "bin_end": 41.98544266666668,
            "bin_start": 41.985188333333355,
            "count": 0
           },
           {
            "bin_end": 41.98569700000001,
            "bin_start": 41.98544266666668,
            "count": 0
           },
           {
            "bin_end": 41.98595133333334,
            "bin_start": 41.98569700000001,
            "count": 0
           },
           {
            "bin_end": 41.98620566666667,
            "bin_start": 41.98595133333334,
            "count": 0
           },
           {
            "bin_end": 41.98646,
            "bin_start": 41.98620566666667,
            "count": 540
           }
          ],
          "max": "41.98646",
          "min": "41.9839166666667",
          "nan_count": 0,
          "unique_count": 2
         }
        },
        {
         "dtype": "float64",
         "name": "longitude",
         "stats": {
          "histogram": [
           {
            "bin_end": -87.79411133333333,
            "bin_start": -87.794225,
            "count": 540
           },
           {
            "bin_end": -87.79399766666666,
            "bin_start": -87.79411133333333,
            "count": 0
           },
           {
            "bin_end": -87.79388399999999,
            "bin_start": -87.79399766666666,
            "count": 0
           },
           {
            "bin_end": -87.79377033333331,
            "bin_start": -87.79388399999999,
            "count": 0
           },
           {
            "bin_end": -87.79365666666665,
            "bin_start": -87.79377033333331,
            "count": 0
           },
           {
            "bin_end": -87.79354299999999,
            "bin_start": -87.79365666666665,
            "count": 0
           },
           {
            "bin_end": -87.79342933333331,
            "bin_start": -87.79354299999999,
            "count": 0
           },
           {
            "bin_end": -87.79331566666664,
            "bin_start": -87.79342933333331,
            "count": 0
           },
           {
            "bin_end": -87.79320199999997,
            "bin_start": -87.79331566666664,
            "count": 0
           },
           {
            "bin_end": -87.7930883333333,
            "bin_start": -87.79320199999997,
            "count": 1
           }
          ],
          "max": "-87.7930883333333",
          "min": "-87.794225",
          "nan_count": 0,
          "unique_count": 2
         }
        },
        {
         "dtype": "bool",
         "name": "dupe",
         "stats": {
          "categories": [
           {
            "count": 541,
            "name": "True"
           }
          ],
          "nan_count": 0,
          "unique_count": 1
         }
        },
        {
         "dtype": "int64",
         "name": "_deepnote_index_column"
        }
       ],
       "row_count": 541,
       "rows": [
        {
         "_deepnote_index_column": "499",
         "date": "2011-09-07",
         "dupe": "True",
         "latitude": "41.98646",
         "longitude": "-87.794225",
         "time": "7:44:32 PM"
        },
        {
         "_deepnote_index_column": "500",
         "date": "2011-09-07",
         "dupe": "True",
         "latitude": "41.98646",
         "longitude": "-87.794225",
         "time": "7:44:32 PM"
        },
        {
         "_deepnote_index_column": "501",
         "date": "2011-09-07",
         "dupe": "True",
         "latitude": "41.98646",
         "longitude": "-87.794225",
         "time": "7:44:32 PM"
        },
        {
         "_deepnote_index_column": "502",
         "date": "2011-09-07",
         "dupe": "True",
         "latitude": "41.98646",
         "longitude": "-87.794225",
         "time": "7:44:32 PM"
        },
        {
         "_deepnote_index_column": "503",
         "date": "2011-09-07",
         "dupe": "True",
         "latitude": "41.98646",
         "longitude": "-87.794225",
         "time": "7:44:32 PM"
        },
        {
         "_deepnote_index_column": "504",
         "date": "2011-09-07",
         "dupe": "True",
         "latitude": "41.98646",
         "longitude": "-87.794225",
         "time": "7:44:32 PM"
        },
        {
         "_deepnote_index_column": "505",
         "date": "2011-09-07",
         "dupe": "True",
         "latitude": "41.98646",
         "longitude": "-87.794225",
         "time": "7:44:32 PM"
        },
        {
         "_deepnote_index_column": "506",
         "date": "2011-09-07",
         "dupe": "True",
         "latitude": "41.98646",
         "longitude": "-87.794225",
         "time": "7:44:32 PM"
        },
        {
         "_deepnote_index_column": "507",
         "date": "2011-09-07",
         "dupe": "True",
         "latitude": "41.98646",
         "longitude": "-87.794225",
         "time": "7:44:32 PM"
        },
        {
         "_deepnote_index_column": "508",
         "date": "2011-09-07",
         "dupe": "True",
         "latitude": "41.98646",
         "longitude": "-87.794225",
         "time": "7:44:32 PM"
        }
       ]
      },
      "text/html": [
       "<div>\n",
       "<style scoped>\n",
       "    .dataframe tbody tr th:only-of-type {\n",
       "        vertical-align: middle;\n",
       "    }\n",
       "\n",
       "    .dataframe tbody tr th {\n",
       "        vertical-align: top;\n",
       "    }\n",
       "\n",
       "    .dataframe thead th {\n",
       "        text-align: right;\n",
       "    }\n",
       "</style>\n",
       "<table border=\"1\" class=\"dataframe\">\n",
       "  <thead>\n",
       "    <tr style=\"text-align: right;\">\n",
       "      <th></th>\n",
       "      <th>date</th>\n",
       "      <th>time</th>\n",
       "      <th>latitude</th>\n",
       "      <th>longitude</th>\n",
       "      <th>dupe</th>\n",
       "    </tr>\n",
       "  </thead>\n",
       "  <tbody>\n",
       "    <tr>\n",
       "      <th>485</th>\n",
       "      <td>2011-09-07</td>\n",
       "      <td>7:43:40 PM</td>\n",
       "      <td>41.983917</td>\n",
       "      <td>-87.793088</td>\n",
       "      <td>True</td>\n",
       "    </tr>\n",
       "    <tr>\n",
       "      <th>490</th>\n",
       "      <td>2011-09-07</td>\n",
       "      <td>7:44:32 PM</td>\n",
       "      <td>41.986460</td>\n",
       "      <td>-87.794225</td>\n",
       "      <td>True</td>\n",
       "    </tr>\n",
       "    <tr>\n",
       "      <th>491</th>\n",
       "      <td>2011-09-07</td>\n",
       "      <td>7:44:32 PM</td>\n",
       "      <td>41.986460</td>\n",
       "      <td>-87.794225</td>\n",
       "      <td>True</td>\n",
       "    </tr>\n",
       "    <tr>\n",
       "      <th>492</th>\n",
       "      <td>2011-09-07</td>\n",
       "      <td>7:44:32 PM</td>\n",
       "      <td>41.986460</td>\n",
       "      <td>-87.794225</td>\n",
       "      <td>True</td>\n",
       "    </tr>\n",
       "    <tr>\n",
       "      <th>493</th>\n",
       "      <td>2011-09-07</td>\n",
       "      <td>7:44:32 PM</td>\n",
       "      <td>41.986460</td>\n",
       "      <td>-87.794225</td>\n",
       "      <td>True</td>\n",
       "    </tr>\n",
       "    <tr>\n",
       "      <th>...</th>\n",
       "      <td>...</td>\n",
       "      <td>...</td>\n",
       "      <td>...</td>\n",
       "      <td>...</td>\n",
       "      <td>...</td>\n",
       "    </tr>\n",
       "    <tr>\n",
       "      <th>1025</th>\n",
       "      <td>2011-09-07</td>\n",
       "      <td>7:44:32 PM</td>\n",
       "      <td>41.986460</td>\n",
       "      <td>-87.794225</td>\n",
       "      <td>True</td>\n",
       "    </tr>\n",
       "    <tr>\n",
       "      <th>1026</th>\n",
       "      <td>2011-09-07</td>\n",
       "      <td>7:44:32 PM</td>\n",
       "      <td>41.986460</td>\n",
       "      <td>-87.794225</td>\n",
       "      <td>True</td>\n",
       "    </tr>\n",
       "    <tr>\n",
       "      <th>1027</th>\n",
       "      <td>2011-09-07</td>\n",
       "      <td>7:44:32 PM</td>\n",
       "      <td>41.986460</td>\n",
       "      <td>-87.794225</td>\n",
       "      <td>True</td>\n",
       "    </tr>\n",
       "    <tr>\n",
       "      <th>1028</th>\n",
       "      <td>2011-09-07</td>\n",
       "      <td>7:44:32 PM</td>\n",
       "      <td>41.986460</td>\n",
       "      <td>-87.794225</td>\n",
       "      <td>True</td>\n",
       "    </tr>\n",
       "    <tr>\n",
       "      <th>1029</th>\n",
       "      <td>2011-09-07</td>\n",
       "      <td>7:44:32 PM</td>\n",
       "      <td>41.986460</td>\n",
       "      <td>-87.794225</td>\n",
       "      <td>True</td>\n",
       "    </tr>\n",
       "  </tbody>\n",
       "</table>\n",
       "<p>541 rows × 5 columns</p>\n",
       "</div>"
      ],
      "text/plain": [
       "            date        time   latitude  longitude  dupe\n",
       "485   2011-09-07  7:43:40 PM  41.983917 -87.793088  True\n",
       "490   2011-09-07  7:44:32 PM  41.986460 -87.794225  True\n",
       "491   2011-09-07  7:44:32 PM  41.986460 -87.794225  True\n",
       "492   2011-09-07  7:44:32 PM  41.986460 -87.794225  True\n",
       "493   2011-09-07  7:44:32 PM  41.986460 -87.794225  True\n",
       "...          ...         ...        ...        ...   ...\n",
       "1025  2011-09-07  7:44:32 PM  41.986460 -87.794225  True\n",
       "1026  2011-09-07  7:44:32 PM  41.986460 -87.794225  True\n",
       "1027  2011-09-07  7:44:32 PM  41.986460 -87.794225  True\n",
       "1028  2011-09-07  7:44:32 PM  41.986460 -87.794225  True\n",
       "1029  2011-09-07  7:44:32 PM  41.986460 -87.794225  True\n",
       "\n",
       "[541 rows x 5 columns]"
      ]
     },
     "metadata": {},
     "output_type": "display_data"
    }
   ],
   "source": [
    "# Count the number of duplicates in the dataset\n",
    "print(f'There are {spray_df.duplicated().sum()} duplicate rows in the spray_df dataset.')\n",
    "\n",
    "# Show the duplicates in the dataset\n",
    "print('Duplicate rows in the dataset:')\n",
    "spray_df['dupe'] = spray_df.duplicated()\n",
    "display(spray_df[spray_df['dupe'] == True])"
   ]
  },
  {
   "cell_type": "code",
   "execution_count": 14,
   "metadata": {
    "cell_id": "2206884b2b124a5aa14c9e9c91a66a90",
    "deepnote_cell_type": "code",
    "deepnote_to_be_reexecuted": false,
    "execution_millis": 110,
    "execution_start": 1670652601053,
    "source_hash": "975a676d",
    "tags": []
   },
   "outputs": [
    {
     "name": "stdout",
     "output_type": "stream",
     "text": [
      "There are 0 duplicate rows in the weather_df dataset.\n",
      "Duplicate rows in the dataset:\n"
     ]
    },
    {
     "data": {
      "application/vnd.deepnote.dataframe.v3+json": {
       "column_count": 23,
       "columns": [
        {
         "dtype": "int64",
         "name": "station",
         "stats": {
          "histogram": [
           {
            "bin_end": 0.1,
            "bin_start": 0,
            "count": 0
           },
           {
            "bin_end": 0.2,
            "bin_start": 0.1,
            "count": 0
           },
           {
            "bin_end": 0.30000000000000004,
            "bin_start": 0.2,
            "count": 0
           },
           {
            "bin_end": 0.4,
            "bin_start": 0.30000000000000004,
            "count": 0
           },
           {
            "bin_end": 0.5,
            "bin_start": 0.4,
            "count": 0
           },
           {
            "bin_end": 0.6000000000000001,
            "bin_start": 0.5,
            "count": 0
           },
           {
            "bin_end": 0.7000000000000001,
            "bin_start": 0.6000000000000001,
            "count": 0
           },
           {
            "bin_end": 0.8,
            "bin_start": 0.7000000000000001,
            "count": 0
           },
           {
            "bin_end": 0.9,
            "bin_start": 0.8,
            "count": 0
           },
           {
            "bin_end": 1,
            "bin_start": 0.9,
            "count": 0
           }
          ],
          "max": null,
          "min": null,
          "nan_count": 0,
          "unique_count": 0
         }
        },
        {
         "dtype": "object",
         "name": "date",
         "stats": {
          "categories": [],
          "nan_count": 0,
          "unique_count": 0
         }
        },
        {
         "dtype": "int64",
         "name": "tmax",
         "stats": {
          "histogram": [
           {
            "bin_end": 0.1,
            "bin_start": 0,
            "count": 0
           },
           {
            "bin_end": 0.2,
            "bin_start": 0.1,
            "count": 0
           },
           {
            "bin_end": 0.30000000000000004,
            "bin_start": 0.2,
            "count": 0
           },
           {
            "bin_end": 0.4,
            "bin_start": 0.30000000000000004,
            "count": 0
           },
           {
            "bin_end": 0.5,
            "bin_start": 0.4,
            "count": 0
           },
           {
            "bin_end": 0.6000000000000001,
            "bin_start": 0.5,
            "count": 0
           },
           {
            "bin_end": 0.7000000000000001,
            "bin_start": 0.6000000000000001,
            "count": 0
           },
           {
            "bin_end": 0.8,
            "bin_start": 0.7000000000000001,
            "count": 0
           },
           {
            "bin_end": 0.9,
            "bin_start": 0.8,
            "count": 0
           },
           {
            "bin_end": 1,
            "bin_start": 0.9,
            "count": 0
           }
          ],
          "max": null,
          "min": null,
          "nan_count": 0,
          "unique_count": 0
         }
        },
        {
         "dtype": "int64",
         "name": "tmin",
         "stats": {
          "histogram": [
           {
            "bin_end": 0.1,
            "bin_start": 0,
            "count": 0
           },
           {
            "bin_end": 0.2,
            "bin_start": 0.1,
            "count": 0
           },
           {
            "bin_end": 0.30000000000000004,
            "bin_start": 0.2,
            "count": 0
           },
           {
            "bin_end": 0.4,
            "bin_start": 0.30000000000000004,
            "count": 0
           },
           {
            "bin_end": 0.5,
            "bin_start": 0.4,
            "count": 0
           },
           {
            "bin_end": 0.6000000000000001,
            "bin_start": 0.5,
            "count": 0
           },
           {
            "bin_end": 0.7000000000000001,
            "bin_start": 0.6000000000000001,
            "count": 0
           },
           {
            "bin_end": 0.8,
            "bin_start": 0.7000000000000001,
            "count": 0
           },
           {
            "bin_end": 0.9,
            "bin_start": 0.8,
            "count": 0
           },
           {
            "bin_end": 1,
            "bin_start": 0.9,
            "count": 0
           }
          ],
          "max": null,
          "min": null,
          "nan_count": 0,
          "unique_count": 0
         }
        },
        {
         "dtype": "object",
         "name": "tavg",
         "stats": {
          "categories": [],
          "nan_count": 0,
          "unique_count": 0
         }
        },
        {
         "dtype": "object",
         "name": "depart",
         "stats": {
          "categories": [],
          "nan_count": 0,
          "unique_count": 0
         }
        },
        {
         "dtype": "int64",
         "name": "dewpoint",
         "stats": {
          "histogram": [
           {
            "bin_end": 0.1,
            "bin_start": 0,
            "count": 0
           },
           {
            "bin_end": 0.2,
            "bin_start": 0.1,
            "count": 0
           },
           {
            "bin_end": 0.30000000000000004,
            "bin_start": 0.2,
            "count": 0
           },
           {
            "bin_end": 0.4,
            "bin_start": 0.30000000000000004,
            "count": 0
           },
           {
            "bin_end": 0.5,
            "bin_start": 0.4,
            "count": 0
           },
           {
            "bin_end": 0.6000000000000001,
            "bin_start": 0.5,
            "count": 0
           },
           {
            "bin_end": 0.7000000000000001,
            "bin_start": 0.6000000000000001,
            "count": 0
           },
           {
            "bin_end": 0.8,
            "bin_start": 0.7000000000000001,
            "count": 0
           },
           {
            "bin_end": 0.9,
            "bin_start": 0.8,
            "count": 0
           },
           {
            "bin_end": 1,
            "bin_start": 0.9,
            "count": 0
           }
          ],
          "max": null,
          "min": null,
          "nan_count": 0,
          "unique_count": 0
         }
        },
        {
         "dtype": "object",
         "name": "wetbulb",
         "stats": {
          "categories": [],
          "nan_count": 0,
          "unique_count": 0
         }
        },
        {
         "dtype": "object",
         "name": "heat",
         "stats": {
          "categories": [],
          "nan_count": 0,
          "unique_count": 0
         }
        },
        {
         "dtype": "object",
         "name": "cool",
         "stats": {
          "categories": [],
          "nan_count": 0,
          "unique_count": 0
         }
        },
        {
         "dtype": "object",
         "name": "sunrise",
         "stats": {
          "categories": [],
          "nan_count": 0,
          "unique_count": 0
         }
        },
        {
         "dtype": "object",
         "name": "sunset",
         "stats": {
          "categories": [],
          "nan_count": 0,
          "unique_count": 0
         }
        },
        {
         "dtype": "object",
         "name": "codesum",
         "stats": {
          "categories": [],
          "nan_count": 0,
          "unique_count": 0
         }
        },
        {
         "dtype": "object",
         "name": "depth",
         "stats": {
          "categories": [],
          "nan_count": 0,
          "unique_count": 0
         }
        },
        {
         "dtype": "object",
         "name": "water1",
         "stats": {
          "categories": [],
          "nan_count": 0,
          "unique_count": 0
         }
        },
        {
         "dtype": "object",
         "name": "snowfall",
         "stats": {
          "categories": [],
          "nan_count": 0,
          "unique_count": 0
         }
        },
        {
         "dtype": "object",
         "name": "preciptotal",
         "stats": {
          "categories": [],
          "nan_count": 0,
          "unique_count": 0
         }
        },
        {
         "dtype": "object",
         "name": "stnpressure",
         "stats": {
          "categories": [],
          "nan_count": 0,
          "unique_count": 0
         }
        },
        {
         "dtype": "object",
         "name": "sealevel",
         "stats": {
          "categories": [],
          "nan_count": 0,
          "unique_count": 0
         }
        },
        {
         "dtype": "float64",
         "name": "resultspeed",
         "stats": {
          "histogram": [
           {
            "bin_end": 0.1,
            "bin_start": 0,
            "count": 0
           },
           {
            "bin_end": 0.2,
            "bin_start": 0.1,
            "count": 0
           },
           {
            "bin_end": 0.30000000000000004,
            "bin_start": 0.2,
            "count": 0
           },
           {
            "bin_end": 0.4,
            "bin_start": 0.30000000000000004,
            "count": 0
           },
           {
            "bin_end": 0.5,
            "bin_start": 0.4,
            "count": 0
           },
           {
            "bin_end": 0.6000000000000001,
            "bin_start": 0.5,
            "count": 0
           },
           {
            "bin_end": 0.7000000000000001,
            "bin_start": 0.6000000000000001,
            "count": 0
           },
           {
            "bin_end": 0.8,
            "bin_start": 0.7000000000000001,
            "count": 0
           },
           {
            "bin_end": 0.9,
            "bin_start": 0.8,
            "count": 0
           },
           {
            "bin_end": 1,
            "bin_start": 0.9,
            "count": 0
           }
          ],
          "max": null,
          "min": null,
          "nan_count": 0,
          "unique_count": 0
         }
        },
        {
         "dtype": "int64",
         "name": "resultdir",
         "stats": {
          "histogram": [
           {
            "bin_end": 0.1,
            "bin_start": 0,
            "count": 0
           },
           {
            "bin_end": 0.2,
            "bin_start": 0.1,
            "count": 0
           },
           {
            "bin_end": 0.30000000000000004,
            "bin_start": 0.2,
            "count": 0
           },
           {
            "bin_end": 0.4,
            "bin_start": 0.30000000000000004,
            "count": 0
           },
           {
            "bin_end": 0.5,
            "bin_start": 0.4,
            "count": 0
           },
           {
            "bin_end": 0.6000000000000001,
            "bin_start": 0.5,
            "count": 0
           },
           {
            "bin_end": 0.7000000000000001,
            "bin_start": 0.6000000000000001,
            "count": 0
           },
           {
            "bin_end": 0.8,
            "bin_start": 0.7000000000000001,
            "count": 0
           },
           {
            "bin_end": 0.9,
            "bin_start": 0.8,
            "count": 0
           },
           {
            "bin_end": 1,
            "bin_start": 0.9,
            "count": 0
           }
          ],
          "max": null,
          "min": null,
          "nan_count": 0,
          "unique_count": 0
         }
        },
        {
         "dtype": "object",
         "name": "avgspeed",
         "stats": {
          "categories": [],
          "nan_count": 0,
          "unique_count": 0
         }
        },
        {
         "dtype": "bool",
         "name": "dupe",
         "stats": {
          "categories": [],
          "nan_count": 0,
          "unique_count": 0
         }
        },
        {
         "dtype": "int64",
         "name": "_deepnote_index_column"
        }
       ],
       "row_count": 0,
       "rows": []
      },
      "text/html": [
       "<div>\n",
       "<style scoped>\n",
       "    .dataframe tbody tr th:only-of-type {\n",
       "        vertical-align: middle;\n",
       "    }\n",
       "\n",
       "    .dataframe tbody tr th {\n",
       "        vertical-align: top;\n",
       "    }\n",
       "\n",
       "    .dataframe thead th {\n",
       "        text-align: right;\n",
       "    }\n",
       "</style>\n",
       "<table border=\"1\" class=\"dataframe\">\n",
       "  <thead>\n",
       "    <tr style=\"text-align: right;\">\n",
       "      <th></th>\n",
       "      <th>station</th>\n",
       "      <th>date</th>\n",
       "      <th>tmax</th>\n",
       "      <th>tmin</th>\n",
       "      <th>tavg</th>\n",
       "      <th>depart</th>\n",
       "      <th>dewpoint</th>\n",
       "      <th>wetbulb</th>\n",
       "      <th>heat</th>\n",
       "      <th>cool</th>\n",
       "      <th>...</th>\n",
       "      <th>depth</th>\n",
       "      <th>water1</th>\n",
       "      <th>snowfall</th>\n",
       "      <th>preciptotal</th>\n",
       "      <th>stnpressure</th>\n",
       "      <th>sealevel</th>\n",
       "      <th>resultspeed</th>\n",
       "      <th>resultdir</th>\n",
       "      <th>avgspeed</th>\n",
       "      <th>dupe</th>\n",
       "    </tr>\n",
       "  </thead>\n",
       "  <tbody>\n",
       "  </tbody>\n",
       "</table>\n",
       "<p>0 rows × 23 columns</p>\n",
       "</div>"
      ],
      "text/plain": [
       "Empty DataFrame\n",
       "Columns: [station, date, tmax, tmin, tavg, depart, dewpoint, wetbulb, heat, cool, sunrise, sunset, codesum, depth, water1, snowfall, preciptotal, stnpressure, sealevel, resultspeed, resultdir, avgspeed, dupe]\n",
       "Index: []\n",
       "\n",
       "[0 rows x 23 columns]"
      ]
     },
     "metadata": {},
     "output_type": "display_data"
    }
   ],
   "source": [
    "# Count the number of duplicates in the dataset\n",
    "print(f'There are {weather_df.duplicated().sum()} duplicate rows in the weather_df dataset.')\n",
    "\n",
    "# Show the duplicates in the dataset\n",
    "print('Duplicate rows in the dataset:')\n",
    "weather_df['dupe'] = weather_df.duplicated()\n",
    "display(weather_df[weather_df['dupe'] == True])"
   ]
  },
  {
   "cell_type": "markdown",
   "metadata": {
    "cell_id": "f417c6851ec34f6c94244d464c244203",
    "deepnote_cell_type": "text-cell-p",
    "formattedRanges": [
     {
      "fromCodePoint": 0,
      "marks": {
       "bold": true
      },
      "toCodePoint": 23,
      "type": "marks"
     }
    ],
    "is_collapsed": false,
    "tags": []
   },
   "source": [
    "Dealing with duplicates"
   ]
  },
  {
   "cell_type": "code",
   "execution_count": 15,
   "metadata": {
    "cell_id": "6b93528ba167467d9bc0d2cb93546a48",
    "deepnote_cell_type": "code",
    "deepnote_to_be_reexecuted": false,
    "execution_millis": 7,
    "execution_start": 1670652601075,
    "source_hash": "1975e304",
    "tags": []
   },
   "outputs": [],
   "source": [
    "# Drop duplicate rows in spray_df dataset\n",
    "spray_df.drop('dupe', axis = 1, inplace = True)\n",
    "\n",
    "# Remove duplicates\n",
    "spray_df.drop_duplicates(keep = 'first', inplace = True)"
   ]
  },
  {
   "cell_type": "code",
   "execution_count": 16,
   "metadata": {
    "cell_id": "c6bfecd3275847c3a3153b4d0e41d176",
    "deepnote_cell_type": "code",
    "deepnote_to_be_reexecuted": false,
    "execution_millis": 33,
    "execution_start": 1670652601131,
    "source_hash": "2894e9b1",
    "tags": []
   },
   "outputs": [
    {
     "data": {
      "application/vnd.deepnote.dataframe.v3+json": {
       "column_count": 4,
       "columns": [
        {
         "dtype": "object",
         "name": "date",
         "stats": {
          "categories": [
           {
            "count": 5,
            "name": "2011-08-29"
           }
          ],
          "nan_count": 0,
          "unique_count": 1
         }
        },
        {
         "dtype": "object",
         "name": "time",
         "stats": {
          "categories": [
           {
            "count": 1,
            "name": "6:56:58 PM"
           },
           {
            "count": 1,
            "name": "6:57:08 PM"
           },
           {
            "count": 3,
            "name": "3 others"
           }
          ],
          "nan_count": 0,
          "unique_count": 5
         }
        },
        {
         "dtype": "float64",
         "name": "latitude",
         "stats": {
          "histogram": [
           {
            "bin_end": 42.390531333333335,
            "bin_start": 42.39041,
            "count": 1
           },
           {
            "bin_end": 42.39065266666666,
            "bin_start": 42.390531333333335,
            "count": 1
           },
           {
            "bin_end": 42.39077399999999,
            "bin_start": 42.39065266666666,
            "count": 0
           },
           {
            "bin_end": 42.39089533333332,
            "bin_start": 42.39077399999999,
            "count": 0
           },
           {
            "bin_end": 42.39101666666665,
            "bin_start": 42.39089533333332,
            "count": 0
           },
           {
            "bin_end": 42.391137999999984,
            "bin_start": 42.39101666666665,
            "count": 1
           },
           {
            "bin_end": 42.39125933333331,
            "bin_start": 42.391137999999984,
            "count": 0
           },
           {
            "bin_end": 42.39138066666664,
            "bin_start": 42.39125933333331,
            "count": 1
           },
           {
            "bin_end": 42.39150199999997,
            "bin_start": 42.39138066666664,
            "count": 0
           },
           {
            "bin_end": 42.3916233333333,
            "bin_start": 42.39150199999997,
            "count": 1
           }
          ],
          "max": "42.3916233333333",
          "min": "42.39041",
          "nan_count": 0,
          "unique_count": 5
         }
        },
        {
         "dtype": "float64",
         "name": "longitude",
         "stats": {
          "histogram": [
           {
            "bin_end": -88.08913283333331,
            "bin_start": -88.0891633333333,
            "count": 4
           },
           {
            "bin_end": -88.0891023333333,
            "bin_start": -88.08913283333331,
            "count": 0
           },
           {
            "bin_end": -88.0890718333333,
            "bin_start": -88.0891023333333,
            "count": 0
           },
           {
            "bin_end": -88.0890413333333,
            "bin_start": -88.0890718333333,
            "count": 0
           },
           {
            "bin_end": -88.0890108333333,
            "bin_start": -88.0890413333333,
            "count": 0
           },
           {
            "bin_end": -88.08898033333331,
            "bin_start": -88.0890108333333,
            "count": 0
           },
           {
            "bin_end": -88.0889498333333,
            "bin_start": -88.08898033333331,
            "count": 0
           },
           {
            "bin_end": -88.08891933333331,
            "bin_start": -88.0889498333333,
            "count": 0
           },
           {
            "bin_end": -88.0888888333333,
            "bin_start": -88.08891933333331,
            "count": 0
           },
           {
            "bin_end": -88.0888583333333,
            "bin_start": -88.0888888333333,
            "count": 1
           }
          ],
          "max": "-88.0888583333333",
          "min": "-88.0891633333333",
          "nan_count": 0,
          "unique_count": 4
         }
        },
        {
         "dtype": "int64",
         "name": "_deepnote_index_column"
        }
       ],
       "row_count": 5,
       "rows": [
        {
         "_deepnote_index_column": "0",
         "date": "2011-08-29",
         "latitude": "42.3916233333333",
         "longitude": "-88.0891633333333",
         "time": "6:56:58 PM"
        },
        {
         "_deepnote_index_column": "1",
         "date": "2011-08-29",
         "latitude": "42.3913483333333",
         "longitude": "-88.0891633333333",
         "time": "6:57:08 PM"
        },
        {
         "_deepnote_index_column": "2",
         "date": "2011-08-29",
         "latitude": "42.3910216666667",
         "longitude": "-88.0891566666667",
         "time": "6:57:18 PM"
        },
        {
         "_deepnote_index_column": "3",
         "date": "2011-08-29",
         "latitude": "42.3906366666667",
         "longitude": "-88.0891583333333",
         "time": "6:57:28 PM"
        },
        {
         "_deepnote_index_column": "4",
         "date": "2011-08-29",
         "latitude": "42.39041",
         "longitude": "-88.0888583333333",
         "time": "6:57:38 PM"
        }
       ]
      },
      "text/html": [
       "<div>\n",
       "<style scoped>\n",
       "    .dataframe tbody tr th:only-of-type {\n",
       "        vertical-align: middle;\n",
       "    }\n",
       "\n",
       "    .dataframe tbody tr th {\n",
       "        vertical-align: top;\n",
       "    }\n",
       "\n",
       "    .dataframe thead th {\n",
       "        text-align: right;\n",
       "    }\n",
       "</style>\n",
       "<table border=\"1\" class=\"dataframe\">\n",
       "  <thead>\n",
       "    <tr style=\"text-align: right;\">\n",
       "      <th></th>\n",
       "      <th>date</th>\n",
       "      <th>time</th>\n",
       "      <th>latitude</th>\n",
       "      <th>longitude</th>\n",
       "    </tr>\n",
       "  </thead>\n",
       "  <tbody>\n",
       "    <tr>\n",
       "      <th>0</th>\n",
       "      <td>2011-08-29</td>\n",
       "      <td>6:56:58 PM</td>\n",
       "      <td>42.391623</td>\n",
       "      <td>-88.089163</td>\n",
       "    </tr>\n",
       "    <tr>\n",
       "      <th>1</th>\n",
       "      <td>2011-08-29</td>\n",
       "      <td>6:57:08 PM</td>\n",
       "      <td>42.391348</td>\n",
       "      <td>-88.089163</td>\n",
       "    </tr>\n",
       "    <tr>\n",
       "      <th>2</th>\n",
       "      <td>2011-08-29</td>\n",
       "      <td>6:57:18 PM</td>\n",
       "      <td>42.391022</td>\n",
       "      <td>-88.089157</td>\n",
       "    </tr>\n",
       "    <tr>\n",
       "      <th>3</th>\n",
       "      <td>2011-08-29</td>\n",
       "      <td>6:57:28 PM</td>\n",
       "      <td>42.390637</td>\n",
       "      <td>-88.089158</td>\n",
       "    </tr>\n",
       "    <tr>\n",
       "      <th>4</th>\n",
       "      <td>2011-08-29</td>\n",
       "      <td>6:57:38 PM</td>\n",
       "      <td>42.390410</td>\n",
       "      <td>-88.088858</td>\n",
       "    </tr>\n",
       "  </tbody>\n",
       "</table>\n",
       "</div>"
      ],
      "text/plain": [
       "         date        time   latitude  longitude\n",
       "0  2011-08-29  6:56:58 PM  42.391623 -88.089163\n",
       "1  2011-08-29  6:57:08 PM  42.391348 -88.089163\n",
       "2  2011-08-29  6:57:18 PM  42.391022 -88.089157\n",
       "3  2011-08-29  6:57:28 PM  42.390637 -88.089158\n",
       "4  2011-08-29  6:57:38 PM  42.390410 -88.088858"
      ]
     },
     "execution_count": 16,
     "metadata": {},
     "output_type": "execute_result"
    }
   ],
   "source": [
    "spray_df.head()"
   ]
  },
  {
   "cell_type": "markdown",
   "metadata": {
    "cell_id": "cd2eaba4674846e5a57964f45700384e",
    "deepnote_cell_type": "text-cell-p",
    "formattedRanges": [
     {
      "fromCodePoint": 0,
      "marks": {
       "bold": true
      },
      "toCodePoint": 14,
      "type": "marks"
     }
    ],
    "is_collapsed": false,
    "tags": []
   },
   "source": [
    "Missing Values"
   ]
  },
  {
   "cell_type": "code",
   "execution_count": 17,
   "metadata": {
    "cell_id": "b2a5efdce3e445c4995f7cec7307af8d",
    "deepnote_cell_type": "code",
    "deepnote_to_be_reexecuted": false,
    "execution_millis": 32,
    "execution_start": 1670652601132,
    "source_hash": "8f6ba0fa",
    "tags": []
   },
   "outputs": [
    {
     "data": {
      "text/plain": [
       "False"
      ]
     },
     "execution_count": 17,
     "metadata": {},
     "output_type": "execute_result"
    }
   ],
   "source": [
    "train_df.isnull().values.any()"
   ]
  },
  {
   "cell_type": "code",
   "execution_count": 18,
   "metadata": {
    "cell_id": "f9ec676e56af47f6a7a3e006eba70419",
    "deepnote_cell_type": "code",
    "deepnote_to_be_reexecuted": false,
    "execution_millis": 6,
    "execution_start": 1670652601165,
    "source_hash": "7357ed99",
    "tags": []
   },
   "outputs": [
    {
     "data": {
      "text/plain": [
       "False"
      ]
     },
     "execution_count": 18,
     "metadata": {},
     "output_type": "execute_result"
    }
   ],
   "source": [
    "test_df.isnull().values.any()"
   ]
  },
  {
   "cell_type": "code",
   "execution_count": 19,
   "metadata": {
    "cell_id": "de647fe876ef4f249c22db1636020f96",
    "deepnote_cell_type": "code",
    "deepnote_to_be_reexecuted": false,
    "execution_millis": 4,
    "execution_start": 1670652601167,
    "source_hash": "b4e8c581",
    "tags": []
   },
   "outputs": [
    {
     "data": {
      "text/plain": [
       "True"
      ]
     },
     "execution_count": 19,
     "metadata": {},
     "output_type": "execute_result"
    }
   ],
   "source": [
    "spray_df.isnull().values.any()"
   ]
  },
  {
   "cell_type": "code",
   "execution_count": 20,
   "metadata": {
    "cell_id": "4172ed147b0447b89ac39868acb10b56",
    "deepnote_cell_type": "code",
    "deepnote_to_be_reexecuted": false,
    "execution_millis": 4,
    "execution_start": 1670652601168,
    "source_hash": "d9b657ac",
    "tags": []
   },
   "outputs": [
    {
     "name": "stdout",
     "output_type": "stream",
     "text": [
      "<class 'pandas.core.frame.DataFrame'>\n",
      "Int64Index: 14294 entries, 0 to 14834\n",
      "Data columns (total 4 columns):\n",
      " #   Column     Non-Null Count  Dtype  \n",
      "---  ------     --------------  -----  \n",
      " 0   date       14294 non-null  object \n",
      " 1   time       13710 non-null  object \n",
      " 2   latitude   14294 non-null  float64\n",
      " 3   longitude  14294 non-null  float64\n",
      "dtypes: float64(2), object(2)\n",
      "memory usage: 558.4+ KB\n"
     ]
    }
   ],
   "source": [
    "spray_df.info()"
   ]
  },
  {
   "cell_type": "code",
   "execution_count": 21,
   "metadata": {
    "cell_id": "33b3785f03584e06a984b1fbc6d89cc8",
    "deepnote_cell_type": "code",
    "deepnote_to_be_reexecuted": false,
    "execution_millis": 5,
    "execution_start": 1670652601170,
    "source_hash": "9143b3cc",
    "tags": []
   },
   "outputs": [
    {
     "data": {
      "text/plain": [
       "date           0\n",
       "time         584\n",
       "latitude       0\n",
       "longitude      0\n",
       "dtype: int64"
      ]
     },
     "execution_count": 21,
     "metadata": {},
     "output_type": "execute_result"
    }
   ],
   "source": [
    "spray_df.isnull().sum()"
   ]
  },
  {
   "cell_type": "code",
   "execution_count": 22,
   "metadata": {
    "cell_id": "aa8feb098dfb482caa3860bc8d4e04f9",
    "deepnote_cell_type": "code",
    "deepnote_to_be_reexecuted": false,
    "execution_millis": 7,
    "execution_start": 1670652601175,
    "source_hash": "69bb2ed1",
    "tags": []
   },
   "outputs": [
    {
     "data": {
      "text/plain": [
       "False"
      ]
     },
     "execution_count": 22,
     "metadata": {},
     "output_type": "execute_result"
    }
   ],
   "source": [
    "weather_df.isnull().values.any()"
   ]
  },
  {
   "cell_type": "code",
   "execution_count": 23,
   "metadata": {
    "cell_id": "c37e6bd39e324e1497397035c0f41554",
    "deepnote_cell_type": "code",
    "deepnote_to_be_reexecuted": false,
    "execution_millis": 46,
    "execution_start": 1670652601182,
    "source_hash": "78424637",
    "tags": []
   },
   "outputs": [],
   "source": [
    "#For weather_df, missing values were imputed with 'M',unavailable values imputed with '-' or ' ' and trace precipitate imputed with 'T'\n",
    "\n",
    "# Replace 'M' with null values\n",
    "weather_df.replace(to_replace = \"M\", value = np.NaN, regex = False, inplace = True)\n",
    "\n",
    "# Replace '-' with null values\n",
    "weather_df.replace(to_replace = \"-\", value = np.NaN, regex = False, inplace = True)\n",
    "\n",
    "# Replace ' ' with null values\n",
    "weather_df.replace(to_replace = \" \", value = np.NaN, regex = False, inplace = True)\n",
    "\n",
    "# Replace '  T' with null values\n",
    "weather_df.replace(to_replace = \"  T\", value = np.NaN, regex = False, inplace = True)\n"
   ]
  },
  {
   "cell_type": "code",
   "execution_count": 24,
   "metadata": {
    "cell_id": "f38e21338a474811aa6d910b246d9e64",
    "deepnote_cell_type": "code",
    "deepnote_to_be_reexecuted": false,
    "execution_millis": 9,
    "execution_start": 1670652601233,
    "source_hash": "da213964",
    "tags": []
   },
   "outputs": [
    {
     "name": "stdout",
     "output_type": "stream",
     "text": [
      "Number of null values in 'weather' dataset:\n",
      "water1         2944\n",
      "codesum        1609\n",
      "snowfall       1484\n",
      "sunset         1472\n",
      "sunrise        1472\n",
      "depth          1472\n",
      "depart         1472\n",
      "preciptotal     320\n",
      "cool             11\n",
      "tavg             11\n",
      "heat             11\n",
      "sealevel          9\n",
      "stnpressure       4\n",
      "wetbulb           4\n",
      "avgspeed          3\n",
      "resultspeed       0\n",
      "resultdir         0\n",
      "station           0\n",
      "date              0\n",
      "dewpoint          0\n",
      "tmin              0\n",
      "tmax              0\n",
      "dupe              0\n"
     ]
    }
   ],
   "source": [
    "# Check columns with null values in weather_df\n",
    "print('Number of null values in \\'weather\\' dataset:')\n",
    "print(weather_df.isnull().sum().sort_values(ascending=False).to_string())"
   ]
  },
  {
   "cell_type": "markdown",
   "metadata": {
    "cell_id": "9ac8e9ad490945fa874f32f9b0d4940d",
    "deepnote_cell_type": "text-cell-p",
    "formattedRanges": [
     {
      "fromCodePoint": 0,
      "marks": {
       "bold": true
      },
      "toCodePoint": 27,
      "type": "marks"
     }
    ],
    "is_collapsed": false,
    "tags": []
   },
   "source": [
    "Dealing with missing values"
   ]
  },
  {
   "cell_type": "code",
   "execution_count": 25,
   "metadata": {
    "cell_id": "16ae5f411e8b48a5bd131698baff8ccc",
    "deepnote_cell_type": "code",
    "deepnote_to_be_reexecuted": false,
    "execution_millis": 6,
    "execution_start": 1670652601241,
    "source_hash": "8a8ed53d",
    "tags": []
   },
   "outputs": [
    {
     "name": "stdout",
     "output_type": "stream",
     "text": [
      "The middle point between the start and end-time is:\n",
      "19:45:31\n"
     ]
    },
    {
     "data": {
      "text/plain": [
       "date         0\n",
       "time         0\n",
       "latitude     0\n",
       "longitude    0\n",
       "dtype: int64"
      ]
     },
     "execution_count": 25,
     "metadata": {},
     "output_type": "execute_result"
    }
   ],
   "source": [
    "# Impute values for rows with missing values in spray_df\n",
    "\n",
    "# Define the start time and end time\n",
    "start_time = '19:44:32'\n",
    "end_time = '19:46:30'\n",
    "time_format = '%H:%M:%S'\n",
    "\n",
    "# Convert to the datetime object\n",
    "start = dt.datetime.strptime(start_time, time_format)\n",
    "end = dt.datetime.strptime(end_time, time_format)\n",
    "\n",
    "# Find midpoint between start-time and end-time\n",
    "half_seconds = (end - start).total_seconds() / 2\n",
    "half = start + dt.timedelta(seconds=half_seconds)\n",
    "print('The middle point between the start and end-time is:')\n",
    "print(half.time())\n",
    "\n",
    "# Converting null values in the 'time' column to '07:45:31 PM'\n",
    "spray_df['time'] = spray_df['time'].fillna(\"07:45:31 PM\")\n",
    "\n",
    "# Check again for nulls in spray_df\n",
    "spray_df.isnull().sum()"
   ]
  },
  {
   "cell_type": "code",
   "execution_count": 26,
   "metadata": {
    "cell_id": "5c9f20c2fa1c416c94a6b205957d844a",
    "deepnote_cell_type": "code",
    "deepnote_to_be_reexecuted": false,
    "execution_millis": 4,
    "execution_start": 1670652601288,
    "source_hash": "c97c500b",
    "tags": []
   },
   "outputs": [
    {
     "data": {
      "application/vnd.deepnote.dataframe.v3+json": {
       "column_count": 23,
       "columns": [
        {
         "dtype": "int64",
         "name": "station",
         "stats": {
          "histogram": [
           {
            "bin_end": 1.1,
            "bin_start": 1,
            "count": 3
           },
           {
            "bin_end": 1.2,
            "bin_start": 1.1,
            "count": 0
           },
           {
            "bin_end": 1.3,
            "bin_start": 1.2,
            "count": 0
           },
           {
            "bin_end": 1.4,
            "bin_start": 1.3,
            "count": 0
           },
           {
            "bin_end": 1.5,
            "bin_start": 1.4,
            "count": 0
           },
           {
            "bin_end": 1.6,
            "bin_start": 1.5,
            "count": 0
           },
           {
            "bin_end": 1.7000000000000002,
            "bin_start": 1.6,
            "count": 0
           },
           {
            "bin_end": 1.8,
            "bin_start": 1.7000000000000002,
            "count": 0
           },
           {
            "bin_end": 1.9,
            "bin_start": 1.8,
            "count": 0
           },
           {
            "bin_end": 2,
            "bin_start": 1.9,
            "count": 2
           }
          ],
          "max": "2",
          "min": "1",
          "nan_count": 0,
          "unique_count": 2
         }
        },
        {
         "dtype": "object",
         "name": "date",
         "stats": {
          "categories": [
           {
            "count": 2,
            "name": "2007-05-01"
           },
           {
            "count": 2,
            "name": "2007-05-02"
           },
           {
            "count": 1,
            "name": "2007-05-03"
           }
          ],
          "nan_count": 0,
          "unique_count": 3
         }
        },
        {
         "dtype": "int64",
         "name": "tmax",
         "stats": {
          "histogram": [
           {
            "bin_end": 61.5,
            "bin_start": 59,
            "count": 2
           },
           {
            "bin_end": 64,
            "bin_start": 61.5,
            "count": 0
           },
           {
            "bin_end": 66.5,
            "bin_start": 64,
            "count": 1
           },
           {
            "bin_end": 69,
            "bin_start": 66.5,
            "count": 0
           },
           {
            "bin_end": 71.5,
            "bin_start": 69,
            "count": 0
           },
           {
            "bin_end": 74,
            "bin_start": 71.5,
            "count": 0
           },
           {
            "bin_end": 76.5,
            "bin_start": 74,
            "count": 0
           },
           {
            "bin_end": 79,
            "bin_start": 76.5,
            "count": 0
           },
           {
            "bin_end": 81.5,
            "bin_start": 79,
            "count": 0
           },
           {
            "bin_end": 84,
            "bin_start": 81.5,
            "count": 2
           }
          ],
          "max": "84",
          "min": "59",
          "nan_count": 0,
          "unique_count": 5
         }
        },
        {
         "dtype": "int64",
         "name": "tmin",
         "stats": {
          "histogram": [
           {
            "bin_end": 43,
            "bin_start": 42,
            "count": 1
           },
           {
            "bin_end": 44,
            "bin_start": 43,
            "count": 1
           },
           {
            "bin_end": 45,
            "bin_start": 44,
            "count": 0
           },
           {
            "bin_end": 46,
            "bin_start": 45,
            "count": 0
           },
           {
            "bin_end": 47,
            "bin_start": 46,
            "count": 1
           },
           {
            "bin_end": 48,
            "bin_start": 47,
            "count": 0
           },
           {
            "bin_end": 49,
            "bin_start": 48,
            "count": 0
           },
           {
            "bin_end": 50,
            "bin_start": 49,
            "count": 0
           },
           {
            "bin_end": 51,
            "bin_start": 50,
            "count": 1
           },
           {
            "bin_end": 52,
            "bin_start": 51,
            "count": 1
           }
          ],
          "max": "52",
          "min": "42",
          "nan_count": 0,
          "unique_count": 5
         }
        },
        {
         "dtype": "object",
         "name": "tavg",
         "stats": {
          "categories": [
           {
            "count": 1,
            "name": "67"
           },
           {
            "count": 1,
            "name": "68"
           },
           {
            "count": 3,
            "name": "3 others"
           }
          ],
          "nan_count": 0,
          "unique_count": 5
         }
        },
        {
         "dtype": "object",
         "name": "depart",
         "stats": {
          "categories": [
           {
            "count": 1,
            "name": "14"
           },
           {
            "count": 2,
            "name": "2 others"
           },
           {
            "count": 2,
            "name": "Missing"
           }
          ],
          "nan_count": 2,
          "unique_count": 3
         }
        },
        {
         "dtype": "int64",
         "name": "dewpoint",
         "stats": {
          "histogram": [
           {
            "bin_end": 41.1,
            "bin_start": 40,
            "count": 1
           },
           {
            "bin_end": 42.2,
            "bin_start": 41.1,
            "count": 2
           },
           {
            "bin_end": 43.3,
            "bin_start": 42.2,
            "count": 0
           },
           {
            "bin_end": 44.4,
            "bin_start": 43.3,
            "count": 0
           },
           {
            "bin_end": 45.5,
            "bin_start": 44.4,
            "count": 0
           },
           {
            "bin_end": 46.6,
            "bin_start": 45.5,
            "count": 0
           },
           {
            "bin_end": 47.7,
            "bin_start": 46.6,
            "count": 0
           },
           {
            "bin_end": 48.8,
            "bin_start": 47.7,
            "count": 0
           },
           {
            "bin_end": 49.9,
            "bin_start": 48.8,
            "count": 0
           },
           {
            "bin_end": 51,
            "bin_start": 49.9,
            "count": 2
           }
          ],
          "max": "51",
          "min": "40",
          "nan_count": 0,
          "unique_count": 3
         }
        },
        {
         "dtype": "object",
         "name": "wetbulb",
         "stats": {
          "categories": [
           {
            "count": 2,
            "name": "47"
           },
           {
            "count": 1,
            "name": "56"
           },
           {
            "count": 2,
            "name": "2 others"
           }
          ],
          "nan_count": 0,
          "unique_count": 4
         }
        },
        {
         "dtype": "object",
         "name": "heat",
         "stats": {
          "categories": [
           {
            "count": 2,
            "name": "0"
           },
           {
            "count": 1,
            "name": "14"
           },
           {
            "count": 2,
            "name": "2 others"
           }
          ],
          "nan_count": 0,
          "unique_count": 4
         }
        },
        {
         "dtype": "object",
         "name": "cool",
         "stats": {
          "categories": [
           {
            "count": 3,
            "name": " 0"
           },
           {
            "count": 1,
            "name": " 2"
           },
           {
            "count": 1,
            "name": " 3"
           }
          ],
          "nan_count": 0,
          "unique_count": 3
         }
        },
        {
         "dtype": "object",
         "name": "sunrise",
         "stats": {
          "categories": [
           {
            "count": 1,
            "name": "0448"
           },
           {
            "count": 2,
            "name": "2 others"
           },
           {
            "count": 2,
            "name": "Missing"
           }
          ],
          "nan_count": 2,
          "unique_count": 3
         }
        },
        {
         "dtype": "object",
         "name": "sunset",
         "stats": {
          "categories": [
           {
            "count": 1,
            "name": "1849"
           },
           {
            "count": 2,
            "name": "2 others"
           },
           {
            "count": 2,
            "name": "Missing"
           }
          ],
          "nan_count": 2,
          "unique_count": 3
         }
        },
        {
         "dtype": "object",
         "name": "codesum",
         "stats": {
          "categories": [
           {
            "count": 1,
            "name": "BR"
           },
           {
            "count": 1,
            "name": "BR HZ"
           },
           {
            "count": 3,
            "name": "Missing"
           }
          ],
          "nan_count": 3,
          "unique_count": 2
         }
        },
        {
         "dtype": "object",
         "name": "depth",
         "stats": {
          "categories": [
           {
            "count": 3,
            "name": "0"
           },
           {
            "count": 2,
            "name": "Missing"
           }
          ],
          "nan_count": 2,
          "unique_count": 1
         }
        },
        {
         "dtype": "float64",
         "name": "water1",
         "stats": {
          "histogram": [
           {
            "bin_end": 0.1,
            "bin_start": 0,
            "count": 0
           },
           {
            "bin_end": 0.2,
            "bin_start": 0.1,
            "count": 0
           },
           {
            "bin_end": 0.30000000000000004,
            "bin_start": 0.2,
            "count": 0
           },
           {
            "bin_end": 0.4,
            "bin_start": 0.30000000000000004,
            "count": 0
           },
           {
            "bin_end": 0.5,
            "bin_start": 0.4,
            "count": 0
           },
           {
            "bin_end": 0.6000000000000001,
            "bin_start": 0.5,
            "count": 0
           },
           {
            "bin_end": 0.7000000000000001,
            "bin_start": 0.6000000000000001,
            "count": 0
           },
           {
            "bin_end": 0.8,
            "bin_start": 0.7000000000000001,
            "count": 0
           },
           {
            "bin_end": 0.9,
            "bin_start": 0.8,
            "count": 0
           },
           {
            "bin_end": 1,
            "bin_start": 0.9,
            "count": 0
           }
          ],
          "max": null,
          "min": null,
          "nan_count": 5,
          "unique_count": 0
         }
        },
        {
         "dtype": "object",
         "name": "snowfall",
         "stats": {
          "categories": [
           {
            "count": 3,
            "name": "0.0"
           },
           {
            "count": 2,
            "name": "Missing"
           }
          ],
          "nan_count": 2,
          "unique_count": 1
         }
        },
        {
         "dtype": "object",
         "name": "preciptotal",
         "stats": {
          "categories": [
           {
            "count": 5,
            "name": "0.00"
           }
          ],
          "nan_count": 0,
          "unique_count": 1
         }
        },
        {
         "dtype": "object",
         "name": "stnpressure",
         "stats": {
          "categories": [
           {
            "count": 1,
            "name": "29.10"
           },
           {
            "count": 1,
            "name": "29.18"
           },
           {
            "count": 3,
            "name": "3 others"
           }
          ],
          "nan_count": 0,
          "unique_count": 5
         }
        },
        {
         "dtype": "object",
         "name": "sealevel",
         "stats": {
          "categories": [
           {
            "count": 2,
            "name": "29.82"
           },
           {
            "count": 1,
            "name": "30.09"
           },
           {
            "count": 2,
            "name": "2 others"
           }
          ],
          "nan_count": 0,
          "unique_count": 4
         }
        },
        {
         "dtype": "float64",
         "name": "resultspeed",
         "stats": {
          "histogram": [
           {
            "bin_end": 2.8600000000000003,
            "bin_start": 1.7,
            "count": 2
           },
           {
            "bin_end": 4.0200000000000005,
            "bin_start": 2.8600000000000003,
            "count": 0
           },
           {
            "bin_end": 5.180000000000001,
            "bin_start": 4.0200000000000005,
            "count": 0
           },
           {
            "bin_end": 6.340000000000001,
            "bin_start": 5.180000000000001,
            "count": 0
           },
           {
            "bin_end": 7.500000000000001,
            "bin_start": 6.340000000000001,
            "count": 0
           },
           {
            "bin_end": 8.66,
            "bin_start": 7.500000000000001,
            "count": 0
           },
           {
            "bin_end": 9.82,
            "bin_start": 8.66,
            "count": 0
           },
           {
            "bin_end": 10.98,
            "bin_start": 9.82,
            "count": 0
           },
           {
            "bin_end": 12.14,
            "bin_start": 10.98,
            "count": 1
           },
           {
            "bin_end": 13.3,
            "bin_start": 12.14,
            "count": 2
           }
          ],
          "max": "13.3",
          "min": "1.7",
          "nan_count": 0,
          "unique_count": 5
         }
        },
        {
         "dtype": "int64",
         "name": "resultdir",
         "stats": {
          "histogram": [
           {
            "bin_end": 4.5,
            "bin_start": 2,
            "count": 2
           },
           {
            "bin_end": 7,
            "bin_start": 4.5,
            "count": 0
           },
           {
            "bin_end": 9.5,
            "bin_start": 7,
            "count": 1
           },
           {
            "bin_end": 12,
            "bin_start": 9.5,
            "count": 0
           },
           {
            "bin_end": 14.5,
            "bin_start": 12,
            "count": 0
           },
           {
            "bin_end": 17,
            "bin_start": 14.5,
            "count": 0
           },
           {
            "bin_end": 19.5,
            "bin_start": 17,
            "count": 0
           },
           {
            "bin_end": 22,
            "bin_start": 19.5,
            "count": 0
           },
           {
            "bin_end": 24.5,
            "bin_start": 22,
            "count": 0
           },
           {
            "bin_end": 27,
            "bin_start": 24.5,
            "count": 2
           }
          ],
          "max": "27",
          "min": "2",
          "nan_count": 0,
          "unique_count": 5
         }
        },
        {
         "dtype": "object",
         "name": "avgspeed",
         "stats": {
          "categories": [
           {
            "count": 2,
            "name": "13.4"
           },
           {
            "count": 1,
            "name": "9.2"
           },
           {
            "count": 2,
            "name": "2 others"
           }
          ],
          "nan_count": 0,
          "unique_count": 4
         }
        },
        {
         "dtype": "bool",
         "name": "dupe",
         "stats": {
          "categories": [
           {
            "count": 5,
            "name": "False"
           }
          ],
          "nan_count": 0,
          "unique_count": 1
         }
        },
        {
         "dtype": "int64",
         "name": "_deepnote_index_column"
        }
       ],
       "row_count": 5,
       "rows": [
        {
         "_deepnote_index_column": "0",
         "avgspeed": "9.2",
         "codesum": "nan",
         "cool": " 2",
         "date": "2007-05-01",
         "depart": "14",
         "depth": "0",
         "dewpoint": "51",
         "dupe": "False",
         "heat": "0",
         "preciptotal": "0.00",
         "resultdir": "27",
         "resultspeed": "1.7",
         "sealevel": "29.82",
         "snowfall": "0.0",
         "station": "1",
         "stnpressure": "29.10",
         "sunrise": "0448",
         "sunset": "1849",
         "tavg": "67",
         "tmax": "83",
         "tmin": "50",
         "water1": "nan",
         "wetbulb": "56"
        },
        {
         "_deepnote_index_column": "1",
         "avgspeed": "9.6",
         "codesum": "nan",
         "cool": " 3",
         "date": "2007-05-01",
         "depart": "nan",
         "depth": "nan",
         "dewpoint": "51",
         "dupe": "False",
         "heat": "0",
         "preciptotal": "0.00",
         "resultdir": "25",
         "resultspeed": "2.7",
         "sealevel": "29.82",
         "snowfall": "nan",
         "station": "2",
         "stnpressure": "29.18",
         "sunrise": "nan",
         "sunset": "nan",
         "tavg": "68",
         "tmax": "84",
         "tmin": "52",
         "water1": "nan",
         "wetbulb": "57"
        },
        {
         "_deepnote_index_column": "2",
         "avgspeed": "13.4",
         "codesum": "BR",
         "cool": " 0",
         "date": "2007-05-02",
         "depart": "-3",
         "depth": "0",
         "dewpoint": "42",
         "dupe": "False",
         "heat": "14",
         "preciptotal": "0.00",
         "resultdir": "4",
         "resultspeed": "13.0",
         "sealevel": "30.09",
         "snowfall": "0.0",
         "station": "1",
         "stnpressure": "29.38",
         "sunrise": "0447",
         "sunset": "1850",
         "tavg": "51",
         "tmax": "59",
         "tmin": "42",
         "water1": "nan",
         "wetbulb": "47"
        },
        {
         "_deepnote_index_column": "3",
         "avgspeed": "13.4",
         "codesum": "BR HZ",
         "cool": " 0",
         "date": "2007-05-02",
         "depart": "nan",
         "depth": "nan",
         "dewpoint": "42",
         "dupe": "False",
         "heat": "13",
         "preciptotal": "0.00",
         "resultdir": "2",
         "resultspeed": "13.3",
         "sealevel": "30.08",
         "snowfall": "nan",
         "station": "2",
         "stnpressure": "29.44",
         "sunrise": "nan",
         "sunset": "nan",
         "tavg": "52",
         "tmax": "60",
         "tmin": "43",
         "water1": "nan",
         "wetbulb": "47"
        },
        {
         "_deepnote_index_column": "4",
         "avgspeed": "11.9",
         "codesum": "nan",
         "cool": " 0",
         "date": "2007-05-03",
         "depart": " 2",
         "depth": "0",
         "dewpoint": "40",
         "dupe": "False",
         "heat": "9",
         "preciptotal": "0.00",
         "resultdir": "7",
         "resultspeed": "11.7",
         "sealevel": "30.12",
         "snowfall": "0.0",
         "station": "1",
         "stnpressure": "29.39",
         "sunrise": "0446",
         "sunset": "1851",
         "tavg": "56",
         "tmax": "66",
         "tmin": "46",
         "water1": "nan",
         "wetbulb": "48"
        }
       ]
      },
      "text/html": [
       "<div>\n",
       "<style scoped>\n",
       "    .dataframe tbody tr th:only-of-type {\n",
       "        vertical-align: middle;\n",
       "    }\n",
       "\n",
       "    .dataframe tbody tr th {\n",
       "        vertical-align: top;\n",
       "    }\n",
       "\n",
       "    .dataframe thead th {\n",
       "        text-align: right;\n",
       "    }\n",
       "</style>\n",
       "<table border=\"1\" class=\"dataframe\">\n",
       "  <thead>\n",
       "    <tr style=\"text-align: right;\">\n",
       "      <th></th>\n",
       "      <th>station</th>\n",
       "      <th>date</th>\n",
       "      <th>tmax</th>\n",
       "      <th>tmin</th>\n",
       "      <th>tavg</th>\n",
       "      <th>depart</th>\n",
       "      <th>dewpoint</th>\n",
       "      <th>wetbulb</th>\n",
       "      <th>heat</th>\n",
       "      <th>cool</th>\n",
       "      <th>...</th>\n",
       "      <th>depth</th>\n",
       "      <th>water1</th>\n",
       "      <th>snowfall</th>\n",
       "      <th>preciptotal</th>\n",
       "      <th>stnpressure</th>\n",
       "      <th>sealevel</th>\n",
       "      <th>resultspeed</th>\n",
       "      <th>resultdir</th>\n",
       "      <th>avgspeed</th>\n",
       "      <th>dupe</th>\n",
       "    </tr>\n",
       "  </thead>\n",
       "  <tbody>\n",
       "    <tr>\n",
       "      <th>0</th>\n",
       "      <td>1</td>\n",
       "      <td>2007-05-01</td>\n",
       "      <td>83</td>\n",
       "      <td>50</td>\n",
       "      <td>67</td>\n",
       "      <td>14</td>\n",
       "      <td>51</td>\n",
       "      <td>56</td>\n",
       "      <td>0</td>\n",
       "      <td>2</td>\n",
       "      <td>...</td>\n",
       "      <td>0</td>\n",
       "      <td>NaN</td>\n",
       "      <td>0.0</td>\n",
       "      <td>0.00</td>\n",
       "      <td>29.10</td>\n",
       "      <td>29.82</td>\n",
       "      <td>1.7</td>\n",
       "      <td>27</td>\n",
       "      <td>9.2</td>\n",
       "      <td>False</td>\n",
       "    </tr>\n",
       "    <tr>\n",
       "      <th>1</th>\n",
       "      <td>2</td>\n",
       "      <td>2007-05-01</td>\n",
       "      <td>84</td>\n",
       "      <td>52</td>\n",
       "      <td>68</td>\n",
       "      <td>NaN</td>\n",
       "      <td>51</td>\n",
       "      <td>57</td>\n",
       "      <td>0</td>\n",
       "      <td>3</td>\n",
       "      <td>...</td>\n",
       "      <td>NaN</td>\n",
       "      <td>NaN</td>\n",
       "      <td>NaN</td>\n",
       "      <td>0.00</td>\n",
       "      <td>29.18</td>\n",
       "      <td>29.82</td>\n",
       "      <td>2.7</td>\n",
       "      <td>25</td>\n",
       "      <td>9.6</td>\n",
       "      <td>False</td>\n",
       "    </tr>\n",
       "    <tr>\n",
       "      <th>2</th>\n",
       "      <td>1</td>\n",
       "      <td>2007-05-02</td>\n",
       "      <td>59</td>\n",
       "      <td>42</td>\n",
       "      <td>51</td>\n",
       "      <td>-3</td>\n",
       "      <td>42</td>\n",
       "      <td>47</td>\n",
       "      <td>14</td>\n",
       "      <td>0</td>\n",
       "      <td>...</td>\n",
       "      <td>0</td>\n",
       "      <td>NaN</td>\n",
       "      <td>0.0</td>\n",
       "      <td>0.00</td>\n",
       "      <td>29.38</td>\n",
       "      <td>30.09</td>\n",
       "      <td>13.0</td>\n",
       "      <td>4</td>\n",
       "      <td>13.4</td>\n",
       "      <td>False</td>\n",
       "    </tr>\n",
       "    <tr>\n",
       "      <th>3</th>\n",
       "      <td>2</td>\n",
       "      <td>2007-05-02</td>\n",
       "      <td>60</td>\n",
       "      <td>43</td>\n",
       "      <td>52</td>\n",
       "      <td>NaN</td>\n",
       "      <td>42</td>\n",
       "      <td>47</td>\n",
       "      <td>13</td>\n",
       "      <td>0</td>\n",
       "      <td>...</td>\n",
       "      <td>NaN</td>\n",
       "      <td>NaN</td>\n",
       "      <td>NaN</td>\n",
       "      <td>0.00</td>\n",
       "      <td>29.44</td>\n",
       "      <td>30.08</td>\n",
       "      <td>13.3</td>\n",
       "      <td>2</td>\n",
       "      <td>13.4</td>\n",
       "      <td>False</td>\n",
       "    </tr>\n",
       "    <tr>\n",
       "      <th>4</th>\n",
       "      <td>1</td>\n",
       "      <td>2007-05-03</td>\n",
       "      <td>66</td>\n",
       "      <td>46</td>\n",
       "      <td>56</td>\n",
       "      <td>2</td>\n",
       "      <td>40</td>\n",
       "      <td>48</td>\n",
       "      <td>9</td>\n",
       "      <td>0</td>\n",
       "      <td>...</td>\n",
       "      <td>0</td>\n",
       "      <td>NaN</td>\n",
       "      <td>0.0</td>\n",
       "      <td>0.00</td>\n",
       "      <td>29.39</td>\n",
       "      <td>30.12</td>\n",
       "      <td>11.7</td>\n",
       "      <td>7</td>\n",
       "      <td>11.9</td>\n",
       "      <td>False</td>\n",
       "    </tr>\n",
       "  </tbody>\n",
       "</table>\n",
       "<p>5 rows × 23 columns</p>\n",
       "</div>"
      ],
      "text/plain": [
       "   station        date  tmax  tmin tavg depart  dewpoint wetbulb heat cool  \\\n",
       "0        1  2007-05-01    83    50   67     14        51      56    0    2   \n",
       "1        2  2007-05-01    84    52   68    NaN        51      57    0    3   \n",
       "2        1  2007-05-02    59    42   51     -3        42      47   14    0   \n",
       "3        2  2007-05-02    60    43   52    NaN        42      47   13    0   \n",
       "4        1  2007-05-03    66    46   56      2        40      48    9    0   \n",
       "\n",
       "   ... depth water1 snowfall preciptotal  stnpressure sealevel resultspeed  \\\n",
       "0  ...     0    NaN      0.0        0.00        29.10    29.82         1.7   \n",
       "1  ...   NaN    NaN      NaN        0.00        29.18    29.82         2.7   \n",
       "2  ...     0    NaN      0.0        0.00        29.38    30.09        13.0   \n",
       "3  ...   NaN    NaN      NaN        0.00        29.44    30.08        13.3   \n",
       "4  ...     0    NaN      0.0        0.00        29.39    30.12        11.7   \n",
       "\n",
       "  resultdir avgspeed   dupe  \n",
       "0        27      9.2  False  \n",
       "1        25      9.6  False  \n",
       "2         4     13.4  False  \n",
       "3         2     13.4  False  \n",
       "4         7     11.9  False  \n",
       "\n",
       "[5 rows x 23 columns]"
      ]
     },
     "execution_count": 26,
     "metadata": {},
     "output_type": "execute_result"
    }
   ],
   "source": [
    "weather_df.head()"
   ]
  },
  {
   "cell_type": "code",
   "execution_count": 27,
   "metadata": {
    "cell_id": "268707b7ee174dd8affb3016cd82ba27",
    "deepnote_cell_type": "code",
    "deepnote_to_be_reexecuted": false,
    "execution_millis": 1,
    "execution_start": 1670652601369,
    "source_hash": "d71dd25d",
    "tags": []
   },
   "outputs": [],
   "source": [
    "# Dealing with columns with high missing value counts in weather_df\n",
    "\n",
    "## Drop the 'water1' column as it is all null values\n",
    "weather_df.drop('water1', axis =1, inplace = True)\n",
    "\n",
    "## Drop the 'depart' column as over half of its values are null\n",
    "weather_df.drop('depart', axis =1, inplace = True)\n",
    "\n",
    "## Drop the 'depth' column as over half of its values are null\n",
    "weather_df.drop('depth', axis =1, inplace = True)\n",
    "\n",
    "## Drop the 'snowfall' column as over half of its values are null\n",
    "weather_df.drop('snowfall', axis =1, inplace = True)\n",
    "\n",
    "## Drop the 'codesum' column as over half of its values are null\n",
    "weather_df.drop('codesum', axis =1, inplace = True)"
   ]
  },
  {
   "cell_type": "code",
   "execution_count": 28,
   "metadata": {
    "cell_id": "1b24502ad5534f85b40cfc792fd33f06",
    "deepnote_cell_type": "code",
    "deepnote_to_be_reexecuted": false,
    "execution_millis": 599,
    "execution_start": 1670652601370,
    "source_hash": "34cb1778",
    "tags": []
   },
   "outputs": [
    {
     "name": "stderr",
     "output_type": "stream",
     "text": [
      "/shared-libs/python3.9/py/lib/python3.9/site-packages/pandas/core/indexing.py:1637: SettingWithCopyWarning: \n",
      "A value is trying to be set on a copy of a slice from a DataFrame\n",
      "\n",
      "See the caveats in the documentation: https://pandas.pydata.org/pandas-docs/stable/user_guide/indexing.html#returning-a-view-versus-a-copy\n",
      "  self._setitem_single_block(indexer, value, name)\n"
     ]
    }
   ],
   "source": [
    "# Dealing with 'sunset' col with high missing value counts in weather_df \n",
    "\n",
    "# For rows with missing values in 'sunset' column\n",
    "sunset_null_idx = weather_df.loc[weather_df['sunset'].isnull()].index\n",
    "\n",
    "# Impute missing values with the corresponding values from the other station\n",
    "for index in sunset_null_idx:\n",
    "    if index % 2 == 0:\n",
    "        weather_df['sunset'].loc[index] = weather_df['sunset'].loc[index+1]\n",
    "    else:\n",
    "        weather_df['sunset'].loc[index] = weather_df['sunset'].loc[index-1]"
   ]
  },
  {
   "cell_type": "code",
   "execution_count": 29,
   "metadata": {
    "cell_id": "94a8bbffb65a4b6caa237a2ddb8e30f5",
    "deepnote_cell_type": "code",
    "deepnote_to_be_reexecuted": false,
    "execution_millis": 606,
    "execution_start": 1670652601971,
    "source_hash": "3719d3b",
    "tags": []
   },
   "outputs": [],
   "source": [
    "# Dealing with 'sunrise' col with high missing value counts in weather_df \n",
    "\n",
    "# For rows with missing values in 'sunset' column\n",
    "sunrise_null_idx = weather_df.loc[weather_df['sunrise'].isnull()].index\n",
    "\n",
    "# Impute missing values with the corresponding values from the other station\n",
    "for index in sunrise_null_idx:\n",
    "    if index % 2 == 0:\n",
    "        weather_df['sunrise'].loc[index] = weather_df['sunrise'].loc[index+1]\n",
    "    else:\n",
    "        weather_df['sunrise'].loc[index] = weather_df['sunrise'].loc[index-1]"
   ]
  },
  {
   "cell_type": "code",
   "execution_count": 30,
   "metadata": {
    "cell_id": "0cc55f1c576a48b7a68fcf9654bd2dae",
    "deepnote_cell_type": "code",
    "deepnote_to_be_reexecuted": false,
    "execution_millis": 2,
    "execution_start": 1670652602581,
    "source_hash": "cbbfffec",
    "tags": []
   },
   "outputs": [],
   "source": [
    "# Dealing with columns with low missing value counts in weather_df\n",
    "\n",
    "## For rows with missing values in the 'tavg' column\n",
    "## Impute average of tmin and tmax values in same row\n",
    "weather_df['tavg'] = weather_df['tavg'].fillna((weather_df['tmin'] + weather_df['tmax'])/2)\n",
    "\n",
    "## Convert 'tavg' column into integer type\n",
    "weather_df['tavg'] = weather_df['tavg'].astype(int)\n"
   ]
  },
  {
   "cell_type": "code",
   "execution_count": 31,
   "metadata": {
    "cell_id": "7d6e2b6e71e94462a597bbdec4e83c1e",
    "deepnote_cell_type": "code",
    "deepnote_to_be_reexecuted": false,
    "execution_millis": 3,
    "execution_start": 1670652602633,
    "source_hash": "840ab8a3",
    "tags": []
   },
   "outputs": [],
   "source": [
    "## For rows with missing values in the 'heat' and 'cool' columns\n",
    "weather_df['heat'] = weather_df['heat'].fillna(weather_df['tavg'] - 65)\n",
    "weather_df['cool'] = weather_df['cool'].fillna(65 - weather_df['tavg'])\n",
    "\n",
    "## Convert the 'heat' and 'cool' column to integer type\n",
    "weather_df['heat'] = weather_df['heat'].astype(int)\n",
    "weather_df['cool'] = weather_df['cool'].astype(int)\n",
    "\n",
    "## Remove those values where 'heat' is negative\n",
    "weather_df.loc[weather_df['heat'] < 0, 'heat'] = 0\n",
    "\n",
    "# Remove those values where 'cool' is negative\n",
    "weather_df.loc[weather_df['cool'] < 0, 'cool'] = 0"
   ]
  },
  {
   "cell_type": "code",
   "execution_count": 32,
   "metadata": {
    "cell_id": "b5a69b46e91045bd87553df0420a5287",
    "deepnote_cell_type": "code",
    "deepnote_to_be_reexecuted": false,
    "execution_millis": 4,
    "execution_start": 1670652602642,
    "source_hash": "62de2305",
    "tags": []
   },
   "outputs": [
    {
     "name": "stderr",
     "output_type": "stream",
     "text": [
      "/shared-libs/python3.9/py/lib/python3.9/site-packages/pandas/core/indexing.py:1637: SettingWithCopyWarning: \n",
      "A value is trying to be set on a copy of a slice from a DataFrame\n",
      "\n",
      "See the caveats in the documentation: https://pandas.pydata.org/pandas-docs/stable/user_guide/indexing.html#returning-a-view-versus-a-copy\n",
      "  self._setitem_single_block(indexer, value, name)\n"
     ]
    }
   ],
   "source": [
    "# Find out the index of the rows with missing values.\n",
    "sealevel_null_idx = weather_df.loc[weather_df['sealevel'].isnull()].index\n",
    "\n",
    "# Impute the missing values with corresponding values from the other station\n",
    "for index in sealevel_null_idx:\n",
    "    if index % 2 == 0:\n",
    "        weather_df['sealevel'].loc[index] = weather_df['sealevel'].loc[index+1]\n",
    "    else:\n",
    "        weather_df['sealevel'].loc[index] = weather_df['sealevel'].loc[index-1]\n",
    "        \n",
    "# Convert column data type to float \n",
    "weather_df['sealevel'] = weather_df['sealevel'].astype(float)"
   ]
  },
  {
   "cell_type": "code",
   "execution_count": 33,
   "metadata": {
    "cell_id": "c93b7852a35045929a57dad13ed7205e",
    "deepnote_cell_type": "code",
    "deepnote_to_be_reexecuted": false,
    "execution_millis": 17,
    "execution_start": 1670652602648,
    "source_hash": "9181a2f5",
    "tags": []
   },
   "outputs": [],
   "source": [
    "# For rows with missing values in 'wetbulb' column\n",
    "wetbulb_null_idx = weather_df.loc[weather_df['wetbulb'].isnull()].index\n",
    "\n",
    "# Impute the missing values with the corresponding values from the other station\n",
    "for index in wetbulb_null_idx :\n",
    "    if index % 2 == 0:\n",
    "        weather_df['wetbulb'].loc[index] = weather_df['wetbulb'].loc[index+1]\n",
    "    else:\n",
    "        weather_df['wetbulb'].loc[index] = weather_df['wetbulb'].loc[index-1]\n",
    "\n",
    "# Convert column to int and float data type\n",
    "weather_df['wetbulb'] = weather_df['wetbulb'].astype(int)"
   ]
  },
  {
   "cell_type": "code",
   "execution_count": 34,
   "metadata": {
    "cell_id": "5da3e81e70354ffd878fa66fc8cffa33",
    "deepnote_cell_type": "code",
    "deepnote_to_be_reexecuted": false,
    "execution_millis": 0,
    "execution_start": 1670652602665,
    "source_hash": "e90784ea",
    "tags": []
   },
   "outputs": [],
   "source": [
    "# Find out the index of the rows with missing values in 'avgspeed'\n",
    "avgspeed_null_idx = weather_df.loc[weather_df['avgspeed'].isnull()].index\n",
    "\n",
    "# Impute the missing values with corresponding values from the other station\n",
    "for index in avgspeed_null_idx:\n",
    "    if index % 2 == 0:\n",
    "        weather_df['avgspeed'].loc[index] = weather_df['avgspeed'].loc[index+1]\n",
    "    else:\n",
    "        weather_df['avgspeed'].loc[index] = weather_df['avgspeed'].loc[index-1]\n",
    "    \n",
    "# Convert column to int and float data type\n",
    "weather_df['avgspeed'] = weather_df['avgspeed'].astype(float)"
   ]
  },
  {
   "cell_type": "code",
   "execution_count": 35,
   "metadata": {
    "cell_id": "3f8cabbe6b794695a0cb7726c1565169",
    "deepnote_cell_type": "code",
    "deepnote_to_be_reexecuted": false,
    "execution_millis": 15,
    "execution_start": 1670652602666,
    "source_hash": "ed78188",
    "tags": []
   },
   "outputs": [
    {
     "name": "stdout",
     "output_type": "stream",
     "text": [
      "Mean value:\n",
      "29.28442857142857\n",
      "/tmp/ipykernel_88/2637716554.py:5: SettingWithCopyWarning: \n",
      "A value is trying to be set on a copy of a slice from a DataFrame.\n",
      "Try using .loc[row_indexer,col_indexer] = value instead\n",
      "\n",
      "See the caveats in the documentation: https://pandas.pydata.org/pandas-docs/stable/user_guide/indexing.html#returning-a-view-versus-a-copy\n",
      "  weather_df_nonull['stnpressure'] = weather_df_nonull['stnpressure'].astype(float)\n"
     ]
    }
   ],
   "source": [
    "## For rows with missing values in the 'stnpressure' column\n",
    "weather_df_nonull = weather_df[weather_df['stnpressure'].notnull()]\n",
    "\n",
    "# Convert the column datatype to float\n",
    "weather_df_nonull['stnpressure'] = weather_df_nonull['stnpressure'].astype(float)\n",
    "\n",
    "# Compute the mean for the 'stnpressure' column\n",
    "print('Mean value:')\n",
    "print(weather_df_nonull['stnpressure'].mean())"
   ]
  },
  {
   "cell_type": "code",
   "execution_count": 36,
   "metadata": {
    "cell_id": "a77af699290b454b91086cccad9f82aa",
    "deepnote_cell_type": "code",
    "deepnote_to_be_reexecuted": false,
    "execution_millis": 2,
    "execution_start": 1670652602724,
    "source_hash": "91ad24a",
    "tags": []
   },
   "outputs": [],
   "source": [
    "# Fill the null values with the mean stnpressure value\n",
    "weather_df['stnpressure'] = weather_df['stnpressure'].fillna(29.28)\n",
    "\n",
    "# Convert the column to float data type\n",
    "weather_df['stnpressure'] = weather_df['stnpressure'].astype(float)"
   ]
  },
  {
   "cell_type": "code",
   "execution_count": 37,
   "metadata": {
    "cell_id": "76cdb768c4204ee58876dde9bd26fb03",
    "deepnote_cell_type": "code",
    "deepnote_to_be_reexecuted": false,
    "execution_millis": 4,
    "execution_start": 1670652602727,
    "source_hash": "eee359b5",
    "tags": []
   },
   "outputs": [
    {
     "name": "stderr",
     "output_type": "stream",
     "text": [
      "/tmp/ipykernel_88/68261588.py:5: SettingWithCopyWarning: \n",
      "A value is trying to be set on a copy of a slice from a DataFrame.\n",
      "Try using .loc[row_indexer,col_indexer] = value instead\n",
      "\n",
      "See the caveats in the documentation: https://pandas.pydata.org/pandas-docs/stable/user_guide/indexing.html#returning-a-view-versus-a-copy\n",
      "  weather_df_nonull['preciptotal'] = weather_df_nonull['preciptotal'].astype(float)\n"
     ]
    },
    {
     "data": {
      "text/plain": [
       "0.14724466463414634"
      ]
     },
     "execution_count": 37,
     "metadata": {},
     "output_type": "execute_result"
    }
   ],
   "source": [
    "## For rows with missing values in the 'preciptotal' column\n",
    "weather_df_nonull = weather_df[weather_df['preciptotal'].notnull()]\n",
    "\n",
    "## Convert the datatype in 'preciptotal' column to float\n",
    "weather_df_nonull['preciptotal'] = weather_df_nonull['preciptotal'].astype(float)\n",
    "\n",
    "## Compute the mean preciptotal value for the column\n",
    "weather_df_nonull['preciptotal'].mean()"
   ]
  },
  {
   "cell_type": "code",
   "execution_count": 38,
   "metadata": {
    "cell_id": "ac744e6e438345fe88c865f9d39b0276",
    "deepnote_cell_type": "code",
    "deepnote_to_be_reexecuted": false,
    "execution_millis": 3,
    "execution_start": 1670652602773,
    "source_hash": "78045c1e",
    "tags": []
   },
   "outputs": [
    {
     "data": {
      "text/plain": [
       "0       0.00\n",
       "1       0.00\n",
       "2       0.00\n",
       "3       0.00\n",
       "4       0.00\n",
       "        ... \n",
       "2939    0.00\n",
       "2940    0.00\n",
       "2941     NaN\n",
       "2942    0.03\n",
       "2943    0.04\n",
       "Name: preciptotal, Length: 2944, dtype: object"
      ]
     },
     "execution_count": 38,
     "metadata": {},
     "output_type": "execute_result"
    }
   ],
   "source": [
    "weather_df['preciptotal']"
   ]
  },
  {
   "cell_type": "code",
   "execution_count": 39,
   "metadata": {
    "cell_id": "e479519c90a04a48ab873fbe11832fa4",
    "deepnote_cell_type": "code",
    "deepnote_to_be_reexecuted": false,
    "execution_millis": 0,
    "execution_start": 1670652602774,
    "source_hash": "20c25b6b",
    "tags": []
   },
   "outputs": [],
   "source": [
    "# Fill the null values with the mean preciptotal value\n",
    "weather_df['preciptotal'] = weather_df['preciptotal'].fillna(0.1472)\n",
    "\n",
    "# Convert the column to float data type\n",
    "weather_df['preciptotal'] = weather_df['preciptotal'].astype(float)"
   ]
  },
  {
   "cell_type": "markdown",
   "metadata": {
    "cell_id": "f95f698578d64eb49ad817d809bd1782",
    "deepnote_cell_type": "text-cell-p",
    "formattedRanges": [
     {
      "fromCodePoint": 0,
      "marks": {
       "bold": true
      },
      "toCodePoint": 26,
      "type": "marks"
     }
    ],
    "is_collapsed": false,
    "tags": []
   },
   "source": [
    "Convert to datetime format"
   ]
  },
  {
   "cell_type": "code",
   "execution_count": 40,
   "metadata": {
    "cell_id": "a0df176741cd40be98d8d462a431d502",
    "deepnote_cell_type": "code",
    "deepnote_to_be_reexecuted": false,
    "execution_millis": 58,
    "execution_start": 1670652602775,
    "source_hash": "66c23078",
    "tags": []
   },
   "outputs": [],
   "source": [
    "# change date to datetime format\n",
    "# df['date'] = pd.to_datetime(df['date'])\n",
    "\n",
    "train_df['date'] = pd.to_datetime(train_df['date'])\n",
    "test_df['date'] = pd.to_datetime(test_df['date'])\n",
    "spray_df['date'] = pd.to_datetime(spray_df['date'])\n",
    "weather_df['date'] = pd.to_datetime(weather_df['date'])"
   ]
  },
  {
   "cell_type": "code",
   "execution_count": 41,
   "metadata": {
    "cell_id": "5d6d3d00f7074887b861c6efce71b29f",
    "deepnote_cell_type": "code",
    "deepnote_to_be_reexecuted": false,
    "execution_millis": 2,
    "execution_start": 1670652602835,
    "source_hash": "5c070f54",
    "tags": []
   },
   "outputs": [
    {
     "data": {
      "text/plain": [
       "dtype('<M8[ns]')"
      ]
     },
     "execution_count": 41,
     "metadata": {},
     "output_type": "execute_result"
    }
   ],
   "source": [
    "# Check datetime column datatype after change\n",
    "spray_df['date'].dtypes"
   ]
  },
  {
   "cell_type": "markdown",
   "metadata": {
    "cell_id": "c382cf92be85496995363cba766acad9",
    "deepnote_cell_type": "text-cell-p",
    "formattedRanges": [
     {
      "fromCodePoint": 0,
      "marks": {
       "bold": true
      },
      "toCodePoint": 21,
      "type": "marks"
     }
    ],
    "is_collapsed": false,
    "tags": []
   },
   "source": [
    "Drop unwanted columns"
   ]
  },
  {
   "cell_type": "code",
   "execution_count": 42,
   "metadata": {
    "cell_id": "5b486986b66f4335bcc64f5f45dec8ff",
    "deepnote_cell_type": "code",
    "deepnote_to_be_reexecuted": false,
    "execution_millis": 5,
    "execution_start": 1670652602837,
    "source_hash": "aa620045",
    "tags": []
   },
   "outputs": [
    {
     "data": {
      "text/plain": [
       "Index(['date', 'address', 'species', 'block', 'street', 'trap',\n",
       "       'addressnumberandstreet', 'latitude', 'longitude', 'addressaccuracy',\n",
       "       'nummosquitos', 'wnvpresent', 'dupe'],\n",
       "      dtype='object')"
      ]
     },
     "execution_count": 42,
     "metadata": {},
     "output_type": "execute_result"
    }
   ],
   "source": [
    "train_df.columns"
   ]
  },
  {
   "cell_type": "code",
   "execution_count": 43,
   "metadata": {
    "cell_id": "ddad0f7c71ec4a199e4d2c9a5214ae17",
    "deepnote_cell_type": "code",
    "deepnote_table_loading": false,
    "deepnote_table_state": {
     "filters": [],
     "pageIndex": 0,
     "pageSize": 100,
     "sortBy": []
    },
    "deepnote_to_be_reexecuted": false,
    "execution_millis": 0,
    "execution_start": 1670652602864,
    "source_hash": "d86a66b",
    "tags": []
   },
   "outputs": [],
   "source": [
    "# Drop unnecessary columns in train_df\n",
    "train_df.drop(['addressnumberandstreet', 'addressaccuracy', 'dupe'], axis=1, inplace=True)"
   ]
  },
  {
   "cell_type": "code",
   "execution_count": 44,
   "metadata": {
    "cell_id": "f96eec2893cc4d4d8032b64177b17310",
    "deepnote_cell_type": "code",
    "deepnote_to_be_reexecuted": false,
    "execution_millis": 3,
    "execution_start": 1670652602865,
    "source_hash": "2161aa25",
    "tags": []
   },
   "outputs": [
    {
     "data": {
      "text/plain": [
       "Index(['id', 'date', 'address', 'species', 'block', 'street', 'trap',\n",
       "       'addressnumberandstreet', 'latitude', 'longitude', 'addressaccuracy',\n",
       "       'dupe'],\n",
       "      dtype='object')"
      ]
     },
     "execution_count": 44,
     "metadata": {},
     "output_type": "execute_result"
    }
   ],
   "source": [
    "test_df.columns"
   ]
  },
  {
   "cell_type": "code",
   "execution_count": 45,
   "metadata": {
    "cell_id": "57785be71cc241618b5724c15b000011",
    "deepnote_cell_type": "code",
    "deepnote_table_loading": false,
    "deepnote_table_state": {
     "filters": [],
     "pageIndex": 7,
     "pageSize": 100,
     "sortBy": []
    },
    "deepnote_to_be_reexecuted": false,
    "execution_millis": 1,
    "execution_start": 1670652602865,
    "source_hash": "5ab95c84",
    "tags": []
   },
   "outputs": [],
   "source": [
    "# Drop unnecessary columns in test_df\n",
    "test_df.drop(['addressnumberandstreet', 'addressaccuracy', 'dupe'], axis=1, inplace=True)"
   ]
  },
  {
   "cell_type": "code",
   "execution_count": 46,
   "metadata": {
    "cell_id": "37fc0710b74146418389fc06e3a716f4",
    "deepnote_cell_type": "code",
    "deepnote_to_be_reexecuted": false,
    "execution_millis": 59,
    "execution_start": 1670652602867,
    "source_hash": "a022e609",
    "tags": []
   },
   "outputs": [],
   "source": [
    "# Drop unnecessary columns in weather_df\n",
    "weather_df.drop (['dupe'], axis=1, inplace=True)"
   ]
  },
  {
   "cell_type": "markdown",
   "metadata": {
    "cell_id": "92e32061704e4303a6112551a686825d",
    "deepnote_cell_type": "text-cell-p",
    "formattedRanges": [],
    "is_collapsed": false,
    "tags": []
   },
   "source": []
  },
  {
   "cell_type": "markdown",
   "metadata": {
    "cell_id": "ac6b46ba888042c7b7ac3cc0915986a2",
    "deepnote_cell_type": "text-cell-p",
    "formattedRanges": [
     {
      "fromCodePoint": 0,
      "marks": {
       "bold": true
      },
      "toCodePoint": 33,
      "type": "marks"
     }
    ],
    "is_collapsed": false,
    "tags": []
   },
   "source": [
    "Replace entries in species column"
   ]
  },
  {
   "cell_type": "code",
   "execution_count": 47,
   "metadata": {
    "cell_id": "5a652591947544608d4b493b582eeb10",
    "deepnote_cell_type": "code",
    "deepnote_to_be_reexecuted": false,
    "execution_millis": 7,
    "execution_start": 1670652602952,
    "source_hash": "bbc73d8b",
    "tags": []
   },
   "outputs": [
    {
     "name": "stdout",
     "output_type": "stream",
     "text": [
      "These are the species detected in the train dataset\n"
     ]
    },
    {
     "data": {
      "text/plain": [
       "CULEX PIPIENS/RESTUANS    4752\n",
       "CULEX RESTUANS            2740\n",
       "CULEX PIPIENS             2699\n",
       "CULEX TERRITANS            222\n",
       "CULEX SALINARIUS            86\n",
       "CULEX TARSALIS               6\n",
       "CULEX ERRATICUS              1\n",
       "Name: species, dtype: int64"
      ]
     },
     "metadata": {},
     "output_type": "display_data"
    },
    {
     "name": "stdout",
     "output_type": "stream",
     "text": [
      "\n",
      "\n",
      "These are the species detected in the test dataset\n"
     ]
    },
    {
     "data": {
      "text/plain": [
       "CULEX PIPIENS/RESTUANS    15359\n",
       "CULEX RESTUANS            14670\n",
       "CULEX PIPIENS             14521\n",
       "CULEX SALINARIUS          14355\n",
       "CULEX TERRITANS           14351\n",
       "CULEX TARSALIS            14347\n",
       "UNSPECIFIED CULEX         14345\n",
       "CULEX ERRATICUS           14345\n",
       "Name: species, dtype: int64"
      ]
     },
     "metadata": {},
     "output_type": "display_data"
    }
   ],
   "source": [
    "print(\"These are the species detected in the train dataset\")\n",
    "display(train_df['species'].value_counts())\n",
    "print(\"\\n\")\n",
    "print(\"These are the species detected in the test dataset\")\n",
    "display(test_df['species'].value_counts())\n"
   ]
  },
  {
   "cell_type": "code",
   "execution_count": 48,
   "metadata": {
    "cell_id": "82e1cc62261248d09da2d218ed34c3e5",
    "deepnote_cell_type": "code",
    "deepnote_to_be_reexecuted": false,
    "execution_millis": 0,
    "execution_start": 1670652602953,
    "source_hash": "f16b6c56",
    "tags": []
   },
   "outputs": [],
   "source": [
    "## uncomment only when we are sure why we want to do this\n",
    "# Replace 'CULEX RESTUANS' and 'CULEX PIPIENS' to 'CULEX PIPIENS/RESTUANS' \n",
    "# train_df['species'] = train_df['species'].replace('CULEX RESTUANS','CULEX PIPIENS/RESTUANS')\n",
    "# train_df['species'] = train_df['species'].replace('CULEX PIPIENS','CULEX PIPIENS/RESTUANS')\n",
    "\n",
    "# test_df['species'] = test_df['species'].replace('CULEX RESTUANS','CULEX PIPIENS/RESTUANS')\n",
    "# test_df['species'] = test_df['species'].replace('CULEX PIPIENS','CULEX PIPIENS/RESTUANS')"
   ]
  },
  {
   "cell_type": "markdown",
   "metadata": {
    "cell_id": "4ca103b6f2d24ce6b70d7db4ff065b2f",
    "deepnote_cell_type": "text-cell-p",
    "formattedRanges": [
     {
      "fromCodePoint": 0,
      "marks": {
       "bold": true
      },
      "toCodePoint": 35,
      "type": "marks"
     }
    ],
    "is_collapsed": false,
    "tags": []
   },
   "source": [
    "Create new columns for year & month"
   ]
  },
  {
   "cell_type": "code",
   "execution_count": 49,
   "metadata": {
    "cell_id": "d5e09e0d59d54012bf2d3192234663d7",
    "deepnote_cell_type": "code",
    "deepnote_to_be_reexecuted": false,
    "execution_millis": 79,
    "execution_start": 1670652602954,
    "source_hash": "3f57a2ae",
    "tags": []
   },
   "outputs": [
    {
     "name": "stderr",
     "output_type": "stream",
     "text": [
      "/tmp/ipykernel_88/3601053621.py:8: FutureWarning: Series.dt.weekofyear and Series.dt.week have been deprecated.  Please use Series.dt.isocalendar().week instead.\n",
      "  train_df['week'] = train_df['date'].dt.week\n",
      "/tmp/ipykernel_88/3601053621.py:14: FutureWarning: Series.dt.weekofyear and Series.dt.week have been deprecated.  Please use Series.dt.isocalendar().week instead.\n",
      "  test_df['week'] = test_df['date'].dt.week\n",
      "/tmp/ipykernel_88/3601053621.py:20: FutureWarning: Series.dt.weekofyear and Series.dt.week have been deprecated.  Please use Series.dt.isocalendar().week instead.\n",
      "  spray_df['week'] = spray_df['date'].dt.week\n",
      "/tmp/ipykernel_88/3601053621.py:26: FutureWarning: Series.dt.weekofyear and Series.dt.week have been deprecated.  Please use Series.dt.isocalendar().week instead.\n",
      "  weather_df['week'] = weather_df['date'].dt.week\n"
     ]
    }
   ],
   "source": [
    "# Create new column for year and month\n",
    "# df['year'] = df['date'].dt.year\n",
    "# df['month'] = df['date'].dt.month\n",
    "# df['day'] = df['date'].dt.day\n",
    "\n",
    "train_df['year'] = train_df['date'].dt.year\n",
    "train_df['month'] = train_df['date'].dt.month\n",
    "train_df['week'] = train_df['date'].dt.week\n",
    "train_df['day'] = train_df['date'].dt.day\n",
    "train_df['day_of_week'] = train_df['date'].dt.weekday\n",
    "\n",
    "test_df['year'] = test_df['date'].dt.year\n",
    "test_df['month'] = test_df['date'].dt.month\n",
    "test_df['week'] = test_df['date'].dt.week\n",
    "test_df['day'] = test_df['date'].dt.day\n",
    "test_df['day_of_week'] = test_df['date'].dt.weekday\n",
    "\n",
    "spray_df['year'] = spray_df['date'].dt.year\n",
    "spray_df['month'] = spray_df['date'].dt.month\n",
    "spray_df['week'] = spray_df['date'].dt.week\n",
    "spray_df['day'] = spray_df['date'].dt.day\n",
    "spray_df['day_of_week'] = spray_df['date'].dt.weekday\n",
    "\n",
    "weather_df['year'] = weather_df['date'].dt.year\n",
    "weather_df['month'] = weather_df['date'].dt.month\n",
    "weather_df['week'] = weather_df['date'].dt.week\n",
    "weather_df['day'] = weather_df['date'].dt.day\n",
    "weather_df['day_of_week'] = weather_df['date'].dt.weekday"
   ]
  },
  {
   "cell_type": "markdown",
   "metadata": {
    "cell_id": "ca574d8460e2449ea39dedf59af5661d",
    "deepnote_cell_type": "text-cell-p",
    "formattedRanges": [
     {
      "fromCodePoint": 0,
      "marks": {
       "bold": true
      },
      "toCodePoint": 30,
      "type": "marks"
     }
    ],
    "is_collapsed": false,
    "tags": []
   },
   "source": [
    "Final view of cleaned datasets"
   ]
  },
  {
   "cell_type": "code",
   "execution_count": 50,
   "metadata": {
    "cell_id": "ca14c18a3d61496c97820bd4c77973c6",
    "deepnote_cell_type": "code",
    "deepnote_to_be_reexecuted": false,
    "execution_millis": 54,
    "execution_start": 1670652603030,
    "source_hash": "d4caa2bb",
    "tags": []
   },
   "outputs": [
    {
     "data": {
      "text/html": [
       "<div>\n",
       "<style scoped>\n",
       "    .dataframe tbody tr th:only-of-type {\n",
       "        vertical-align: middle;\n",
       "    }\n",
       "\n",
       "    .dataframe tbody tr th {\n",
       "        vertical-align: top;\n",
       "    }\n",
       "\n",
       "    .dataframe thead th {\n",
       "        text-align: right;\n",
       "    }\n",
       "</style>\n",
       "<table border=\"1\" class=\"dataframe\">\n",
       "  <thead>\n",
       "    <tr style=\"text-align: right;\">\n",
       "      <th></th>\n",
       "      <th>date</th>\n",
       "      <th>address</th>\n",
       "      <th>species</th>\n",
       "      <th>block</th>\n",
       "      <th>street</th>\n",
       "      <th>trap</th>\n",
       "      <th>latitude</th>\n",
       "      <th>longitude</th>\n",
       "      <th>nummosquitos</th>\n",
       "      <th>wnvpresent</th>\n",
       "      <th>year</th>\n",
       "      <th>month</th>\n",
       "      <th>week</th>\n",
       "      <th>day</th>\n",
       "      <th>day_of_week</th>\n",
       "    </tr>\n",
       "  </thead>\n",
       "  <tbody>\n",
       "    <tr>\n",
       "      <th>0</th>\n",
       "      <td>2007-05-29</td>\n",
       "      <td>4100 North Oak Park Avenue, Chicago, IL 60634,...</td>\n",
       "      <td>CULEX PIPIENS/RESTUANS</td>\n",
       "      <td>41</td>\n",
       "      <td>N OAK PARK AVE</td>\n",
       "      <td>T002</td>\n",
       "      <td>41.954690</td>\n",
       "      <td>-87.800991</td>\n",
       "      <td>1</td>\n",
       "      <td>0</td>\n",
       "      <td>2007</td>\n",
       "      <td>5</td>\n",
       "      <td>22</td>\n",
       "      <td>29</td>\n",
       "      <td>1</td>\n",
       "    </tr>\n",
       "    <tr>\n",
       "      <th>1</th>\n",
       "      <td>2007-05-29</td>\n",
       "      <td>4100 North Oak Park Avenue, Chicago, IL 60634,...</td>\n",
       "      <td>CULEX RESTUANS</td>\n",
       "      <td>41</td>\n",
       "      <td>N OAK PARK AVE</td>\n",
       "      <td>T002</td>\n",
       "      <td>41.954690</td>\n",
       "      <td>-87.800991</td>\n",
       "      <td>1</td>\n",
       "      <td>0</td>\n",
       "      <td>2007</td>\n",
       "      <td>5</td>\n",
       "      <td>22</td>\n",
       "      <td>29</td>\n",
       "      <td>1</td>\n",
       "    </tr>\n",
       "    <tr>\n",
       "      <th>2</th>\n",
       "      <td>2007-05-29</td>\n",
       "      <td>6200 North Mandell Avenue, Chicago, IL 60646, USA</td>\n",
       "      <td>CULEX RESTUANS</td>\n",
       "      <td>62</td>\n",
       "      <td>N MANDELL AVE</td>\n",
       "      <td>T007</td>\n",
       "      <td>41.994991</td>\n",
       "      <td>-87.769279</td>\n",
       "      <td>1</td>\n",
       "      <td>0</td>\n",
       "      <td>2007</td>\n",
       "      <td>5</td>\n",
       "      <td>22</td>\n",
       "      <td>29</td>\n",
       "      <td>1</td>\n",
       "    </tr>\n",
       "    <tr>\n",
       "      <th>3</th>\n",
       "      <td>2007-05-29</td>\n",
       "      <td>7900 West Foster Avenue, Chicago, IL 60656, USA</td>\n",
       "      <td>CULEX PIPIENS/RESTUANS</td>\n",
       "      <td>79</td>\n",
       "      <td>W FOSTER AVE</td>\n",
       "      <td>T015</td>\n",
       "      <td>41.974089</td>\n",
       "      <td>-87.824812</td>\n",
       "      <td>1</td>\n",
       "      <td>0</td>\n",
       "      <td>2007</td>\n",
       "      <td>5</td>\n",
       "      <td>22</td>\n",
       "      <td>29</td>\n",
       "      <td>1</td>\n",
       "    </tr>\n",
       "    <tr>\n",
       "      <th>4</th>\n",
       "      <td>2007-05-29</td>\n",
       "      <td>7900 West Foster Avenue, Chicago, IL 60656, USA</td>\n",
       "      <td>CULEX RESTUANS</td>\n",
       "      <td>79</td>\n",
       "      <td>W FOSTER AVE</td>\n",
       "      <td>T015</td>\n",
       "      <td>41.974089</td>\n",
       "      <td>-87.824812</td>\n",
       "      <td>4</td>\n",
       "      <td>0</td>\n",
       "      <td>2007</td>\n",
       "      <td>5</td>\n",
       "      <td>22</td>\n",
       "      <td>29</td>\n",
       "      <td>1</td>\n",
       "    </tr>\n",
       "  </tbody>\n",
       "</table>\n",
       "</div>"
      ],
      "text/plain": [
       "        date                                            address  \\\n",
       "0 2007-05-29  4100 North Oak Park Avenue, Chicago, IL 60634,...   \n",
       "1 2007-05-29  4100 North Oak Park Avenue, Chicago, IL 60634,...   \n",
       "2 2007-05-29  6200 North Mandell Avenue, Chicago, IL 60646, USA   \n",
       "3 2007-05-29    7900 West Foster Avenue, Chicago, IL 60656, USA   \n",
       "4 2007-05-29    7900 West Foster Avenue, Chicago, IL 60656, USA   \n",
       "\n",
       "                  species  block           street  trap   latitude  longitude  \\\n",
       "0  CULEX PIPIENS/RESTUANS     41   N OAK PARK AVE  T002  41.954690 -87.800991   \n",
       "1          CULEX RESTUANS     41   N OAK PARK AVE  T002  41.954690 -87.800991   \n",
       "2          CULEX RESTUANS     62    N MANDELL AVE  T007  41.994991 -87.769279   \n",
       "3  CULEX PIPIENS/RESTUANS     79     W FOSTER AVE  T015  41.974089 -87.824812   \n",
       "4          CULEX RESTUANS     79     W FOSTER AVE  T015  41.974089 -87.824812   \n",
       "\n",
       "   nummosquitos  wnvpresent  year  month  week  day  day_of_week  \n",
       "0             1           0  2007      5    22   29            1  \n",
       "1             1           0  2007      5    22   29            1  \n",
       "2             1           0  2007      5    22   29            1  \n",
       "3             1           0  2007      5    22   29            1  \n",
       "4             4           0  2007      5    22   29            1  "
      ]
     },
     "metadata": {},
     "output_type": "display_data"
    },
    {
     "data": {
      "application/vnd.deepnote.dataframe.v3+json": {
       "column_count": 14,
       "columns": [
        {
         "dtype": "int64",
         "name": "id",
         "stats": {
          "histogram": [
           {
            "bin_end": 1.4,
            "bin_start": 1,
            "count": 1
           },
           {
            "bin_end": 1.8,
            "bin_start": 1.4,
            "count": 0
           },
           {
            "bin_end": 2.2,
            "bin_start": 1.8,
            "count": 1
           },
           {
            "bin_end": 2.6,
            "bin_start": 2.2,
            "count": 0
           },
           {
            "bin_end": 3,
            "bin_start": 2.6,
            "count": 0
           },
           {
            "bin_end": 3.4000000000000004,
            "bin_start": 3,
            "count": 1
           },
           {
            "bin_end": 3.8000000000000003,
            "bin_start": 3.4000000000000004,
            "count": 0
           },
           {
            "bin_end": 4.2,
            "bin_start": 3.8000000000000003,
            "count": 1
           },
           {
            "bin_end": 4.6,
            "bin_start": 4.2,
            "count": 0
           },
           {
            "bin_end": 5,
            "bin_start": 4.6,
            "count": 1
           }
          ],
          "max": "5",
          "min": "1",
          "nan_count": 0,
          "unique_count": 5
         }
        },
        {
         "dtype": "datetime64[ns]",
         "name": "date",
         "stats": {
          "histogram": null,
          "max": "2008-06-11 00:00:00",
          "min": "2008-06-11 00:00:00",
          "nan_count": 0,
          "unique_count": 1
         }
        },
        {
         "dtype": "object",
         "name": "address",
         "stats": {
          "categories": [
           {
            "count": 5,
            "name": "4100 North Oak Park Avenue, Chicago, IL 60634, USA"
           }
          ],
          "nan_count": 0,
          "unique_count": 1
         }
        },
        {
         "dtype": "object",
         "name": "species",
         "stats": {
          "categories": [
           {
            "count": 1,
            "name": "CULEX PIPIENS/RESTUANS"
           },
           {
            "count": 1,
            "name": "CULEX RESTUANS"
           },
           {
            "count": 3,
            "name": "3 others"
           }
          ],
          "nan_count": 0,
          "unique_count": 5
         }
        },
        {
         "dtype": "int64",
         "name": "block",
         "stats": {
          "histogram": [
           {
            "bin_end": 40.6,
            "bin_start": 40.5,
            "count": 0
           },
           {
            "bin_end": 40.7,
            "bin_start": 40.6,
            "count": 0
           },
           {
            "bin_end": 40.8,
            "bin_start": 40.7,
            "count": 0
           },
           {
            "bin_end": 40.9,
            "bin_start": 40.8,
            "count": 0
           },
           {
            "bin_end": 41,
            "bin_start": 40.9,
            "count": 0
           },
           {
            "bin_end": 41.1,
            "bin_start": 41,
            "count": 5
           },
           {
            "bin_end": 41.2,
            "bin_start": 41.1,
            "count": 0
           },
           {
            "bin_end": 41.3,
            "bin_start": 41.2,
            "count": 0
           },
           {
            "bin_end": 41.4,
            "bin_start": 41.3,
            "count": 0
           },
           {
            "bin_end": 41.5,
            "bin_start": 41.4,
            "count": 0
           }
          ],
          "max": "41",
          "min": "41",
          "nan_count": 0,
          "unique_count": 1
         }
        },
        {
         "dtype": "object",
         "name": "street",
         "stats": {
          "categories": [
           {
            "count": 5,
            "name": " N OAK PARK AVE"
           }
          ],
          "nan_count": 0,
          "unique_count": 1
         }
        },
        {
         "dtype": "object",
         "name": "trap",
         "stats": {
          "categories": [
           {
            "count": 5,
            "name": "T002"
           }
          ],
          "nan_count": 0,
          "unique_count": 1
         }
        },
        {
         "dtype": "float64",
         "name": "latitude",
         "stats": {
          "histogram": [
           {
            "bin_end": 41.55469,
            "bin_start": 41.45469,
            "count": 0
           },
           {
            "bin_end": 41.65469,
            "bin_start": 41.55469,
            "count": 0
           },
           {
            "bin_end": 41.75469,
            "bin_start": 41.65469,
            "count": 0
           },
           {
            "bin_end": 41.85469,
            "bin_start": 41.75469,
            "count": 0
           },
           {
            "bin_end": 41.95469,
            "bin_start": 41.85469,
            "count": 0
           },
           {
            "bin_end": 42.05469,
            "bin_start": 41.95469,
            "count": 5
           },
           {
            "bin_end": 42.15469,
            "bin_start": 42.05469,
            "count": 0
           },
           {
            "bin_end": 42.25469,
            "bin_start": 42.15469,
            "count": 0
           },
           {
            "bin_end": 42.35469,
            "bin_start": 42.25469,
            "count": 0
           },
           {
            "bin_end": 42.45469,
            "bin_start": 42.35469,
            "count": 0
           }
          ],
          "max": "41.95469",
          "min": "41.95469",
          "nan_count": 0,
          "unique_count": 1
         }
        },
        {
         "dtype": "float64",
         "name": "longitude",
         "stats": {
          "histogram": [
           {
            "bin_end": -88.200991,
            "bin_start": -88.300991,
            "count": 0
           },
           {
            "bin_end": -88.100991,
            "bin_start": -88.200991,
            "count": 0
           },
           {
            "bin_end": -88.000991,
            "bin_start": -88.100991,
            "count": 0
           },
           {
            "bin_end": -87.90099099999999,
            "bin_start": -88.000991,
            "count": 0
           },
           {
            "bin_end": -87.800991,
            "bin_start": -87.90099099999999,
            "count": 0
           },
           {
            "bin_end": -87.700991,
            "bin_start": -87.800991,
            "count": 5
           },
           {
            "bin_end": -87.600991,
            "bin_start": -87.700991,
            "count": 0
           },
           {
            "bin_end": -87.500991,
            "bin_start": -87.600991,
            "count": 0
           },
           {
            "bin_end": -87.40099099999999,
            "bin_start": -87.500991,
            "count": 0
           },
           {
            "bin_end": -87.300991,
            "bin_start": -87.40099099999999,
            "count": 0
           }
          ],
          "max": "-87.800991",
          "min": "-87.800991",
          "nan_count": 0,
          "unique_count": 1
         }
        },
        {
         "dtype": "int64",
         "name": "year",
         "stats": {
          "histogram": [
           {
            "bin_end": 2007.6,
            "bin_start": 2007.5,
            "count": 0
           },
           {
            "bin_end": 2007.7,
            "bin_start": 2007.6,
            "count": 0
           },
           {
            "bin_end": 2007.8,
            "bin_start": 2007.7,
            "count": 0
           },
           {
            "bin_end": 2007.9,
            "bin_start": 2007.8,
            "count": 0
           },
           {
            "bin_end": 2008,
            "bin_start": 2007.9,
            "count": 0
           },
           {
            "bin_end": 2008.1,
            "bin_start": 2008,
            "count": 5
           },
           {
            "bin_end": 2008.2,
            "bin_start": 2008.1,
            "count": 0
           },
           {
            "bin_end": 2008.3,
            "bin_start": 2008.2,
            "count": 0
           },
           {
            "bin_end": 2008.4,
            "bin_start": 2008.3,
            "count": 0
           },
           {
            "bin_end": 2008.5,
            "bin_start": 2008.4,
            "count": 0
           }
          ],
          "max": "2008",
          "min": "2008",
          "nan_count": 0,
          "unique_count": 1
         }
        },
        {
         "dtype": "int64",
         "name": "month",
         "stats": {
          "histogram": [
           {
            "bin_end": 5.6,
            "bin_start": 5.5,
            "count": 0
           },
           {
            "bin_end": 5.7,
            "bin_start": 5.6,
            "count": 0
           },
           {
            "bin_end": 5.8,
            "bin_start": 5.7,
            "count": 0
           },
           {
            "bin_end": 5.9,
            "bin_start": 5.8,
            "count": 0
           },
           {
            "bin_end": 6,
            "bin_start": 5.9,
            "count": 0
           },
           {
            "bin_end": 6.1,
            "bin_start": 6,
            "count": 5
           },
           {
            "bin_end": 6.2,
            "bin_start": 6.1,
            "count": 0
           },
           {
            "bin_end": 6.3,
            "bin_start": 6.2,
            "count": 0
           },
           {
            "bin_end": 6.4,
            "bin_start": 6.3,
            "count": 0
           },
           {
            "bin_end": 6.5,
            "bin_start": 6.4,
            "count": 0
           }
          ],
          "max": "6",
          "min": "6",
          "nan_count": 0,
          "unique_count": 1
         }
        },
        {
         "dtype": "int64",
         "name": "week",
         "stats": {
          "histogram": [
           {
            "bin_end": 23.6,
            "bin_start": 23.5,
            "count": 0
           },
           {
            "bin_end": 23.7,
            "bin_start": 23.6,
            "count": 0
           },
           {
            "bin_end": 23.8,
            "bin_start": 23.7,
            "count": 0
           },
           {
            "bin_end": 23.9,
            "bin_start": 23.8,
            "count": 0
           },
           {
            "bin_end": 24,
            "bin_start": 23.9,
            "count": 0
           },
           {
            "bin_end": 24.1,
            "bin_start": 24,
            "count": 5
           },
           {
            "bin_end": 24.2,
            "bin_start": 24.1,
            "count": 0
           },
           {
            "bin_end": 24.3,
            "bin_start": 24.2,
            "count": 0
           },
           {
            "bin_end": 24.4,
            "bin_start": 24.3,
            "count": 0
           },
           {
            "bin_end": 24.5,
            "bin_start": 24.4,
            "count": 0
           }
          ],
          "max": "24",
          "min": "24",
          "nan_count": 0,
          "unique_count": 1
         }
        },
        {
         "dtype": "int64",
         "name": "day",
         "stats": {
          "histogram": [
           {
            "bin_end": 10.6,
            "bin_start": 10.5,
            "count": 0
           },
           {
            "bin_end": 10.7,
            "bin_start": 10.6,
            "count": 0
           },
           {
            "bin_end": 10.8,
            "bin_start": 10.7,
            "count": 0
           },
           {
            "bin_end": 10.9,
            "bin_start": 10.8,
            "count": 0
           },
           {
            "bin_end": 11,
            "bin_start": 10.9,
            "count": 0
           },
           {
            "bin_end": 11.1,
            "bin_start": 11,
            "count": 5
           },
           {
            "bin_end": 11.2,
            "bin_start": 11.1,
            "count": 0
           },
           {
            "bin_end": 11.3,
            "bin_start": 11.2,
            "count": 0
           },
           {
            "bin_end": 11.4,
            "bin_start": 11.3,
            "count": 0
           },
           {
            "bin_end": 11.5,
            "bin_start": 11.4,
            "count": 0
           }
          ],
          "max": "11",
          "min": "11",
          "nan_count": 0,
          "unique_count": 1
         }
        },
        {
         "dtype": "int64",
         "name": "day_of_week",
         "stats": {
          "histogram": [
           {
            "bin_end": 1.6,
            "bin_start": 1.5,
            "count": 0
           },
           {
            "bin_end": 1.7,
            "bin_start": 1.6,
            "count": 0
           },
           {
            "bin_end": 1.8,
            "bin_start": 1.7,
            "count": 0
           },
           {
            "bin_end": 1.9,
            "bin_start": 1.8,
            "count": 0
           },
           {
            "bin_end": 2,
            "bin_start": 1.9,
            "count": 0
           },
           {
            "bin_end": 2.1,
            "bin_start": 2,
            "count": 5
           },
           {
            "bin_end": 2.2,
            "bin_start": 2.1,
            "count": 0
           },
           {
            "bin_end": 2.3,
            "bin_start": 2.2,
            "count": 0
           },
           {
            "bin_end": 2.4,
            "bin_start": 2.3,
            "count": 0
           },
           {
            "bin_end": 2.5,
            "bin_start": 2.4,
            "count": 0
           }
          ],
          "max": "2",
          "min": "2",
          "nan_count": 0,
          "unique_count": 1
         }
        },
        {
         "dtype": "int64",
         "name": "_deepnote_index_column"
        }
       ],
       "row_count": 5,
       "rows": [
        {
         "_deepnote_index_column": "0",
         "address": "4100 North Oak Park Avenue, Chicago, IL 60634, USA",
         "block": "41",
         "date": "2008-06-11 00:00:00",
         "day": "11",
         "day_of_week": "2",
         "id": "1",
         "latitude": "41.95469",
         "longitude": "-87.800991",
         "month": "6",
         "species": "CULEX PIPIENS/RESTUANS",
         "street": " N OAK PARK AVE",
         "trap": "T002",
         "week": "24",
         "year": "2008"
        },
        {
         "_deepnote_index_column": "1",
         "address": "4100 North Oak Park Avenue, Chicago, IL 60634, USA",
         "block": "41",
         "date": "2008-06-11 00:00:00",
         "day": "11",
         "day_of_week": "2",
         "id": "2",
         "latitude": "41.95469",
         "longitude": "-87.800991",
         "month": "6",
         "species": "CULEX RESTUANS",
         "street": " N OAK PARK AVE",
         "trap": "T002",
         "week": "24",
         "year": "2008"
        },
        {
         "_deepnote_index_column": "2",
         "address": "4100 North Oak Park Avenue, Chicago, IL 60634, USA",
         "block": "41",
         "date": "2008-06-11 00:00:00",
         "day": "11",
         "day_of_week": "2",
         "id": "3",
         "latitude": "41.95469",
         "longitude": "-87.800991",
         "month": "6",
         "species": "CULEX PIPIENS",
         "street": " N OAK PARK AVE",
         "trap": "T002",
         "week": "24",
         "year": "2008"
        },
        {
         "_deepnote_index_column": "3",
         "address": "4100 North Oak Park Avenue, Chicago, IL 60634, USA",
         "block": "41",
         "date": "2008-06-11 00:00:00",
         "day": "11",
         "day_of_week": "2",
         "id": "4",
         "latitude": "41.95469",
         "longitude": "-87.800991",
         "month": "6",
         "species": "CULEX SALINARIUS",
         "street": " N OAK PARK AVE",
         "trap": "T002",
         "week": "24",
         "year": "2008"
        },
        {
         "_deepnote_index_column": "4",
         "address": "4100 North Oak Park Avenue, Chicago, IL 60634, USA",
         "block": "41",
         "date": "2008-06-11 00:00:00",
         "day": "11",
         "day_of_week": "2",
         "id": "5",
         "latitude": "41.95469",
         "longitude": "-87.800991",
         "month": "6",
         "species": "CULEX TERRITANS",
         "street": " N OAK PARK AVE",
         "trap": "T002",
         "week": "24",
         "year": "2008"
        }
       ]
      },
      "text/html": [
       "<div>\n",
       "<style scoped>\n",
       "    .dataframe tbody tr th:only-of-type {\n",
       "        vertical-align: middle;\n",
       "    }\n",
       "\n",
       "    .dataframe tbody tr th {\n",
       "        vertical-align: top;\n",
       "    }\n",
       "\n",
       "    .dataframe thead th {\n",
       "        text-align: right;\n",
       "    }\n",
       "</style>\n",
       "<table border=\"1\" class=\"dataframe\">\n",
       "  <thead>\n",
       "    <tr style=\"text-align: right;\">\n",
       "      <th></th>\n",
       "      <th>id</th>\n",
       "      <th>date</th>\n",
       "      <th>address</th>\n",
       "      <th>species</th>\n",
       "      <th>block</th>\n",
       "      <th>street</th>\n",
       "      <th>trap</th>\n",
       "      <th>latitude</th>\n",
       "      <th>longitude</th>\n",
       "      <th>year</th>\n",
       "      <th>month</th>\n",
       "      <th>week</th>\n",
       "      <th>day</th>\n",
       "      <th>day_of_week</th>\n",
       "    </tr>\n",
       "  </thead>\n",
       "  <tbody>\n",
       "    <tr>\n",
       "      <th>0</th>\n",
       "      <td>1</td>\n",
       "      <td>2008-06-11</td>\n",
       "      <td>4100 North Oak Park Avenue, Chicago, IL 60634,...</td>\n",
       "      <td>CULEX PIPIENS/RESTUANS</td>\n",
       "      <td>41</td>\n",
       "      <td>N OAK PARK AVE</td>\n",
       "      <td>T002</td>\n",
       "      <td>41.95469</td>\n",
       "      <td>-87.800991</td>\n",
       "      <td>2008</td>\n",
       "      <td>6</td>\n",
       "      <td>24</td>\n",
       "      <td>11</td>\n",
       "      <td>2</td>\n",
       "    </tr>\n",
       "    <tr>\n",
       "      <th>1</th>\n",
       "      <td>2</td>\n",
       "      <td>2008-06-11</td>\n",
       "      <td>4100 North Oak Park Avenue, Chicago, IL 60634,...</td>\n",
       "      <td>CULEX RESTUANS</td>\n",
       "      <td>41</td>\n",
       "      <td>N OAK PARK AVE</td>\n",
       "      <td>T002</td>\n",
       "      <td>41.95469</td>\n",
       "      <td>-87.800991</td>\n",
       "      <td>2008</td>\n",
       "      <td>6</td>\n",
       "      <td>24</td>\n",
       "      <td>11</td>\n",
       "      <td>2</td>\n",
       "    </tr>\n",
       "    <tr>\n",
       "      <th>2</th>\n",
       "      <td>3</td>\n",
       "      <td>2008-06-11</td>\n",
       "      <td>4100 North Oak Park Avenue, Chicago, IL 60634,...</td>\n",
       "      <td>CULEX PIPIENS</td>\n",
       "      <td>41</td>\n",
       "      <td>N OAK PARK AVE</td>\n",
       "      <td>T002</td>\n",
       "      <td>41.95469</td>\n",
       "      <td>-87.800991</td>\n",
       "      <td>2008</td>\n",
       "      <td>6</td>\n",
       "      <td>24</td>\n",
       "      <td>11</td>\n",
       "      <td>2</td>\n",
       "    </tr>\n",
       "    <tr>\n",
       "      <th>3</th>\n",
       "      <td>4</td>\n",
       "      <td>2008-06-11</td>\n",
       "      <td>4100 North Oak Park Avenue, Chicago, IL 60634,...</td>\n",
       "      <td>CULEX SALINARIUS</td>\n",
       "      <td>41</td>\n",
       "      <td>N OAK PARK AVE</td>\n",
       "      <td>T002</td>\n",
       "      <td>41.95469</td>\n",
       "      <td>-87.800991</td>\n",
       "      <td>2008</td>\n",
       "      <td>6</td>\n",
       "      <td>24</td>\n",
       "      <td>11</td>\n",
       "      <td>2</td>\n",
       "    </tr>\n",
       "    <tr>\n",
       "      <th>4</th>\n",
       "      <td>5</td>\n",
       "      <td>2008-06-11</td>\n",
       "      <td>4100 North Oak Park Avenue, Chicago, IL 60634,...</td>\n",
       "      <td>CULEX TERRITANS</td>\n",
       "      <td>41</td>\n",
       "      <td>N OAK PARK AVE</td>\n",
       "      <td>T002</td>\n",
       "      <td>41.95469</td>\n",
       "      <td>-87.800991</td>\n",
       "      <td>2008</td>\n",
       "      <td>6</td>\n",
       "      <td>24</td>\n",
       "      <td>11</td>\n",
       "      <td>2</td>\n",
       "    </tr>\n",
       "  </tbody>\n",
       "</table>\n",
       "</div>"
      ],
      "text/plain": [
       "   id       date                                            address  \\\n",
       "0   1 2008-06-11  4100 North Oak Park Avenue, Chicago, IL 60634,...   \n",
       "1   2 2008-06-11  4100 North Oak Park Avenue, Chicago, IL 60634,...   \n",
       "2   3 2008-06-11  4100 North Oak Park Avenue, Chicago, IL 60634,...   \n",
       "3   4 2008-06-11  4100 North Oak Park Avenue, Chicago, IL 60634,...   \n",
       "4   5 2008-06-11  4100 North Oak Park Avenue, Chicago, IL 60634,...   \n",
       "\n",
       "                  species  block           street  trap  latitude  longitude  \\\n",
       "0  CULEX PIPIENS/RESTUANS     41   N OAK PARK AVE  T002  41.95469 -87.800991   \n",
       "1          CULEX RESTUANS     41   N OAK PARK AVE  T002  41.95469 -87.800991   \n",
       "2           CULEX PIPIENS     41   N OAK PARK AVE  T002  41.95469 -87.800991   \n",
       "3        CULEX SALINARIUS     41   N OAK PARK AVE  T002  41.95469 -87.800991   \n",
       "4         CULEX TERRITANS     41   N OAK PARK AVE  T002  41.95469 -87.800991   \n",
       "\n",
       "   year  month  week  day  day_of_week  \n",
       "0  2008      6    24   11            2  \n",
       "1  2008      6    24   11            2  \n",
       "2  2008      6    24   11            2  \n",
       "3  2008      6    24   11            2  \n",
       "4  2008      6    24   11            2  "
      ]
     },
     "metadata": {},
     "output_type": "display_data"
    }
   ],
   "source": [
    "display(train_df.head())\n",
    "display(test_df.head())"
   ]
  },
  {
   "cell_type": "code",
   "execution_count": 51,
   "metadata": {
    "cell_id": "1c196f44bcb7443ca9d5cbc0dee60691",
    "deepnote_cell_type": "code",
    "deepnote_to_be_reexecuted": false,
    "execution_millis": 2,
    "execution_start": 1670652603125,
    "source_hash": "c343f44",
    "tags": []
   },
   "outputs": [
    {
     "data": {
      "text/plain": [
       "(10506, 15)"
      ]
     },
     "metadata": {},
     "output_type": "display_data"
    },
    {
     "data": {
      "text/plain": [
       "(116293, 14)"
      ]
     },
     "metadata": {},
     "output_type": "display_data"
    }
   ],
   "source": [
    "display(train_df.shape)\n",
    "display(test_df.shape)"
   ]
  },
  {
   "cell_type": "markdown",
   "metadata": {
    "cell_id": "b9f088825bbf4081bbe75134dc1a3230",
    "deepnote_cell_type": "text-cell-p",
    "formattedRanges": [
     {
      "fromCodePoint": 0,
      "marks": {
       "bold": true
      },
      "toCodePoint": 36,
      "type": "marks"
     }
    ],
    "is_collapsed": false,
    "tags": []
   },
   "source": [
    "Export cleaned datasets as csv files"
   ]
  },
  {
   "cell_type": "code",
   "execution_count": 52,
   "metadata": {
    "cell_id": "9b9ac806b53d4f46a193985784b54d38",
    "deepnote_cell_type": "code",
    "deepnote_to_be_reexecuted": false,
    "execution_millis": 1602,
    "execution_start": 1670652603169,
    "source_hash": "323ed02e",
    "tags": []
   },
   "outputs": [],
   "source": [
    "train_df.to_csv('train_cleaned.csv', index=False)\n",
    "test_df.to_csv('test_cleaned.csv', index=False)\n",
    "weather_df.to_csv('weather_cleaned.csv', index=False)\n",
    "spray_df.to_csv('spray_cleaned.csv', index=False)"
   ]
  },
  {
   "cell_type": "markdown",
   "metadata": {
    "created_in_deepnote_cell": true,
    "deepnote_cell_type": "markdown",
    "tags": []
   },
   "source": [
    "<a style='text-decoration:none;line-height:16px;display:flex;color:#5B5B62;padding:10px;justify-content:end;' href='https://deepnote.com?utm_source=created-in-deepnote-cell&projectId=8e68f114-0b87-4716-bcc4-14459d10165c' target=\"_blank\">\n",
    "<img alt='Created in deepnote.com' style='display:inline;max-height:16px;margin:0px;margin-right:7.5px;' src='data:image/svg+xml;base64,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' > </img>\n",
    "Created in <span style='font-weight:600;margin-left:4px;'>Deepnote</span></a>"
   ]
  }
 ],
 "metadata": {
  "deepnote": {},
  "deepnote_execution_queue": [],
  "deepnote_notebook_id": "109c38c21bb4490c98faff32628d28c1",
  "deepnote_persisted_session": {
   "createdAt": "2022-12-10T06:42:30.933Z"
  },
  "kernelspec": {
   "display_name": "Python 3 (ipykernel)",
   "language": "python",
   "name": "python3"
  },
  "language_info": {
   "codemirror_mode": {
    "name": "ipython",
    "version": 3
   },
   "file_extension": ".py",
   "mimetype": "text/x-python",
   "name": "python",
   "nbconvert_exporter": "python",
   "pygments_lexer": "ipython3",
   "version": "3.9.12"
  }
 },
 "nbformat": 4,
 "nbformat_minor": 1
}
