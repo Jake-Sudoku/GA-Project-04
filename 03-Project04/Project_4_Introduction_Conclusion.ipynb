{
 "cells": [
  {
   "cell_type": "code",
   "execution_count": 6,
   "id": "58a9b0fc",
   "metadata": {},
   "outputs": [],
   "source": [
    "# Introduction \n",
    "  ## Background\n",
    "  ## Problem Statement  "
   ]
  },
  {
   "cell_type": "code",
   "execution_count": null,
   "id": "9543bf3a",
   "metadata": {},
   "outputs": [],
   "source": []
  },
  {
   "cell_type": "code",
   "execution_count": null,
   "id": "9a836abe",
   "metadata": {},
   "outputs": [],
   "source": [
    "# External Research\n",
    "  ## Literature Review"
   ]
  },
  {
   "cell_type": "code",
   "execution_count": null,
   "id": "cd95a1bc",
   "metadata": {},
   "outputs": [],
   "source": []
  },
  {
   "cell_type": "code",
   "execution_count": null,
   "id": "1218b64c",
   "metadata": {},
   "outputs": [],
   "source": [
    "# Conclusion\n",
    "  ## Summary of Findings\n",
    "  ## Limitations\n",
    "  ## Recommendations"
   ]
  },
  {
   "cell_type": "code",
   "execution_count": null,
   "id": "6046403f",
   "metadata": {},
   "outputs": [],
   "source": []
  },
  {
   "cell_type": "code",
   "execution_count": null,
   "id": "48a9c247",
   "metadata": {},
   "outputs": [],
   "source": [
    "# Data Dictionary"
   ]
  },
  {
   "cell_type": "code",
   "execution_count": null,
   "id": "b3f93c8c",
   "metadata": {},
   "outputs": [],
   "source": []
  }
 ],
 "metadata": {
  "kernelspec": {
   "display_name": "Python 3 (ipykernel)",
   "language": "python",
   "name": "python3"
  },
  "language_info": {
   "codemirror_mode": {
    "name": "ipython",
    "version": 3
   },
   "file_extension": ".py",
   "mimetype": "text/x-python",
   "name": "python",
   "nbconvert_exporter": "python",
   "pygments_lexer": "ipython3",
   "version": "3.9.12"
  }
 },
 "nbformat": 4,
 "nbformat_minor": 5
}
