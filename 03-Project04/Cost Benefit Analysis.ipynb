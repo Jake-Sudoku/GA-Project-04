{
 "cells": [
  {
   "cell_type": "markdown",
   "id": "ae2c3795",
   "metadata": {},
   "source": [
    "## Cost Benefit Analysis\n",
    "\n",
    "---\n",
    "\n",
    "**Background**\n",
    "\n",
    "West Nile virus (WNV) is the leading cause of mosquito-borne disease in the continental United States.  It is most commonly spread to people by the bite of an infected mosquito. Cases of WNV occur during mosquito season, which starts in the summer and continues through fall. There are no vaccines to prevent or medications to treat WNV in people. Fortunately, most people infected with WNV do not feel sick. About 1 in 5 people who are infected develop a fever and other symptoms. About 1 out of 150 infected people develop a serious, sometimes fatal, illness. You can reduce your risk of WNV by using insect repellent and wearing long-sleeved shirts and long pants to prevent mosquito bites.\n",
    "\n",
    "**Current Efforts**\n",
    "\n",
    "**Larval Mosquito Control.** As in previous years, CDPH has utilized a targeted larviciding approach which focused on areas that have continuous mosquito activity for WNV as well as human cases. Over 90,000 catch basins within the city were treated in May with larvicide (Fourstar XR®) to limit mosquito breeding and reduce the adult mosquito population density.\n",
    "\n",
    "After **larvicide treatments**, 84% of catch basins in the city were not breeding mosquitoes.\n",
    "Adult Mosquito Control. In order to reduce the risk of human infections, the CDPH Environmental Health program per- formed targeted insecticide spraying of adult mosquitoes, also known as adulticiding. Adulticide (Zenivex ®) was used on 11 occasions in July through late August.\n",
    "\n",
    "**Pros**\n",
    "\n",
    "1) Decrease in Mosquitos populations carrying West Nile Virus which can help to prevent the spread of mosquito-borne diseases\n",
    "\n",
    "2) Economic Benefits of reducing medical expenses associated with mosquito-borne illnesses.\n",
    "\n",
    "3) Preventing Loss of Productivity\n",
    "\n",
    "**Cons**\n",
    "\n",
    "1) Cost of Spraying\n",
    "\n",
    "2) Environmental Issues\n",
    "https://dph.illinois.gov/topics-services/environmental-health-protection/structural-pest-control/mosquito-spray-faqs.html\n",
    "\n",
    "**In terms of Monetary Value**\n",
    "\n",
    "\n",
    "[INSERT COST OF SPRAYING]\n",
    "\n",
    "\n",
    "We provided acute and long-term costs of WNV disease among hospitalized patients and estimate that **tens of millions of dollars are spent each year on hospitalized WNV disease cases**. \n",
    "\n",
    "We found that long-term direct and indirect medical costs after the initial illness and hospitalization are incurred by most patients and account for a proportion of the total costs of the disease. Therefore, long-term costs need to be figured into the cost of WNV disease.\n",
    " https://www.ncbi.nlm.nih.gov/pmc/articles/PMC3945683/\n",
    "\n",
    "\n",
    "**In conclusion**\n",
    "\n",
    "Therefore, spraying is necessary"
   ]
  }
 ],
 "metadata": {
  "kernelspec": {
   "display_name": "Python 3 (ipykernel)",
   "language": "python",
   "name": "python3"
  },
  "language_info": {
   "codemirror_mode": {
    "name": "ipython",
    "version": 3
   },
   "file_extension": ".py",
   "mimetype": "text/x-python",
   "name": "python",
   "nbconvert_exporter": "python",
   "pygments_lexer": "ipython3",
   "version": "3.9.12"
  }
 },
 "nbformat": 4,
 "nbformat_minor": 5
}
