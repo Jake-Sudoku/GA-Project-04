{
 "cells": [
  {
   "cell_type": "code",
   "execution_count": 146,
   "id": "84ad0ca5",
   "metadata": {},
   "outputs": [],
   "source": [
    "# pip install xgboost"
   ]
  },
  {
   "cell_type": "markdown",
   "id": "2b7d9d73",
   "metadata": {},
   "source": [
    "## Import Libraries"
   ]
  },
  {
   "cell_type": "code",
   "execution_count": 147,
   "id": "8bbce78b",
   "metadata": {},
   "outputs": [],
   "source": [
    "import pandas as pd\n",
    "import numpy as np\n",
    "import re\n",
    "\n",
    "from sklearn.utils import resample\n",
    "\n",
    "from sklearn.ensemble import RandomForestClassifier\n",
    "from sklearn.linear_model import LogisticRegression\n",
    "\n",
    "from sklearn.metrics import accuracy_score, f1_score, precision_score, recall_score, classification_report, confusion_matrix, ConfusionMatrixDisplay, plot_roc_curve\n",
    "from sklearn.model_selection import train_test_split, GridSearchCV\n",
    "\n",
    "import xgboost as xgb"
   ]
  },
  {
   "cell_type": "code",
   "execution_count": 148,
   "id": "48842316",
   "metadata": {},
   "outputs": [],
   "source": [
    "# read in csv file\n",
    "train = pd.read_csv('train_cleaned.csv')"
   ]
  },
  {
   "cell_type": "markdown",
   "id": "a5c4b80d",
   "metadata": {},
   "source": [
    "---"
   ]
  },
  {
   "cell_type": "markdown",
   "id": "6e3a4808",
   "metadata": {},
   "source": [
    "## Model Pre-processing"
   ]
  },
  {
   "cell_type": "code",
   "execution_count": 149,
   "id": "b2e5bd8c",
   "metadata": {},
   "outputs": [],
   "source": [
    "# create index column\n",
    "train['index'] = train.index"
   ]
  },
  {
   "cell_type": "markdown",
   "id": "01a7011e",
   "metadata": {},
   "source": [
    "### One-hot Encoding"
   ]
  },
  {
   "cell_type": "code",
   "execution_count": 150,
   "id": "41b34c9a",
   "metadata": {},
   "outputs": [],
   "source": [
    "# one-hot encoding\n",
    "# dummifying country, store and product\n",
    "col_list = ['trap', 'species','index']\n",
    "dummified = pd.get_dummies(train[col_list])\n",
    "\n",
    "# merging dummified variables into dataframe & drop columns we will not be using\n",
    "train = pd.merge(train,dummified, how='outer', on='index')\n",
    "train = train.drop(columns=['trap','species','index','date','address','longitude','latitude']);"
   ]
  },
  {
   "cell_type": "markdown",
   "id": "c9fea2ad",
   "metadata": {},
   "source": [
    "### Upsampling"
   ]
  },
  {
   "cell_type": "code",
   "execution_count": 151,
   "id": "f3a03c48",
   "metadata": {},
   "outputs": [],
   "source": [
    "upsample = resample(wnv,\n",
    "             replace=True,\n",
    "             n_samples=9955,\n",
    "             random_state=42)\n",
    "\n",
    "no_wnv = train[train['wnvpresent']==0]"
   ]
  },
  {
   "cell_type": "code",
   "execution_count": 152,
   "id": "f5c94f5e",
   "metadata": {},
   "outputs": [],
   "source": [
    "df = pd.merge(no_wnv,upsample, how='outer')"
   ]
  },
  {
   "cell_type": "code",
   "execution_count": 153,
   "id": "26e3c72b",
   "metadata": {
    "scrolled": true
   },
   "outputs": [
    {
     "data": {
      "text/plain": [
       "0    9955\n",
       "1    9955\n",
       "Name: wnvpresent, dtype: int64"
      ]
     },
     "execution_count": 153,
     "metadata": {},
     "output_type": "execute_result"
    }
   ],
   "source": [
    "df['wnvpresent'].value_counts()"
   ]
  },
  {
   "cell_type": "markdown",
   "id": "4a91346a",
   "metadata": {},
   "source": [
    "### Train-Test Split"
   ]
  },
  {
   "cell_type": "code",
   "execution_count": 154,
   "id": "abfe2ed6",
   "metadata": {},
   "outputs": [],
   "source": [
    "from sklearn.model_selection import train_test_split, GridSearchCV\n",
    "X = df.drop(columns=['wnvpresent'])\n",
    "y = df['wnvpresent']\n",
    "\n",
    "X_train, X_test, y_train, y_test = train_test_split(X, y, test_size=0.33, random_state=42)"
   ]
  },
  {
   "cell_type": "markdown",
   "id": "ef8e4439",
   "metadata": {},
   "source": [
    "---"
   ]
  },
  {
   "cell_type": "markdown",
   "id": "35cfe7b6",
   "metadata": {},
   "source": [
    "## Modeling"
   ]
  },
  {
   "cell_type": "markdown",
   "id": "72500129",
   "metadata": {},
   "source": [
    "### Logistic Regression"
   ]
  },
  {
   "cell_type": "code",
   "execution_count": 155,
   "id": "f3d288c9",
   "metadata": {},
   "outputs": [
    {
     "name": "stderr",
     "output_type": "stream",
     "text": [
      "/Users/mingjie/opt/anaconda3/lib/python3.9/site-packages/scipy/optimize/linesearch.py:478: LineSearchWarning: The line search algorithm did not converge\n",
      "  warn('The line search algorithm did not converge', LineSearchWarning)\n",
      "/Users/mingjie/opt/anaconda3/lib/python3.9/site-packages/scipy/optimize/linesearch.py:327: LineSearchWarning: The line search algorithm did not converge\n",
      "  warn('The line search algorithm did not converge', LineSearchWarning)\n"
     ]
    },
    {
     "name": "stdout",
     "output_type": "stream",
     "text": [
      "Train Score : 0.7580028487892646\n",
      "Test Score : 0.7505706893927865\n"
     ]
    }
   ],
   "source": [
    "clf = LogisticRegression(C=1,solver='newton-cg',class_weight='balanced')\n",
    "clf.fit(X_train, y_train)\n",
    "\n",
    "print(f\"Train Score : {clf.score(X_train, y_train)}\")\n",
    "print(f\"Test Score : {clf.score(X_test, y_test)}\")"
   ]
  },
  {
   "cell_type": "markdown",
   "id": "f7216914",
   "metadata": {},
   "source": [
    "### Random Forest Classifier"
   ]
  },
  {
   "cell_type": "code",
   "execution_count": 156,
   "id": "64df0956",
   "metadata": {
    "scrolled": true
   },
   "outputs": [
    {
     "name": "stdout",
     "output_type": "stream",
     "text": [
      "Train Score : 0.9808831246720144\n",
      "Test Score : 0.9695632323847208\n"
     ]
    }
   ],
   "source": [
    "clf = RandomForestClassifier(n_estimators=2 ,max_depth=None, random_state=0)\n",
    "clf.fit(X_train, y_train)\n",
    "\n",
    "print(f\"Train Score : {clf.score(X_train, y_train)}\")\n",
    "print(f\"Test Score : {clf.score(X_test, y_test)}\")"
   ]
  },
  {
   "cell_type": "markdown",
   "id": "50d451c0",
   "metadata": {},
   "source": [
    "### Grid-Search"
   ]
  },
  {
   "cell_type": "code",
   "execution_count": 157,
   "id": "db3c6622",
   "metadata": {},
   "outputs": [],
   "source": [
    "#rf_params = {\n",
    "#    'n_estimators': [100, 150, 200],\n",
    "#    'max_depth': [None, 1, 2, 3, 4, 5],\n",
    "#}\n",
    "#gs = GridSearchCV(clf, param_grid=rf_params, cv=5)\n",
    "#gs.fit(X_train, y_train)\n",
    "#print(gs.best_score_)\n",
    "#gs.best_params_"
   ]
  },
  {
   "cell_type": "code",
   "execution_count": 158,
   "id": "9653895c",
   "metadata": {
    "scrolled": false
   },
   "outputs": [
    {
     "name": "stderr",
     "output_type": "stream",
     "text": [
      "/Users/mingjie/opt/anaconda3/lib/python3.9/site-packages/sklearn/utils/deprecation.py:87: FutureWarning: Function plot_roc_curve is deprecated; Function :func:`plot_roc_curve` is deprecated in 1.0 and will be removed in 1.2. Use one of the class methods: :meth:`sklearn.metric.RocCurveDisplay.from_predictions` or :meth:`sklearn.metric.RocCurveDisplay.from_estimator`.\n",
      "  warnings.warn(msg, category=FutureWarning)\n"
     ]
    },
    {
     "data": {
      "image/png": "[encoded data removed]",
      "text/plain": [
       "<Figure size 432x288 with 1 Axes>"
      ]
     },
     "metadata": {
      "needs_background": "light"
     },
     "output_type": "display_data"
    }
   ],
   "source": [
    "lr_disp = plot_roc_curve(clf, X_test, y_test)"
   ]
  },
  {
   "cell_type": "markdown",
   "id": "f14813d8",
   "metadata": {},
   "source": [
    "### XGBoost"
   ]
  },
  {
   "cell_type": "code",
   "execution_count": 159,
   "id": "e7de64f2",
   "metadata": {
    "scrolled": true
   },
   "outputs": [
    {
     "name": "stdout",
     "output_type": "stream",
     "text": [
      "Train Score : 0.9387510308119049\n",
      "Test Score : 0.9243646324760311\n"
     ]
    }
   ],
   "source": [
    "clf = xgb.XGBClassifier()\n",
    "clf.fit(X_train, y_train)\n",
    "\n",
    "print(f\"Train Score : {clf.score(X_train, y_train)}\")\n",
    "print(f\"Test Score : {clf.score(X_test, y_test)}\")"
   ]
  },
  {
   "cell_type": "markdown",
   "id": "31af4373",
   "metadata": {},
   "source": [
    "---"
   ]
  }
 ],
 "metadata": {
  "kernelspec": {
   "display_name": "Python 3 (ipykernel)",
   "language": "python",
   "name": "python3"
  },
  "language_info": {
   "codemirror_mode": {
    "name": "ipython",
    "version": 3
   },
   "file_extension": ".py",
   "mimetype": "text/x-python",
   "name": "python",
   "nbconvert_exporter": "python",
   "pygments_lexer": "ipython3",
   "version": "3.9.12"
  }
 },
 "nbformat": 4,
 "nbformat_minor": 5
}
